{
 "cells": [
  {
   "cell_type": "markdown",
   "metadata": {
    "colab_type": "text",
    "id": "view-in-github"
   },
   "source": [
    "<a href=\"https://colab.research.google.com/github/Ash100/Python_for_Lifescience/blob/main/Chapter_3%3AData_Structures_for_Biology.ipynb\" target=\"_parent\"><img src=\"https://colab.research.google.com/assets/colab-badge.svg\" alt=\"Open In Colab\"/></a>"
   ]
  },
  {
   "cell_type": "markdown",
   "metadata": {
    "id": "4jtCrs4bgPir"
   },
   "source": [
    "# Learn Python for Biological Data Analysis\n",
    "# **Chapter 3:** Data Structures for Biology\n",
    "\n",
    "This course is designed and taught by **Dr. Ashfaq Ahmad**. During teaching I will use all the examples from the Biological Sciences or Life Sciences."
   ]
  },
  {
   "cell_type": "markdown",
   "metadata": {
    "id": "u1FI5JrPgZ7P"
   },
   "source": [
    "## 📅 Course Outline\n",
    "\n",
    "---\n",
    "\n",
    "## 🏗️ Foundation (Weeks 1–2)\n",
    "\n",
    "### 📘 Chapter 1: Getting Started with Python and Colab\n",
    "- Introduction to Google Colab interface\n",
    "- Basic Python syntax and data types\n",
    "- Variables, strings, and basic operations\n",
    "- Print statements and comments\n",
    "\n",
    "### 📘 Chapter 2: Control Structures\n",
    "- Conditional statements (`if`/`else`)\n",
    "- Loops (`for` and `while`)\n",
    "- Basic functions and scope\n",
    "\n",
    "---\n",
    "\n",
    "## 🧬 Data Handling (Weeks 3–4)\n",
    "\n",
    "### 📘 Chapter 3: Data Structures for Biology\n",
    "- Lists and tuples (storing sequences, experimental data)\n",
    "- Dictionaries (gene annotations, species data)\n",
    "- Sets (unique identifiers, sample collections)\n",
    "\n",
    "### 📘 Chapter 4: Working with Files\n",
    "- Reading and writing text files\n",
    "- Handling CSV files (experimental data)\n",
    "- Basic file operations for biological datasets\n",
    "\n",
    "---\n",
    "\n",
    "## 📊 Scientific Computing (Weeks 5–7)\n",
    "\n",
    "### 📘 Chapter 5: NumPy for Numerical Data\n",
    "- Arrays for storing experimental measurements\n",
    "- Mathematical operations on datasets\n",
    "- Statistical calculations (mean, median, standard deviation)\n",
    "\n",
    "### 📘 Chapter 6: Pandas for Data Analysis\n",
    "- DataFrames for structured biological data\n",
    "- Data cleaning and manipulation\n",
    "- Filtering and grouping experimental results\n",
    "- Handling missing data\n",
    "\n",
    "### 📘 Chapter 7: Data Visualization\n",
    "- Matplotlib basics for scientific plots\n",
    "- Creating publication-quality figures\n",
    "- Specialized plots for biological data (histograms, scatter plots, box plots)\n",
    "\n",
    "---\n",
    "\n",
    "## 🔬 Biological Applications (Weeks 8–10)\n",
    "\n",
    "### 📘 Chapter 8: Sequence Analysis\n",
    "- String manipulation for DNA/RNA sequences\n",
    "- Basic sequence operations (reverse complement, transcription)\n",
    "- Reading FASTA files\n",
    "- Simple sequence statistics\n",
    "\n",
    "### 📘 Chapter 9: Statistical Analysis for Biology\n",
    "- Hypothesis testing basics\n",
    "- t-tests and chi-square tests\n",
    "- Correlation analysis\n",
    "- Introduction to `scipy.stats`\n",
    "\n",
    "### 📘 Chapter 10: Practical Projects\n",
    "- Analyzing gene expression data\n",
    "- Population genetics calculations\n",
    "- Ecological data analysis\n",
    "- Creating reproducible research workflows\n",
    "\n",
    "---\n",
    "\n",
    "## 🚀 Advanced Topics *(Optional – Weeks 11–12)*\n",
    "\n",
    "### 📘 Chapter 11: Bioinformatics Libraries\n",
    "- Introduction to Biopython\n",
    "- Working with biological databases\n",
    "- Phylogenetic analysis basics\n",
    "\n",
    "### 📘 Chapter 12: Best Practices\n",
    "- Code organization and documentation\n",
    "- Error handling\n",
    "- Reproducible research practices\n",
    "- Sharing code and results\n",
    "\n",
    "---\n",
    "\n",
    "## 🧠 Key Teaching Strategies\n",
    "\n",
    "1. Start each chapter with biological context – explain why the programming concept matters for their field.\n",
    "2. Use biological datasets throughout – gene sequences, experimental measurements, species data.\n",
    "3. Include hands-on exercises after each concept.\n",
    "4. Emphasize reproducibility – show how code documents their analysis process.\n",
    "5. Build complexity gradually – start with simple examples, then real research scenarios.\n",
    "\n",
    "---\n",
    "\n",
    "✅ This progression moves from basic programming concepts to practical biological applications, ensuring students can immediately apply what they learn to their research and coursework.\n"
   ]
  },
  {
   "cell_type": "markdown",
   "metadata": {
    "id": "1YnFa9ttgkKW"
   },
   "source": [
    "## Learning Objectives\n",
    "By the end of this chapter, students will be able to:\n",
    "\n",
    "1. Use lists and tuples to store biological sequences and experimental data\n",
    "2. Apply dictionaries for gene annotations and species information\n",
    "3. Utilize sets for managing unique identifiers and sample collections\n",
    "4. Choose appropriate data structures for different biological problems"
   ]
  },
  {
   "cell_type": "markdown",
   "metadata": {
    "id": "v93-p5OCqXBH"
   },
   "source": [
    "##**Section 1:** Lists and Tuples - Storing Sequences and Experimental Data\n",
    "### **Introduction to Lists in Python**\n",
    "\n",
    "Lists are one of the most versatile and commonly used data structures in Python. They are ordered, mutable (changeable) collections of items. This means you can add, remove, or modify items after the list has been created, and the order of items is preserved. Lists can contain items of different data types within the same list.\n",
    "\n",
    "### Why use Lists?\n",
    "\n",
    "* **Ordered:** Items in a list have a defined order, and that order will not change unless you explicitly modify the list.\n",
    "* **Changeable (Mutable):** You can modify a list after it's created (add, remove, or change elements).\n",
    "* **Allows Duplicates:** Lists can contain multiple items with the same value.\n",
    "* **Heterogeneous:** A single list can hold items of different data types (e.g., integers, strings, floats, even other lists).\n",
    "\n",
    "### Creating a List\n",
    "\n",
    "Lists are created by placing all the items (elements) inside square brackets `[]`, separated by commas.<br>\n",
    "\n"
   ]
  },
  {
   "cell_type": "code",
   "execution_count": 1,
   "metadata": {
    "id": "-SRktDVZx_O5"
   },
   "outputs": [
    {
     "name": "stdout",
     "output_type": "stream",
     "text": [
      "[]\n",
      "[1, 2, 3, 4, 5]\n",
      "['apple', 'banana', 'cherry']\n",
      "[1, 'hello', 3.14, True]\n",
      "[1, 2, [3, 4], 5]\n"
     ]
    }
   ],
   "source": [
    "# An empty list\n",
    "my_empty_list = []\n",
    "print(my_empty_list)  # Output: []\n",
    "\n",
    "# A list of integers\n",
    "numbers = [1, 2, 3, 4, 5]\n",
    "print(numbers)  # Output: [1, 2, 3, 4, 5]\n",
    "\n",
    "# A list of strings\n",
    "fruits = [\"apple\", \"banana\", \"cherry\"]\n",
    "print(fruits)  # Output: ['apple', 'banana', 'cherry']\n",
    "\n",
    "# A mixed-type list\n",
    "mixed_list = [1, \"hello\", 3.14, True]\n",
    "print(mixed_list)  # Output: [1, 'hello', 3.14, True]\n",
    "\n",
    "# A nested list (a list containing another list)\n",
    "nested_list = [1, 2, [3, 4], 5]\n",
    "print(nested_list)  # Output: [1, 2, [3, 4], 5]"
   ]
  },
  {
   "cell_type": "code",
   "execution_count": 2,
   "metadata": {
    "id": "IMq4FzUsgMsj"
   },
   "outputs": [
    {
     "name": "stdout",
     "output_type": "stream",
     "text": [
      "DNA sequence: ['A', 'T', 'G', 'C', 'A', 'T', 'G']\n",
      "Length: 7\n",
      "First nucleotide: A\n",
      "Last nucleotide: G\n"
     ]
    }
   ],
   "source": [
    "# Basic list creation and operations\n",
    "dna_sequence = [\"A\", \"T\", \"G\", \"C\", \"A\", \"T\", \"G\"]\n",
    "print(f\"DNA sequence: {dna_sequence}\")\n",
    "print(f\"Length: {len(dna_sequence)}\")\n",
    "print(f\"First nucleotide: {dna_sequence[0]}\")\n",
    "print(f\"Last nucleotide: {dna_sequence[-1]}\")"
   ]
  },
  {
   "cell_type": "markdown",
   "metadata": {
    "id": "NReRylNdq0Ku"
   },
   "source": [
    "**1.2 Biological Applications of Lists**\n",
    "\n",
    "Example 1: DNA Sequence Analysis"
   ]
  },
  {
   "cell_type": "code",
   "execution_count": 3,
   "metadata": {
    "id": "G0MeBrHkq38X"
   },
   "outputs": [
    {
     "name": "stdout",
     "output_type": "stream",
     "text": [
      "Nucleotide composition:\n",
      "A: 3 (30.0%)\n",
      "T: 3 (30.0%)\n",
      "G: 2 (20.0%)\n",
      "C: 2 (20.0%)\n"
     ]
    }
   ],
   "source": [
    "# Storing a DNA sequence as a list\n",
    "gene_sequence = [\"A\", \"T\", \"G\", \"C\", \"C\", \"G\", \"T\", \"A\", \"A\", \"T\"]\n",
    "\n",
    "# Count nucleotides\n",
    "nucleotide_counts = {\n",
    "    \"A\": gene_sequence.count(\"A\"),\n",
    "    \"T\": gene_sequence.count(\"T\"),\n",
    "    \"G\": gene_sequence.count(\"G\"),\n",
    "    \"C\": gene_sequence.count(\"C\"),\n",
    "}\n",
    "\n",
    "print(\"Nucleotide composition:\")\n",
    "for nucleotide, count in nucleotide_counts.items():\n",
    "    percentage = (count / len(gene_sequence)) * 100\n",
    "    print(f\"{nucleotide}: {count} ({percentage:.1f}%)\")"
   ]
  },
  {
   "cell_type": "markdown",
   "metadata": {
    "id": "W7247obHrMmQ"
   },
   "source": [
    "**Example 2: Experimental Data Storage**"
   ]
  },
  {
   "cell_type": "code",
   "execution_count": 4,
   "metadata": {
    "id": "y24ZgiRxrNoP"
   },
   "outputs": [
    {
     "name": "stdout",
     "output_type": "stream",
     "text": [
      "pH over time:\n",
      "Hour 0: pH = 7.2\n",
      "Hour 1: pH = 7.1\n",
      "Hour 2: pH = 6.9\n",
      "Hour 3: pH = 6.8\n",
      "Hour 4: pH = 6.7\n",
      "Hour 5: pH = 6.9\n",
      "Hour 6: pH = 7.0\n",
      "Hour 7: pH = 7.1\n",
      "\n",
      "Average pH: 6.96\n"
     ]
    }
   ],
   "source": [
    "# pH measurements over time\n",
    "ph_measurements = [7.2, 7.1, 6.9, 6.8, 6.7, 6.9, 7.0, 7.1]\n",
    "time_points = [0, 1, 2, 3, 4, 5, 6, 7]  # hours\n",
    "\n",
    "print(\"pH over time:\")\n",
    "for i, (time, ph) in enumerate(zip(time_points, ph_measurements)):\n",
    "    print(f\"Hour {time}: pH = {ph}\")\n",
    "\n",
    "# Calculate average pH\n",
    "average_ph = sum(ph_measurements) / len(ph_measurements)\n",
    "print(f\"\\nAverage pH: {average_ph:.2f}\")"
   ]
  },
  {
   "cell_type": "markdown",
   "metadata": {
    "id": "YzvhQsUJrVH-"
   },
   "source": [
    "**Example 3: Protein Molecular Weights**"
   ]
  },
  {
   "cell_type": "code",
   "execution_count": 5,
   "metadata": {
    "id": "fsxhn2IerV6e"
   },
   "outputs": [
    {
     "name": "stdout",
     "output_type": "stream",
     "text": [
      "Proteins sorted by molecular weight: [23.1, 34.7, 45.2, 56.3, 67.8, 78.9, 89.5]\n",
      "Proteins between 40-70 kDa: [45.2, 67.8, 56.3]\n"
     ]
    }
   ],
   "source": [
    "# List of protein molecular weights (in kDa)\n",
    "protein_weights = [45.2, 67.8, 23.1, 89.5, 34.7, 56.3, 78.9]\n",
    "\n",
    "# Sort proteins by molecular weight\n",
    "sorted_weights = sorted(protein_weights)\n",
    "print(f\"Proteins sorted by molecular weight: {sorted_weights}\")\n",
    "\n",
    "# Find proteins within a specific range\n",
    "target_range = (40, 70)  # kDa\n",
    "proteins_in_range = [\n",
    "    w for w in protein_weights if target_range[0] <= w <= target_range[1]\n",
    "]\n",
    "print(f\"Proteins between {target_range[0]}-{target_range[1]} kDa: {proteins_in_range}\")"
   ]
  },
  {
   "cell_type": "markdown",
   "metadata": {
    "id": "wmUOb3nXuGE4"
   },
   "source": [
    "**1.3 Introduction to Tuples**\n",
    "\n",
    "Tuples are another fundamental data structure in Python, similar to lists in some ways, but with a crucial difference: **they are immutable**. This means once a tuple is created, you cannot change its elements (add, remove, or modify them).\n",
    "\n",
    "Tuples are ordered collections of items, and they can contain items of different data types.\n",
    "\n",
    "## Why use Tuples?\n",
    "\n",
    "* **Ordered:** Items in a tuple have a defined order, which will not change.\n",
    "* **Immutable (Unchangeable):** This is the key characteristic. Once created, a tuple's contents cannot be altered. This makes them suitable for data that should not be modified, like coordinates, configuration settings, or database records that are not meant to be changed.\n",
    "* **Allows Duplicates:** Tuples can contain multiple items with the same value.\n",
    "* **Heterogeneous:** A single tuple can hold items of different data types.\n",
    "* **Faster:** Due to their immutable nature, tuples can sometimes be slightly faster to process than lists for certain operations.\n",
    "* **Used as Dictionary Keys:** Because they are immutable, tuples can be used as keys in dictionaries, whereas lists cannot.\n",
    "\n",
    "## Creating a Tuple\n",
    "\n",
    "Tuples are created by placing all the items (elements) inside parentheses `()`, separated by commas.<br>"
   ]
  },
  {
   "cell_type": "code",
   "execution_count": 6,
   "metadata": {
    "id": "ujNW3_CK0M4n"
   },
   "outputs": [
    {
     "name": "stdout",
     "output_type": "stream",
     "text": [
      "()\n",
      "(1, 2, 3, 4, 5)\n",
      "('red', 'green', 'blue')\n",
      "(1, 'hello', 3.14, False)\n",
      "('single',)\n",
      "<class 'tuple'>\n",
      "<class 'str'>\n"
     ]
    }
   ],
   "source": [
    "# An empty tuple\n",
    "my_empty_tuple = ()\n",
    "print(my_empty_tuple)  # Output: ()\n",
    "\n",
    "# A tuple of integers\n",
    "numbers_tuple = (1, 2, 3, 4, 5)\n",
    "print(numbers_tuple)  # Output: (1, 2, 3, 4, 5)\n",
    "\n",
    "# A tuple of strings\n",
    "colors = (\"red\", \"green\", \"blue\")\n",
    "print(colors)  # Output: ('red', 'green', 'blue')\n",
    "\n",
    "# A mixed-type tuple\n",
    "mixed_tuple = (1, \"hello\", 3.14, False)\n",
    "print(mixed_tuple)  # Output: (1, 'hello', 3.14, False)\n",
    "\n",
    "# A tuple with a single item (requires a trailing comma!)\n",
    "single_item_tuple = (\"single\",)\n",
    "print(single_item_tuple)  # Output: ('single',)\n",
    "print(type(single_item_tuple))  # Output: <class 'tuple'>\n",
    "\n",
    "# Without the comma, it's just a string in parentheses\n",
    "not_a_tuple = \"single\"\n",
    "print(type(not_a_tuple))  # Output: <class 'str'>"
   ]
  },
  {
   "cell_type": "code",
   "execution_count": 7,
   "metadata": {
    "id": "4FSfU6pIuH_e"
   },
   "outputs": [
    {
     "name": "stdout",
     "output_type": "stream",
     "text": [
      "Codon: ('A', 'T', 'G')\n",
      "Cannot modify tuple - it's immutable!\n",
      "Gene located at chromosome 12, position 1504829\n"
     ]
    }
   ],
   "source": [
    "# Basic tuple creation\n",
    "codon = (\"A\", \"T\", \"G\")\n",
    "print(f\"Codon: {codon}\")\n",
    "print(\"Cannot modify tuple - it's immutable!\")\n",
    "\n",
    "# Tuples are great for coordinates\n",
    "chromosome_position = (12, 1504829)  # (chromosome, position)\n",
    "print(\n",
    "    f\"Gene located at chromosome {chromosome_position[0]}, position {chromosome_position[1]}\"\n",
    ")"
   ]
  },
  {
   "cell_type": "markdown",
   "metadata": {
    "id": "WQYHeKN_uOoJ"
   },
   "source": [
    "**1.4 Biological Applications of Tuples**\n",
    "\n",
    "**Example 1: Genetic Coordinates**"
   ]
  },
  {
   "cell_type": "code",
   "execution_count": 8,
   "metadata": {
    "id": "F3CeymuLuQBQ"
   },
   "outputs": [
    {
     "name": "stdout",
     "output_type": "stream",
     "text": [
      "Gene locations:\n",
      "Gene 1: chr1:1000-2000 (+) - Length: 1000 bp\n",
      "Gene 2: chr2:5000-6500 (-) - Length: 1500 bp\n",
      "Gene 3: chr3:3000-4200 (+) - Length: 1200 bp\n",
      "Gene 4: chr1:7000-8000 (-) - Length: 1000 bp\n"
     ]
    }
   ],
   "source": [
    "# Store gene locations as tuples (chromosome, start, end, strand)\n",
    "gene_locations = [\n",
    "    (\"chr1\", 1000, 2000, \"+\"),\n",
    "    (\"chr2\", 5000, 6500, \"-\"),\n",
    "    (\"chr3\", 3000, 4200, \"+\"),\n",
    "    (\"chr1\", 7000, 8000, \"-\"),\n",
    "]\n",
    "\n",
    "print(\"Gene locations:\")\n",
    "for i, (chrom, start, end, strand) in enumerate(gene_locations, 1):\n",
    "    length = end - start\n",
    "    print(f\"Gene {i}: {chrom}:{start}-{end} ({strand}) - Length: {length} bp\")"
   ]
  },
  {
   "cell_type": "markdown",
   "metadata": {
    "id": "is2xONlJuVqH"
   },
   "source": [
    "**Example 2: Amino Acid Properties**"
   ]
  },
  {
   "cell_type": "code",
   "execution_count": 9,
   "metadata": {
    "id": "JMJ0tr8_uW0I"
   },
   "outputs": [
    {
     "name": "stdout",
     "output_type": "stream",
     "text": [
      "Amino Acid Properties:\n",
      "Name\t\tAbbr\tCode\tMW\tHydrophobicity\n",
      "--------------------------------------------------\n",
      "Alanine   \tAla\tA\t89.1\t1.8\n",
      "Glycine   \tGly\tG\t75.1\t-0.4\n",
      "Valine    \tVal\tV\t117.1\t4.2\n",
      "Leucine   \tLeu\tL\t131.2\t3.8\n"
     ]
    }
   ],
   "source": [
    "# Store amino acid properties as tuples (name, abbreviation, molecular_weight, hydrophobicity)\n",
    "amino_acids = [\n",
    "    (\"Alanine\", \"Ala\", \"A\", 89.1, 1.8),\n",
    "    (\"Glycine\", \"Gly\", \"G\", 75.1, -0.4),\n",
    "    (\"Valine\", \"Val\", \"V\", 117.1, 4.2),\n",
    "    (\"Leucine\", \"Leu\", \"L\", 131.2, 3.8),\n",
    "]\n",
    "\n",
    "print(\"Amino Acid Properties:\")\n",
    "print(\"Name\\t\\tAbbr\\tCode\\tMW\\tHydrophobicity\")\n",
    "print(\"-\" * 50)\n",
    "for name, abbr, code, mw, hydro in amino_acids:\n",
    "    print(f\"{name:<10}\\t{abbr}\\t{code}\\t{mw}\\t{hydro}\")"
   ]
  },
  {
   "cell_type": "markdown",
   "metadata": {
    "id": "FbgiCmb1uZGP"
   },
   "source": [
    "**1.5 Practice Exercise: Sequence Analysis**"
   ]
  },
  {
   "cell_type": "code",
   "execution_count": 10,
   "metadata": {
    "id": "LI0qXUOpucYW"
   },
   "outputs": [
    {
     "name": "stdout",
     "output_type": "stream",
     "text": [
      "Sequence: ATGCGATCGATCG\n",
      "Length: 13\n",
      "Composition: {'A': 3, 'T': 3, 'G': 4, 'C': 3}\n",
      "GC Content: 53.8%\n",
      "Complement: TACGCTAGCTAGC\n"
     ]
    }
   ],
   "source": [
    "# Exercise: Analyze a DNA sequence\n",
    "def analyze_dna_sequence(sequence):\n",
    "    \"\"\"\n",
    "    Analyze a DNA sequence and return statistics\n",
    "    \"\"\"\n",
    "    # Convert to list for easier manipulation\n",
    "    seq_list = list(sequence.upper())\n",
    "\n",
    "    # Count nucleotides\n",
    "    counts = {\"A\": 0, \"T\": 0, \"G\": 0, \"C\": 0}\n",
    "    for nucleotide in seq_list:\n",
    "        if nucleotide in counts:\n",
    "            counts[nucleotide] += 1\n",
    "\n",
    "    # Calculate GC content\n",
    "    gc_content = (counts[\"G\"] + counts[\"C\"]) / len(seq_list) * 100\n",
    "\n",
    "    # Find complement\n",
    "    complement_map = {\"A\": \"T\", \"T\": \"A\", \"G\": \"C\", \"C\": \"G\"}\n",
    "    complement = [complement_map[n] for n in seq_list]\n",
    "\n",
    "    return {\n",
    "        \"length\": len(seq_list),\n",
    "        \"composition\": counts,\n",
    "        \"gc_content\": gc_content,\n",
    "        \"complement\": \"\".join(complement),\n",
    "    }\n",
    "\n",
    "\n",
    "# Test the function\n",
    "test_sequence = \"ATGCGATCGATCG\"\n",
    "results = analyze_dna_sequence(test_sequence)\n",
    "\n",
    "print(f\"Sequence: {test_sequence}\")\n",
    "print(f\"Length: {results['length']}\")\n",
    "print(f\"Composition: {results['composition']}\")\n",
    "print(f\"GC Content: {results['gc_content']:.1f}%\")\n",
    "print(f\"Complement: {results['complement']}\")"
   ]
  },
  {
   "cell_type": "markdown",
   "metadata": {
    "id": "TgtMmXmdufOH"
   },
   "source": [
    "##**Section 2:** Dictionaries - Gene Annotations and Species Data\n",
    "\n",
    "**2.1 Introduction to Dictionaries**\n",
    "\n",
    "# Introduction to Dictionaries in Python\n",
    "\n",
    "Dictionaries are powerful and highly flexible data structures in Python, used to store data values in **key-value pairs**. Each key-value pair maps the key to its associated value. Think of a dictionary as a real-world dictionary where a \"word\" (the key) is associated with its \"definition\" (the value).\n",
    "\n",
    "## Key Characteristics of Dictionaries\n",
    "\n",
    "* **Key-Value Pairs:** Dictionaries store data as `key: value` pairs.\n",
    "* **Changeable (Mutable):** You can add new items, modify existing items, or remove items after a dictionary has been created.\n",
    "* **Keys Must Be Unique:** Each key within a dictionary must be unique. If you try to add a new item with an existing key, the old value associated with that key will be overwritten.\n",
    "* **Keys Must Be Immutable:** Dictionary keys must be immutable types (e.g., strings, numbers, tuples). You cannot use mutable types like lists or other dictionaries as keys.\n",
    "* **Values Can Be Anything:** Values can be of any data type (strings, numbers, lists, other dictionaries, etc.) and can be duplicates.\n",
    "\n",
    "## Why use Dictionaries?\n",
    "\n",
    "Dictionaries are ideal when you have data that can be identified by a specific name or unique identifier (the key). They provide a highly efficient way to retrieve data associated with a particular key.\n",
    "\n",
    "* Storing user profiles (username: user_data)\n",
    "* Representing records (product_id: product_details)\n",
    "* Configuration settings (setting_name: value)\n",
    "* Counting frequencies of items (item: count)\n",
    "\n",
    "## Creating a Dictionary\n",
    "\n",
    "Dictionaries are created by placing a comma-separated list of `key: value` pairs inside curly braces `{}`.<br>"
   ]
  },
  {
   "cell_type": "code",
   "execution_count": 11,
   "metadata": {
    "id": "jUhH5tHr5-qw"
   },
   "outputs": [
    {
     "name": "stdout",
     "output_type": "stream",
     "text": [
      "{}\n",
      "{'Alice': 95, 'Bob': 88, 'Charlie': 76}\n",
      "{'name': 'Jane Doe', 'age': 30, 'is_student': False, 'courses': ['Math', 'Physics']}\n",
      "{'brand': 'Ford', 'model': 'Mustang', 'year': 1964}\n"
     ]
    }
   ],
   "source": [
    "# An empty dictionary\n",
    "my_empty_dict = {}\n",
    "print(my_empty_dict)  # Output: {}\n",
    "\n",
    "# A dictionary with string keys and integer values\n",
    "student_scores = {\"Alice\": 95, \"Bob\": 88, \"Charlie\": 76}\n",
    "print(student_scores)  # Output: {'Alice': 95, 'Bob': 88, 'Charlie': 76}\n",
    "\n",
    "# A dictionary with mixed key/value types\n",
    "person_info = {\n",
    "    \"name\": \"Jane Doe\",\n",
    "    \"age\": 30,\n",
    "    \"is_student\": False,\n",
    "    \"courses\": [\"Math\", \"Physics\"],\n",
    "}\n",
    "print(person_info)\n",
    "# Output: {'name': 'Jane Doe', 'age': 30, 'is_student': False, 'courses': ['Math', 'Physics']}\n",
    "\n",
    "# Using the dict() constructor\n",
    "another_dict = dict(brand=\"Ford\", model=\"Mustang\", year=1964)\n",
    "print(another_dict)  # Output: {'brand': 'Ford', 'model': 'Mustang', 'year': 1964}"
   ]
  },
  {
   "cell_type": "code",
   "execution_count": 12,
   "metadata": {
    "id": "31RYzd--uzPf"
   },
   "outputs": [
    {
     "name": "stdout",
     "output_type": "stream",
     "text": [
      "Genetic Code Examples:\n",
      "UUU -> Phe\n",
      "UUC -> Phe\n",
      "UUA -> Leu\n",
      "UUG -> Leu\n",
      "UCU -> Ser\n",
      "UCC -> Ser\n",
      "UCA -> Ser\n",
      "UCG -> Ser\n",
      "UAU -> Tyr\n",
      "UAC -> Tyr\n",
      "UAA -> Stop\n",
      "UAG -> Stop\n"
     ]
    }
   ],
   "source": [
    "# Basic dictionary creation\n",
    "genetic_code = {\n",
    "    \"UUU\": \"Phe\",\n",
    "    \"UUC\": \"Phe\",\n",
    "    \"UUA\": \"Leu\",\n",
    "    \"UUG\": \"Leu\",\n",
    "    \"UCU\": \"Ser\",\n",
    "    \"UCC\": \"Ser\",\n",
    "    \"UCA\": \"Ser\",\n",
    "    \"UCG\": \"Ser\",\n",
    "    \"UAU\": \"Tyr\",\n",
    "    \"UAC\": \"Tyr\",\n",
    "    \"UAA\": \"Stop\",\n",
    "    \"UAG\": \"Stop\",\n",
    "}\n",
    "\n",
    "print(\"Genetic Code Examples:\")\n",
    "for codon, amino_acid in genetic_code.items():\n",
    "    print(f\"{codon} -> {amino_acid}\")"
   ]
  },
  {
   "cell_type": "markdown",
   "metadata": {
    "id": "36hYLeeP6hhu"
   },
   "source": [
    "_`items()`_ retrieves all key-value pairs from the dictionary named genetic_code"
   ]
  },
  {
   "cell_type": "markdown",
   "metadata": {
    "id": "0gkWcSJmu3bA"
   },
   "source": [
    "**2.2 Gene Annotation Dictionaries**\n",
    "\n",
    "**Example 1: Gene Information Database**"
   ]
  },
  {
   "cell_type": "code",
   "execution_count": 13,
   "metadata": {
    "id": "52dVsXS0u5kP"
   },
   "outputs": [
    {
     "name": "stdout",
     "output_type": "stream",
     "text": [
      "Gene: BRCA1\n",
      "Full Name: Breast Cancer 1\n",
      "Location: chr17:41196312-41277500 (-)\n",
      "Function: DNA repair\n",
      "Associated Diseases: Breast cancer, Ovarian cancer\n",
      "Protein Length: 1863 amino acids\n",
      "--------------------------------------------------\n",
      "Gene: TP53\n",
      "Full Name: Tumor Protein 53\n",
      "Location: chr17:7565097-7590856 (-)\n",
      "Function: Tumor suppressor\n",
      "Associated Diseases: Various cancers\n",
      "Protein Length: 393 amino acids\n",
      "--------------------------------------------------\n"
     ]
    }
   ],
   "source": [
    "# Store comprehensive gene information\n",
    "gene_database = {\n",
    "    \"BRCA1\": {\n",
    "        \"full_name\": \"Breast Cancer 1\",\n",
    "        \"chromosome\": 17,\n",
    "        \"start\": 41196312,\n",
    "        \"end\": 41277500,\n",
    "        \"strand\": \"-\",\n",
    "        \"function\": \"DNA repair\",\n",
    "        \"associated_diseases\": [\"Breast cancer\", \"Ovarian cancer\"],\n",
    "        \"protein_length\": 1863,\n",
    "    },\n",
    "    \"TP53\": {\n",
    "        \"full_name\": \"Tumor Protein 53\",\n",
    "        \"chromosome\": 17,\n",
    "        \"start\": 7565097,\n",
    "        \"end\": 7590856,\n",
    "        \"strand\": \"-\",\n",
    "        \"function\": \"Tumor suppressor\",\n",
    "        \"associated_diseases\": [\"Various cancers\"],\n",
    "        \"protein_length\": 393,\n",
    "    },\n",
    "    \"CFTR\": {\n",
    "        \"full_name\": \"Cystic Fibrosis Transmembrane Conductance Regulator\",\n",
    "        \"chromosome\": 7,\n",
    "        \"start\": 117120016,\n",
    "        \"end\": 117308718,\n",
    "        \"strand\": \"+\",\n",
    "        \"function\": \"Ion channel\",\n",
    "        \"associated_diseases\": [\"Cystic fibrosis\"],\n",
    "        \"protein_length\": 1480,\n",
    "    },\n",
    "}\n",
    "\n",
    "\n",
    "# Access gene information\n",
    "def display_gene_info(gene_name):\n",
    "    if gene_name in gene_database:\n",
    "        info = gene_database[gene_name]\n",
    "        print(f\"Gene: {gene_name}\")\n",
    "        print(f\"Full Name: {info['full_name']}\")\n",
    "        print(\n",
    "            f\"Location: chr{info['chromosome']}:{info['start']}-{info['end']} ({info['strand']})\"\n",
    "        )\n",
    "        print(f\"Function: {info['function']}\")\n",
    "        print(f\"Associated Diseases: {', '.join(info['associated_diseases'])}\")\n",
    "        print(f\"Protein Length: {info['protein_length']} amino acids\")\n",
    "    else:\n",
    "        print(f\"Gene {gene_name} not found in database\")\n",
    "\n",
    "\n",
    "# Display information for specific genes\n",
    "for gene in [\"BRCA1\", \"TP53\"]:\n",
    "    display_gene_info(gene)\n",
    "    print(\"-\" * 50)"
   ]
  },
  {
   "cell_type": "markdown",
   "metadata": {
    "id": "GO4XbIBbu8qB"
   },
   "source": [
    "**Example 2: Expression Data**"
   ]
  },
  {
   "cell_type": "code",
   "execution_count": 14,
   "metadata": {
    "id": "8-Y_4U0ZvBSI"
   },
   "outputs": [
    {
     "name": "stdout",
     "output_type": "stream",
     "text": [
      "Fold changes for treatment_A:\n",
      "  GAPDH: 1.05x (up-regulated)\n",
      "  ACTB: 1.02x (up-regulated)\n",
      "  TP53: 3.00x (up-regulated)\n",
      "  BRCA1: 3.00x (up-regulated)\n",
      "\n",
      "Fold changes for treatment_B:\n",
      "  GAPDH: 0.98x (down-regulated)\n",
      "  ACTB: 0.99x (down-regulated)\n",
      "  TP53: 4.00x (up-regulated)\n",
      "  BRCA1: 4.00x (up-regulated)\n",
      "\n"
     ]
    }
   ],
   "source": [
    "# Store gene expression data across different conditions\n",
    "expression_data = {\n",
    "    \"control\": {\"GAPDH\": 1000, \"ACTB\": 800, \"TP53\": 50, \"BRCA1\": 25},\n",
    "    \"treatment_A\": {\"GAPDH\": 1050, \"ACTB\": 820, \"TP53\": 150, \"BRCA1\": 75},\n",
    "    \"treatment_B\": {\"GAPDH\": 980, \"ACTB\": 790, \"TP53\": 200, \"BRCA1\": 100},\n",
    "}\n",
    "\n",
    "\n",
    "# Calculate fold changes\n",
    "def calculate_fold_change(treatment, control_condition=\"control\"):\n",
    "    fold_changes = {}\n",
    "    control_data = expression_data[control_condition]\n",
    "    treatment_data = expression_data[treatment]\n",
    "\n",
    "    for gene in control_data:\n",
    "        if gene in treatment_data:\n",
    "            fold_change = treatment_data[gene] / control_data[gene]\n",
    "            fold_changes[gene] = fold_change\n",
    "\n",
    "    return fold_changes\n",
    "\n",
    "\n",
    "# Calculate and display fold changes\n",
    "for treatment in [\"treatment_A\", \"treatment_B\"]:\n",
    "    fold_changes = calculate_fold_change(treatment)\n",
    "    print(f\"Fold changes for {treatment}:\")\n",
    "    for gene, fc in fold_changes.items():\n",
    "        direction = \"up\" if fc > 1 else \"down\"\n",
    "        print(f\"  {gene}: {fc:.2f}x ({direction}-regulated)\")\n",
    "    print()"
   ]
  },
  {
   "cell_type": "markdown",
   "metadata": {
    "id": "tJCmTLfFvERJ"
   },
   "source": [
    "**2.3 Species Data Management**\n",
    "\n",
    "**Example 1: Taxonomic Information**"
   ]
  },
  {
   "cell_type": "code",
   "execution_count": 15,
   "metadata": {
    "id": "hgK0_YcVvHrf"
   },
   "outputs": [
    {
     "name": "stdout",
     "output_type": "stream",
     "text": [
      "Taxonomic Classification of Human:\n",
      "  Kingdom: Animalia\n",
      "  Phylum: Chordata\n",
      "  Class: Mammalia\n",
      "  Order: Primates\n",
      "  Family: Hominidae\n",
      "  Genus: Homo\n",
      "  Species: sapiens\n",
      "  Genome Size: 3,200,000,000 bp\n",
      "----------------------------------------\n",
      "Taxonomic Classification of House Mouse:\n",
      "  Kingdom: Animalia\n",
      "  Phylum: Chordata\n",
      "  Class: Mammalia\n",
      "  Order: Rodentia\n",
      "  Family: Muridae\n",
      "  Genus: Mus\n",
      "  Species: musculus\n",
      "  Genome Size: 2,700,000,000 bp\n",
      "----------------------------------------\n",
      "Taxonomic Classification of E. coli:\n",
      "  Kingdom: Bacteria\n",
      "  Phylum: Proteobacteria\n",
      "  Class: Gammaproteobacteria\n",
      "  Order: Enterobacteriales\n",
      "  Family: Enterobacteriaceae\n",
      "  Genus: Escherichia\n",
      "  Species: coli\n",
      "  Genome Size: 4,600,000 bp\n",
      "----------------------------------------\n"
     ]
    }
   ],
   "source": [
    "# Store species taxonomic information\n",
    "species_database = {\n",
    "    \"homo_sapiens\": {\n",
    "        \"common_name\": \"Human\",\n",
    "        \"kingdom\": \"Animalia\",\n",
    "        \"phylum\": \"Chordata\",\n",
    "        \"class\": \"Mammalia\",\n",
    "        \"order\": \"Primates\",\n",
    "        \"family\": \"Hominidae\",\n",
    "        \"genus\": \"Homo\",\n",
    "        \"species\": \"sapiens\",\n",
    "        \"genome_size\": 3.2e9,  # base pairs\n",
    "    },\n",
    "    \"mus_musculus\": {\n",
    "        \"common_name\": \"House Mouse\",\n",
    "        \"kingdom\": \"Animalia\",\n",
    "        \"phylum\": \"Chordata\",\n",
    "        \"class\": \"Mammalia\",\n",
    "        \"order\": \"Rodentia\",\n",
    "        \"family\": \"Muridae\",\n",
    "        \"genus\": \"Mus\",\n",
    "        \"species\": \"musculus\",\n",
    "        \"genome_size\": 2.7e9,\n",
    "    },\n",
    "    \"escherichia_coli\": {\n",
    "        \"common_name\": \"E. coli\",\n",
    "        \"kingdom\": \"Bacteria\",\n",
    "        \"phylum\": \"Proteobacteria\",\n",
    "        \"class\": \"Gammaproteobacteria\",\n",
    "        \"order\": \"Enterobacteriales\",\n",
    "        \"family\": \"Enterobacteriaceae\",\n",
    "        \"genus\": \"Escherichia\",\n",
    "        \"species\": \"coli\",\n",
    "        \"genome_size\": 4.6e6,\n",
    "    },\n",
    "}\n",
    "\n",
    "\n",
    "# Function to display taxonomic hierarchy\n",
    "def display_taxonomy(species_key):\n",
    "    if species_key in species_database:\n",
    "        species = species_database[species_key]\n",
    "        print(f\"Taxonomic Classification of {species['common_name']}:\")\n",
    "        hierarchy = [\n",
    "            \"kingdom\",\n",
    "            \"phylum\",\n",
    "            \"class\",\n",
    "            \"order\",\n",
    "            \"family\",\n",
    "            \"genus\",\n",
    "            \"species\",\n",
    "        ]\n",
    "        for level in hierarchy:\n",
    "            print(f\"  {level.capitalize()}: {species[level]}\")\n",
    "        print(f\"  Genome Size: {species['genome_size']:,.0f} bp\")\n",
    "    else:\n",
    "        print(f\"Species {species_key} not found\")\n",
    "\n",
    "\n",
    "# Display taxonomy for different species\n",
    "for species in species_database.keys():\n",
    "    display_taxonomy(species)\n",
    "    print(\"-\" * 40)"
   ]
  },
  {
   "cell_type": "markdown",
   "metadata": {
    "id": "dy3tDXh-vJ8m"
   },
   "source": [
    "**Example 2: Phenotype Data**"
   ]
  },
  {
   "cell_type": "code",
   "execution_count": 16,
   "metadata": {
    "id": "xMi2tBejvNc3"
   },
   "outputs": [
    {
     "name": "stdout",
     "output_type": "stream",
     "text": [
      "Phenotype comparison (reference: wild_type):\n",
      "Strain       Growth Rate  Viability  Fertility  Pigmentation\n",
      "------------------------------------------------------------\n",
      "wild_type    1.0          100        normal     normal\n",
      "mutant_A     0.7          85         reduced    albino\n",
      "mutant_B     1.2          95         normal     dark\n"
     ]
    }
   ],
   "source": [
    "# Store phenotype data for different organisms\n",
    "phenotype_data = {\n",
    "    \"wild_type\": {\n",
    "        \"growth_rate\": 1.0,\n",
    "        \"viability\": 100,\n",
    "        \"fertility\": \"normal\",\n",
    "        \"pigmentation\": \"normal\",\n",
    "    },\n",
    "    \"mutant_A\": {\n",
    "        \"growth_rate\": 0.7,\n",
    "        \"viability\": 85,\n",
    "        \"fertility\": \"reduced\",\n",
    "        \"pigmentation\": \"albino\",\n",
    "    },\n",
    "    \"mutant_B\": {\n",
    "        \"growth_rate\": 1.2,\n",
    "        \"viability\": 95,\n",
    "        \"fertility\": \"normal\",\n",
    "        \"pigmentation\": \"dark\",\n",
    "    },\n",
    "}\n",
    "\n",
    "\n",
    "# Compare phenotypes\n",
    "def compare_phenotypes(reference=\"wild_type\"):\n",
    "    ref_data = phenotype_data[reference]\n",
    "    print(f\"Phenotype comparison (reference: {reference}):\")\n",
    "    print(\n",
    "        f\"{'Strain':<12} {'Growth Rate':<12} {'Viability':<10} {'Fertility':<10} {'Pigmentation'}\"\n",
    "    )\n",
    "    print(\"-\" * 60)\n",
    "\n",
    "    for strain, data in phenotype_data.items():\n",
    "        print(\n",
    "            f\"{strain:<12} {data['growth_rate']:<12} {data['viability']:<10} {data['fertility']:<10} {data['pigmentation']}\"\n",
    "        )\n",
    "\n",
    "\n",
    "compare_phenotypes()"
   ]
  },
  {
   "cell_type": "markdown",
   "metadata": {
    "id": "-LoUV7cGvSUA"
   },
   "source": [
    "**2.4 Practice Exercise: Sequence Translation**"
   ]
  },
  {
   "cell_type": "code",
   "execution_count": 17,
   "metadata": {
    "id": "XEHUnL3qvVR3"
   },
   "outputs": [
    {
     "name": "stdout",
     "output_type": "stream",
     "text": [
      "DNA: ATGAAACGCATTAGCGGTGCTAAATTAG\n",
      "Protein: MKRISGAKL\n"
     ]
    }
   ],
   "source": [
    "# Exercise: Create a complete translation system\n",
    "def create_genetic_code():\n",
    "    \"\"\"Create the complete genetic code dictionary\"\"\"\n",
    "    genetic_code = {\n",
    "        \"UUU\": \"F\",\n",
    "        \"UUC\": \"F\",\n",
    "        \"UUA\": \"L\",\n",
    "        \"UUG\": \"L\",\n",
    "        \"UCU\": \"S\",\n",
    "        \"UCC\": \"S\",\n",
    "        \"UCA\": \"S\",\n",
    "        \"UCG\": \"S\",\n",
    "        \"UAU\": \"Y\",\n",
    "        \"UAC\": \"Y\",\n",
    "        \"UAA\": \"*\",\n",
    "        \"UAG\": \"*\",\n",
    "        \"UGU\": \"C\",\n",
    "        \"UGC\": \"C\",\n",
    "        \"UGA\": \"*\",\n",
    "        \"UGG\": \"W\",\n",
    "        \"CUU\": \"L\",\n",
    "        \"CUC\": \"L\",\n",
    "        \"CUA\": \"L\",\n",
    "        \"CUG\": \"L\",\n",
    "        \"CCU\": \"P\",\n",
    "        \"CCC\": \"P\",\n",
    "        \"CCA\": \"P\",\n",
    "        \"CCG\": \"P\",\n",
    "        \"CAU\": \"H\",\n",
    "        \"CAC\": \"H\",\n",
    "        \"CAA\": \"Q\",\n",
    "        \"CAG\": \"Q\",\n",
    "        \"CGU\": \"R\",\n",
    "        \"CGC\": \"R\",\n",
    "        \"CGA\": \"R\",\n",
    "        \"CGG\": \"R\",\n",
    "        \"AUU\": \"I\",\n",
    "        \"AUC\": \"I\",\n",
    "        \"AUA\": \"I\",\n",
    "        \"AUG\": \"M\",\n",
    "        \"ACU\": \"T\",\n",
    "        \"ACC\": \"T\",\n",
    "        \"ACA\": \"T\",\n",
    "        \"ACG\": \"T\",\n",
    "        \"AAU\": \"N\",\n",
    "        \"AAC\": \"N\",\n",
    "        \"AAA\": \"K\",\n",
    "        \"AAG\": \"K\",\n",
    "        \"AGU\": \"S\",\n",
    "        \"AGC\": \"S\",\n",
    "        \"AGA\": \"R\",\n",
    "        \"AGG\": \"R\",\n",
    "        \"GUU\": \"V\",\n",
    "        \"GUC\": \"V\",\n",
    "        \"GUA\": \"V\",\n",
    "        \"GUG\": \"V\",\n",
    "        \"GCU\": \"A\",\n",
    "        \"GCC\": \"A\",\n",
    "        \"GCA\": \"A\",\n",
    "        \"GCG\": \"A\",\n",
    "        \"GAU\": \"D\",\n",
    "        \"GAC\": \"D\",\n",
    "        \"GAA\": \"E\",\n",
    "        \"GAG\": \"E\",\n",
    "        \"GGU\": \"G\",\n",
    "        \"GGC\": \"G\",\n",
    "        \"GGA\": \"G\",\n",
    "        \"GGG\": \"G\",\n",
    "    }\n",
    "    return genetic_code\n",
    "\n",
    "\n",
    "def translate_sequence(dna_sequence):\n",
    "    \"\"\"Translate DNA sequence to protein\"\"\"\n",
    "    # Convert DNA to RNA\n",
    "    rna_sequence = dna_sequence.replace(\"T\", \"U\")\n",
    "\n",
    "    # Get genetic code\n",
    "    genetic_code = create_genetic_code()\n",
    "\n",
    "    # Translate RNA to protein\n",
    "    protein = []\n",
    "    for i in range(0, len(rna_sequence), 3):\n",
    "        codon = rna_sequence[i : i + 3]\n",
    "        if len(codon) == 3:\n",
    "            amino_acid = genetic_code.get(codon, \"X\")  # X for unknown\n",
    "            protein.append(amino_acid)\n",
    "            if amino_acid == \"*\":  # Stop codon\n",
    "                break\n",
    "\n",
    "    return \"\".join(protein)\n",
    "\n",
    "\n",
    "# Test translation\n",
    "test_dna = \"ATGAAACGCATTAGCGGTGCTAAATTAG\"\n",
    "protein = translate_sequence(test_dna)\n",
    "print(f\"DNA: {test_dna}\")\n",
    "print(f\"Protein: {protein}\")"
   ]
  },
  {
   "cell_type": "markdown",
   "metadata": {
    "id": "QuvClTXTvZWH"
   },
   "source": [
    "##**Section 3:** Sets - Unique Identifiers and Sample Collections\n",
    "\n",
    "**3.1 Introduction to Sets**\n",
    "\n",
    "\n",
    "Sets are an unordered collection of **unique** items. They are mutable, meaning you can add or remove items after creation, but unlike lists and tuples, sets are unindexed, and they do not allow duplicate members. Sets are primarily used to perform mathematical set operations like union, intersection, difference, and for efficiently checking for membership or removing duplicates from a sequence.\n",
    "\n",
    "## Key Characteristics of Sets\n",
    "\n",
    "* **Unordered:** Items in a set do not have a defined order. You cannot refer to items by index or slice them.\n",
    "* **Unique Elements:** A set cannot contain duplicate items. If you try to add an element that already exists, it will not be added.\n",
    "* **Mutable (Changeable):** You can add new items or remove existing items after a set has been created.\n",
    "* **Unindexed:** You cannot access items by referring to an index.\n",
    "* **Heterogeneous:** A single set can hold items of different data types (e.g., integers, strings, floats, tuples). However, elements within a set must be **immutable** (like numbers, strings, or tuples). You cannot put mutable types (like lists or dictionaries) inside a set.\n",
    "\n",
    "## Why use Sets?\n",
    "\n",
    "Sets are ideal when:\n",
    "\n",
    "* You need to store a collection of unique items.\n",
    "* You want to perform quick membership testing (checking if an item exists in the collection).\n",
    "* You need to perform mathematical set operations (union, intersection, etc.).\n",
    "* You want to efficiently remove duplicate elements from a list or other collection.\n",
    "\n",
    "## Creating a Set\n",
    "\n",
    "Sets are created by placing all the items (elements) inside curly braces `{}`, separated by commas. However, if you want an empty set, you must use the `set()` constructor, as `{}` creates an empty dictionary.<br>\n",
    "\n"
   ]
  },
  {
   "cell_type": "code",
   "execution_count": 18,
   "metadata": {
    "id": "IyCACRaT9TG4"
   },
   "outputs": [
    {
     "name": "stdout",
     "output_type": "stream",
     "text": [
      "set()\n",
      "<class 'set'>\n",
      "{1, 2, 3, 4}\n",
      "{'apple', 'banana', 'cherry'}\n",
      "{1, (1, 2), 3.14, 'hello'}\n",
      "{1, 2, 3, 4, 5}\n"
     ]
    }
   ],
   "source": [
    "# An empty set\n",
    "my_empty_set = set()\n",
    "print(my_empty_set)  # Output: set()\n",
    "print(type(my_empty_set))  # Output: <class 'set'>\n",
    "\n",
    "# A set of integers (duplicates are automatically removed)\n",
    "numbers_set = {1, 2, 3, 2, 4, 1}\n",
    "print(numbers_set)  # Output: {1, 2, 3, 4} (order might vary)\n",
    "\n",
    "# A set of strings\n",
    "fruits_set = {\"apple\", \"banana\", \"cherry\"}\n",
    "print(fruits_set)  # Output: {'cherry', 'apple', 'banana'} (order might vary)\n",
    "\n",
    "# A mixed-type set (elements must be immutable)\n",
    "mixed_set = {1, \"hello\", 3.14, (1, 2)}  # Tuple is immutable, so it's allowed\n",
    "print(mixed_set)  # Output: {1, 3.14, (1, 2), 'hello'} (order might vary)\n",
    "\n",
    "# Creating a set from a list (useful for removing duplicates)\n",
    "my_list_with_duplicates = [1, 2, 2, 3, 4, 4, 5]\n",
    "unique_numbers = set(my_list_with_duplicates)\n",
    "print(unique_numbers)  # Output: {1, 2, 3, 4, 5}"
   ]
  },
  {
   "cell_type": "code",
   "execution_count": 19,
   "metadata": {
    "id": "kVN2MG0hvgqm"
   },
   "outputs": [
    {
     "name": "stdout",
     "output_type": "stream",
     "text": [
      "Study 1 genes: {'BRCA1', 'TP53', 'EGFR', 'MYC'}\n",
      "Study 2 genes: {'KRAS', 'TP53', 'EGFR', 'PIK3CA'}\n",
      "Common genes: {'TP53', 'EGFR'}\n",
      "All genes: {'TP53', 'BRCA1', 'PIK3CA', 'KRAS', 'EGFR', 'MYC'}\n",
      "Unique to study 1: {'BRCA1', 'MYC'}\n"
     ]
    }
   ],
   "source": [
    "# Basic set creation and operations\n",
    "genes_study1 = {\"BRCA1\", \"TP53\", \"EGFR\", \"MYC\"}\n",
    "genes_study2 = {\"TP53\", \"EGFR\", \"KRAS\", \"PIK3CA\"}\n",
    "\n",
    "print(f\"Study 1 genes: {genes_study1}\")\n",
    "print(f\"Study 2 genes: {genes_study2}\")\n",
    "\n",
    "# Set operations\n",
    "intersection = genes_study1 & genes_study2\n",
    "union = genes_study1 | genes_study2\n",
    "difference = genes_study1 - genes_study2\n",
    "\n",
    "print(f\"Common genes: {intersection}\")\n",
    "print(f\"All genes: {union}\")\n",
    "print(f\"Unique to study 1: {difference}\")"
   ]
  },
  {
   "cell_type": "markdown",
   "metadata": {
    "id": "A9l4g7RuvkhX"
   },
   "source": [
    "**3.2 Managing Unique Identifiers**\n",
    "\n",
    "**Example 1: Sample ID Management**"
   ]
  },
  {
   "cell_type": "code",
   "execution_count": 20,
   "metadata": {
    "id": "0iPlNhupvnMW"
   },
   "outputs": [
    {
     "name": "stdout",
     "output_type": "stream",
     "text": [
      "Total samples: 10\n",
      "Processed samples: 4\n",
      "Pending samples: 6\n",
      "Samples to process: {'P001_N', 'P002_N', 'P003_N', 'C004_H', 'P003_T', 'C003_H'}\n",
      "Duplicate samples detected: 0\n"
     ]
    }
   ],
   "source": [
    "# Manage unique sample identifiers\n",
    "def create_sample_database():\n",
    "    \"\"\"Create a sample database with unique identifiers\"\"\"\n",
    "    samples = {\n",
    "        \"patient_samples\": {\n",
    "            \"P001_T\",  # Patient 1, Tumor\n",
    "            \"P001_N\",  # Patient 1, Normal\n",
    "            \"P002_T\",\n",
    "            \"P002_N\",\n",
    "            \"P003_T\",\n",
    "            \"P003_N\",\n",
    "        },\n",
    "        \"control_samples\": {\n",
    "            \"C001_H\",  # Control 1, Healthy\n",
    "            \"C002_H\",\n",
    "            \"C003_H\",\n",
    "            \"C004_H\",\n",
    "        },\n",
    "        \"processed_samples\": {\"P001_T\", \"P002_T\", \"C001_H\", \"C002_H\"},\n",
    "    }\n",
    "    return samples\n",
    "\n",
    "\n",
    "# Analyze sample collections\n",
    "sample_db = create_sample_database()\n",
    "\n",
    "# Find samples that need processing\n",
    "all_samples = sample_db[\"patient_samples\"] | sample_db[\"control_samples\"]\n",
    "processed = sample_db[\"processed_samples\"]\n",
    "pending = all_samples - processed\n",
    "\n",
    "print(f\"Total samples: {len(all_samples)}\")\n",
    "print(f\"Processed samples: {len(processed)}\")\n",
    "print(f\"Pending samples: {len(pending)}\")\n",
    "print(f\"Samples to process: {pending}\")\n",
    "\n",
    "# Quality control - check for duplicates\n",
    "all_samples_list = list(sample_db[\"patient_samples\"]) + list(\n",
    "    sample_db[\"control_samples\"]\n",
    ")\n",
    "duplicates = len(all_samples_list) - len(set(all_samples_list))\n",
    "print(f\"Duplicate samples detected: {duplicates}\")"
   ]
  },
  {
   "cell_type": "markdown",
   "metadata": {
    "id": "zkb89BzivqJH"
   },
   "source": [
    "**Example 2: Gene Set Analysis**"
   ]
  },
  {
   "cell_type": "code",
   "execution_count": 21,
   "metadata": {
    "id": "4s-9oO1Dvq5H"
   },
   "outputs": [
    {
     "name": "stdout",
     "output_type": "stream",
     "text": [
      "DNA Repair vs Cell Cycle Pathways:\n",
      "Overlapping genes: {'TP53'}\n",
      "Unique to DNA repair: {'BRCA1', 'CHEK2', 'BRCA2', 'ATM', 'RAD51'}\n",
      "Unique to cell cycle: {'CDK4', 'E2F1', 'RB1', 'CDKN2A', 'CCND1'}\n",
      "Overlap percentage: 9.1%\n"
     ]
    }
   ],
   "source": [
    "# Pathway analysis using sets\n",
    "pathways = {\n",
    "    \"DNA_repair\": {\"BRCA1\", \"BRCA2\", \"TP53\", \"ATM\", \"CHEK2\", \"RAD51\"},\n",
    "    \"cell_cycle\": {\"TP53\", \"RB1\", \"CDK4\", \"CCND1\", \"CDKN2A\", \"E2F1\"},\n",
    "    \"apoptosis\": {\"TP53\", \"BAX\", \"BCL2\", \"CASP3\", \"CASP9\", \"APAF1\"},\n",
    "    \"oncogenes\": {\"MYC\", \"KRAS\", \"EGFR\", \"HER2\", \"PIK3CA\", \"AKT1\"},\n",
    "}\n",
    "\n",
    "\n",
    "# Find gene overlaps between pathways\n",
    "def analyze_pathway_overlap(pathway1, pathway2):\n",
    "    \"\"\"Analyze overlap between two pathways\"\"\"\n",
    "    genes1 = pathways[pathway1]\n",
    "    genes2 = pathways[pathway2]\n",
    "\n",
    "    overlap = genes1 & genes2\n",
    "    unique1 = genes1 - genes2\n",
    "    unique2 = genes2 - genes1\n",
    "\n",
    "    return {\n",
    "        \"overlap\": overlap,\n",
    "        \"unique_to_pathway1\": unique1,\n",
    "        \"unique_to_pathway2\": unique2,\n",
    "        \"overlap_percentage\": len(overlap) / len(genes1 | genes2) * 100,\n",
    "    }\n",
    "\n",
    "\n",
    "# Analyze overlaps\n",
    "result = analyze_pathway_overlap(\"DNA_repair\", \"cell_cycle\")\n",
    "print(\"DNA Repair vs Cell Cycle Pathways:\")\n",
    "print(f\"Overlapping genes: {result['overlap']}\")\n",
    "print(f\"Unique to DNA repair: {result['unique_to_pathway1']}\")\n",
    "print(f\"Unique to cell cycle: {result['unique_to_pathway2']}\")\n",
    "print(f\"Overlap percentage: {result['overlap_percentage']:.1f}%\")"
   ]
  },
  {
   "cell_type": "markdown",
   "metadata": {
    "id": "OA-SbIWbvunw"
   },
   "source": [
    "**3.3 Sample Collection Management**\n",
    "\n",
    "**Example 1: Clinical Sample Tracking**"
   ]
  },
  {
   "cell_type": "code",
   "execution_count": 22,
   "metadata": {
    "id": "Tz7VYIY3vwBP"
   },
   "outputs": [
    {
     "name": "stdout",
     "output_type": "stream",
     "text": [
      "Sample Analysis:\n",
      "Total unique samples: 12\n",
      "Shared between breast and lung cancer: {'BC003', 'BC002'}\n",
      "Exclusive to breast cancer: {'BC005', 'BC001', 'BC004'}\n"
     ]
    }
   ],
   "source": [
    "# Track samples across different studies\n",
    "class SampleTracker:\n",
    "    def __init__(self):\n",
    "        self.studies = {}\n",
    "\n",
    "    def add_study(self, study_name, samples):\n",
    "        \"\"\"Add a new study with its samples\"\"\"\n",
    "        self.studies[study_name] = set(samples)\n",
    "\n",
    "    def get_unique_samples(self):\n",
    "        \"\"\"Get all unique samples across studies\"\"\"\n",
    "        all_samples = set()\n",
    "        for samples in self.studies.values():\n",
    "            all_samples.update(samples)\n",
    "        return all_samples\n",
    "\n",
    "    def find_shared_samples(self, study1, study2):\n",
    "        \"\"\"Find samples shared between two studies\"\"\"\n",
    "        if study1 in self.studies and study2 in self.studies:\n",
    "            return self.studies[study1] & self.studies[study2]\n",
    "        return set()\n",
    "\n",
    "    def get_study_exclusive_samples(self, study_name):\n",
    "        \"\"\"Get samples exclusive to a specific study\"\"\"\n",
    "        if study_name not in self.studies:\n",
    "            return set()\n",
    "\n",
    "        other_samples = set()\n",
    "        for name, samples in self.studies.items():\n",
    "            if name != study_name:\n",
    "                other_samples.update(samples)\n",
    "\n",
    "        return self.studies[study_name] - other_samples\n",
    "\n",
    "\n",
    "# Example usage\n",
    "tracker = SampleTracker()\n",
    "\n",
    "# Add studies\n",
    "tracker.add_study(\"breast_cancer\", [\"BC001\", \"BC002\", \"BC003\", \"BC004\", \"BC005\"])\n",
    "tracker.add_study(\n",
    "    \"lung_cancer\", [\"LC001\", \"LC002\", \"LC003\", \"BC002\", \"BC003\"]\n",
    ")  # Some overlap\n",
    "tracker.add_study(\"healthy_controls\", [\"HC001\", \"HC002\", \"HC003\", \"HC004\"])\n",
    "\n",
    "# Analysis\n",
    "print(\"Sample Analysis:\")\n",
    "print(f\"Total unique samples: {len(tracker.get_unique_samples())}\")\n",
    "print(\n",
    "    f\"Shared between breast and lung cancer: {tracker.find_shared_samples('breast_cancer', 'lung_cancer')}\"\n",
    ")\n",
    "print(\n",
    "    f\"Exclusive to breast cancer: {tracker.get_study_exclusive_samples('breast_cancer')}\"\n",
    ")"
   ]
  },
  {
   "cell_type": "markdown",
   "metadata": {
    "id": "jEQ6ViA6v0y-"
   },
   "source": [
    "**Example 2: Contamination Detection**"
   ]
  },
  {
   "cell_type": "code",
   "execution_count": 23,
   "metadata": {
    "id": "tFYuAk8Ov3IH"
   },
   "outputs": [
    {
     "name": "stdout",
     "output_type": "stream",
     "text": [
      "Contamination Detection Report:\n",
      "  batch_A_vs_batch_C: {'A002'}\n",
      "  batch_B_vs_batch_D: {'B003'}\n"
     ]
    }
   ],
   "source": [
    "# Detect potential contamination in sample collections\n",
    "def detect_contamination(sample_batches):\n",
    "    \"\"\"Detect potential contamination by finding unexpected sample overlaps\"\"\"\n",
    "    contamination_report = {}\n",
    "\n",
    "    batch_names = list(sample_batches.keys())\n",
    "\n",
    "    for i, batch1 in enumerate(batch_names):\n",
    "        for batch2 in batch_names[i + 1 :]:\n",
    "            overlap = sample_batches[batch1] & sample_batches[batch2]\n",
    "            if overlap:\n",
    "                contamination_report[f\"{batch1}_vs_{batch2}\"] = overlap\n",
    "\n",
    "    return contamination_report\n",
    "\n",
    "\n",
    "# Example sample batches (should be independent)\n",
    "sample_batches = {\n",
    "    \"batch_A\": {\"A001\", \"A002\", \"A003\", \"A004\"},\n",
    "    \"batch_B\": {\"B001\", \"B002\", \"B003\", \"B004\"},\n",
    "    \"batch_C\": {\"C001\", \"C002\", \"A002\", \"C004\"},  # Contaminated with A002\n",
    "    \"batch_D\": {\"D001\", \"D002\", \"D003\", \"B003\"},  # Contaminated with B003\n",
    "}\n",
    "\n",
    "contamination = detect_contamination(sample_batches)\n",
    "print(\"Contamination Detection Report:\")\n",
    "if contamination:\n",
    "    for comparison, overlapping_samples in contamination.items():\n",
    "        print(f\"  {comparison}: {overlapping_samples}\")\n",
    "else:\n",
    "    print(\"  No contamination detected\")"
   ]
  },
  {
   "cell_type": "markdown",
   "metadata": {
    "id": "m1k41EPZv6z_"
   },
   "source": [
    "**3.4 Practice Exercise: Comprehensive Analysis**"
   ]
  },
  {
   "cell_type": "code",
   "execution_count": 24,
   "metadata": {
    "id": "McMtSYM3v8z4"
   },
   "outputs": [
    {
     "name": "stdout",
     "output_type": "stream",
     "text": [
      "Gene Expression Analysis:\n",
      "  MYC: 4.1 (significant)\n",
      "  TP53: 3.2 (significant)\n",
      "  KRAS: 2.9 (not significant)\n",
      "  BRCA1: 2.5 (significant)\n",
      "  EGFR: 1.8 (not significant)\n",
      "\n",
      "Pathway Enrichment Analysis:\n",
      "  cancer: {'BRCA1', 'TP53', 'MYC'} (75.0% enriched)\n",
      "  growth: {'MYC'} (33.3% enriched)\n",
      "\n",
      "Sample Validation:\n",
      "  Total samples: 5\n",
      "  Unique samples: 5\n",
      "  Duplicates detected: 0\n"
     ]
    }
   ],
   "source": [
    "# Exercise: Comprehensive biological data analysis using all data structures\n",
    "def comprehensive_analysis():\n",
    "    \"\"\"Comprehensive analysis combining lists, dictionaries, and sets\"\"\"\n",
    "\n",
    "    # Sample data\n",
    "    experimental_data = {\n",
    "        \"genes\": [\"BRCA1\", \"TP53\", \"EGFR\", \"MYC\", \"KRAS\"],\n",
    "        \"expression_levels\": [2.5, 3.2, 1.8, 4.1, 2.9],\n",
    "        \"sample_ids\": [\"S001\", \"S002\", \"S003\", \"S004\", \"S005\"],\n",
    "        \"significant_genes\": {\"BRCA1\", \"TP53\", \"MYC\"},\n",
    "        \"pathways\": {\n",
    "            \"cancer\": {\"BRCA1\", \"TP53\", \"EGFR\", \"MYC\"},\n",
    "            \"growth\": {\"EGFR\", \"MYC\", \"KRAS\"},\n",
    "        },\n",
    "    }\n",
    "\n",
    "    # Analysis 1: Gene expression summary (using lists and dictionaries)\n",
    "    gene_expression = dict(\n",
    "        zip(experimental_data[\"genes\"], experimental_data[\"expression_levels\"])\n",
    "    )\n",
    "    print(\"Gene Expression Analysis:\")\n",
    "    sorted_genes = sorted(gene_expression.items(), key=lambda x: x[1], reverse=True)\n",
    "    for gene, expression in sorted_genes:\n",
    "        status = (\n",
    "            \"significant\"\n",
    "            if gene in experimental_data[\"significant_genes\"]\n",
    "            else \"not significant\"\n",
    "        )\n",
    "        print(f\"  {gene}: {expression:.1f} ({status})\")\n",
    "\n",
    "    # Analysis 2: Pathway enrichment (using sets)\n",
    "    print(\"\\nPathway Enrichment Analysis:\")\n",
    "    significant_genes = experimental_data[\"significant_genes\"]\n",
    "    for pathway, pathway_genes in experimental_data[\"pathways\"].items():\n",
    "        enriched_genes = significant_genes & pathway_genes\n",
    "        enrichment_score = len(enriched_genes) / len(pathway_genes) * 100\n",
    "        print(f\"  {pathway}: {enriched_genes} ({enrichment_score:.1f}% enriched)\")\n",
    "\n",
    "    # Analysis 3: Sample validation (using sets)\n",
    "    print(\"\\nSample Validation:\")\n",
    "    unique_samples = set(experimental_data[\"sample_ids\"])\n",
    "    print(f\"  Total samples: {len(experimental_data['sample_ids'])}\")\n",
    "    print(f\"  Unique samples: {len(unique_samples)}\")\n",
    "    print(\n",
    "        f\"  Duplicates detected: {len(experimental_data['sample_ids']) - len(unique_samples)}\"\n",
    "    )\n",
    "\n",
    "    return {\n",
    "        \"gene_expression\": gene_expression,\n",
    "        \"significant_genes\": significant_genes,\n",
    "        \"pathways\": experimental_data[\"pathways\"],\n",
    "    }\n",
    "\n",
    "\n",
    "# Run comprehensive analysis\n",
    "results = comprehensive_analysis()"
   ]
  },
  {
   "cell_type": "markdown",
   "metadata": {
    "id": "9pmo61wawI2n"
   },
   "source": [
    "**Summary and Key Takeaways**<br>\n",
    "When to Use Each Data Structure:\n",
    "\n",
    "**Lists:**\n",
    "\n",
    "DNA/RNA sequences  \n",
    "Time-series experimental data<br>\n",
    "Ordered collections that may change\n",
    "\n",
    "**Tuples:**\n",
    "\n",
    "Genomic coordinates<br>\n",
    "Immutable biological properties<br>\n",
    "Fixed experimental conditions<br>\n",
    "\n",
    "**Dictionaries:**\n",
    "\n",
    "Gene annotations<br>\n",
    "Species information<br>\n",
    "Key-value mappings<br>\n",
    "\n",
    "**Sets:**\n",
    "\n",
    "Unique identifiers<br>\n",
    "Sample collections<br>\n",
    "Pathway analysis<br>\n",
    "Removing duplicates<br>"
   ]
  }
 ],
 "metadata": {
  "colab": {
   "authorship_tag": "ABX9TyMIjDdozEi/RypKdqINz+vZ",
   "include_colab_link": true,
   "provenance": []
  },
  "kernelspec": {
   "display_name": "python-for-lifescience (3.11.10)",
   "language": "python",
   "name": "python3"
  },
  "language_info": {
   "codemirror_mode": {
    "name": "ipython",
    "version": 3
   },
   "file_extension": ".py",
   "mimetype": "text/x-python",
   "name": "python",
   "nbconvert_exporter": "python",
   "pygments_lexer": "ipython3",
   "version": "3.11.10"
  }
 },
 "nbformat": 4,
 "nbformat_minor": 0
}
