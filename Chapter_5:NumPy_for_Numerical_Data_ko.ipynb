{
  "nbformat": 4,
  "nbformat_minor": 0,
  "metadata": {
    "colab": {
      "provenance": [],
      "authorship_tag": "ABX9TyMnizrnZibigQnvVNjrzpZA",
      "include_colab_link": true
    },
    "kernelspec": {
      "name": "python3",
      "display_name": "Python 3"
    },
    "language_info": {
      "name": "python"
    }
  },
  "cells": [
    {
      "cell_type": "markdown",
      "metadata": {
        "id": "view-in-github",
        "colab_type": "text"
      },
      "source": [
        "<a href=\"https://colab.research.google.com/github/Ash100/Python_for_Lifescience/blob/main/Chapter_5%3ANumPy_for_Numerical_Data.ipynb\" target=\"_parent\"><img src=\"https://colab.research.google.com/assets/colab-badge.svg\" alt=\"Colab에서 열기\"/></a>"
      ]
    },
    {
      "cell_type": "markdown",
      "source": [
        "#**생물학적 데이터 분석을 위한 파이썬 학습**\n",
        "## **5장:** 수치 데이터를 위한 NumPy\n",
        "\n",
        "이 강좌는 **Ashfaq Ahmad 박사님**께서 설계하고 강의하십니다. 강의 전반에 걸쳐 생명 과학 또는 생명 과학 분야의 예시들을 사용할 것입니다."
      ],
      "metadata": {
        "id": "3WymYt-7-3YH"
      }
    },
    {
      "cell_type": "markdown",
      "source": [
        "## 📅 강좌 개요\n",
        "\n",
        "---\n",
        "\n",
        "## 🏗️ 기초 (1-2주차)\n",
        "\n",
        "### 📘 1장: 파이썬과 Colab 시작하기 [강의 보기](https://youtu.be/BKe2CmiG_TU)\n",
        "- Google Colab 인터페이스 소개\n",
        "- 기본 파이썬 문법 및 데이터 타입\n",
        "- 변수, 문자열 및 기본 연산\n",
        "- 출력문과 주석\n",
        "\n",
        "### 📘 2장: 제어 구조 [강의 보기](https://youtu.be/uPHeqVb4Mo0)\n",
        "- 조건문 (`if`/`else`)\n",
        "- 반복문 (`for` 및 `while`)\n",
        "- 기본 함수 및 범위\n",
        "\n",
        "---\n",
        "\n",
        "## 🧬 데이터 처리 (3-4주차)\n",
        "\n",
        "### 📘 3장: 생물학을 위한 데이터 구조 [강의 보기](https://youtu.be/x1IJwSYhNZg)\n",
        "- 리스트와 튜플 (서열, 실험 데이터 저장)\n",
        "- 딕셔너리 (유전자 주석, 종 데이터)\n",
        "- 세트 (고유 식별자, 샘플 모음)\n",
        "\n",
        "### 📘 4장: 파일 작업 [강의 보기](https://youtu.be/D27MyLpSdks)\n",
        "- 텍스트 파일 읽고 쓰기\n",
        "- CSV 파일 처리 (실험 데이터)\n",
        "- 생물학 데이터셋을 위한 기본 파일 작업\n",
        "\n",
        "---\n",
        "\n",
        "## 📊 과학 컴퓨팅 (5-7주차)\n",
        "\n",
        "### 📘 5장: 수치 데이터를 위한 NumPy\n",
        "- 배열을 이용한 실험 측정값 저장\n",
        "- 데이터셋에 대한 수학적 연산\n",
        "- 통계 계산 (평균, 중앙값, 표준편차)\n",
        "\n",
        "### 📘 6장: 데이터 분석을 위한 Pandas\n",
        "- 구조화된 생물학 데이터를 위한 데이터프레임\n",
        "- 데이터 정제 및 조작\n",
        "- 실험 결과 필터링 및 그룹화\n",
        "- 결측 데이터 처리\n",
        "\n",
        "### 📘 7장: 데이터 시각화\n",
        "- 과학적 플롯을 위한 Matplotlib 기초\n",
        "- 출판 품질의 그림 생성\n",
        "- 생물학 데이터를 위한 특수 플롯 (히스토그램, 산점도, 박스 플롯)\n",
        "\n",
        "---\n",
        "\n",
        "## 🔬 생물학적 응용 (8-10주차)\n",
        "\n",
        "### 📘 8장: 서열 분석\n",
        "- DNA/RNA 서열을 위한 문자열 조작\n",
        "- 기본 서열 연산 (역상보, 전사)\n",
        "- FASTA 파일 읽기\n",
        "- 간단한 서열 통계\n",
        "\n",
        "### 📘 9장: 생물학을 위한 통계 분석\n",
        "- 가설 검정 기초\n",
        "- t-검정 및 카이제곱 검정\n",
        "- 상관 관계 분석\n",
        "- `scipy.stats` 소개\n",
        "\n",
        "### 📘 10장: 실용적인 프로젝트\n",
        "- 유전자 발현 데이터 분석\n",
        "- 집단 유전학 계산\n",
        "- 생태 데이터 분석\n",
        "- 재현 가능한 연구 워크플로우 생성\n",
        "\n",
        "---\n",
        "\n",
        "## 🚀 고급 주제 *(선택 – 11-12주차)*\n",
        "\n",
        "### 📘 11장: 생물정보학 라이브러리\n",
        "- Biopython 소개\n",
        "- 생물학 데이터베이스 작업\n",
        "- 계통 발생 분석 기초\n",
        "\n",
        "### 📘 12장: 모범 사례\n",
        "- 코드 구성 및 문서화\n",
        "- 오류 처리\n",
        "- 재현 가능한 연구 관행\n",
        "- 코드 및 결과 공유\n",
        "\n",
        "---\n",
        "\n",
        "✅ 우리는 기본적인 프로그래밍 개념에서 실용적인 생물학적 응용으로 이동하여 학생들이 배운 것을 연구 및 과정에 즉시 적용할 수 있도록 할 것입니다.\n"
      ],
      "metadata": {
        "id": "TVBfuHxB_Bpy"
      }
    },
    {
      "cell_type": "markdown",
      "source": [
        "## 소개\n",
        "NumPy는 파이썬에서 수치 컴퓨팅을 위한 기본 라이브러리입니다. 생물학에서는 유전자 발현 수준에서 단백질 농도에 이르기까지 방대한 데이터셋을 다루는 경우가 많습니다. NumPy는 이러한 수치 데이터를 처리하는 강력하고 효율적인 방법을 제공합니다."
      ],
      "metadata": {
        "id": "Eu8_pKtE_MUb"
      }
    },
    {
      "cell_type": "markdown",
      "source": [
        "## NumPy 배열이란 무엇입니까?\n",
        "NumPy 배열은 모두 동일한 유형의 값으로 구성된 그리드이며 음수가 아닌 정수의 튜플로 인덱싱됩니다. 수치 연산을 위해 설계된 초강력 리스트라고 생각하면 됩니다. 표준 파이썬 리스트는 다른 데이터 유형을 담을 수 있고 범용으로 사용하기에 좋지만, NumPy 배열은 전체 데이터셋에 대해 한 번에 수학적 연산을 수행하는 데 최적화되어 있습니다.\n",
        "\n",
        "### 배열 만들기\n",
        "표준적인 방법인 NumPy 라이브러리를 가져오는 것으로 시작하겠습니다. 코드를 더 깔끔하게 만들기 위해 `np`라는 별칭을 사용합니다."
      ],
      "metadata": {
        "id": "HT8otdy8_bfU"
      }
    },
    {
      "cell_type": "code",
      "execution_count": null,
      "metadata": {
        "id": "H2vN73C--pb-"
      },
      "outputs": [],
      "source": [
        "import numpy as np\n",
        "\n",
        "# Creating an array from a list\n",
        "measurements = np.array([2.5, 3.1, 2.8, 3.5, 2.9])\n",
        "print(measurements)"
      ]
    },
    {
      "cell_type": "markdown",
      "source": [
        "생물학의 맥락에서 이 배열은 마이크로미터 단위의 박테리아 세포 길이나 시간 경과에 따른 배양물의 광학 밀도 판독값을 나타낼 수 있습니다."
      ],
      "metadata": {
        "id": "LygxgVQYAa1i"
      }
    },
    {
      "cell_type": "markdown",
      "source": [
        "### 데이터셋에 대한 수학적 연산\n",
        "NumPy의 주요 강점 중 하나는 요소별 연산을 수행하는 능력입니다. 즉, 한 줄의 코드로 배열의 모든 단일 요소에 수학적 연산을 적용할 수 있습니다. 이는 for 루프를 사용하는 것보다 훨씬 빠르고 간결합니다.\n",
        "\n",
        "### 스칼라 연산\n",
        "배열을 단일 숫자(스칼라)로 더하거나, 빼거나, 곱하거나, 나눌 수 있습니다. 예를 들어, 박테리아 세포 길이를 **마이크로미터**에서 **나노미터**로 변환해야 하는 경우 전체 배열에 1000을 곱하기만 하면 됩니다."
      ],
      "metadata": {
        "id": "iYauTwUoAnla"
      }
    },
    {
      "cell_type": "code",
      "source": [
        "# Our measurements in micrometers\n",
        "micrometers = np.array([2.5, 3.1, 2.8, 3.5, 2.9])\n",
        "\n",
        "# Convert to nanometers\n",
        "nanometers = micrometers * 1000\n",
        "print(f\"Measurements in nanometers: {nanometers}\")"
      ],
      "metadata": {
        "id": "lu975sohA1UL"
      },
      "execution_count": null,
      "outputs": []
    },
    {
      "cell_type": "markdown",
      "source": [
        "### 배열 대 배열 연산\n",
        "두 배열 간의 연산을 수행할 수도 있습니다. 이는 다른 데이터셋을 비교하거나 결합하는 데 유용합니다. 예를 들어, 두 번째 측정값 세트가 있고 두 세트 간의 차이를 찾고 싶다면 직접 이 작업을 수행할 수 있습니다."
      ],
      "metadata": {
        "id": "Yh8Qv_crBJqM"
      }
    },
    {
      "cell_type": "code",
      "source": [
        "# First set of cell lengths (micrometers)\n",
        "set1 = np.array([2.5, 3.1, 2.8, 3.5, 2.9])\n",
        "\n",
        "# Second set of cell lengths\n",
        "set2 = np.array([2.6, 3.0, 2.9, 3.4, 3.0])\n",
        "\n",
        "# Find the difference between the two sets\n",
        "difference = set1 - set2\n",
        "print(f\"Difference between sets: {difference}\")"
      ],
      "metadata": {
        "id": "qn7f3sh-BOBC"
      },
      "execution_count": null,
      "outputs": []
    },
    {
      "cell_type": "markdown",
      "source": [
        "### 통계 계산\n",
        "NumPy를 사용하면 생물학적 데이터에 대한 일반적인 통계 측정을 매우 쉽게 계산할 수 있습니다. 이러한 함수는 NumPy 라이브러리에 직접 내장되어 있으며 전체 배열에 대해 작동합니다.\n",
        "\n",
        "### 평균\n",
        "평균(average)은 데이터셋의 중심 측정값입니다. 생물학에서는 종종 처리의 평균 효과를 결정하기 위해 반복 실험의 평균을 계산합니다."
      ],
      "metadata": {
        "id": "Dw4DrTAoBT1O"
      }
    },
    {
      "cell_type": "code",
      "source": [
        "Ash = np.array([120, 125, 118, 130, 122])  # Heart rate measurements\n",
        "\n",
        "# Calculate the mean\n",
        "average_heart_rate = np.mean(Ash)\n",
        "print(f\"Average heart rate: {average_heart_rate}\")"
      ],
      "metadata": {
        "id": "-4z6wUNuBYxr"
      },
      "execution_count": null,
      "outputs": []
    },
    {
      "cell_type": "markdown",
      "source": [
        "### 중앙값\n",
        "중앙값은 데이터셋의 중간 값입니다. 중앙값은 평균보다 극단적인 값의 영향을 덜 받기 때문에 데이터에 이상치가 있을 때 특히 유용합니다."
      ],
      "metadata": {
        "id": "qaFTpNrWBfVz"
      }
    },
    {
      "cell_type": "code",
      "source": [
        "# A dataset with an outlier\n",
        "gene_expression = np.array([10, 12, 11, 13, 200])\n",
        "\n",
        "# Calculate the median\n",
        "median_expression = np.median(gene_expression)\n",
        "print(f\"Median gene expression: {median_expression}\")"
      ],
      "metadata": {
        "id": "HrVivOtFBixU"
      },
      "execution_count": null,
      "outputs": []
    },
    {
      "cell_type": "markdown",
      "source": [
        "### 표준 편차\n",
        "표준 편차는 값 집합의 변동 또는 분산 정도를 측정합니다. 표준 편차가 낮으면 값이 평균에 가까운 경향이 있고, 표준 편차가 높으면 값이 더 넓은 범위에 퍼져 있음을 나타냅니다. 이는 생물학적 실험의 변동성을 이해하는 데 중요합니다."
      ],
      "metadata": {
        "id": "VMA7uYogBoYq"
      }
    },
    {
      "cell_type": "code",
      "source": [
        "# Let's use our heart rate data again\n",
        "data = np.array([120, 125, 118, 130, 122])\n",
        "\n",
        "# Calculate the standard deviation\n",
        "std_dev = np.std(data)\n",
        "print(f\"Standard deviation of heart rates: {std_dev}\")"
      ],
      "metadata": {
        "id": "8wBc_B4LBsXh"
      },
      "execution_count": null,
      "outputs": []
    },
    {
      "cell_type": "markdown",
      "source": [
        "### 예제 1. <br>실험 측정값 저장을 위한 배열\n",
        "5개 샘플에 걸쳐 효소 활성(μmol/min)을 측정했다고 가정합니다:"
      ],
      "metadata": {
        "id": "jAvStZd2B5t7"
      }
    },
    {
      "cell_type": "code",
      "source": [
        "enzyme_activity = np.array([12.5, 15.3, 14.8, 13.1, 16.0])\n",
        "print(\"Enzyme activity:\", enzyme_activity)"
      ],
      "metadata": {
        "id": "-_UcZyWcCIIN"
      },
      "execution_count": null,
      "outputs": []
    },
    {
      "cell_type": "markdown",
      "source": [
        "### 효소 활성 정규화\n",
        "실험 간 비교를 위해 데이터를 정규화하는 경우가 많습니다:"
      ],
      "metadata": {
        "id": "bEmPK1b4CS0b"
      }
    },
    {
      "cell_type": "code",
      "source": [
        "mean_activity = np.mean(enzyme_activity)\n",
        "normalized_activity = enzyme_activity / mean_activity\n",
        "print(\"Normalized activity:\", normalized_activity)"
      ],
      "metadata": {
        "id": "NPoEqNCSCW6B"
      },
      "execution_count": null,
      "outputs": []
    },
    {
      "cell_type": "markdown",
      "source": [
        "### 유전자 발현 데이터의 배수 변화"
      ],
      "metadata": {
        "id": "IyJ1oAsrCdRz"
      }
    },
    {
      "cell_type": "code",
      "source": [
        "control_expr = np.array([100, 200, 150])\n",
        "treated_expr = np.array([300, 400, 225])\n",
        "\n",
        "fold_change = treated_expr / control_expr\n",
        "print(\"Fold change:\", fold_change)\n"
      ],
      "metadata": {
        "id": "C3KrCSTIChcy"
      },
      "execution_count": null,
      "outputs": []
    },
    {
      "cell_type": "markdown",
      "source": [
        "### 평균, 중앙값, 표준 편차"
      ],
      "metadata": {
        "id": "OnRBi5xWZ_xl"
      }
    },
    {
      "cell_type": "code",
      "source": [
        "print(\"Mean:\", np.mean(enzyme_activity))\n",
        "print(\"Median:\", np.median(enzyme_activity))\n",
        "print(\"Standard Deviation:\", np.std(enzyme_activity))"
      ],
      "metadata": {
        "id": "Nitavg05aE28"
      },
      "execution_count": null,
      "outputs": []
    },
    {
      "cell_type": "markdown",
      "source": [
        "### 당신을 위한 연습 문제"
      ],
      "metadata": {
        "id": "mogRA6WBaMyl"
      }
    },
    {
      "cell_type": "code",
      "source": [
        "protein_conc = np.array([2.5, 3.0, 2.8, 3.2, 2.9, 3.1])"
      ],
      "metadata": {
        "id": "AGod4KJCaRE0"
      },
      "execution_count": 13,
      "outputs": []
    },
    {
      "cell_type": "markdown",
      "source": [
        "위 배열에 대해 평균, 중앙값, 표준 편차를 계산하고 데이터셋을 정규화하십시오. 아래의 빈 셀을 사용할 수 있습니다."
      ],
      "metadata": {
        "id": "CZ-GFA4caVA0"
      }
    },
    {
      "cell_type": "code",
      "source": [],
      "metadata": {
        "id": "bsVBEdPCanOt"
      },
      "execution_count": null,
      "outputs": []
    },
    {
      "cell_type": "code",
      "source": [],
      "metadata": {
        "id": "soPLytkuaoAu"
      },
      "execution_count": null,
      "outputs": []
    },
    {
      "cell_type": "code",
      "source": [],
      "metadata": {
        "id": "7KoVCouDan8M"
      },
      "execution_count": null,
      "outputs": []
    },
    {
      "cell_type": "code",
      "source": [],
      "metadata": {
        "id": "HKsUrtb7anlc"
      },
      "execution_count": null,
      "outputs": []
    },
    {
      "cell_type": "code",
      "source": [],
      "metadata": {
        "id": "URweKd20kFwG"
      },
      "execution_count": null,
      "outputs": []
    },
    {
      "cell_type": "code",
      "source": [],
      "metadata": {
        "id": "S1H7vrmhkGFc"
      },
      "execution_count": null,
      "outputs": []
    },
    {
      "cell_type": "markdown",
      "source": [
        "### 이 수업에 관심을 가져주셔서 감사합니다."
      ],
      "metadata": {
        "id": "jx6zGQ3lapXd"
      }
    }
  ]
}
