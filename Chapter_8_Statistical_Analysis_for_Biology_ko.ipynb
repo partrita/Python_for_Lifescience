{
 "cells": [
  {
   "cell_type": "markdown",
   "metadata": {
    "colab_type": "text",
    "id": "view-in-github"
   },
   "source": [
    "<a href=\"https://colab.research.google.com/github/Ash100/Python_for_Lifescience/blob/main/Chapter_8_Statistical_Analysis_for_Biology.ipynb\" target=\"_parent\"><img src=\"https://colab.research.google.com/assets/colab-badge.svg\" alt=\"Colab에서 열기\"/></a>"
   ]
  },
  {
   "cell_type": "markdown",
   "metadata": {
    "id": "r0jN4KmjCmvZ"
   },
   "source": [
    "# 생명 과학을 위한 파이썬 배우기\n",
    "\n",
    "이 과정은 **Ashfaq Ahmad 박사**가 설계하고 가르칩니다. 강의 중에 저는 생명 과학 또는 생명 과학의 모든 예제를 사용할 것입니다."
   ]
  },
  {
   "cell_type": "markdown",
   "metadata": {
    "id": "8y9kSSkWCoW-"
   },
   "source": [
    "## 📅 강좌 개요\n",
    "\n",
    "---\n",
    "\n",
    "## 🏗️ 기초 (1-2주차)\n",
    "\n",
    "### 📘 1장: 파이썬과 Colab 시작하기 [강의 보기](https://youtu.be/BKe2CmiG_TU)\n",
    "- Google Colab 인터페이스 소개\n",
    "- 기본 파이썬 문법 및 데이터 타입\n",
    "- 변수, 문자열 및 기본 연산\n",
    "- 출력문과 주석\n",
    "\n",
    "### 📘 2장: 제어 구조 [강의 보기](https://youtu.be/uPHeqVb4Mo0)\n",
    "- 조건문 (`if`/`else`)\n",
    "- 반복문 (`for` 및 `while`)\n",
    "- 기본 함수 및 범위\n",
    "\n",
    "---\n",
    "\n",
    "## 🧬 데이터 처리 (3-4주차)\n",
    "\n",
    "### 📘 3장: 생물학을 위한 데이터 구조 [강의 보기](https://youtu.be/x1IJwSYhNZg)\n",
    "- 리스트와 튜플 (서열, 실험 데이터 저장)\n",
    "- 딕셔너리 (유전자 주석, 종 데이터)\n",
    "- 세트 (고유 식별자, 샘플 모음)\n",
    "\n",
    "### 📘 4장: 파일 작업 [강의 보기](https://youtu.be/D27MyLpSdks)\n",
    "- 텍스트 파일 읽고 쓰기\n",
    "- CSV 파일 처리 (실험 데이터)\n",
    "- 생물학 데이터셋을 위한 기본 파일 작업\n",
    "\n",
    "---\n",
    "\n",
    "## 📊 과학 컴퓨팅 (5-7주차)\n",
    "\n",
    "### 📘 5장: 수치 데이터를 위한 NumPy [강의 보기](https://youtu.be/DPaZN3NQtWw)\n",
    "- 배열을 이용한 실험 측정값 저장\n",
    "- 데이터셋에 대한 수학적 연산\n",
    "- 통계 계산 (평균, 중앙값, 표준편차)\n",
    "\n",
    "### 📘 6장: 데이터 분석을 위한 Pandas [강의 보기](https://youtu.be/MPE6qibUyTE)\n",
    "- 구조화된 생물학 데이터를 위한 데이터프레임\n",
    "- 데이터 정제 및 조작\n",
    "- 실험 결과 필터링 및 그룹화\n",
    "- 결측 데이터 처리\n",
    "\n",
    "### 📘 7장: 데이터 시각화 [강의 보기](https://youtu.be/gWhXywbMyfM)\n",
    "- 과학적 플롯을 위한 Matplotlib 기초\n",
    "- 출판 품질의 그림 생성\n",
    "- 생물학 데이터를 위한 특수 플롯 (히스토그램, 산점도, 박스 플롯)\n",
    "\n",
    "---\n",
    "\n",
    "## 🔬 생물학적 응용 (8-10주차)\n",
    "\n",
    "### 📘 8장: 생물학을 위한 통계 분석\n",
    "- 가설 검정 기초\n",
    "- t-검정 및 카이제곱 검정\n",
    "- 상관 관계 분석\n",
    "- `scipy.stats` 소개\n",
    "\n",
    "### 📘 9장: 실용적인 프로젝트\n",
    "- 유전자 발현 데이터 분석\n",
    "- 집단 유전학 계산\n",
    "- 생태 데이터 분석\n",
    "- 재현 가능한 연구 워크플로우 생성\n",
    "\n",
    "---\n",
    "\n",
    "## 🚀 고급 주제 *(선택 – 11-12주차)*\n",
    "\n",
    "### 📘 10장: 생물정보학 라이브러리\n",
    "- Biopython 소개\n",
    "- 생물학 데이터베이스 작업\n",
    "- 계통 발생 분석 기초\n",
    "\n",
    "### 📘 11장: 모범 사례\n",
    "- 코드 구성 및 문서화\n",
    "- 오류 처리\n",
    "- 재현 가능한 연구 관행\n",
    "- 코드 및 결과 공유\n",
    "\n",
    "---\n",
    "\n",
    "✅ 우리는 기본적인 프로그래밍 개념에서 실용적인 생물학적 응용으로 이동하여 학생들이 배운 것을 연구 및 과정에 즉시 적용할 수 있도록 할 것입니다.\n"
   ]
  },
  {
   "cell_type": "markdown",
   "metadata": {
    "id": "swdcsJ8PC6y2"
   },
   "source": [
    "### 다루는 주제 \n",
    "\n",
    "가설 검정 기초<br>\n",
    "t-검정 및 카이제곱 검정<br>\n",
    "상관 분석<br>\n",
    "scipy.stats 소개"
   ]
  },
  {
   "cell_type": "markdown",
   "metadata": {
    "id": "izZeK0XqDOZT"
   },
   "source": [
    "# 🧪 생물학 연구에서의 가설 검정\n",
    "\n",
    "# 가설 검정\n",
    "\n",
    "가설 검정은 데이터 샘플을 기반으로 모집단에 대한 결정을 내리는 데 사용되는 **통계적 방법**입니다.  \n",
    "이 과정은 항상 두 가지 경쟁 가설, 즉 **귀무 가설**과 **대립 가설**로 시작합니다.\n",
    "\n",
    "---\n",
    "\n",
    "## 귀무 가설 (H₀)\n",
    "\n",
    "- 귀무 가설(H₀)은 **현상 유지** 또는 **효과 없음, 차이 없음 또는 관계 없음**의 진술을 나타냅니다.  \n",
    "- 연구자가 반증하려는 가설입니다.  \n",
    "- 통계적 재판에서 **\"유죄가 입증될 때까지 무죄\"** 진술로 생각하십시오.\n",
    "\n",
    "**예:**\n",
    "\n",
    "> H₀: 비료는 식물 높이에 **영향이 없습니다**.\n",
    "\n",
    "- 이것은 실험이 도전하도록 설계된 시작 가정입니다.\n",
    "\n",
    "---\n",
    "\n",
    "## 대립 가설 (H₁ 또는 Hₐ)\n",
    "\n",
    "- **대립 가설(H₁ 또는 Hₐ)**은 연구자가 **증명하고자 하는** 진술입니다.  \n",
    "- H₀와 **모순**되며 **효과, 차이 또는 관계가 있음**을 시사합니다.\n",
    "\n",
    "**예:**\n",
    "\n",
    "> H₁: 비료는 식물 높이에 **영향을 미칩니다**.\n",
    "\n",
    "- 이것은 증명하고자 하는 \"유죄 판결\"입니다.\n",
    "\n",
    "---\n",
    "\n",
    "## 증거와 의사 결정의 역할 ⚖️\n",
    "\n",
    "1. **H₀** 및 **H₁**을 공식화합니다.  \n",
    "2. 데이터를 수집하고 **검정 통계량**을 계산합니다.  \n",
    "3. 이 통계량을 사용하여 **p-값**을 결정합니다.  \n",
    "4. p-값을 **유의 수준(α)**과 비교하여 결정을 내립니다.\n",
    "\n",
    "---\n",
    "\n",
    "## p-값\n",
    "\n",
    "- **p-값**은 **H₀가 참이라고 가정할 때** 실제로 얻은 결과만큼 극단적이거나 그보다 더 극단적인 결과를 관찰할 확률입니다.  \n",
    "\n",
    "**해석:**\n",
    "- **작은 p-값(≤ α):** H₀에 대한 강력한 증거 → H₀ 기각.  \n",
    "- **큰 p-값(> α):** H₀ 하에서 결과가 놀랍지 않음 → H₀ 기각 실패.  \n",
    "\n",
    "---\n",
    "\n",
    "## 유의 수준 (α)\n",
    "\n",
    "- 유의 수준(α)은 결정을 내리기 위한 **미리 정해진 임계값**입니다.  \n",
    "- 결과를 **통계적으로 유의미**하다고 부르기 위해 기꺼이 받아들일 **최대 p-값**을 나타냅니다.  \n",
    "\n",
    "- 일반적인 선택: **α = 0.05**  \n",
    "  - 이는 **제1종 오류(참인 H₀를 기각)를 범할 확률 5%**를 수용함을 의미합니다.\n",
    "\n",
    "---\n",
    "\n",
    "## 결정 규칙 ✅❌\n",
    "\n",
    "- **p-값 ≤ α인 경우:** H₀ 기각 → 결과는 **통계적으로 유의미함**.  \n",
    "- **p-값 > α인 경우:** H₀ 기각 실패 → H₁을 지지할 증거가 충분하지 않음.  \n",
    "\n",
    "---\n",
    "\n",
    "### 이것이 중요한 이유\n",
    "\n",
    "이 구조화된 프로세스는 데이터에서 도출된 결론이 다음과 같도록 보장합니다:\n",
    "- **객관적**\n",
    "- **증거 기반**\n",
    "- **단순한 추측**에 의해 주도되지 않음\n",
    "\n",
    "\n"
   ]
  },
  {
   "cell_type": "code",
   "execution_count": 2,
   "metadata": {
    "id": "xQCH3ASHHWvF"
   },
   "outputs": [],
   "source": [
    "import numpy as np\n",
    "import matplotlib.pyplot as plt\n",
    "import seaborn as sns\n",
    "from scipy import stats"
   ]
  },
  {
   "cell_type": "code",
   "execution_count": 3,
   "metadata": {
    "id": "Jljr8v4GClLu"
   },
   "outputs": [],
   "source": [
    "np.random.seed(42)  # for reproducibility\n",
    "\n",
    "# Simulate untreated sample: 30 measurements from a normal distribution\n",
    "untreated = np.random.normal(loc=10, scale=2, size=30)\n",
    "\n",
    "# Simulate treated sample: same size, but shifted mean to reflect treatment effect\n",
    "treated = np.random.normal(loc=13, scale=2, size=30)"
   ]
  },
  {
   "cell_type": "markdown",
   "metadata": {
    "id": "GaMezyWPHqXV"
   },
   "source": [
    "**loc=10**은 처리되지 않은 그룹의 평균이 10임을 의미합니다(예: 기준선 유전자 발현).<br>\n",
    "**loc=13**은 처리된 그룹의 평균이 더 높음을 의미하며, 효과를 시뮬레이션합니다(예: 상향 조절).<br>\n",
    "**scale=2**는 생물학적 변동성을 추가합니다.<br>\n",
    "**size=30**은 그룹당 30개의 복제본을 시뮬레이션합니다."
   ]
  },
  {
   "cell_type": "markdown",
   "metadata": {
    "id": "nmZXoaLIH9OU"
   },
   "source": [
    "**이제 데이터를 시각화할 것입니다.**"
   ]
  },
  {
   "cell_type": "code",
   "execution_count": 4,
   "metadata": {
    "id": "p5U1a68gH7Xz"
   },
   "outputs": [
    {
     "data": {
      "image/png": "[encoded data removed]",
      "text/plain": [
       "<Figure size 800x500 with 1 Axes>"
      ]
     },
     "metadata": {},
     "output_type": "display_data"
    }
   ],
   "source": [
    "sns.set(style=\"whitegrid\")\n",
    "\n",
    "plt.figure(figsize=(8, 5))\n",
    "sns.histplot(untreated, color=\"skyblue\", label=\"Untreated\", kde=True)\n",
    "sns.histplot(treated, color=\"salmon\", label=\"Treated\", kde=True)\n",
    "plt.title(\"Simulated Biological Measurements\")\n",
    "plt.xlabel(\"Measurement Value\")\n",
    "plt.ylabel(\"Frequency\")\n",
    "plt.legend()\n",
    "plt.show()"
   ]
  },
  {
   "cell_type": "markdown",
   "metadata": {
    "id": "D0axB6EwIUQu"
   },
   "source": [
    "**kde=True**는 밀도를 보여주는 부드러운 곡선을 추가합니다."
   ]
  },
  {
   "cell_type": "markdown",
   "metadata": {
    "id": "5mj4sEzaI0PV"
   },
   "source": [
    "### 데이터의 통계적 요약"
   ]
  },
  {
   "cell_type": "code",
   "execution_count": 5,
   "metadata": {
    "id": "uWJPFAiiIxBk"
   },
   "outputs": [
    {
     "name": "stdout",
     "output_type": "stream",
     "text": [
      "Untreated Mean: 9.623706208297927\n",
      "Untreated Std Dev: 1.76975838319261\n",
      "Treated Mean: 12.757675059420116\n",
      "Treated Std Dev: 1.8309046136156382\n"
     ]
    }
   ],
   "source": [
    "print(\"Untreated Mean:\", np.mean(untreated))\n",
    "print(\"Untreated Std Dev:\", np.std(untreated))\n",
    "print(\"Treated Mean:\", np.mean(treated))\n",
    "print(\"Treated Std Dev:\", np.std(treated))"
   ]
  },
  {
   "cell_type": "markdown",
   "metadata": {
    "id": "4ap_oifjI__8"
   },
   "source": [
    "### 가설 검정 (t-검정)"
   ]
  },
  {
   "cell_type": "code",
   "execution_count": 6,
   "metadata": {
    "id": "-QvefpjcJE2s"
   },
   "outputs": [
    {
     "name": "stdout",
     "output_type": "stream",
     "text": [
      "T-statistic: 6.6277113170848665\n",
      "P-value: 1.2334344550008946e-08\n"
     ]
    }
   ],
   "source": [
    "t_stat, p_value = stats.ttest_ind(treated, untreated)\n",
    "\n",
    "print(\"T-statistic:\", t_stat)\n",
    "print(\"P-value:\", p_value)"
   ]
  },
  {
   "cell_type": "markdown",
   "metadata": {
    "id": "xXFhX8CcJQuU"
   },
   "source": [
    "**설명:**<br>p-값이 낮으면(< 0.05) 통계적으로 유의미한 차이가 있음을 시사합니다."
   ]
  },
  {
   "cell_type": "markdown",
   "metadata": {
    "id": "XFT4kD42KOq1"
   },
   "source": [
    "### 참고 자료 \n",
    "#### p-값 해석\n",
    "\n",
    "가설 검정에서는 **p-값**을 미리 정의된 **유의 수준(α)**(일반적으로 **0.05**로 설정)과 비교합니다.  \n",
    "\n",
    "| **p-값** | **해석** |\n",
    "|------------------|---------------------------------|\n",
    "| > 0.05 | 통계적으로 유의미하지 않음 |\n",
    "| ≤ 0.05 | 통계적으로 유의미함 |\n",
    "| ≤ 0.01 | 매우 유의미함 |\n",
    "| ≤ 0.001 | 매우 강력하게 유의미함 |\n",
    "| ≤ 0.000001 | 극도로 유의미함 |\n",
    "\n",
    "---\n",
    "\n",
    "✅ 가설 검정 결과를 해석할 때 이 표를 빠른 참조로 사용하십시오."
   ]
  },
  {
   "cell_type": "markdown",
   "metadata": {
    "id": "Mz_ugePnKiWU"
   },
   "source": [
    "**1.23 × 10⁻⁸ = 0.0000000123**"
   ]
  },
  {
   "cell_type": "markdown",
   "metadata": {
    "id": "rssl-wTFMczP"
   },
   "source": [
    "## **카이제곱 검정? (χ²)**\n",
    "\n",
    "**카이제곱(χ²) 검정**은 두 **범주형 변수** 간의 관계를 조사하는 데 사용되는 **통계적 가설 검정**입니다.  \n",
    "\n",
    "- 다음을 비교하여 작동합니다:  \n",
    "  - **관찰 빈도** → 실제로 수집하는 데이터  \n",
    "  - **기대 빈도** → 변수 간에 *관계가 없는* 경우 예상되는 결과  \n",
    "\n",
    "👉 목표는 관찰된 결과와 기대된 결과 간의 차이가 **실제 관계** 때문인지 아니면 단순히 **우연** 때문인지 확인하는 것입니다.  \n",
    "\n",
    "---\n",
    "\n",
    "## 카이제곱 검정의 종류\n",
    "\n",
    "1. **독립성 검정**  \n",
    "   - 두 범주형 변수가 유의하게 연관되어 있는지 확인합니다.  \n",
    "   - **예:** 사람의 **머리 색깔**과 **눈 색깔** 사이에 연관성이 있습니까?\n",
    "\n",
    "2. **적합도 검정**  \n",
    "   - 단일 범주형 변수에 대한 관찰된 빈도 분포가 이론적 또는 기대 분포와 다른지 확인합니다.  \n",
    "   - **예:** 동전 던지기에서 **앞면 대 뒷면**의 비율이 예상 **50/50 분포**와 일치합니까?\n",
    "\n",
    "---\n",
    "\n",
    "## t-검정과의 차이점은 무엇입니까? 🧐\n",
    "\n",
    "| **특징** | **카이제곱 검정** | **t-검정** |\n",
    "|----------------------|----------------------------------------------------|--------------------------------------------------|\n",
    "| **변수 유형** | 범주형 (예: 성별, 종, 유무) | 연속형/정량적 (예: 키, 몸무게) |\n",
    "| **주요 용도** | 관계를 평가하거나 관찰된 빈도와 기대 빈도를 비교 | 두 그룹의 평균 비교 |\n",
    "| **기본 데이터** | 범주의 빈도 수 | 정의된 척도가 있는 수치 값 |\n",
    "\n",
    "🔑 **경험 법칙:**  \n",
    "- **t-검정** → *“얼마나”*에 대한 질문 (예: \"A 그룹의 평균 키는 B 그룹과 다릅니까?\").  \n",
    "- **카이제곱 검정** → *“얼마나 많이/자주”*에 대한 질문 (예: \"A 옵션을 선택하는 사람의 수가 B 옵션을 선택하는 사람의 수와 다릅니까?\").  \n",
    "\n",
    "---\n",
    "\n",
    "## 생물학적 데이터에서 카이제곱 검정의 응용 🧬🌱🩺\n",
    "\n",
    "1. **유전학**  \n",
    "   - 관찰된 **표현형 비율**이 예상되는 멘델 비율과 일치하는지 검정합니다.  \n",
    "   - 예: 이형 접합 교배가 예상되는 **3:1 우성:열성** 비율을 산출합니까?\n",
    "\n",
    "2. **생태학**  \n",
    "   - 서식지의 종 간 연관성을 검정합니다.  \n",
    "   - 예: 두 식물 종이 우연히 예상되는 것보다 유의하게 더 자주 **공존**합니까?\n",
    "\n",
    "3. **의학 연구**  \n",
    "   - **질병 유무** 및 **위험 요인**과 같은 범주형 변수 간의 관계를 분석합니다.  \n",
    "   - 예: **흡연 상태**와 **폐 질환** 사이에 연관성이 있습니까?\n",
    "\n",
    "---\n"
   ]
  },
  {
   "cell_type": "code",
   "execution_count": 7,
   "metadata": {
    "id": "L4PBT3YaNJmF"
   },
   "outputs": [
    {
     "name": "stdout",
     "output_type": "stream",
     "text": [
      "Chi-square statistic: 2.0\n",
      "P-value: 0.36787944117144245\n"
     ]
    }
   ],
   "source": [
    "# Simulate observed counts (e.g. genotype frequencies)\n",
    "observed = [20, 30, 50]  # AA, Aa, aa\n",
    "expected = [25, 25, 50]  # Hardy-Weinberg equilibrium\n",
    "\n",
    "chi2_stat, chi2_p = stats.chisquare(f_obs=observed, f_exp=expected)\n",
    "\n",
    "print(\"Chi-square statistic:\", chi2_stat)\n",
    "print(\"P-value:\", chi2_p)"
   ]
  },
  {
   "cell_type": "markdown",
   "metadata": {
    "id": "bQXYBLcbNOpt"
   },
   "source": [
    "**-**관찰된 유전자형 빈도(AA, Aa, aa)가 하디-바인베르크 평형 하에서 예상되는 빈도와 일치하는지 검정하고 있습니다.<br>\n",
    "**-**카이제곱 검정은 관찰된 빈도와 예상된 빈도를 비교하여 그 차이가 통계적으로 유의미한지 확인합니다.<br>\n",
    "**해석:**<br> p-값이 0.05보다 크므로 관찰된 빈도는 통계적으로 유의미하지 않으며 우연히 발생할 수 있습니다. 통계적으로 말하면, **검정이 귀무 가설을 기각하지 않음**을 의미합니다."
   ]
  },
  {
   "cell_type": "markdown",
   "metadata": {
    "id": "twqf7J_QOEYO"
   },
   "source": [
    "상관 분석"
   ]
  },
  {
   "cell_type": "code",
   "execution_count": 8,
   "metadata": {
    "id": "ZjjJUMBPOHY7"
   },
   "outputs": [
    {
     "name": "stdout",
     "output_type": "stream",
     "text": [
      "Correlation coefficient: 0.7911578505677531\n",
      "P-value: 8.064779656322345e-12\n"
     ]
    }
   ],
   "source": [
    "# Simulate gene expression and protein abundance\n",
    "gene_expr = np.random.normal(50, 10, 50)\n",
    "protein_abund = gene_expr * 0.8 + np.random.normal(0, 5, 50)\n",
    "\n",
    "# Calculate Pearson correlation\n",
    "corr_coef, corr_p = stats.pearsonr(gene_expr, protein_abund)\n",
    "\n",
    "print(\"Correlation coefficient:\", corr_coef)\n",
    "print(\"P-value:\", corr_p)"
   ]
  },
  {
   "cell_type": "markdown",
   "metadata": {
    "id": "wOMSnymkOTy8"
   },
   "source": [
    "유전자 발현 수준이 단백질 풍부도와 선형적으로 관련이 있는지 검정하고 있습니다.\n",
    "\n",
    "피어슨 상관 계수(corr_coef)의 범위는 다음과 같습니다:<br>\n",
    "**+1:** 완벽한 양의 상관 관계<br>\n",
    "**0:** 상관 관계 없음<br>\n",
    "**–1:** 완벽한 음의 상관 관계<br>\n",
    "유의미한 p-값은 상관 관계가 우연에 의한 것일 가능성이 낮음을 의미합니다.<br>\n",
    "이는 시스템 생물학에서 유전자-단백질 관계, 공동 발현 네트워크 또는 바이오마커 발견을 탐색하는 데 유용합니다."
   ]
  },
  {
   "cell_type": "markdown",
   "metadata": {
    "id": "T0Yf4GH7QMy8"
   },
   "source": [
    "### 해석\n",
    "- **상관 계수 (r):** 0.7912  \n",
    "- **p-값:** 8.06 × 10⁻¹²  \n",
    "\n",
    "---\n",
    "\n",
    "## 🔍 이것은 무엇을 의미합니까?\n",
    "\n",
    "### ✅ 관계의 강도\n",
    "- 상관 계수 **r = 0.7912**는 **강한 양의 선형 관계**를 나타냅니다.  \n",
    "- 한 변수가 증가하면 다른 변수도 **증가하는 경향이 있습니다**.\n",
    "\n",
    "### ✅ 통계적 유의성\n",
    "- **p-값 = 8.06 × 10⁻¹²**는 극히 작으며, 일반적인 임계값인 **0.05**보다 훨씬 낮습니다.  \n",
    "- 이는 관찰된 상관 관계가 **무작위적인 우연으로 인한 것일 가능성이 매우 낮음**을 의미합니다.\n",
    "\n",
    "---\n",
    "\n",
    "## 🧬 생물학적 해석\n",
    "두 변수 간에 **강력하고 통계적으로 유의미한 연관성**이 있습니다.  \n",
    "데이터셋에 따라 이는 다음을 나타낼 수 있습니다:\n",
    "\n",
    "- **유전자 발현 수준**이 **표현형 심각도**와 상관 관계가 있음  \n",
    "- **대사 산물 농도**가 **질병 진행**과 관련이 있음  \n",
    "- **환경 노출**이 **생물학적 반응**과 관련이 있음  \n",
    "\n",
    "---"
   ]
  },
  {
   "cell_type": "code",
   "execution_count": 9,
   "metadata": {
    "id": "eBg6_0JlOlsV"
   },
   "outputs": [
    {
     "data": {
      "image/png": "[encoded data removed]",
      "text/plain": [
       "<Figure size 640x480 with 1 Axes>"
      ]
     },
     "metadata": {},
     "output_type": "display_data"
    }
   ],
   "source": [
    "sns.scatterplot(x=gene_expr, y=protein_abund)\n",
    "plt.title(\"Gene Expression vs Protein Abundance\")\n",
    "plt.xlabel(\"Gene Expression\")\n",
    "plt.ylabel(\"Protein Abundance\")\n",
    "plt.show()"
   ]
  },
  {
   "cell_type": "markdown",
   "metadata": {
    "id": "FUmz6DLeLXEV"
   },
   "source": [
    "### 검정 요약표 \n",
    "\n",
    "| **검정 유형** | **사용 사례** | **함수** |\n",
    "|------------------|---------------------------------------|----------------------------|\n",
    "| **t-검정** | 두 그룹의 평균 비교 | `stats.ttest_ind()` |\n",
    "| **카이제곱** | 관찰 빈도와 기대 빈도 비교 | `stats.chisquare()` |\n",
    "| **상관 관계** | 선형 관계 측정 | `stats.pearsonr()` |\n",
    "\n",
    "---\n",
    "\n",
    "📌 이러한 함수는 `scipy.stats`에서 사용할 수 있으며 가설 검정에서 일반적으로 사용됩니다."
   ]
  }
 ],
 "metadata": {
  "colab": {
   "authorship_tag": "ABX9TyNbb+BuI5R0WJgbCe05KtwK",
   "include_colab_link": true,
   "provenance": []
  },
  "kernelspec": {
   "display_name": "python-for-lifescience (3.11.10)",
   "language": "python",
   "name": "python3"
  },
  "language_info": {
   "codemirror_mode": {
    "name": "ipython",
    "version": 3
   },
   "file_extension": ".py",
   "mimetype": "text/x-python",
   "name": "python",
   "nbconvert_exporter": "python",
   "pygments_lexer": "ipython3",
   "version": "3.11.10"
  }
 },
 "nbformat": 4,
 "nbformat_minor": 0
}
