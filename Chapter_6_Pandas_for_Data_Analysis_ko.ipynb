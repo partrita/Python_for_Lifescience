{
 "cells": [
  {
   "cell_type": "markdown",
   "metadata": {
    "colab_type": "text",
    "id": "view-in-github"
   },
   "source": [
    "<a href=\"https://colab.research.google.com/github/Ash100/Python_for_Lifescience/blob/main/Chapter_6%3APandas_for_Data_Analysis.ipynb\" target=\"_parent\"><img src=\"https://colab.research.google.com/assets/colab-badge.svg\" alt=\"Colab에서 열기\"/></a>"
   ]
  },
  {
   "cell_type": "markdown",
   "metadata": {
    "id": "8c-02HG6rjwQ"
   },
   "source": [
    "# 생물학적 데이터 분석을 위한 파이썬 학습\n",
    "## **6장:** 데이터 분석을 위한 Pandas\n",
    "\n",
    "이 강좌는 **Ashfaq Ahmad 박사님**께서 설계하고 강의하십니다. 강의 전반에 걸쳐 생명 과학 또는 생명 과학 분야의 예시들을 사용할 것입니다."
   ]
  },
  {
   "cell_type": "markdown",
   "metadata": {
    "id": "v4tzB7RDrvKz"
   },
   "source": [
    "## 📅 강좌 개요\n",
    "\n",
    "---\n",
    "\n",
    "## 🏗️ 기초 (1-2주차)\n",
    "\n",
    "### 📘 1장: 파이썬과 Colab 시작하기 [강의 보기](https://youtu.be/BKe2CmiG_TU)\n",
    "- Google Colab 인터페이스 소개\n",
    "- 기본 파이썬 문법 및 데이터 타입\n",
    "- 변수, 문자열 및 기본 연산\n",
    "- 출력문과 주석\n",
    "\n",
    "### 📘 2장: 제어 구조 [강의 보기](https://youtu.be/uPHeqVb4Mo0)\n",
    "- 조건문 (`if`/`else`)\n",
    "- 반복문 (`for` 및 `while`)\n",
    "- 기본 함수 및 범위\n",
    "\n",
    "---\n",
    "\n",
    "## 🧬 데이터 처리 (3-4주차)\n",
    "\n",
    "### 📘 3장: 생물학을 위한 데이터 구조 [강의 보기](https://youtu.be/x1IJwSYhNZg)\n",
    "- 리스트와 튜플 (서열, 실험 데이터 저장)\n",
    "- 딕셔너리 (유전자 주석, 종 데이터)\n",
    "- 세트 (고유 식별자, 샘플 모음)\n",
    "\n",
    "### 📘 4장: 파일 작업 [강의 보기](https://youtu.be/D27MyLpSdks)\n",
    "- 텍스트 파일 읽고 쓰기\n",
    "- CSV 파일 처리 (실험 데이터)\n",
    "- 생물학 데이터셋을 위한 기본 파일 작업\n",
    "\n",
    "---\n",
    "\n",
    "## 📊 과학 컴퓨팅 (5-7주차)\n",
    "\n",
    "### 📘 5장: 수치 데이터를 위한 NumPy [강의 보기](https://youtu.be/DPaZN3NQtWw)\n",
    "- 배열을 이용한 실험 측정값 저장\n",
    "- 데이터셋에 대한 수학적 연산\n",
    "- 통계 계산 (평균, 중앙값, 표준편차)\n",
    "\n",
    "### 📘 6장: 데이터 분석을 위한 Pandas [강의 보기](https://youtu.be/MPE6qibUyTE)\n",
    "- 구조화된 생물학 데이터를 위한 데이터프레임\n",
    "- 데이터 정제 및 조작\n",
    "- 실험 결과 필터링 및 그룹화\n",
    "- 결측 데이터 처리\n",
    "\n",
    "### 📘 7장: 데이터 시각화\n",
    "- 과학적 플롯을 위한 Matplotlib 기초\n",
    "- 출판 품질의 그림 생성\n",
    "- 생물학 데이터를 위한 특수 플롯 (히스토그램, 산점도, 박스 플롯)\n",
    "\n",
    "---\n",
    "\n",
    "## 🔬 생물학적 응용 (8-10주차)\n",
    "\n",
    "### 📘 8장: 서열 분석\n",
    "- DNA/RNA 서열을 위한 문자열 조작\n",
    "- 기본 서열 연산 (역상보, 전사)\n",
    "- FASTA 파일 읽기\n",
    "- 간단한 서열 통계\n",
    "\n",
    "### 📘 9장: 생물학을 위한 통계 분석\n",
    "- 가설 검정 기초\n",
    "- t-검정 및 카이제곱 검정\n",
    "- 상관 관계 분석\n",
    "- `scipy.stats` 소개\n",
    "\n",
    "### 📘 10장: 실용적인 프로젝트\n",
    "- 유전자 발현 데이터 분석\n",
    "- 집단 유전학 계산\n",
    "- 생태 데이터 분석\n",
    "- 재현 가능한 연구 워크플로우 생성\n",
    "\n",
    "---\n",
    "\n",
    "## 🚀 고급 주제 *(선택 – 11-12주차)*\n",
    "\n",
    "### 📘 11장: 생물정보학 라이브러리\n",
    "- Biopython 소개\n",
    "- 생물학 데이터베이스 작업\n",
    "- 계통 발생 분석 기초\n",
    "\n",
    "### 📘 12장: 모범 사례\n",
    "- 코드 구성 및 문서화\n",
    "- 오류 처리\n",
    "- 재현 가능한 연구 관행\n",
    "- 코드 및 결과 공유\n",
    "\n",
    "---\n",
    "\n",
    "✅ 우리는 기본적인 프로그래밍 개념에서 실용적인 생물학적 응용으로 이동하여 학생들이 배운 것을 연구 및 과정에 즉시 적용할 수 있도록 할 것입니다.\n"
   ]
  },
  {
   "cell_type": "markdown",
   "metadata": {
    "id": "Qga05A2jsJaI"
   },
   "source": [
    "### 소개\n",
    "구조화된 데이터 작업을 위한 강력한 파이썬 라이브러리인 **Pandas**에 대한 이 장에 오신 것을 환영합니다. 생물학에서는 유전자 발현 행렬, 단백질 상호 작용 표, 임상 시험 결과 등과 같은 표 형식 데이터를 자주 다룹니다. Pandas는 이러한 데이터를 효율적으로 정리, 필터링 및 분석하는 데 도움이 됩니다.\n",
    "\n",
    "이 장에서는 다음을 배우게 됩니다:\n",
    "- 데이터프레임 생성 및 조작\n",
    "- 생물학적 데이터셋 정리\n",
    "- 실험 결과 필터링 및 그룹화\n",
    "- 결측 데이터 처리\n",
    "\n",
    "시작해 봅시다!"
   ]
  },
  {
   "cell_type": "markdown",
   "metadata": {
    "id": "JrmssLgCsr3B"
   },
   "source": [
    "### 🔧 1단계: 설정\n",
    "\n",
    "시작하기 전에 사용할 라이브러리를 설치하고 가져와야 합니다.  \n",
    "- `pandas`: 데이터 조작용  \n",
    "- `seaborn`: 시각화용  \n",
    "- `numpy`: 수치 연산용"
   ]
  },
  {
   "cell_type": "code",
   "execution_count": null,
   "metadata": {
    "id": "zqR364kKrfaj"
   },
   "outputs": [
    {
     "name": "stdout",
     "output_type": "stream",
     "text": [
      "Requirement already satisfied: pandas in /home/fkt/miniforge3/lib/python3.12/site-packages (2.3.1)\n",
      "Requirement already satisfied: seaborn in /home/fkt/miniforge3/lib/python3.12/site-packages (0.13.2)\n",
      "Requirement already satisfied: numpy>=1.26.0 in /home/fkt/miniforge3/lib/python3.12/site-packages (from pandas) (2.3.2)\n",
      "Requirement already satisfied: python-dateutil>=2.8.2 in /home/fkt/miniforge3/lib/python3.12/site-packages (from pandas) (2.9.0.post0)\n",
      "Requirement already satisfied: pytz>=2020.1 in /home/fkt/miniforge3/lib/python3.12/site-packages (from pandas) (2025.2)\n",
      "Requirement already satisfied: tzdata>=2022.7 in /home/fkt/miniforge3/lib/python3.12/site-packages (from pandas) (2025.2)\n",
      "Requirement already satisfied: matplotlib!=3.6.1,>=3.4 in /home/fkt/miniforge3/lib/python3.12/site-packages (from seaborn) (3.10.5)\n",
      "Requirement already satisfied: contourpy>=1.0.1 in /home/fkt/miniforge3/lib/python3.12/site-packages (from matplotlib!=3.6.1,>=3.4->seaborn) (1.3.3)\n",
      "Requirement already satisfied: cycler>=0.10 in /home/fkt/miniforge3/lib/python3.12/site-packages (from matplotlib!=3.6.1,>=3.4->seaborn) (0.12.1)\n",
      "Requirement already satisfied: fonttools>=4.22.0 in /home/fkt/miniforge3/lib/python3.12/site-packages (from matplotlib!=3.6.1,>=3.4->seaborn) (4.59.1)\n",
      "Requirement already satisfied: kiwisolver>=1.3.1 in /home/fkt/miniforge3/lib/python3.12/site-packages (from matplotlib!=3.6.1,>=3.4->seaborn) (1.4.9)\n",
      "Requirement already satisfied: packaging>=20.0 in /home/fkt/miniforge3/lib/python3.12/site-packages (from matplotlib!=3.6.1,>=3.4->seaborn) (25.0)\n",
      "Requirement already satisfied: pillow>=8 in /home/fkt/miniforge3/lib/python3.12/site-packages (from matplotlib!=3.6.1,>=3.4->seaborn) (11.3.0)\n",
      "Requirement already satisfied: pyparsing>=2.3.1 in /home/fkt/miniforge3/lib/python3.12/site-packages (from matplotlib!=3.6.1,>=3.4->seaborn) (3.2.3)\n",
      "Requirement already satisfied: six>=1.5 in /home/fkt/miniforge3/lib/python3.12/site-packages (from python-dateutil>=2.8.2->pandas) (1.17.0)\n"
     ]
    }
   ],
   "source": [
    "# Install necessary libraries\n",
    "# !pip install pandas seaborn\n",
    "\n",
    "# Import libraries\n",
    "import pandas as pd"
   ]
  },
  {
   "cell_type": "markdown",
   "metadata": {
    "id": "kimF82qLs5JQ"
   },
   "source": [
    "## 구조화된 생물학적 데이터를 위한 데이터프레임(df)\n",
    "\n",
    "### 🧬 데이터프레임이란 무엇입니까?\n",
    "\n",
    "**데이터프레임**은 파이썬의 엑셀 스프레드시트와 같습니다. 각 행은 관찰(예: 유전자)이고 각 열은 변수(예: 발현 수준, 조직 유형)입니다.\n",
    "\n",
    "여기서는 유전자 발현 데이터셋을 시뮬레이션합니다:\n",
    "- `Gene`: 유전자 이름\n",
    "- `Expression_Level`: 측정된 발현\n",
    "- `Tissue`: 측정된 조직\n",
    "- `Condition`: 샘플이 건강한지 또는 암인지 여부\n",
    "\n",
    "이 구조는 생물정보학 및 실험 생물학에서 일반적입니다.\n"
   ]
  },
  {
   "cell_type": "code",
   "execution_count": 3,
   "metadata": {
    "id": "UKlfmnsNtQfI"
   },
   "outputs": [
    {
     "data": {
      "text/html": [
       "<div>\n",
       "<style scoped>\n",
       "    .dataframe tbody tr th:only-of-type {\n",
       "        vertical-align: middle;\n",
       "    }\n",
       "\n",
       "    .dataframe tbody tr th {\n",
       "        vertical-align: top;\n",
       "    }\n",
       "\n",
       "    .dataframe thead th {\n",
       "        text-align: right;\n",
       "    }\n",
       "</style>\n",
       "<table border=\"1\" class=\"dataframe\">\n",
       "  <thead>\n",
       "    <tr style=\"text-align: right;\">\n",
       "      <th></th>\n",
       "      <th>Gene</th>\n",
       "      <th>Expression_Level</th>\n",
       "      <th>Tissue</th>\n",
       "      <th>Condition</th>\n",
       "    </tr>\n",
       "  </thead>\n",
       "  <tbody>\n",
       "    <tr>\n",
       "      <th>0</th>\n",
       "      <td>TP53</td>\n",
       "      <td>7.2</td>\n",
       "      <td>Liver</td>\n",
       "      <td>Healthy</td>\n",
       "    </tr>\n",
       "    <tr>\n",
       "      <th>1</th>\n",
       "      <td>BRCA1</td>\n",
       "      <td>5.5</td>\n",
       "      <td>Breast</td>\n",
       "      <td>Cancer</td>\n",
       "    </tr>\n",
       "    <tr>\n",
       "      <th>2</th>\n",
       "      <td>EGFR</td>\n",
       "      <td>8.1</td>\n",
       "      <td>Lung</td>\n",
       "      <td>Cancer</td>\n",
       "    </tr>\n",
       "    <tr>\n",
       "      <th>3</th>\n",
       "      <td>MYC</td>\n",
       "      <td>6.3</td>\n",
       "      <td>Brain</td>\n",
       "      <td>Healthy</td>\n",
       "    </tr>\n",
       "    <tr>\n",
       "      <th>4</th>\n",
       "      <td>CDK2</td>\n",
       "      <td>4.9</td>\n",
       "      <td>Liver</td>\n",
       "      <td>Cancer</td>\n",
       "    </tr>\n",
       "  </tbody>\n",
       "</table>\n",
       "</div>"
      ],
      "text/plain": [
       "    Gene  Expression_Level  Tissue Condition\n",
       "0   TP53               7.2   Liver   Healthy\n",
       "1  BRCA1               5.5  Breast    Cancer\n",
       "2   EGFR               8.1    Lung    Cancer\n",
       "3    MYC               6.3   Brain   Healthy\n",
       "4   CDK2               4.9   Liver    Cancer"
      ]
     },
     "execution_count": 3,
     "metadata": {},
     "output_type": "execute_result"
    }
   ],
   "source": [
    "# Sample gene expression dataset\n",
    "data = {\n",
    "    \"Gene\": [\"TP53\", \"BRCA1\", \"EGFR\", \"MYC\", \"CDK2\"],\n",
    "    \"Expression_Level\": [7.2, 5.5, 8.1, 6.3, 4.9],\n",
    "    \"Tissue\": [\"Liver\", \"Breast\", \"Lung\", \"Brain\", \"Liver\"],\n",
    "    \"Condition\": [\"Healthy\", \"Cancer\", \"Cancer\", \"Healthy\", \"Cancer\"],\n",
    "}\n",
    "\n",
    "df = pd.DataFrame(data)\n",
    "df"
   ]
  },
  {
   "cell_type": "markdown",
   "metadata": {
    "id": "op6MdhwotgCz"
   },
   "source": [
    "## 🧹 생물학적 데이터 정리/처리\n",
    "\n",
    "실제 생물학적 데이터는 지저분합니다. 종종 다음을 수행해야 합니다:\n",
    "- 명확성을 위해 열 이름 바꾸기\n",
    "- 값 정규화(예: 최대 발현으로 나누기)\n",
    "- 레이블 표준화(예: \"Liver\" → \"Hepatic\")\n",
    "\n",
    "이러한 단계는 다운스트림 분석을 더 쉽고 재현 가능하게 만듭니다.\n"
   ]
  },
  {
   "cell_type": "code",
   "execution_count": 4,
   "metadata": {
    "id": "BPu8O8ICty2b"
   },
   "outputs": [
    {
     "data": {
      "text/html": [
       "<div>\n",
       "<style scoped>\n",
       "    .dataframe tbody tr th:only-of-type {\n",
       "        vertical-align: middle;\n",
       "    }\n",
       "\n",
       "    .dataframe tbody tr th {\n",
       "        vertical-align: top;\n",
       "    }\n",
       "\n",
       "    .dataframe thead th {\n",
       "        text-align: right;\n",
       "    }\n",
       "</style>\n",
       "<table border=\"1\" class=\"dataframe\">\n",
       "  <thead>\n",
       "    <tr style=\"text-align: right;\">\n",
       "      <th></th>\n",
       "      <th>Gene</th>\n",
       "      <th>Expr</th>\n",
       "      <th>Tissue</th>\n",
       "      <th>Condition</th>\n",
       "      <th>Expr_Norm</th>\n",
       "    </tr>\n",
       "  </thead>\n",
       "  <tbody>\n",
       "    <tr>\n",
       "      <th>0</th>\n",
       "      <td>TP53</td>\n",
       "      <td>7.2</td>\n",
       "      <td>Hepatic</td>\n",
       "      <td>Healthy</td>\n",
       "      <td>0.888889</td>\n",
       "    </tr>\n",
       "    <tr>\n",
       "      <th>1</th>\n",
       "      <td>BRCA1</td>\n",
       "      <td>5.5</td>\n",
       "      <td>Breast</td>\n",
       "      <td>Cancer</td>\n",
       "      <td>0.679012</td>\n",
       "    </tr>\n",
       "    <tr>\n",
       "      <th>2</th>\n",
       "      <td>EGFR</td>\n",
       "      <td>8.1</td>\n",
       "      <td>Lung</td>\n",
       "      <td>Cancer</td>\n",
       "      <td>1.000000</td>\n",
       "    </tr>\n",
       "    <tr>\n",
       "      <th>3</th>\n",
       "      <td>MYC</td>\n",
       "      <td>6.3</td>\n",
       "      <td>Brain</td>\n",
       "      <td>Healthy</td>\n",
       "      <td>0.777778</td>\n",
       "    </tr>\n",
       "    <tr>\n",
       "      <th>4</th>\n",
       "      <td>CDK2</td>\n",
       "      <td>4.9</td>\n",
       "      <td>Hepatic</td>\n",
       "      <td>Cancer</td>\n",
       "      <td>0.604938</td>\n",
       "    </tr>\n",
       "  </tbody>\n",
       "</table>\n",
       "</div>"
      ],
      "text/plain": [
       "    Gene  Expr   Tissue Condition  Expr_Norm\n",
       "0   TP53   7.2  Hepatic   Healthy   0.888889\n",
       "1  BRCA1   5.5   Breast    Cancer   0.679012\n",
       "2   EGFR   8.1     Lung    Cancer   1.000000\n",
       "3    MYC   6.3    Brain   Healthy   0.777778\n",
       "4   CDK2   4.9  Hepatic    Cancer   0.604938"
      ]
     },
     "execution_count": 4,
     "metadata": {},
     "output_type": "execute_result"
    }
   ],
   "source": [
    "# Rename columns for clarity\n",
    "df.rename(columns={\"Expression_Level\": \"Expr\"}, inplace=True)\n",
    "\n",
    "# Add a normalized expression column\n",
    "df[\"Expr_Norm\"] = df[\"Expr\"] / df[\"Expr\"].max()\n",
    "\n",
    "# Replace tissue names for consistency\n",
    "df[\"Tissue\"] = df[\"Tissue\"].replace({\"Liver\": \"Hepatic\"})\n",
    "\n",
    "df"
   ]
  },
  {
   "cell_type": "markdown",
   "metadata": {
    "id": "9PtkgqlWuEd4"
   },
   "source": [
    "## 🔬 필터링 및 그룹화\n",
    "\n",
    "우리는 종종 다음을 원합니다:\n",
    "- 특정 조건(예: 암 샘플)에 집중\n",
    "- 그룹 비교(예: 조직)\n",
    "\n",
    "여기서는 다음을 수행합니다:\n",
    "- `Condition == 'Cancer'`인 행 필터링\n",
    "- `Tissue`별로 그룹화하고 평균 및 최대 발현 계산\n",
    "\n",
    "이는 실험 반복 또는 조건을 비교하는 것을 모방합니다.\n"
   ]
  },
  {
   "cell_type": "code",
   "execution_count": 5,
   "metadata": {
    "id": "3AFMH_mvWFd1"
   },
   "outputs": [
    {
     "data": {
      "text/html": [
       "<div>\n",
       "<style scoped>\n",
       "    .dataframe tbody tr th:only-of-type {\n",
       "        vertical-align: middle;\n",
       "    }\n",
       "\n",
       "    .dataframe tbody tr th {\n",
       "        vertical-align: top;\n",
       "    }\n",
       "\n",
       "    .dataframe thead th {\n",
       "        text-align: right;\n",
       "    }\n",
       "</style>\n",
       "<table border=\"1\" class=\"dataframe\">\n",
       "  <thead>\n",
       "    <tr style=\"text-align: right;\">\n",
       "      <th></th>\n",
       "      <th>Gene</th>\n",
       "      <th>Expr</th>\n",
       "      <th>Tissue</th>\n",
       "      <th>Condition</th>\n",
       "      <th>Expr_Norm</th>\n",
       "    </tr>\n",
       "  </thead>\n",
       "  <tbody>\n",
       "    <tr>\n",
       "      <th>1</th>\n",
       "      <td>BRCA1</td>\n",
       "      <td>5.5</td>\n",
       "      <td>Breast</td>\n",
       "      <td>Cancer</td>\n",
       "      <td>0.679012</td>\n",
       "    </tr>\n",
       "    <tr>\n",
       "      <th>2</th>\n",
       "      <td>EGFR</td>\n",
       "      <td>8.1</td>\n",
       "      <td>Lung</td>\n",
       "      <td>Cancer</td>\n",
       "      <td>1.000000</td>\n",
       "    </tr>\n",
       "    <tr>\n",
       "      <th>4</th>\n",
       "      <td>CDK2</td>\n",
       "      <td>4.9</td>\n",
       "      <td>Hepatic</td>\n",
       "      <td>Cancer</td>\n",
       "      <td>0.604938</td>\n",
       "    </tr>\n",
       "  </tbody>\n",
       "</table>\n",
       "</div>"
      ],
      "text/plain": [
       "    Gene  Expr   Tissue Condition  Expr_Norm\n",
       "1  BRCA1   5.5   Breast    Cancer   0.679012\n",
       "2   EGFR   8.1     Lung    Cancer   1.000000\n",
       "4   CDK2   4.9  Hepatic    Cancer   0.604938"
      ]
     },
     "execution_count": 5,
     "metadata": {},
     "output_type": "execute_result"
    }
   ],
   "source": [
    "# Filter for cancer samples\n",
    "cancer_df = df.query(\"Condition == 'Cancer'\")\n",
    "cancer_df"
   ]
  },
  {
   "cell_type": "code",
   "execution_count": 6,
   "metadata": {
    "id": "s5KbVF3FuMn2"
   },
   "outputs": [
    {
     "data": {
      "text/html": [
       "<div>\n",
       "<style scoped>\n",
       "    .dataframe tbody tr th:only-of-type {\n",
       "        vertical-align: middle;\n",
       "    }\n",
       "\n",
       "    .dataframe tbody tr th {\n",
       "        vertical-align: top;\n",
       "    }\n",
       "\n",
       "    .dataframe thead tr th {\n",
       "        text-align: left;\n",
       "    }\n",
       "\n",
       "    .dataframe thead tr:last-of-type th {\n",
       "        text-align: right;\n",
       "    }\n",
       "</style>\n",
       "<table border=\"1\" class=\"dataframe\">\n",
       "  <thead>\n",
       "    <tr>\n",
       "      <th></th>\n",
       "      <th colspan=\"2\" halign=\"left\">Expr</th>\n",
       "    </tr>\n",
       "    <tr>\n",
       "      <th></th>\n",
       "      <th>mean</th>\n",
       "      <th>max</th>\n",
       "    </tr>\n",
       "    <tr>\n",
       "      <th>Tissue</th>\n",
       "      <th></th>\n",
       "      <th></th>\n",
       "    </tr>\n",
       "  </thead>\n",
       "  <tbody>\n",
       "    <tr>\n",
       "      <th>Brain</th>\n",
       "      <td>6.30</td>\n",
       "      <td>6.3</td>\n",
       "    </tr>\n",
       "    <tr>\n",
       "      <th>Breast</th>\n",
       "      <td>5.50</td>\n",
       "      <td>5.5</td>\n",
       "    </tr>\n",
       "    <tr>\n",
       "      <th>Hepatic</th>\n",
       "      <td>6.05</td>\n",
       "      <td>7.2</td>\n",
       "    </tr>\n",
       "    <tr>\n",
       "      <th>Lung</th>\n",
       "      <td>8.10</td>\n",
       "      <td>8.1</td>\n",
       "    </tr>\n",
       "  </tbody>\n",
       "</table>\n",
       "</div>"
      ],
      "text/plain": [
       "         Expr     \n",
       "         mean  max\n",
       "Tissue            \n",
       "Brain    6.30  6.3\n",
       "Breast   5.50  5.5\n",
       "Hepatic  6.05  7.2\n",
       "Lung     8.10  8.1"
      ]
     },
     "execution_count": 6,
     "metadata": {},
     "output_type": "execute_result"
    }
   ],
   "source": [
    "# Group by tissue and compute mean/max expression\n",
    "grouped = df.groupby(\"Tissue\").agg({\"Expr\": [\"mean\", \"max\"]})\n",
    "grouped"
   ]
  },
  {
   "cell_type": "markdown",
   "metadata": {
    "id": "XXvjH7M4uZCf"
   },
   "source": [
    "## ❗ 생물학의 결측 데이터\n",
    "\n",
    "결측 데이터는 실패한 실험, 읽을 수 없는 파일 또는 낮은 신호로 인해 흔히 발생합니다.\n",
    "\n",
    "다음을 수행할 수 있습니다:\n",
    "- `.isna()`를 사용하여 결측값 감지\n",
    "- 통계적 추정치(예: 평균)로 채우기\n",
    "- 필요한 경우 삭제\n",
    "\n",
    "결측 데이터를 처리하는 방법을 항상 문서화하십시오. 이는 생물학적 해석에 영향을 미칩니다. <br>\n",
    "**먼저 결측 데이터가 있는 df를 만들어 보겠습니다.**"
   ]
  },
  {
   "cell_type": "code",
   "execution_count": 7,
   "metadata": {
    "id": "2wX-RGOpuhQn"
   },
   "outputs": [
    {
     "name": "stdout",
     "output_type": "stream",
     "text": [
      "Original DataFrame with Missing Data:\n",
      "  SampleID   Age  BiomarkerA  BiomarkerB\n",
      "0       P1  35.0         1.2        15.2\n",
      "1       P2  42.0         1.5        16.5\n",
      "2       P3   NaN         1.1        14.8\n",
      "3       P4  58.0         NaN        17.1\n",
      "\n",
      "Missing values per column:\n",
      "SampleID      0\n",
      "Age           1\n",
      "BiomarkerA    1\n",
      "BiomarkerB    0\n",
      "dtype: int64\n"
     ]
    }
   ],
   "source": [
    "# Create a DataFrame with missing data\n",
    "missing_data = {\n",
    "    \"SampleID\": [\"P1\", \"P2\", \"P3\", \"P4\"],\n",
    "    \"Age\": [35, 42, None, 58],\n",
    "    \"BiomarkerA\": [1.2, 1.5, 1.1, None],\n",
    "    \"BiomarkerB\": [15.2, 16.5, 14.8, 17.1],\n",
    "}\n",
    "missing_df = pd.DataFrame(missing_data)\n",
    "print(\"Original DataFrame with Missing Data:\")\n",
    "print(missing_df)\n",
    "\n",
    "# Check for missing values\n",
    "print(\"\\nMissing values per column:\")\n",
    "print(missing_df.isnull().sum())"
   ]
  },
  {
   "cell_type": "markdown",
   "metadata": {
    "id": "hEl4ZC_JvHMV"
   },
   "source": [
    "**결측 데이터 삭제**<br>\n",
    "`.dropna()` 메서드는 결측값이 있는 행 또는 열을 제거합니다."
   ]
  },
  {
   "cell_type": "code",
   "execution_count": 8,
   "metadata": {
    "id": "i_BvyEt6vGSf"
   },
   "outputs": [
    {
     "name": "stdout",
     "output_type": "stream",
     "text": [
      "DataFrame after dropping rows with missing values:\n",
      "  SampleID   Age  BiomarkerA  BiomarkerB\n",
      "0       P1  35.0         1.2        15.2\n",
      "1       P2  42.0         1.5        16.5\n"
     ]
    }
   ],
   "source": [
    "# Create a new DataFrame by dropping all rows with any missing values\n",
    "df_dropped = missing_df.dropna()\n",
    "print(\"DataFrame after dropping rows with missing values:\")\n",
    "print(df_dropped)"
   ]
  },
  {
   "cell_type": "markdown",
   "metadata": {
    "id": "mW7OI4vHvfOI"
   },
   "source": [
    "**결측 데이터 채우기**<br>\n",
    "`.fillna()` 메서드는 결측값을 지정된 값으로 바꿉니다. 일반적인 접근 방식은 결측값을 열의 평균 또는 중앙값으로 채우는 것입니다."
   ]
  },
  {
   "cell_type": "code",
   "execution_count": 9,
   "metadata": {
    "id": "9ADapuOavqC3"
   },
   "outputs": [
    {
     "name": "stdout",
     "output_type": "stream",
     "text": [
      "DataFrame after filling missing values:\n",
      "  SampleID   Age  BiomarkerA  BiomarkerB\n",
      "0       P1  35.0         1.2        15.2\n",
      "1       P2  42.0         1.5        16.5\n",
      "2       P3  45.0         1.1        14.8\n",
      "3       P4  58.0         1.2        17.1\n"
     ]
    }
   ],
   "source": [
    "# Calculate the mean age and median of BiomarkerA\n",
    "mean_age = missing_df[\"Age\"].mean()\n",
    "median_biomarker_a = missing_df[\"BiomarkerA\"].median()\n",
    "\n",
    "# Fill missing 'Age' with the mean and missing 'BiomarkerA' with the median\n",
    "df_filled = missing_df.fillna(value={\"Age\": mean_age, \"BiomarkerA\": median_biomarker_a})\n",
    "print(\"DataFrame after filling missing values:\")\n",
    "print(df_filled)"
   ]
  },
  {
   "cell_type": "markdown",
   "metadata": {
    "id": "ouzncapULNqY"
   },
   "source": [
    "여러분이 새로운 것을 배우고 있기를 바랍니다. 포기하지 말고 계속 연습하십시오."
   ]
  }
 ],
 "metadata": {
  "colab": {
   "authorship_tag": "ABX9TyPLFf1XCtZcStRSuvzxiTff",
   "include_colab_link": true,
   "provenance": []
  },
  "kernelspec": {
   "display_name": "python-for-lifescience (3.11.10)",
   "language": "python",
   "name": "python3"
  },
  "language_info": {
   "codemirror_mode": {
    "name": "ipython",
    "version": 3
   },
   "file_extension": ".py",
   "mimetype": "text/x-python",
   "name": "python",
   "nbconvert_exporter": "python",
   "pygments_lexer": "ipython3",
   "version": "3.11.10"
  }
 },
 "nbformat": 4,
 "nbformat_minor": 0
}
