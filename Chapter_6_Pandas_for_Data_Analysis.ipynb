{
 "cells": [
  {
   "cell_type": "markdown",
   "metadata": {
    "colab_type": "text",
    "id": "view-in-github"
   },
   "source": [
    "<a href=\"https://colab.research.google.com/github/Ash100/Python_for_Lifescience/blob/main/Chapter_6%3APandas_for_Data_Analysis.ipynb\" target=\"_parent\"><img src=\"https://colab.research.google.com/assets/colab-badge.svg\" alt=\"Open In Colab\"/></a>"
   ]
  },
  {
   "cell_type": "markdown",
   "metadata": {
    "id": "8c-02HG6rjwQ"
   },
   "source": [
    "# Learn Python for Biological Data Analysis\n",
    "## **Chapter 6:** Pandas for Data Analysis\n",
    "\n",
    "This course is designed and taught by **Dr. Ashfaq Ahmad**. During teaching I will use all the examples from the Biological Sciences or Life Sciences."
   ]
  },
  {
   "cell_type": "markdown",
   "metadata": {
    "id": "v4tzB7RDrvKz"
   },
   "source": [
    "## 📅 Course Outline\n",
    "\n",
    "---\n",
    "\n",
    "## 🏗️ Foundation (Weeks 1–2)\n",
    "\n",
    "### 📘 Chapter 1: Getting Started with Python and Colab [Watch Lecture](https://youtu.be/BKe2CmiG_TU)\n",
    "- Introduction to Google Colab interface\n",
    "- Basic Python syntax and data types\n",
    "- Variables, strings, and basic operations\n",
    "- Print statements and comments\n",
    "\n",
    "### 📘 Chapter 2: Control Structures [Watch Lecture](https://youtu.be/uPHeqVb4Mo0)\n",
    "- Conditional statements (`if`/`else`)\n",
    "- Loops (`for` and `while`)\n",
    "- Basic functions and scope\n",
    "\n",
    "---\n",
    "\n",
    "## 🧬 Data Handling (Weeks 3–4)\n",
    "\n",
    "### 📘 Chapter 3: Data Structures for Biology [Watch Lecture](https://youtu.be/x1IJwSYhNZg)\n",
    "- Lists and tuples (storing sequences, experimental data)\n",
    "- Dictionaries (gene annotations, species data)\n",
    "- Sets (unique identifiers, sample collections)\n",
    "\n",
    "### 📘 Chapter 4: Working with Files [Watch Lecture](https://youtu.be/D27MyLpSdks)\n",
    "- Reading and writing text files\n",
    "- Handling CSV files (experimental data)\n",
    "- Basic file operations for biological datasets\n",
    "\n",
    "---\n",
    "\n",
    "## 📊 Scientific Computing (Weeks 5–7)\n",
    "\n",
    "### 📘 Chapter 5: NumPy for Numerical Data [Watch Lecture](https://youtu.be/DPaZN3NQtWw)\n",
    "- Arrays for storing experimental measurements\n",
    "- Mathematical operations on datasets\n",
    "- Statistical calculations (mean, median, standard deviation)\n",
    "\n",
    "### 📘 Chapter 6: Pandas for Data Analysis [Watch Lecture](https://youtu.be/MPE6qibUyTE)\n",
    "- DataFrames for structured biological data\n",
    "- Data cleaning and manipulation\n",
    "- Filtering and grouping experimental results\n",
    "- Handling missing data\n",
    "\n",
    "### 📘 Chapter 7: Data Visualization\n",
    "- Matplotlib basics for scientific plots\n",
    "- Creating publication-quality figures\n",
    "- Specialized plots for biological data (histograms, scatter plots, box plots)\n",
    "\n",
    "---\n",
    "\n",
    "## 🔬 Biological Applications (Weeks 8–10)\n",
    "\n",
    "### 📘 Chapter 8: Sequence Analysis\n",
    "- String manipulation for DNA/RNA sequences\n",
    "- Basic sequence operations (reverse complement, transcription)\n",
    "- Reading FASTA files\n",
    "- Simple sequence statistics\n",
    "\n",
    "### 📘 Chapter 9: Statistical Analysis for Biology\n",
    "- Hypothesis testing basics\n",
    "- t-tests and chi-square tests\n",
    "- Correlation analysis\n",
    "- Introduction to `scipy.stats`\n",
    "\n",
    "### 📘 Chapter 10: Practical Projects\n",
    "- Analyzing gene expression data\n",
    "- Population genetics calculations\n",
    "- Ecological data analysis\n",
    "- Creating reproducible research workflows\n",
    "\n",
    "---\n",
    "\n",
    "## 🚀 Advanced Topics *(Optional – Weeks 11–12)*\n",
    "\n",
    "### 📘 Chapter 11: Bioinformatics Libraries\n",
    "- Introduction to Biopython\n",
    "- Working with biological databases\n",
    "- Phylogenetic analysis basics\n",
    "\n",
    "### 📘 Chapter 12: Best Practices\n",
    "- Code organization and documentation\n",
    "- Error handling\n",
    "- Reproducible research practices\n",
    "- Sharing code and results\n",
    "\n",
    "---\n",
    "\n",
    "✅ We will move from basic programming concepts to practical biological applications, ensuring students can immediately apply what they learn to their research and coursework.\n"
   ]
  },
  {
   "cell_type": "markdown",
   "metadata": {
    "id": "Qga05A2jsJaI"
   },
   "source": [
    "### Introduction\n",
    "Welcome to this chapter on using **Pandas**, a powerful Python library for working with structured data. In biology, we often deal with tabular data—gene expression matrices, protein interaction tables, clinical trial results, etc. Pandas helps us clean, filter, and analyze such data efficiently.\n",
    "\n",
    "In this chapter, you'll learn how to:\n",
    "- Create and manipulate DataFrames\n",
    "- Clean biological datasets\n",
    "- Filter and group experimental results\n",
    "- Handle missing data\n",
    "\n",
    "Let's dive in!"
   ]
  },
  {
   "cell_type": "markdown",
   "metadata": {
    "id": "JrmssLgCsr3B"
   },
   "source": [
    "### 🔧 Step 1: Setting Up\n",
    "\n",
    "Before we begin, we need to install and import the libraries we'll use.  \n",
    "- `pandas`: for data manipulation  \n",
    "- `seaborn`: for visualization  \n",
    "- `numpy`: for numerical operations"
   ]
  },
  {
   "cell_type": "code",
   "execution_count": null,
   "metadata": {
    "id": "zqR364kKrfaj"
   },
   "outputs": [
    {
     "name": "stdout",
     "output_type": "stream",
     "text": [
      "Requirement already satisfied: pandas in /home/fkt/miniforge3/lib/python3.12/site-packages (2.3.1)\n",
      "Requirement already satisfied: seaborn in /home/fkt/miniforge3/lib/python3.12/site-packages (0.13.2)\n",
      "Requirement already satisfied: numpy>=1.26.0 in /home/fkt/miniforge3/lib/python3.12/site-packages (from pandas) (2.3.2)\n",
      "Requirement already satisfied: python-dateutil>=2.8.2 in /home/fkt/miniforge3/lib/python3.12/site-packages (from pandas) (2.9.0.post0)\n",
      "Requirement already satisfied: pytz>=2020.1 in /home/fkt/miniforge3/lib/python3.12/site-packages (from pandas) (2025.2)\n",
      "Requirement already satisfied: tzdata>=2022.7 in /home/fkt/miniforge3/lib/python3.12/site-packages (from pandas) (2025.2)\n",
      "Requirement already satisfied: matplotlib!=3.6.1,>=3.4 in /home/fkt/miniforge3/lib/python3.12/site-packages (from seaborn) (3.10.5)\n",
      "Requirement already satisfied: contourpy>=1.0.1 in /home/fkt/miniforge3/lib/python3.12/site-packages (from matplotlib!=3.6.1,>=3.4->seaborn) (1.3.3)\n",
      "Requirement already satisfied: cycler>=0.10 in /home/fkt/miniforge3/lib/python3.12/site-packages (from matplotlib!=3.6.1,>=3.4->seaborn) (0.12.1)\n",
      "Requirement already satisfied: fonttools>=4.22.0 in /home/fkt/miniforge3/lib/python3.12/site-packages (from matplotlib!=3.6.1,>=3.4->seaborn) (4.59.1)\n",
      "Requirement already satisfied: kiwisolver>=1.3.1 in /home/fkt/miniforge3/lib/python3.12/site-packages (from matplotlib!=3.6.1,>=3.4->seaborn) (1.4.9)\n",
      "Requirement already satisfied: packaging>=20.0 in /home/fkt/miniforge3/lib/python3.12/site-packages (from matplotlib!=3.6.1,>=3.4->seaborn) (25.0)\n",
      "Requirement already satisfied: pillow>=8 in /home/fkt/miniforge3/lib/python3.12/site-packages (from matplotlib!=3.6.1,>=3.4->seaborn) (11.3.0)\n",
      "Requirement already satisfied: pyparsing>=2.3.1 in /home/fkt/miniforge3/lib/python3.12/site-packages (from matplotlib!=3.6.1,>=3.4->seaborn) (3.2.3)\n",
      "Requirement already satisfied: six>=1.5 in /home/fkt/miniforge3/lib/python3.12/site-packages (from python-dateutil>=2.8.2->pandas) (1.17.0)\n"
     ]
    }
   ],
   "source": [
    "# Install necessary libraries\n",
    "# !pip install pandas seaborn\n",
    "\n",
    "# Import libraries\n",
    "import pandas as pd"
   ]
  },
  {
   "cell_type": "markdown",
   "metadata": {
    "id": "kimF82qLs5JQ"
   },
   "source": [
    "## DataFrames (df) for structured biological data\n",
    "\n",
    "### 🧬 What is a DataFrame?\n",
    "\n",
    "A **DataFrame** is like an Excel spreadsheet in Python. Each row is an observation (e.g., a gene), and each column is a variable (e.g., expression level, tissue type).\n",
    "\n",
    "Here, we simulate a gene expression dataset:\n",
    "- `Gene`: gene name\n",
    "- `Expression_Level`: measured expression\n",
    "- `Tissue`: tissue where it was measured\n",
    "- `Condition`: whether the sample is healthy or cancerous\n",
    "\n",
    "This structure is common in bioinformatics and experimental biology.\n"
   ]
  },
  {
   "cell_type": "code",
   "execution_count": 3,
   "metadata": {
    "id": "UKlfmnsNtQfI"
   },
   "outputs": [
    {
     "data": {
      "text/html": [
       "<div>\n",
       "<style scoped>\n",
       "    .dataframe tbody tr th:only-of-type {\n",
       "        vertical-align: middle;\n",
       "    }\n",
       "\n",
       "    .dataframe tbody tr th {\n",
       "        vertical-align: top;\n",
       "    }\n",
       "\n",
       "    .dataframe thead th {\n",
       "        text-align: right;\n",
       "    }\n",
       "</style>\n",
       "<table border=\"1\" class=\"dataframe\">\n",
       "  <thead>\n",
       "    <tr style=\"text-align: right;\">\n",
       "      <th></th>\n",
       "      <th>Gene</th>\n",
       "      <th>Expression_Level</th>\n",
       "      <th>Tissue</th>\n",
       "      <th>Condition</th>\n",
       "    </tr>\n",
       "  </thead>\n",
       "  <tbody>\n",
       "    <tr>\n",
       "      <th>0</th>\n",
       "      <td>TP53</td>\n",
       "      <td>7.2</td>\n",
       "      <td>Liver</td>\n",
       "      <td>Healthy</td>\n",
       "    </tr>\n",
       "    <tr>\n",
       "      <th>1</th>\n",
       "      <td>BRCA1</td>\n",
       "      <td>5.5</td>\n",
       "      <td>Breast</td>\n",
       "      <td>Cancer</td>\n",
       "    </tr>\n",
       "    <tr>\n",
       "      <th>2</th>\n",
       "      <td>EGFR</td>\n",
       "      <td>8.1</td>\n",
       "      <td>Lung</td>\n",
       "      <td>Cancer</td>\n",
       "    </tr>\n",
       "    <tr>\n",
       "      <th>3</th>\n",
       "      <td>MYC</td>\n",
       "      <td>6.3</td>\n",
       "      <td>Brain</td>\n",
       "      <td>Healthy</td>\n",
       "    </tr>\n",
       "    <tr>\n",
       "      <th>4</th>\n",
       "      <td>CDK2</td>\n",
       "      <td>4.9</td>\n",
       "      <td>Liver</td>\n",
       "      <td>Cancer</td>\n",
       "    </tr>\n",
       "  </tbody>\n",
       "</table>\n",
       "</div>"
      ],
      "text/plain": [
       "    Gene  Expression_Level  Tissue Condition\n",
       "0   TP53               7.2   Liver   Healthy\n",
       "1  BRCA1               5.5  Breast    Cancer\n",
       "2   EGFR               8.1    Lung    Cancer\n",
       "3    MYC               6.3   Brain   Healthy\n",
       "4   CDK2               4.9   Liver    Cancer"
      ]
     },
     "execution_count": 3,
     "metadata": {},
     "output_type": "execute_result"
    }
   ],
   "source": [
    "# Sample gene expression dataset\n",
    "data = {\n",
    "    \"Gene\": [\"TP53\", \"BRCA1\", \"EGFR\", \"MYC\", \"CDK2\"],\n",
    "    \"Expression_Level\": [7.2, 5.5, 8.1, 6.3, 4.9],\n",
    "    \"Tissue\": [\"Liver\", \"Breast\", \"Lung\", \"Brain\", \"Liver\"],\n",
    "    \"Condition\": [\"Healthy\", \"Cancer\", \"Cancer\", \"Healthy\", \"Cancer\"],\n",
    "}\n",
    "\n",
    "df = pd.DataFrame(data)\n",
    "df"
   ]
  },
  {
   "cell_type": "markdown",
   "metadata": {
    "id": "op6MdhwotgCz"
   },
   "source": [
    "## 🧹 Cleaning/Handling Biological Data\n",
    "\n",
    "Real-world biological data is messy. We often need to:\n",
    "- Rename columns for clarity\n",
    "- Normalize values (e.g., divide by max expression)\n",
    "- Standardize labels (e.g., \"Liver\" → \"Hepatic\")\n",
    "\n",
    "These steps make downstream analysis easier and more reproducible.\n"
   ]
  },
  {
   "cell_type": "code",
   "execution_count": 4,
   "metadata": {
    "id": "BPu8O8ICty2b"
   },
   "outputs": [
    {
     "data": {
      "text/html": [
       "<div>\n",
       "<style scoped>\n",
       "    .dataframe tbody tr th:only-of-type {\n",
       "        vertical-align: middle;\n",
       "    }\n",
       "\n",
       "    .dataframe tbody tr th {\n",
       "        vertical-align: top;\n",
       "    }\n",
       "\n",
       "    .dataframe thead th {\n",
       "        text-align: right;\n",
       "    }\n",
       "</style>\n",
       "<table border=\"1\" class=\"dataframe\">\n",
       "  <thead>\n",
       "    <tr style=\"text-align: right;\">\n",
       "      <th></th>\n",
       "      <th>Gene</th>\n",
       "      <th>Expr</th>\n",
       "      <th>Tissue</th>\n",
       "      <th>Condition</th>\n",
       "      <th>Expr_Norm</th>\n",
       "    </tr>\n",
       "  </thead>\n",
       "  <tbody>\n",
       "    <tr>\n",
       "      <th>0</th>\n",
       "      <td>TP53</td>\n",
       "      <td>7.2</td>\n",
       "      <td>Hepatic</td>\n",
       "      <td>Healthy</td>\n",
       "      <td>0.888889</td>\n",
       "    </tr>\n",
       "    <tr>\n",
       "      <th>1</th>\n",
       "      <td>BRCA1</td>\n",
       "      <td>5.5</td>\n",
       "      <td>Breast</td>\n",
       "      <td>Cancer</td>\n",
       "      <td>0.679012</td>\n",
       "    </tr>\n",
       "    <tr>\n",
       "      <th>2</th>\n",
       "      <td>EGFR</td>\n",
       "      <td>8.1</td>\n",
       "      <td>Lung</td>\n",
       "      <td>Cancer</td>\n",
       "      <td>1.000000</td>\n",
       "    </tr>\n",
       "    <tr>\n",
       "      <th>3</th>\n",
       "      <td>MYC</td>\n",
       "      <td>6.3</td>\n",
       "      <td>Brain</td>\n",
       "      <td>Healthy</td>\n",
       "      <td>0.777778</td>\n",
       "    </tr>\n",
       "    <tr>\n",
       "      <th>4</th>\n",
       "      <td>CDK2</td>\n",
       "      <td>4.9</td>\n",
       "      <td>Hepatic</td>\n",
       "      <td>Cancer</td>\n",
       "      <td>0.604938</td>\n",
       "    </tr>\n",
       "  </tbody>\n",
       "</table>\n",
       "</div>"
      ],
      "text/plain": [
       "    Gene  Expr   Tissue Condition  Expr_Norm\n",
       "0   TP53   7.2  Hepatic   Healthy   0.888889\n",
       "1  BRCA1   5.5   Breast    Cancer   0.679012\n",
       "2   EGFR   8.1     Lung    Cancer   1.000000\n",
       "3    MYC   6.3    Brain   Healthy   0.777778\n",
       "4   CDK2   4.9  Hepatic    Cancer   0.604938"
      ]
     },
     "execution_count": 4,
     "metadata": {},
     "output_type": "execute_result"
    }
   ],
   "source": [
    "# Rename columns for clarity\n",
    "df.rename(columns={\"Expression_Level\": \"Expr\"}, inplace=True)\n",
    "\n",
    "# Add a normalized expression column\n",
    "df[\"Expr_Norm\"] = df[\"Expr\"] / df[\"Expr\"].max()\n",
    "\n",
    "# Replace tissue names for consistency\n",
    "df[\"Tissue\"] = df[\"Tissue\"].replace({\"Liver\": \"Hepatic\"})\n",
    "\n",
    "df"
   ]
  },
  {
   "cell_type": "markdown",
   "metadata": {
    "id": "9PtkgqlWuEd4"
   },
   "source": [
    "## 🔬 Filtering and Grouping\n",
    "\n",
    "We often want to:\n",
    "- Focus on specific conditions (e.g., cancer samples)\n",
    "- Compare groups (e.g., tissues)\n",
    "\n",
    "Here, we:\n",
    "- Filter rows where `Condition == 'Cancer'`\n",
    "- Group by `Tissue` and compute average and maximum expression\n",
    "\n",
    "This mimics comparing experimental replicates or conditions.\n"
   ]
  },
  {
   "cell_type": "code",
   "execution_count": 5,
   "metadata": {
    "id": "3AFMH_mvWFd1"
   },
   "outputs": [
    {
     "data": {
      "text/html": [
       "<div>\n",
       "<style scoped>\n",
       "    .dataframe tbody tr th:only-of-type {\n",
       "        vertical-align: middle;\n",
       "    }\n",
       "\n",
       "    .dataframe tbody tr th {\n",
       "        vertical-align: top;\n",
       "    }\n",
       "\n",
       "    .dataframe thead th {\n",
       "        text-align: right;\n",
       "    }\n",
       "</style>\n",
       "<table border=\"1\" class=\"dataframe\">\n",
       "  <thead>\n",
       "    <tr style=\"text-align: right;\">\n",
       "      <th></th>\n",
       "      <th>Gene</th>\n",
       "      <th>Expr</th>\n",
       "      <th>Tissue</th>\n",
       "      <th>Condition</th>\n",
       "      <th>Expr_Norm</th>\n",
       "    </tr>\n",
       "  </thead>\n",
       "  <tbody>\n",
       "    <tr>\n",
       "      <th>1</th>\n",
       "      <td>BRCA1</td>\n",
       "      <td>5.5</td>\n",
       "      <td>Breast</td>\n",
       "      <td>Cancer</td>\n",
       "      <td>0.679012</td>\n",
       "    </tr>\n",
       "    <tr>\n",
       "      <th>2</th>\n",
       "      <td>EGFR</td>\n",
       "      <td>8.1</td>\n",
       "      <td>Lung</td>\n",
       "      <td>Cancer</td>\n",
       "      <td>1.000000</td>\n",
       "    </tr>\n",
       "    <tr>\n",
       "      <th>4</th>\n",
       "      <td>CDK2</td>\n",
       "      <td>4.9</td>\n",
       "      <td>Hepatic</td>\n",
       "      <td>Cancer</td>\n",
       "      <td>0.604938</td>\n",
       "    </tr>\n",
       "  </tbody>\n",
       "</table>\n",
       "</div>"
      ],
      "text/plain": [
       "    Gene  Expr   Tissue Condition  Expr_Norm\n",
       "1  BRCA1   5.5   Breast    Cancer   0.679012\n",
       "2   EGFR   8.1     Lung    Cancer   1.000000\n",
       "4   CDK2   4.9  Hepatic    Cancer   0.604938"
      ]
     },
     "execution_count": 5,
     "metadata": {},
     "output_type": "execute_result"
    }
   ],
   "source": [
    "# Filter for cancer samples\n",
    "cancer_df = df.query(\"Condition == 'Cancer'\")\n",
    "cancer_df"
   ]
  },
  {
   "cell_type": "code",
   "execution_count": 6,
   "metadata": {
    "id": "s5KbVF3FuMn2"
   },
   "outputs": [
    {
     "data": {
      "text/html": [
       "<div>\n",
       "<style scoped>\n",
       "    .dataframe tbody tr th:only-of-type {\n",
       "        vertical-align: middle;\n",
       "    }\n",
       "\n",
       "    .dataframe tbody tr th {\n",
       "        vertical-align: top;\n",
       "    }\n",
       "\n",
       "    .dataframe thead tr th {\n",
       "        text-align: left;\n",
       "    }\n",
       "\n",
       "    .dataframe thead tr:last-of-type th {\n",
       "        text-align: right;\n",
       "    }\n",
       "</style>\n",
       "<table border=\"1\" class=\"dataframe\">\n",
       "  <thead>\n",
       "    <tr>\n",
       "      <th></th>\n",
       "      <th colspan=\"2\" halign=\"left\">Expr</th>\n",
       "    </tr>\n",
       "    <tr>\n",
       "      <th></th>\n",
       "      <th>mean</th>\n",
       "      <th>max</th>\n",
       "    </tr>\n",
       "    <tr>\n",
       "      <th>Tissue</th>\n",
       "      <th></th>\n",
       "      <th></th>\n",
       "    </tr>\n",
       "  </thead>\n",
       "  <tbody>\n",
       "    <tr>\n",
       "      <th>Brain</th>\n",
       "      <td>6.30</td>\n",
       "      <td>6.3</td>\n",
       "    </tr>\n",
       "    <tr>\n",
       "      <th>Breast</th>\n",
       "      <td>5.50</td>\n",
       "      <td>5.5</td>\n",
       "    </tr>\n",
       "    <tr>\n",
       "      <th>Hepatic</th>\n",
       "      <td>6.05</td>\n",
       "      <td>7.2</td>\n",
       "    </tr>\n",
       "    <tr>\n",
       "      <th>Lung</th>\n",
       "      <td>8.10</td>\n",
       "      <td>8.1</td>\n",
       "    </tr>\n",
       "  </tbody>\n",
       "</table>\n",
       "</div>"
      ],
      "text/plain": [
       "         Expr     \n",
       "         mean  max\n",
       "Tissue            \n",
       "Brain    6.30  6.3\n",
       "Breast   5.50  5.5\n",
       "Hepatic  6.05  7.2\n",
       "Lung     8.10  8.1"
      ]
     },
     "execution_count": 6,
     "metadata": {},
     "output_type": "execute_result"
    }
   ],
   "source": [
    "# Group by tissue and compute mean/max expression\n",
    "grouped = df.groupby(\"Tissue\").agg({\"Expr\": [\"mean\", \"max\"]})\n",
    "grouped"
   ]
  },
  {
   "cell_type": "markdown",
   "metadata": {
    "id": "XXvjH7M4uZCf"
   },
   "source": [
    "## ❗ Missing Data in Biology\n",
    "\n",
    "Missing data is common—due to failed experiments, unreadable files, or low signal.\n",
    "\n",
    "We can:\n",
    "- Detect missing values using `.isna()`\n",
    "- Fill them with statistical estimates (e.g., mean)\n",
    "- Drop them if necessary\n",
    "\n",
    "Always document how you handle missing data—it affects biological interpretation. <br>\n",
    "**Lets create a df with some missing data first**"
   ]
  },
  {
   "cell_type": "code",
   "execution_count": 7,
   "metadata": {
    "id": "2wX-RGOpuhQn"
   },
   "outputs": [
    {
     "name": "stdout",
     "output_type": "stream",
     "text": [
      "Original DataFrame with Missing Data:\n",
      "  SampleID   Age  BiomarkerA  BiomarkerB\n",
      "0       P1  35.0         1.2        15.2\n",
      "1       P2  42.0         1.5        16.5\n",
      "2       P3   NaN         1.1        14.8\n",
      "3       P4  58.0         NaN        17.1\n",
      "\n",
      "Missing values per column:\n",
      "SampleID      0\n",
      "Age           1\n",
      "BiomarkerA    1\n",
      "BiomarkerB    0\n",
      "dtype: int64\n"
     ]
    }
   ],
   "source": [
    "# Create a DataFrame with missing data\n",
    "missing_data = {\n",
    "    \"SampleID\": [\"P1\", \"P2\", \"P3\", \"P4\"],\n",
    "    \"Age\": [35, 42, None, 58],\n",
    "    \"BiomarkerA\": [1.2, 1.5, 1.1, None],\n",
    "    \"BiomarkerB\": [15.2, 16.5, 14.8, 17.1],\n",
    "}\n",
    "missing_df = pd.DataFrame(missing_data)\n",
    "print(\"Original DataFrame with Missing Data:\")\n",
    "print(missing_df)\n",
    "\n",
    "# Check for missing values\n",
    "print(\"\\nMissing values per column:\")\n",
    "print(missing_df.isnull().sum())"
   ]
  },
  {
   "cell_type": "markdown",
   "metadata": {
    "id": "hEl4ZC_JvHMV"
   },
   "source": [
    "**Drop the missing data**<br>\n",
    "The `.dropna()` method removes rows or columns with missing values."
   ]
  },
  {
   "cell_type": "code",
   "execution_count": 8,
   "metadata": {
    "id": "i_BvyEt6vGSf"
   },
   "outputs": [
    {
     "name": "stdout",
     "output_type": "stream",
     "text": [
      "DataFrame after dropping rows with missing values:\n",
      "  SampleID   Age  BiomarkerA  BiomarkerB\n",
      "0       P1  35.0         1.2        15.2\n",
      "1       P2  42.0         1.5        16.5\n"
     ]
    }
   ],
   "source": [
    "# Create a new DataFrame by dropping all rows with any missing values\n",
    "df_dropped = missing_df.dropna()\n",
    "print(\"DataFrame after dropping rows with missing values:\")\n",
    "print(df_dropped)"
   ]
  },
  {
   "cell_type": "markdown",
   "metadata": {
    "id": "mW7OI4vHvfOI"
   },
   "source": [
    "**Fill the Missing Data**<br>\n",
    "The `.fillna()` method replaces missing values with a specified value. A common approach is to fill missing values with the mean or median of the column."
   ]
  },
  {
   "cell_type": "code",
   "execution_count": 9,
   "metadata": {
    "id": "9ADapuOavqC3"
   },
   "outputs": [
    {
     "name": "stdout",
     "output_type": "stream",
     "text": [
      "DataFrame after filling missing values:\n",
      "  SampleID   Age  BiomarkerA  BiomarkerB\n",
      "0       P1  35.0         1.2        15.2\n",
      "1       P2  42.0         1.5        16.5\n",
      "2       P3  45.0         1.1        14.8\n",
      "3       P4  58.0         1.2        17.1\n"
     ]
    }
   ],
   "source": [
    "# Calculate the mean age and median of BiomarkerA\n",
    "mean_age = missing_df[\"Age\"].mean()\n",
    "median_biomarker_a = missing_df[\"BiomarkerA\"].median()\n",
    "\n",
    "# Fill missing 'Age' with the mean and missing 'BiomarkerA' with the median\n",
    "df_filled = missing_df.fillna(value={\"Age\": mean_age, \"BiomarkerA\": median_biomarker_a})\n",
    "print(\"DataFrame after filling missing values:\")\n",
    "print(df_filled)"
   ]
  },
  {
   "cell_type": "markdown",
   "metadata": {
    "id": "ouzncapULNqY"
   },
   "source": [
    "I hope you are learning something new. Keep practicing"
   ]
  }
 ],
 "metadata": {
  "colab": {
   "authorship_tag": "ABX9TyPLFf1XCtZcStRSuvzxiTff",
   "include_colab_link": true,
   "provenance": []
  },
  "kernelspec": {
   "display_name": "python-for-lifescience (3.11.10)",
   "language": "python",
   "name": "python3"
  },
  "language_info": {
   "codemirror_mode": {
    "name": "ipython",
    "version": 3
   },
   "file_extension": ".py",
   "mimetype": "text/x-python",
   "name": "python",
   "nbconvert_exporter": "python",
   "pygments_lexer": "ipython3",
   "version": "3.11.10"
  }
 },
 "nbformat": 4,
 "nbformat_minor": 0
}
