{
 "cells": [
  {
   "cell_type": "markdown",
   "metadata": {
    "colab_type": "text",
    "id": "view-in-github"
   },
   "source": [
    "<a href=\"https://colab.research.google.com/github/Ash100/Python_for_Lifescience/blob/main/Chapter_5%3ANumPy_for_Numerical_Data.ipynb\" target=\"_parent\"><img src=\"https://colab.research.google.com/assets/colab-badge.svg\" alt=\"Open In Colab\"/></a>"
   ]
  },
  {
   "cell_type": "markdown",
   "metadata": {
    "id": "3WymYt-7-3YH"
   },
   "source": [
    "# Learn Python for Biological Data Analysis\n",
    "## **Chapter 5:** NumPy for Numerical Data\n",
    "\n",
    "This course is designed and taught by **Dr. Ashfaq Ahmad**. During teaching I will use all the examples from the Biological Sciences or Life Sciences."
   ]
  },
  {
   "cell_type": "markdown",
   "metadata": {
    "id": "TVBfuHxB_Bpy"
   },
   "source": [
    "## 📅 Course Outline\n",
    "\n",
    "---\n",
    "\n",
    "## 🏗️ Foundation (Weeks 1–2)\n",
    "\n",
    "### 📘 Chapter 1: Getting Started with Python and Colab [Watch Lecture](https://youtu.be/BKe2CmiG_TU)\n",
    "- Introduction to Google Colab interface\n",
    "- Basic Python syntax and data types\n",
    "- Variables, strings, and basic operations\n",
    "- Print statements and comments\n",
    "\n",
    "### 📘 Chapter 2: Control Structures [Watch Lecture](https://youtu.be/uPHeqVb4Mo0)\n",
    "- Conditional statements (`if`/`else`)\n",
    "- Loops (`for` and `while`)\n",
    "- Basic functions and scope\n",
    "\n",
    "---\n",
    "\n",
    "## 🧬 Data Handling (Weeks 3–4)\n",
    "\n",
    "### 📘 Chapter 3: Data Structures for Biology [Watch Lecture](https://youtu.be/x1IJwSYhNZg)\n",
    "- Lists and tuples (storing sequences, experimental data)\n",
    "- Dictionaries (gene annotations, species data)\n",
    "- Sets (unique identifiers, sample collections)\n",
    "\n",
    "### 📘 Chapter 4: Working with Files [Watch Lecture](https://youtu.be/D27MyLpSdks)\n",
    "- Reading and writing text files\n",
    "- Handling CSV files (experimental data)\n",
    "- Basic file operations for biological datasets\n",
    "\n",
    "---\n",
    "\n",
    "## 📊 Scientific Computing (Weeks 5–7)\n",
    "\n",
    "### 📘 Chapter 5: NumPy for Numerical Data\n",
    "- Arrays for storing experimental measurements\n",
    "- Mathematical operations on datasets\n",
    "- Statistical calculations (mean, median, standard deviation)\n",
    "\n",
    "### 📘 Chapter 6: Pandas for Data Analysis\n",
    "- DataFrames for structured biological data\n",
    "- Data cleaning and manipulation\n",
    "- Filtering and grouping experimental results\n",
    "- Handling missing data\n",
    "\n",
    "### 📘 Chapter 7: Data Visualization\n",
    "- Matplotlib basics for scientific plots\n",
    "- Creating publication-quality figures\n",
    "- Specialized plots for biological data (histograms, scatter plots, box plots)\n",
    "\n",
    "---\n",
    "\n",
    "## 🔬 Biological Applications (Weeks 8–10)\n",
    "\n",
    "### 📘 Chapter 8: Sequence Analysis\n",
    "- String manipulation for DNA/RNA sequences\n",
    "- Basic sequence operations (reverse complement, transcription)\n",
    "- Reading FASTA files\n",
    "- Simple sequence statistics\n",
    "\n",
    "### 📘 Chapter 9: Statistical Analysis for Biology\n",
    "- Hypothesis testing basics\n",
    "- t-tests and chi-square tests\n",
    "- Correlation analysis\n",
    "- Introduction to `scipy.stats`\n",
    "\n",
    "### 📘 Chapter 10: Practical Projects\n",
    "- Analyzing gene expression data\n",
    "- Population genetics calculations\n",
    "- Ecological data analysis\n",
    "- Creating reproducible research workflows\n",
    "\n",
    "---\n",
    "\n",
    "## 🚀 Advanced Topics *(Optional – Weeks 11–12)*\n",
    "\n",
    "### 📘 Chapter 11: Bioinformatics Libraries\n",
    "- Introduction to Biopython\n",
    "- Working with biological databases\n",
    "- Phylogenetic analysis basics\n",
    "\n",
    "### 📘 Chapter 12: Best Practices\n",
    "- Code organization and documentation\n",
    "- Error handling\n",
    "- Reproducible research practices\n",
    "- Sharing code and results\n",
    "\n",
    "---\n",
    "\n",
    "✅ We will move from basic programming concepts to practical biological applications, ensuring students can immediately apply what they learn to their research and coursework.\n"
   ]
  },
  {
   "cell_type": "markdown",
   "metadata": {
    "id": "Eu8_pKtE_MUb"
   },
   "source": [
    "##Introduction\n",
    "NumPy is a foundational library in Python for numerical computing. In biology, we often deal with large datasets, from gene expression levels to protein concentrations. NumPy provides a powerful and efficient way to handle these numerical data."
   ]
  },
  {
   "cell_type": "markdown",
   "metadata": {
    "id": "HT8otdy8_bfU"
   },
   "source": [
    "## What is a NumPy Array?\n",
    "A NumPy array is a grid of values, all of the same type, and is indexed by a tuple of non-negative integers. Think of it as a super-charged list that's designed for numerical operations. While a standard Python list can hold different data types and is great for general purpose use, a NumPy array is optimized for performing mathematical operations on entire datasets at once.\n",
    "\n",
    "###Creating an Array\n",
    "We'll start by importing the NumPy library, which is a standard practice. We use the alias `np` to make our code cleaner."
   ]
  },
  {
   "cell_type": "code",
   "execution_count": 1,
   "metadata": {
    "id": "H2vN73C--pb-"
   },
   "outputs": [
    {
     "name": "stdout",
     "output_type": "stream",
     "text": [
      "[2.5 3.1 2.8 3.5 2.9]\n"
     ]
    }
   ],
   "source": [
    "import numpy as np\n",
    "\n",
    "# Creating an array from a list\n",
    "measurements = np.array([2.5, 3.1, 2.8, 3.5, 2.9])\n",
    "print(measurements)"
   ]
  },
  {
   "cell_type": "markdown",
   "metadata": {
    "id": "LygxgVQYAa1i"
   },
   "source": [
    "In the context of biology, this array could represent the lengths of bacterial cells in micrometers, or the optical density readings of a culture over time."
   ]
  },
  {
   "cell_type": "markdown",
   "metadata": {
    "id": "iYauTwUoAnla"
   },
   "source": [
    "### Mathematical Operations on Datasets\n",
    "One of NumPy's key strengths is its ability to perform element-wise operations. This means you can apply a mathematical operation to every single element in an array with a single line of code. This is much faster and more concise than using a for loop.\n",
    "\n",
    "### Scalar Operations\n",
    "You can add, subtract, multiply, or divide an array by a single number (a scalar). For example, if we need to convert our bacterial cell lengths from **micrometers** to **nanometers**, we'd simply multiply the entire array by 1000."
   ]
  },
  {
   "cell_type": "code",
   "execution_count": 2,
   "metadata": {
    "id": "lu975sohA1UL"
   },
   "outputs": [
    {
     "name": "stdout",
     "output_type": "stream",
     "text": [
      "Measurements in nanometers: [2500. 3100. 2800. 3500. 2900.]\n"
     ]
    }
   ],
   "source": [
    "# Our measurements in micrometers\n",
    "micrometers = np.array([2.5, 3.1, 2.8, 3.5, 2.9])\n",
    "\n",
    "# Convert to nanometers\n",
    "nanometers = micrometers * 1000\n",
    "print(f\"Measurements in nanometers: {nanometers}\")"
   ]
  },
  {
   "cell_type": "markdown",
   "metadata": {
    "id": "Yh8Qv_crBJqM"
   },
   "source": [
    "### Array-to-Array Operations\n",
    "You can also perform operations between two arrays. This is useful for comparing or combining different datasets. For example, if we have a second set of measurements and want to find the difference between the two, we can do this directly."
   ]
  },
  {
   "cell_type": "code",
   "execution_count": 3,
   "metadata": {
    "id": "qn7f3sh-BOBC"
   },
   "outputs": [
    {
     "name": "stdout",
     "output_type": "stream",
     "text": [
      "Difference between sets: [-0.1  0.1 -0.1  0.1 -0.1]\n"
     ]
    }
   ],
   "source": [
    "# First set of cell lengths (micrometers)\n",
    "set1 = np.array([2.5, 3.1, 2.8, 3.5, 2.9])\n",
    "\n",
    "# Second set of cell lengths\n",
    "set2 = np.array([2.6, 3.0, 2.9, 3.4, 3.0])\n",
    "\n",
    "# Find the difference between the two sets\n",
    "difference = set1 - set2\n",
    "print(f\"Difference between sets: {difference}\")"
   ]
  },
  {
   "cell_type": "markdown",
   "metadata": {
    "id": "Dw4DrTAoBT1O"
   },
   "source": [
    "###Statistical Calculations\n",
    "NumPy makes it incredibly easy to compute common statistical measures on our biological data. These functions are built directly into the NumPy library and operate on the entire array.\n",
    "\n",
    "###Mean\n",
    "The mean (average) is a central measure of a dataset. In biology, we often calculate the mean of replicates to determine the average effect of a treatment."
   ]
  },
  {
   "cell_type": "code",
   "execution_count": 4,
   "metadata": {
    "id": "-4z6wUNuBYxr"
   },
   "outputs": [
    {
     "name": "stdout",
     "output_type": "stream",
     "text": [
      "Average heart rate: 123.0\n"
     ]
    }
   ],
   "source": [
    "Ash = np.array([120, 125, 118, 130, 122])  # Heart rate measurements\n",
    "\n",
    "# Calculate the mean\n",
    "average_heart_rate = np.mean(Ash)\n",
    "print(f\"Average heart rate: {average_heart_rate}\")"
   ]
  },
  {
   "cell_type": "markdown",
   "metadata": {
    "id": "qaFTpNrWBfVz"
   },
   "source": [
    "###Median\n",
    "The median is the middle value of a dataset. It's especially useful when your data might have outliers, as the median is less affected by extreme values than the mean."
   ]
  },
  {
   "cell_type": "code",
   "execution_count": 5,
   "metadata": {
    "id": "HrVivOtFBixU"
   },
   "outputs": [
    {
     "name": "stdout",
     "output_type": "stream",
     "text": [
      "Median gene expression: 12.0\n"
     ]
    }
   ],
   "source": [
    "# A dataset with an outlier\n",
    "gene_expression = np.array([10, 12, 11, 13, 200])\n",
    "\n",
    "# Calculate the median\n",
    "median_expression = np.median(gene_expression)\n",
    "print(f\"Median gene expression: {median_expression}\")"
   ]
  },
  {
   "cell_type": "markdown",
   "metadata": {
    "id": "VMA7uYogBoYq"
   },
   "source": [
    "###Standard Deviation\n",
    "The standard deviation measures the amount of variation or dispersion of a set of values. A low standard deviation indicates that the values tend to be close to the mean, while a high standard deviation indicates that the values are spread out over a wider range. This is crucial for understanding the variability in our biological experiments."
   ]
  },
  {
   "cell_type": "code",
   "execution_count": 6,
   "metadata": {
    "id": "8wBc_B4LBsXh"
   },
   "outputs": [
    {
     "name": "stdout",
     "output_type": "stream",
     "text": [
      "Standard deviation of heart rates: 4.1952353926806065\n"
     ]
    }
   ],
   "source": [
    "# Let's use our heart rate data again\n",
    "data = np.array([120, 125, 118, 130, 122])\n",
    "\n",
    "# Calculate the standard deviation\n",
    "std_dev = np.std(data)\n",
    "print(f\"Standard deviation of heart rates: {std_dev}\")"
   ]
  },
  {
   "cell_type": "markdown",
   "metadata": {
    "id": "jAvStZd2B5t7"
   },
   "source": [
    "###Example 1. <br>Arrays for Storing Experimental Measurements\n",
    "Suppose we measured enzyme activity (in μmol/min) across 5 samples:"
   ]
  },
  {
   "cell_type": "code",
   "execution_count": 7,
   "metadata": {
    "id": "-_UcZyWcCIIN"
   },
   "outputs": [
    {
     "name": "stdout",
     "output_type": "stream",
     "text": [
      "Enzyme activity: [12.5 15.3 14.8 13.1 16. ]\n"
     ]
    }
   ],
   "source": [
    "enzyme_activity = np.array([12.5, 15.3, 14.8, 13.1, 16.0])\n",
    "print(\"Enzyme activity:\", enzyme_activity)"
   ]
  },
  {
   "cell_type": "markdown",
   "metadata": {
    "id": "bEmPK1b4CS0b"
   },
   "source": [
    "###Normalize Enzyme Activity\n",
    "We often normalize data to compare across experiments:"
   ]
  },
  {
   "cell_type": "code",
   "execution_count": 8,
   "metadata": {
    "id": "NPoEqNCSCW6B"
   },
   "outputs": [
    {
     "name": "stdout",
     "output_type": "stream",
     "text": [
      "Normalized activity: [0.87168759 1.06694561 1.0320781  0.91352859 1.11576011]\n"
     ]
    }
   ],
   "source": [
    "mean_activity = np.mean(enzyme_activity)\n",
    "normalized_activity = enzyme_activity / mean_activity\n",
    "print(\"Normalized activity:\", normalized_activity)"
   ]
  },
  {
   "cell_type": "markdown",
   "metadata": {
    "id": "IyJ1oAsrCdRz"
   },
   "source": [
    "###Fold Change in Gene Expression Data"
   ]
  },
  {
   "cell_type": "code",
   "execution_count": 9,
   "metadata": {
    "id": "C3KrCSTIChcy"
   },
   "outputs": [
    {
     "name": "stdout",
     "output_type": "stream",
     "text": [
      "Fold change: [3.  2.  1.5]\n"
     ]
    }
   ],
   "source": [
    "control_expr = np.array([100, 200, 150])\n",
    "treated_expr = np.array([300, 400, 225])\n",
    "\n",
    "fold_change = treated_expr / control_expr\n",
    "print(\"Fold change:\", fold_change)"
   ]
  },
  {
   "cell_type": "markdown",
   "metadata": {
    "id": "OnRBi5xWZ_xl"
   },
   "source": [
    "### Mean, Median, Standard Deviation"
   ]
  },
  {
   "cell_type": "code",
   "execution_count": 10,
   "metadata": {
    "id": "Nitavg05aE28"
   },
   "outputs": [
    {
     "name": "stdout",
     "output_type": "stream",
     "text": [
      "Mean: 14.34\n",
      "Median: 14.8\n",
      "Standard Deviation: 1.3275541420220873\n"
     ]
    }
   ],
   "source": [
    "print(\"Mean:\", np.mean(enzyme_activity))\n",
    "print(\"Median:\", np.median(enzyme_activity))\n",
    "print(\"Standard Deviation:\", np.std(enzyme_activity))"
   ]
  },
  {
   "cell_type": "markdown",
   "metadata": {
    "id": "mogRA6WBaMyl"
   },
   "source": [
    "### Exercise for you"
   ]
  },
  {
   "cell_type": "code",
   "execution_count": 11,
   "metadata": {
    "id": "AGod4KJCaRE0"
   },
   "outputs": [],
   "source": [
    "protein_conc = np.array([2.5, 3.0, 2.8, 3.2, 2.9, 3.1])"
   ]
  },
  {
   "cell_type": "markdown",
   "metadata": {
    "id": "CZ-GFA4caVA0"
   },
   "source": [
    "Calculate Mean, Median, Standard Deviation and Normalize the dataset for the above Array. You can use the below empty cells."
   ]
  },
  {
   "cell_type": "code",
   "execution_count": null,
   "metadata": {
    "id": "bsVBEdPCanOt"
   },
   "outputs": [],
   "source": []
  },
  {
   "cell_type": "code",
   "execution_count": null,
   "metadata": {
    "id": "soPLytkuaoAu"
   },
   "outputs": [],
   "source": []
  },
  {
   "cell_type": "code",
   "execution_count": null,
   "metadata": {
    "id": "7KoVCouDan8M"
   },
   "outputs": [],
   "source": []
  },
  {
   "cell_type": "code",
   "execution_count": null,
   "metadata": {
    "id": "HKsUrtb7anlc"
   },
   "outputs": [],
   "source": []
  },
  {
   "cell_type": "code",
   "execution_count": null,
   "metadata": {
    "id": "URweKd20kFwG"
   },
   "outputs": [],
   "source": []
  },
  {
   "cell_type": "code",
   "execution_count": null,
   "metadata": {
    "id": "S1H7vrmhkGFc"
   },
   "outputs": [],
   "source": []
  },
  {
   "cell_type": "markdown",
   "metadata": {
    "id": "jx6zGQ3lapXd"
   },
   "source": [
    "### Thank you for taking interests in this class."
   ]
  }
 ],
 "metadata": {
  "colab": {
   "authorship_tag": "ABX9TyMnizrnZibigQnvVNjrzpZA",
   "include_colab_link": true,
   "provenance": []
  },
  "kernelspec": {
   "display_name": "python-for-lifescience (3.11.10)",
   "language": "python",
   "name": "python3"
  },
  "language_info": {
   "codemirror_mode": {
    "name": "ipython",
    "version": 3
   },
   "file_extension": ".py",
   "mimetype": "text/x-python",
   "name": "python",
   "nbconvert_exporter": "python",
   "pygments_lexer": "ipython3",
   "version": "3.11.10"
  }
 },
 "nbformat": 4,
 "nbformat_minor": 0
}
