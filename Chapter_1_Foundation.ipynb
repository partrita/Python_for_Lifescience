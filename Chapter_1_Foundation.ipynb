{
  "cells": [
    {
      "cell_type": "markdown",
      "metadata": {
        "colab_type": "text",
        "id": "view-in-github"
      },
      "source": [
        "<a href=\"https://colab.research.google.com/github/Ash100/Python_for_Lifescience/blob/main/Chapter_1_Foundation.ipynb\" target=\"_parent\"><img src=\"https://colab.research.google.com/assets/colab-badge.svg\" alt=\"Open In Colab\"/></a>"
      ]
    },
    {
      "cell_type": "markdown",
      "metadata": {
        "id": "71Hu14a9KPKy"
      },
      "source": [
        "# Learn Python for Biological Science\n",
        "\n",
        "This course is designed and taught by **Dr. Ashfaq Ahmad**. During teaching I will use all the examples from the Biological Sciences or Life Sciences."
      ]
    },
    {
      "cell_type": "markdown",
      "metadata": {
        "id": "uabyogLRNvaB"
      },
      "source": [
        "## 📅 Course Outline\n",
        "\n",
        "---\n",
        "\n",
        "## 🏗️ Foundation (Weeks 1–2)\n",
        "\n",
        "### 📘 Chapter 1: Getting Started with Python and Colab\n",
        "- Introduction to Google Colab interface\n",
        "- Basic Python syntax and data types\n",
        "- Variables, strings, and basic operations\n",
        "- Print statements and comments\n",
        "\n",
        "### 📘 Chapter 2: Control Structures\n",
        "- Conditional statements (`if`/`else`)\n",
        "- Loops (`for` and `while`)\n",
        "- Basic functions and scope\n",
        "\n",
        "---\n",
        "\n",
        "## 🧬 Data Handling (Weeks 3–4)\n",
        "\n",
        "### 📘 Chapter 3: Data Structures for Biology\n",
        "- Lists and tuples (storing sequences, experimental data)\n",
        "- Dictionaries (gene annotations, species data)\n",
        "- Sets (unique identifiers, sample collections)\n",
        "\n",
        "### 📘 Chapter 4: Working with Files\n",
        "- Reading and writing text files\n",
        "- Handling CSV files (experimental data)\n",
        "- Basic file operations for biological datasets\n",
        "\n",
        "---\n",
        "\n",
        "## 📊 Scientific Computing (Weeks 5–7)\n",
        "\n",
        "### 📘 Chapter 5: NumPy for Numerical Data\n",
        "- Arrays for storing experimental measurements\n",
        "- Mathematical operations on datasets\n",
        "- Statistical calculations (mean, median, standard deviation)\n",
        "\n",
        "### 📘 Chapter 6: Pandas for Data Analysis\n",
        "- DataFrames for structured biological data\n",
        "- Data cleaning and manipulation\n",
        "- Filtering and grouping experimental results\n",
        "- Handling missing data\n",
        "\n",
        "### 📘 Chapter 7: Data Visualization\n",
        "- Matplotlib basics for scientific plots\n",
        "- Creating publication-quality figures\n",
        "- Specialized plots for biological data (histograms, scatter plots, box plots)\n",
        "\n",
        "---\n",
        "\n",
        "## 🔬 Biological Applications (Weeks 8–10)\n",
        "\n",
        "### 📘 Chapter 8: Sequence Analysis\n",
        "- String manipulation for DNA/RNA sequences\n",
        "- Basic sequence operations (reverse complement, transcription)\n",
        "- Reading FASTA files\n",
        "- Simple sequence statistics\n",
        "\n",
        "### 📘 Chapter 9: Statistical Analysis for Biology\n",
        "- Hypothesis testing basics\n",
        "- t-tests and chi-square tests\n",
        "- Correlation analysis\n",
        "- Introduction to `scipy.stats`\n",
        "\n",
        "### 📘 Chapter 10: Practical Projects\n",
        "- Analyzing gene expression data\n",
        "- Population genetics calculations\n",
        "- Ecological data analysis\n",
        "- Creating reproducible research workflows\n",
        "\n",
        "---\n",
        "\n",
        "## 🚀 Advanced Topics *(Optional – Weeks 11–12)*\n",
        "\n",
        "### 📘 Chapter 11: Bioinformatics Libraries\n",
        "- Introduction to Biopython\n",
        "- Working with biological databases\n",
        "- Phylogenetic analysis basics\n",
        "\n",
        "### 📘 Chapter 12: Best Practices\n",
        "- Code organization and documentation\n",
        "- Error handling\n",
        "- Reproducible research practices\n",
        "- Sharing code and results\n",
        "\n",
        "---\n",
        "\n",
        "## 🧠 Key Teaching Strategies\n",
        "\n",
        "1. Start each chapter with biological context – explain why the programming concept matters for their field.\n",
        "2. Use biological datasets throughout – gene sequences, experimental measurements, species data.\n",
        "3. Include hands-on exercises after each concept.\n",
        "4. Emphasize reproducibility – show how code documents their analysis process.\n",
        "5. Build complexity gradually – start with simple examples, then real research scenarios.\n",
        "\n",
        "---\n",
        "\n",
        "✅ This progression moves from basic programming concepts to practical biological applications, ensuring students can immediately apply what they learn to their research and coursework.\n"
      ]
    },
    {
      "cell_type": "markdown",
      "metadata": {
        "id": "B0MgaQZ-fw5F"
      },
      "source": [
        "# **Chapter 1:** Getting Started with Python and Colab\n",
        "# Python for Biological Sciences\n",
        "\n",
        "\n",
        "Welcome to your first Python programming lesson!\n",
        "\n",
        "This notebook is designed specifically for biological science students.\n",
        "You'll learn programming concepts using examples relevant to biology,\n",
        "from DNA sequences to experimental data analysis.\n",
        "\n",
        "By the end of this chapter, you'll be able to:\n",
        "- Navigate Google Colab\n",
        "- Write basic Python code\n",
        "- Work with different data types\n",
        "- Understand variables and basic operations\n",
        "- Use print statements effectively\n"
      ]
    },
    {
      "cell_type": "markdown",
      "metadata": {
        "id": "EO1ZddF5gFQW"
      },
      "source": [
        "# ========================================================================\n",
        "# SECTION 1: INTRODUCTION TO GOOGLE COLAB\n",
        "# =======================================================================\n",
        "\n",
        "\n",
        "🔬 **WHAT IS GOOGLE COLAB?**\n",
        "\n",
        "Google Colab is a free online platform that lets you write and run Python code\n",
        "in your browser - no installation required! It's perfect for:\n",
        "- Data analysis\n",
        "- Creating graphs and visualizations\n",
        "- Sharing your research code\n",
        "- Collaborating with colleagues\n",
        "\n",
        "🧬 **WHY PYTHON FOR BIOLOGY?**\n",
        "- Analyze DNA sequences\n",
        "- Process experimental data\n",
        "- Create publication-quality graphs\n",
        "- Automate repetitive calculations\n",
        "- Share reproducible research\n"
      ]
    },
    {
      "cell_type": "markdown",
      "metadata": {
        "id": "UQD22QvLghLl"
      },
      "source": [
        "# =============================================================\n",
        "# SECTION 2: YOUR FIRST PYTHON CODE\n",
        "# ==============================================================\n",
        "\n",
        "# Let's start with the traditional first program - but with a biological twist!"
      ]
    },
    {
      "cell_type": "code",
      "execution_count": 1,
      "metadata": {
        "id": "MZ5URZ9Cgo8c"
      },
      "outputs": [
        {
          "name": "stdout",
          "output_type": "stream",
          "text": [
            "Welcome to Python for Biology!\n"
          ]
        }
      ],
      "source": [
        "print(\"Welcome to Python for Biology!\")"
      ]
    },
    {
      "cell_type": "code",
      "execution_count": 2,
      "metadata": {
        "id": "ACJ2P7MFgwQp"
      },
      "outputs": [
        {
          "ename": "SyntaxError",
          "evalue": "invalid syntax. Perhaps you forgot a comma? (3614472746.py, line 1)",
          "output_type": "error",
          "traceback": [
            "  \u001b[36mCell\u001b[39m\u001b[36m \u001b[39m\u001b[32mIn[2]\u001b[39m\u001b[32m, line 1\u001b[39m\n\u001b[31m    \u001b[39m\u001b[31mprint(Welcome to Python for Biology)\u001b[39m\n          ^\n\u001b[31mSyntaxError\u001b[39m\u001b[31m:\u001b[39m invalid syntax. Perhaps you forgot a comma?\n"
          ]
        }
      ],
      "source": [
        "print(Welcome to Python for Biology)"
      ]
    },
    {
      "cell_type": "code",
      "execution_count": null,
      "metadata": {
        "id": "ylTsHqjwhWum"
      },
      "outputs": [],
      "source": []
    },
    {
      "cell_type": "code",
      "execution_count": null,
      "metadata": {
        "id": "btUwnzhXhXK6"
      },
      "outputs": [],
      "source": []
    },
    {
      "cell_type": "markdown",
      "metadata": {
        "id": "Gyusj-G5hki8"
      },
      "source": [
        "# =================================================================\n",
        "# SECTION 3: COMMENTS - DOCUMENTING YOUR CODE\n",
        "# ==================================================================\n",
        "\n",
        "\n",
        "Comments are text that Python ignores - they're for humans to read.\n",
        "In research, good comments are essential for:\n",
        "- Explaining what your analysis does\n",
        "- Helping collaborators understand your code\n",
        "- Remembering what you did months later\n"
      ]
    },
    {
      "cell_type": "code",
      "execution_count": 3,
      "metadata": {
        "id": "BS7785qbh0pj"
      },
      "outputs": [
        {
          "name": "stdout",
          "output_type": "stream",
          "text": [
            "This code will run\n"
          ]
        }
      ],
      "source": [
        "print(\"This code will run\")  # Comment at the end of a line"
      ]
    },
    {
      "cell_type": "markdown",
      "metadata": {
        "id": "dZzi5e7hh-Zy"
      },
      "source": [
        "# This is a single-line comment\n",
        "print(\"This code will run\")  # Comment at the end of a line\n",
        "\n",
        "This is a multi-line comment (docstring).\n",
        "Use it for longer explanations of your code.\n",
        "Perfect for describing experimental methods!"
      ]
    },
    {
      "cell_type": "code",
      "execution_count": 4,
      "metadata": {
        "id": "lMtLObvpiM4Q"
      },
      "outputs": [],
      "source": [
        "organism = \"E. coli\""
      ]
    },
    {
      "cell_type": "code",
      "execution_count": 5,
      "metadata": {
        "id": "PSu7C4jaiMnS"
      },
      "outputs": [],
      "source": [
        "temperature = 37"
      ]
    },
    {
      "cell_type": "code",
      "execution_count": 6,
      "metadata": {
        "id": "tod1i9RAiY0i"
      },
      "outputs": [
        {
          "name": "stdout",
          "output_type": "stream",
          "text": [
            "Growing E. coli at 37°C\n"
          ]
        }
      ],
      "source": [
        "print(f\"Growing {organism} at {temperature}°C\")"
      ]
    },
    {
      "cell_type": "code",
      "execution_count": 7,
      "metadata": {
        "id": "v6BOcDr7i2B7"
      },
      "outputs": [],
      "source": [
        "Boy = \"David\"\n",
        "Age = 25\n",
        "Country = \"USA\""
      ]
    },
    {
      "cell_type": "code",
      "execution_count": 8,
      "metadata": {
        "id": "sHUFmJbqjOuF"
      },
      "outputs": [
        {
          "name": "stdout",
          "output_type": "stream",
          "text": [
            "David is of 25 years old living in USA \n"
          ]
        }
      ],
      "source": [
        "print(f\"{Boy} is of {Age} years old living in {Country} \")"
      ]
    },
    {
      "cell_type": "markdown",
      "metadata": {
        "id": "6o5YgxnpjxB4"
      },
      "source": [
        "# ===============================================================\n",
        "# SECTION 4: VARIABLES - STORING YOUR DATA\n",
        "# =================================================================\n",
        "\n",
        "Variables are containers for storing data values.\n",
        "Think of them as labeled test tubes in your lab!\n",
        "\n",
        "🧪 NAMING RULES FOR VARIABLES:\n",
        "- Must start with a letter or underscore\n",
        "- Can contain letters, numbers, and underscores\n",
        "- Case-sensitive (DNA ≠ dna)\n",
        "- Use descriptive names"
      ]
    },
    {
      "cell_type": "markdown",
      "metadata": {
        "id": "svEx0_Ac14JH"
      },
      "source": [
        "## 🧮 VARIABLES in Python\n",
        "\n",
        "### ✅ What is a Variable?\n",
        "\n",
        "A **variable** is a **name** that stores a **value** in memory so you can use it later in your code.\n",
        "\n",
        "Think of it like a labeled container that holds data.\n",
        "\n",
        "---"
      ]
    },
    {
      "cell_type": "code",
      "execution_count": 9,
      "metadata": {
        "id": "Cgkxz54SkWYx"
      },
      "outputs": [],
      "source": [
        "# Examples of good variable names for biology\n",
        "gene_name = \"BRCA1\"\n",
        "patient_age = 45\n",
        "dna_concentration = 250.5\n",
        "is_mutation_present = True"
      ]
    },
    {
      "cell_type": "code",
      "execution_count": 10,
      "metadata": {
        "id": "3f9O0ZPpkZCZ"
      },
      "outputs": [
        {
          "ename": "SyntaxError",
          "evalue": "invalid decimal literal (1583297447.py, line 3)",
          "output_type": "error",
          "traceback": [
            "  \u001b[36mCell\u001b[39m\u001b[36m \u001b[39m\u001b[32mIn[10]\u001b[39m\u001b[32m, line 3\u001b[39m\n\u001b[31m    \u001b[39m\u001b[31m2gene = \"BRCA1\"  # Starts with number (ERROR!)\u001b[39m\n    ^\n\u001b[31mSyntaxError\u001b[39m\u001b[31m:\u001b[39m invalid decimal literal\n"
          ]
        }
      ],
      "source": [
        "# Examples of poor variable names\n",
        "x = \"BRCA1\"  # Not descriptive\n",
        "2gene = \"BRCA1\"  # Starts with number (ERROR!)\n",
        "gene-name = \"BRCA1\"  # Contains hyphen (ERROR!)"
      ]
    },
    {
      "cell_type": "code",
      "execution_count": 11,
      "metadata": {
        "id": "yJfM_ktBkfDA"
      },
      "outputs": [
        {
          "name": "stdout",
          "output_type": "stream",
          "text": [
            "Gene: BRCA1\n",
            "Patient age: 45\n",
            "DNA concentration: 250.5 ng/μL\n",
            "Mutation present: True\n"
          ]
        }
      ],
      "source": [
        "# Print variables to see their values\n",
        "print(\"Gene:\", gene_name)\n",
        "print(\"Patient age:\", patient_age)\n",
        "print(\"DNA concentration:\", dna_concentration, \"ng/μL\")\n",
        "print(\"Mutation present:\", is_mutation_present)"
      ]
    },
    {
      "cell_type": "code",
      "execution_count": 12,
      "metadata": {
        "id": "ERBNPLUIktwg"
      },
      "outputs": [
        {
          "name": "stdout",
          "output_type": "stream",
          "text": [
            "Gene: BRCA1\n"
          ]
        }
      ],
      "source": [
        "print(\"Gene:\", gene_name)"
      ]
    },
    {
      "cell_type": "code",
      "execution_count": 13,
      "metadata": {
        "id": "ooP0JoJ6lNrd"
      },
      "outputs": [
        {
          "name": "stdout",
          "output_type": "stream",
          "text": [
            "Patient age: 45\n"
          ]
        }
      ],
      "source": [
        "print(\"Patient age:\", patient_age)"
      ]
    },
    {
      "cell_type": "code",
      "execution_count": 14,
      "metadata": {
        "id": "SPRQ5dvIlR7M"
      },
      "outputs": [
        {
          "name": "stdout",
          "output_type": "stream",
          "text": [
            "DNA concentration: 250.5 ng/μL\n"
          ]
        }
      ],
      "source": [
        "print(\"DNA concentration:\", dna_concentration, \"ng/μL\")"
      ]
    },
    {
      "cell_type": "code",
      "execution_count": 15,
      "metadata": {
        "id": "2MZadiG4lWbK"
      },
      "outputs": [
        {
          "name": "stdout",
          "output_type": "stream",
          "text": [
            "Mutation present: True\n"
          ]
        }
      ],
      "source": [
        "print(\"Mutation present:\", is_mutation_present)"
      ]
    },
    {
      "cell_type": "markdown",
      "metadata": {
        "id": "1YTijHdglurb"
      },
      "source": [
        "### **EXERCISE:** Create variables for your own biological data\n",
        "\n",
        "### Example: species_name, sample_size, experiment_date"
      ]
    },
    {
      "cell_type": "code",
      "execution_count": null,
      "metadata": {
        "id": "jD81QXuUl4ip"
      },
      "outputs": [],
      "source": []
    },
    {
      "cell_type": "code",
      "execution_count": null,
      "metadata": {
        "id": "KmJcb8Eil4UX"
      },
      "outputs": [],
      "source": []
    },
    {
      "cell_type": "markdown",
      "metadata": {
        "id": "lm0VeNEguwH7"
      },
      "source": [
        "# ===============================================================\n",
        "# SECTION 5: DATA TYPES - DIFFERENT KINDS OF INFORMATION\n",
        "# ================================================================\n",
        "\n",
        "\n",
        "Python has several basic data types. Let's explore them with biological examples:\n"
      ]
    },
    {
      "cell_type": "markdown",
      "metadata": {
        "id": "cON5WuqQ2QSE"
      },
      "source": [
        "## 🧬 DATA TYPES in Python\n",
        "\n",
        "Python has several **built-in data types** that describe the kind of data a variable holds.\n",
        "\n",
        "Understanding data types is essential for writing correct and efficient code.\n",
        "\n",
        "---\n",
        "\n",
        "### ✅ Common Data Types\n",
        "\n",
        "| Type       | Example         | Description                          |\n",
        "|------------|------------------|--------------------------------------|\n",
        "| `int`      | `5`              | Integer (whole number)               |\n",
        "| `float`    | `3.14`           | Decimal number                       |\n",
        "| `str`      | `\"ATGC\"`         | String (text or sequence)            |\n",
        "| `bool`     | `True`, `False`  | Boolean (logical values)             |\n",
        "| `list`     | `[1, 2, 3]`      | Ordered, mutable collection          |\n",
        "| `tuple`    | `(1, 2)`         | Ordered, **immutable** collection    |\n",
        "| `dict`     | `{\"gene\": \"BRCA1\"}` | Key-value pairs                   |\n",
        "| `set`      | `{1, 2, 3}`      | Unordered, **unique** values         |\n",
        "| `NoneType` | `None`           | Represents no value or \"empty\"       |\n",
        "\n",
        "---\n",
        "\n",
        "### 🔬 Examples in Biology\n",
        "\n",
        "```python\n",
        "gene = \"TP53\"                # str\n",
        "length = 393                 # int\n",
        "gc_content = 0.55            # float\n",
        "is_protein_coding = True     # bool\n",
        "bases = [\"A\", \"T\", \"G\", \"C\"] # list"
      ]
    },
    {
      "cell_type": "code",
      "execution_count": 16,
      "metadata": {
        "id": "rlryNV-7wZ9q"
      },
      "outputs": [],
      "source": [
        "# 1. STRINGS (text) - for names, sequences, descriptions\n",
        "species = \"Homo sapiens\"\n",
        "dna_sequence = \"ATCGTAGCTA\"\n",
        "experiment_notes = \"Sample collected from healthy tissue\""
      ]
    },
    {
      "cell_type": "code",
      "execution_count": 17,
      "metadata": {
        "id": "7-1VVWwdw0Jq"
      },
      "outputs": [
        {
          "name": "stdout",
          "output_type": "stream",
          "text": [
            "Species: Homo sapiens\n"
          ]
        }
      ],
      "source": [
        "print(\"Species:\", species)"
      ]
    },
    {
      "cell_type": "code",
      "execution_count": 18,
      "metadata": {
        "id": "EzA3CWN78M4X"
      },
      "outputs": [],
      "source": [
        "dna_sequence = \"ATCGTAGCTA\""
      ]
    },
    {
      "cell_type": "code",
      "execution_count": 19,
      "metadata": {
        "id": "nc7jo33x8PLM"
      },
      "outputs": [],
      "source": [
        "experiment_notes = \"Sample collected from healthy tissue\""
      ]
    },
    {
      "cell_type": "code",
      "execution_count": null,
      "metadata": {
        "id": "AoYIUlgx8UCI"
      },
      "outputs": [],
      "source": []
    },
    {
      "cell_type": "code",
      "execution_count": 20,
      "metadata": {
        "id": "0HpC_6kK8Ubh"
      },
      "outputs": [],
      "source": [
        "# 2. INTEGERS (whole numbers) - for counts, ages, generations\n",
        "chromosome_count = 46\n",
        "patient_count = 120\n",
        "generation_number = 5"
      ]
    },
    {
      "cell_type": "code",
      "execution_count": 21,
      "metadata": {
        "id": "GoFAWo5d8X6q"
      },
      "outputs": [
        {
          "name": "stdout",
          "output_type": "stream",
          "text": [
            "Chromosomes: 46\n"
          ]
        }
      ],
      "source": [
        "print(\"Chromosomes:\", chromosome_count)"
      ]
    },
    {
      "cell_type": "code",
      "execution_count": 22,
      "metadata": {
        "id": "F5AdT55a8dgI"
      },
      "outputs": [
        {
          "name": "stdout",
          "output_type": "stream",
          "text": [
            "Patients in study: 120\n"
          ]
        }
      ],
      "source": [
        "print(\"Patients in study:\", patient_count)"
      ]
    },
    {
      "cell_type": "code",
      "execution_count": 23,
      "metadata": {
        "id": "EJ41Y6Gv8gGZ"
      },
      "outputs": [
        {
          "name": "stdout",
          "output_type": "stream",
          "text": [
            "Generation: 5\n"
          ]
        }
      ],
      "source": [
        "print(\"Generation:\", generation_number)"
      ]
    },
    {
      "cell_type": "code",
      "execution_count": null,
      "metadata": {
        "id": "0XidiFDj8jyX"
      },
      "outputs": [],
      "source": []
    },
    {
      "cell_type": "code",
      "execution_count": 24,
      "metadata": {
        "id": "PHi-M5RP8jto"
      },
      "outputs": [],
      "source": [
        "# 3. FLOATS (decimal numbers) - for measurements, concentrations\n",
        "body_temperature = 37.2\n",
        "ph_level = 7.4\n",
        "protein_concentration = 15.8"
      ]
    },
    {
      "cell_type": "code",
      "execution_count": 25,
      "metadata": {
        "id": "hwBwnnPV8jeB"
      },
      "outputs": [
        {
          "name": "stdout",
          "output_type": "stream",
          "text": [
            "Temperature: 37.2 °C\n",
            "pH level: 7.4\n",
            "Protein concentration: 15.8 mg/mL\n"
          ]
        }
      ],
      "source": [
        "print(\"Temperature:\", body_temperature, \"°C\")\n",
        "print(\"pH level:\", ph_level)\n",
        "print(\"Protein concentration:\", protein_concentration, \"mg/mL\")"
      ]
    },
    {
      "cell_type": "code",
      "execution_count": null,
      "metadata": {
        "id": "9seh89218ulR"
      },
      "outputs": [],
      "source": []
    },
    {
      "cell_type": "code",
      "execution_count": 26,
      "metadata": {
        "id": "JQ9sEH9j8uhn"
      },
      "outputs": [],
      "source": [
        "# 4. BOOLEANS (True/False) - for yes/no questions\n",
        "is_healthy = True\n",
        "mutation_detected = False\n",
        "treatment_effective = True"
      ]
    },
    {
      "cell_type": "code",
      "execution_count": 27,
      "metadata": {
        "id": "1azT9vgS8ucE"
      },
      "outputs": [
        {
          "name": "stdout",
          "output_type": "stream",
          "text": [
            "Patient healthy: True\n",
            "Mutation detected: False\n",
            "Treatment effective: True\n"
          ]
        }
      ],
      "source": [
        "print(\"Patient healthy:\", is_healthy)\n",
        "print(\"Mutation detected:\", mutation_detected)\n",
        "print(\"Treatment effective:\", treatment_effective)"
      ]
    },
    {
      "cell_type": "code",
      "execution_count": 28,
      "metadata": {
        "id": "GTOx96TV897x"
      },
      "outputs": [
        {
          "name": "stdout",
          "output_type": "stream",
          "text": [
            "\n",
            "Data types:\n",
            "Type of species: <class 'str'>\n",
            "Type of chromosome_count: <class 'int'>\n",
            "Type of body_temperature: <class 'float'>\n",
            "Type of is_healthy: <class 'bool'>\n"
          ]
        }
      ],
      "source": [
        "# Check the type of a variable\n",
        "print(\"\\nData types:\")\n",
        "print(\"Type of species:\", type(species))\n",
        "print(\"Type of chromosome_count:\", type(chromosome_count))\n",
        "print(\"Type of body_temperature:\", type(body_temperature))\n",
        "print(\"Type of is_healthy:\", type(is_healthy))"
      ]
    },
    {
      "cell_type": "markdown",
      "metadata": {
        "id": "m3MEFcog9Mpo"
      },
      "source": [
        "# ================================================================\n",
        "# SECTION 6: BASIC OPERATIONS\n",
        "# =================================================================\n",
        "\n",
        "Let's perform some basic operations with biological data"
      ]
    },
    {
      "cell_type": "code",
      "execution_count": 29,
      "metadata": {
        "id": "9V0NVaPJ9W4a"
      },
      "outputs": [],
      "source": [
        "# ARITHMETIC OPERATIONS\n",
        "sample_1_cells = 1000000\n",
        "sample_2_cells = 750000\n",
        "total_cells = sample_1_cells + sample_2_cells"
      ]
    },
    {
      "cell_type": "code",
      "execution_count": 30,
      "metadata": {
        "id": "cPjOW4LL9fzI"
      },
      "outputs": [
        {
          "name": "stdout",
          "output_type": "stream",
          "text": [
            "Sample 1 cells: 1000000\n",
            "Sample 2 cells: 750000\n",
            "Total cells: 1750000\n"
          ]
        }
      ],
      "source": [
        "print(\"Sample 1 cells:\", sample_1_cells)\n",
        "print(\"Sample 2 cells:\", sample_2_cells)\n",
        "print(\"Total cells:\", total_cells)"
      ]
    },
    {
      "cell_type": "code",
      "execution_count": 31,
      "metadata": {
        "id": "iy7KlS0O99Dj"
      },
      "outputs": [],
      "source": [
        "# More arithmetic operations\n",
        "initial_bacteria = 100\n",
        "growth_rate = 2\n",
        "time_hours = 3"
      ]
    },
    {
      "cell_type": "code",
      "execution_count": 32,
      "metadata": {
        "colab": {
          "base_uri": "https://localhost:8080/"
        },
        "id": "Rhe-LG-U-F2c",
        "outputId": "66984be3-e8d0-4ef6-e72d-18ef91eaeeb8"
      },
      "outputs": [
        {
          "name": "stdout",
          "output_type": "stream",
          "text": [
            "After 3 hours: 800 bacteria\n"
          ]
        }
      ],
      "source": [
        "# Bacterial growth calculation\n",
        "final_bacteria = initial_bacteria * (growth_rate ** time_hours)\n",
        "print(f\"After {time_hours} hours: {final_bacteria} bacteria\")"
      ]
    },
    {
      "cell_type": "code",
      "execution_count": 33,
      "metadata": {
        "id": "J-pTmhhy-eE4"
      },
      "outputs": [
        {
          "name": "stdout",
          "output_type": "stream",
          "text": [
            "Full gene identifier: ENSG00000139618_BRCA2\n"
          ]
        }
      ],
      "source": [
        "# STRING OPERATIONS\n",
        "gene_id = \"ENSG00000139618\"\n",
        "gene_symbol = \"BRCA2\"\n",
        "full_identifier = gene_id + \"_\" + gene_symbol\n",
        "\n",
        "print(\"Full gene identifier:\", full_identifier)"
      ]
    },
    {
      "cell_type": "code",
      "execution_count": 34,
      "metadata": {
        "id": "SzhvEF7F-tiY"
      },
      "outputs": [
        {
          "name": "stdout",
          "output_type": "stream",
          "text": [
            "Repeated start codon: ATGATGATG\n"
          ]
        }
      ],
      "source": [
        "# STRING REPETITION (useful for creating sequences)\n",
        "codon = \"ATG\"\n",
        "start_sequence = codon * 3\n",
        "print(\"Repeated start codon:\", start_sequence)"
      ]
    },
    {
      "cell_type": "markdown",
      "metadata": {
        "id": "tiq0mYI9_Bbs"
      },
      "source": [
        "# ===============================================================\n",
        "# SECTION 7: PRINT STATEMENTS - DISPLAYING YOUR RESULTS\n",
        "# ===============================================================\n",
        "The print() function is your main tool for displaying results.\n",
        "Let's explore different ways to format output for biological data.\n"
      ]
    },
    {
      "cell_type": "code",
      "execution_count": 35,
      "metadata": {
        "id": "EsbF4Lf2_pNx"
      },
      "outputs": [
        {
          "name": "stdout",
          "output_type": "stream",
          "text": [
            "Drosophila melanogaster\n"
          ]
        }
      ],
      "source": [
        "# Basic printing\n",
        "organism = \"Drosophila melanogaster\"\n",
        "print(organism)"
      ]
    },
    {
      "cell_type": "code",
      "execution_count": 36,
      "metadata": {
        "colab": {
          "base_uri": "https://localhost:8080/"
        },
        "id": "zPVaSr-V_vKz",
        "outputId": "aaf1876d-36c9-409a-8e59-02e0c25de679"
      },
      "outputs": [
        {
          "name": "stdout",
          "output_type": "stream",
          "text": [
            "Gene: white Location: X\n"
          ]
        }
      ],
      "source": [
        "# Printing multiple items\n",
        "gene = \"white\"\n",
        "chromosome = \"X\"\n",
        "print(\"Gene:\", gene, \"Location:\", chromosome)"
      ]
    },
    {
      "cell_type": "code",
      "execution_count": 37,
      "metadata": {
        "id": "91RwwoOXA5FA"
      },
      "outputs": [
        {
          "name": "stdout",
          "output_type": "stream",
          "text": [
            "Culture conditions: 25.5°C, 65% humidity\n"
          ]
        }
      ],
      "source": [
        "# Using f-strings (formatted strings) - RECOMMENDED for biology\n",
        "temperature = 25.5\n",
        "humidity = 65\n",
        "print(f\"Culture conditions: {temperature}°C, {humidity}% humidity\")"
      ]
    },
    {
      "cell_type": "code",
      "execution_count": 38,
      "metadata": {
        "id": "E-Cln0QBA8kF"
      },
      "outputs": [
        {
          "name": "stdout",
          "output_type": "stream",
          "text": [
            "Antibiotic concentration: 0.05 mg/mL\n"
          ]
        }
      ],
      "source": [
        "# Including units and proper formatting\n",
        "concentration = 0.05\n",
        "print(f\"Antibiotic concentration: {concentration} mg/mL\")"
      ]
    },
    {
      "cell_type": "code",
      "execution_count": 39,
      "metadata": {
        "id": "X7GuAPYJBANr"
      },
      "outputs": [
        {
          "name": "stdout",
          "output_type": "stream",
          "text": [
            "π rounded to 2 decimals: 3.14\n"
          ]
        }
      ],
      "source": [
        "# Formatting numbers\n",
        "pi = 3.14159265359\n",
        "print(f\"π rounded to 2 decimals: {pi:.2f}\")"
      ]
    },
    {
      "cell_type": "code",
      "execution_count": 40,
      "metadata": {
        "id": "oYs0q0mfBCrS"
      },
      "outputs": [
        {
          "name": "stdout",
          "output_type": "stream",
          "text": [
            "Sample S001: 250000 cells, 95.0% viable\n"
          ]
        }
      ],
      "source": [
        "# Multiple variables in one f-string\n",
        "sample_id = \"S001\"\n",
        "cell_count = 250000\n",
        "viability = 0.95\n",
        "print(f\"Sample {sample_id}: {cell_count} cells, {viability:.1%} viable\")"
      ]
    },
    {
      "cell_type": "markdown",
      "metadata": {
        "id": "AOabYgfeBeP4"
      },
      "source": [
        "**What does :.1% mean?**\n",
        "It tells Python to:\n",
        "\n",
        "Format the number as a percentage\n",
        "\n",
        "With 1 digit after the decimal point"
      ]
    },
    {
      "cell_type": "markdown",
      "metadata": {
        "id": "H1iM9NV6BvyK"
      },
      "source": []
    },
    {
      "cell_type": "markdown",
      "metadata": {
        "id": "iFHPOVLSB2Ew"
      },
      "source": [
        "# ============================================================\n",
        "# SECTION 8: INTERACTIVE EXERCISES\n",
        "# ============================================================\n",
        "\n",
        "\n",
        "EXERCISE 1: Create Your Lab Profile\n",
        "Create variables for your information and print them nicely."
      ]
    },
    {
      "cell_type": "code",
      "execution_count": 41,
      "metadata": {
        "id": "SYx1qZnrCBTF"
      },
      "outputs": [],
      "source": [
        "# TODO: Fill in your information\n",
        "your_name = \"Your Name Here\"\n",
        "research_area = \"Your Research Area\"\n",
        "favorite_organism = \"Your Favorite Organism\"\n",
        "years_experience = 0\n"
      ]
    },
    {
      "cell_type": "code",
      "execution_count": 42,
      "metadata": {
        "id": "oLgJYpbaCF-8"
      },
      "outputs": [
        {
          "name": "stdout",
          "output_type": "stream",
          "text": [
            "=== LAB MEMBER PROFILE ===\n",
            "Name: Your Name Here\n",
            "Research Area: Your Research Area\n",
            "Favorite Organism: Your Favorite Organism\n",
            "Years of Experience: 0\n"
          ]
        }
      ],
      "source": [
        "print(\"=== LAB MEMBER PROFILE ===\")\n",
        "print(f\"Name: {your_name}\")\n",
        "print(f\"Research Area: {research_area}\")\n",
        "print(f\"Favorite Organism: {favorite_organism}\")\n",
        "print(f\"Years of Experience: {years_experience}\")"
      ]
    },
    {
      "cell_type": "markdown",
      "metadata": {
        "id": "6aYEDGXKCNyT"
      },
      "source": [
        "EXERCISE 2: DNA Sequence Analysis\n",
        "Work with a DNA sequence and extract basic information."
      ]
    },
    {
      "cell_type": "code",
      "execution_count": 43,
      "metadata": {
        "id": "pr6JII1nCk8B"
      },
      "outputs": [],
      "source": [
        "# Given DNA sequence\n",
        "dna_seq = \"ATGCGATCGTAGCTAGCATGC\"\n",
        "\n",
        "# TODO: Calculate and print the following:\n",
        "sequence_length = len(dna_seq)"
      ]
    },
    {
      "cell_type": "markdown",
      "metadata": {
        "id": "Lv79IuwFC3HY"
      },
      "source": [
        "In Python, len() is a built-in function that returns the number of items in an object."
      ]
    },
    {
      "cell_type": "code",
      "execution_count": 44,
      "metadata": {
        "id": "1Nd0lcvjEPK5"
      },
      "outputs": [
        {
          "name": "stdout",
          "output_type": "stream",
          "text": [
            "DNA sequence: ATGCGATCGTAGCTAGCATGC\n",
            "Length: 21 base pairs\n"
          ]
        }
      ],
      "source": [
        "print(f\"DNA sequence: {dna_seq}\")\n",
        "print(f\"Length: {sequence_length} base pairs\")"
      ]
    },
    {
      "cell_type": "code",
      "execution_count": 45,
      "metadata": {
        "id": "9HuYDBPLEWc3"
      },
      "outputs": [],
      "source": [
        "# Count specific nucleotides (we'll learn better ways later!)\n",
        "a_count = dna_seq.count('A')\n",
        "t_count = dna_seq.count('T')\n",
        "g_count = dna_seq.count('G')\n",
        "c_count = dna_seq.count('C')"
      ]
    },
    {
      "cell_type": "markdown",
      "metadata": {
        "id": "RvGhaOEDEmFx"
      },
      "source": [
        "In Python, .count() is a string (or list/tuple) method used to count how many times a specific element or substring appears."
      ]
    },
    {
      "cell_type": "code",
      "execution_count": 46,
      "metadata": {
        "id": "ptcradScEp-I"
      },
      "outputs": [
        {
          "name": "stdout",
          "output_type": "stream",
          "text": [
            "A: 5, T: 5, G: 6, C: 5\n"
          ]
        }
      ],
      "source": [
        "print(f\"A: {a_count}, T: {t_count}, G: {g_count}, C: {c_count}\")"
      ]
    },
    {
      "cell_type": "code",
      "execution_count": 47,
      "metadata": {
        "id": "XJWGwVzNEyfq"
      },
      "outputs": [],
      "source": [
        "# Calculate GC content (important for DNA analysis!)\n",
        "gc_content = (g_count + c_count) / sequence_length"
      ]
    },
    {
      "cell_type": "code",
      "execution_count": 48,
      "metadata": {
        "colab": {
          "base_uri": "https://localhost:8080/"
        },
        "id": "qMDeqjxyE0pM",
        "outputId": "af866f1e-7e94-491b-d5c6-b34b38f60404"
      },
      "outputs": [
        {
          "name": "stdout",
          "output_type": "stream",
          "text": [
            "GC content: 52.38%\n"
          ]
        }
      ],
      "source": [
        "print(f\"GC content: {gc_content:.2%}\")"
      ]
    },
    {
      "cell_type": "markdown",
      "metadata": {
        "id": "sp_XgqxyFQ6i"
      },
      "source": [
        "EXERCISE 3: Experimental Data\n",
        "Practice with typical lab measurements."
      ]
    },
    {
      "cell_type": "code",
      "execution_count": 49,
      "metadata": {
        "id": "CryUcGu2FcBg"
      },
      "outputs": [],
      "source": [
        "# Experimental data\n",
        "experiment_name = \"Protein Expression Analysis\"\n",
        "control_reading = 0.125\n",
        "treatment_reading = 0.847\n",
        "background = 0.05"
      ]
    },
    {
      "cell_type": "code",
      "execution_count": 50,
      "metadata": {
        "id": "h33083oWFiR4"
      },
      "outputs": [],
      "source": [
        "# TODO: Calculate fold change\n",
        "corrected_control = control_reading - background\n",
        "corrected_treatment = treatment_reading - background\n",
        "fold_change = corrected_treatment / corrected_control"
      ]
    },
    {
      "cell_type": "code",
      "execution_count": 51,
      "metadata": {
        "id": "bwPeWtQFFXec"
      },
      "outputs": [
        {
          "name": "stdout",
          "output_type": "stream",
          "text": [
            "Experiment: Protein Expression Analysis\n",
            "Control (corrected): 0.075\n",
            "Treatment (corrected): 0.797\n",
            "Fold change: 10.63x\n"
          ]
        }
      ],
      "source": [
        "print(f\"Experiment: {experiment_name}\")\n",
        "print(f\"Control (corrected): {corrected_control:.3f}\")\n",
        "print(f\"Treatment (corrected): {corrected_treatment:.3f}\")\n",
        "print(f\"Fold change: {fold_change:.2f}x\")"
      ]
    },
    {
      "cell_type": "markdown",
      "metadata": {
        "id": "08vC105OFykS"
      },
      "source": [
        "# ================================================================\n",
        "# SECTION 9: COMMON MISTAKES AND DEBUGGING\n",
        "# =================================================================\n",
        "\n",
        "\n",
        "🚨 COMMON MISTAKES TO AVOID:\n",
        "\n",
        "1. Forgetting quotes around strings\n",
        "2. Using reserved words as variable names\n",
        "3. Case sensitivity issues\n",
        "4. Mixing up data types"
      ]
    },
    {
      "cell_type": "code",
      "execution_count": 52,
      "metadata": {
        "id": "gF2kyfjHF7U7"
      },
      "outputs": [
        {
          "ename": "NameError",
          "evalue": "name 'BRCA1' is not defined",
          "output_type": "error",
          "traceback": [
            "\u001b[31m---------------------------------------------------------------------------\u001b[39m",
            "\u001b[31mNameError\u001b[39m                                 Traceback (most recent call last)",
            "\u001b[36mCell\u001b[39m\u001b[36m \u001b[39m\u001b[32mIn[52]\u001b[39m\u001b[32m, line 2\u001b[39m\n\u001b[32m      1\u001b[39m \u001b[38;5;66;03m# MISTAKE 1: Forgetting quotes (uncomment to see error)\u001b[39;00m\n\u001b[32m----> \u001b[39m\u001b[32m2\u001b[39m gene = \u001b[43mBRCA1\u001b[49m\n",
            "\u001b[31mNameError\u001b[39m: name 'BRCA1' is not defined"
          ]
        }
      ],
      "source": [
        "# MISTAKE 1: Forgetting quotes (uncomment to see error)\n",
        "gene = BRCA1"
      ]
    },
    {
      "cell_type": "code",
      "execution_count": null,
      "metadata": {
        "id": "4x-hhveaGRrB"
      },
      "outputs": [],
      "source": [
        "# MISTAKE 2: Using reserved words\n",
        "class = \"Mammalia\"  # ERROR! 'class' is reserved\n",
        "#organism_class = \"Mammalia\"  # CORRECT"
      ]
    },
    {
      "cell_type": "code",
      "execution_count": null,
      "metadata": {
        "id": "aQnFuzfhGlfm"
      },
      "outputs": [],
      "source": [
        "# MISTAKE 3: Case sensitivity\n",
        "Gene = \"BRCA1\"\n",
        "gene = \"brca1\"\n",
        "print(f\"These are different variables: {Gene} vs {gene}\")"
      ]
    },
    {
      "cell_type": "code",
      "execution_count": null,
      "metadata": {
        "id": "r5MxBc-uGxKj"
      },
      "outputs": [],
      "source": [
        "# MISTAKE 4: Mixing data types incorrectly\n",
        "age = \"25\"  # This is a string, not a number\n",
        "# age_next_year = age + 1  # ERROR! Can't add number to string\n",
        "age_next_year = int(age) + 1  # CORRECT: convert to integer first\n",
        "print(f\"Next year's age: {age_next_year}\")"
      ]
    },
    {
      "cell_type": "markdown",
      "metadata": {
        "id": "2CavkpEiHwEL"
      },
      "source": [
        "# =================================================================\n",
        "# SECTION 10: PRACTICE PROBLEMS\n",
        "# ===================================================================\n",
        "\n",
        "\n",
        "🧬 PRACTICE PROBLEM 1: Culture Media Preparation\n",
        "You need to prepare 500 mL of culture media with specific concentrations."
      ]
    },
    {
      "cell_type": "code",
      "execution_count": null,
      "metadata": {
        "id": "JZ9Tj_V2IBhj"
      },
      "outputs": [],
      "source": [
        "# Given information\n",
        "total_volume = 500  # mL\n",
        "glucose_concentration = 2.0  # g/L\n",
        "nacl_concentration = 0.5  # g/L"
      ]
    },
    {
      "cell_type": "markdown",
      "metadata": {
        "id": "W8eTj3RMIE98"
      },
      "source": [
        "TODO: Calculate how much of each component you need\n",
        "\n",
        "Hint: Convert L to mL, then calculate grams needed"
      ]
    },
    {
      "cell_type": "code",
      "execution_count": null,
      "metadata": {
        "id": "UKS2EDoVIRy5"
      },
      "outputs": [],
      "source": [
        "glucose_needed = (glucose_concentration * total_volume) / 1000\n",
        "nacl_needed = (nacl_concentration * total_volume) / 1000"
      ]
    },
    {
      "cell_type": "code",
      "execution_count": null,
      "metadata": {
        "id": "N9eI66AaIUPA"
      },
      "outputs": [],
      "source": [
        "print(\"=== CULTURE MEDIA RECIPE ===\")\n",
        "print(f\"For {total_volume} mL of media:\")\n",
        "print(f\"Glucose: {glucose_needed} g\")\n",
        "print(f\"NaCl: {nacl_needed} g\")"
      ]
    },
    {
      "cell_type": "markdown",
      "metadata": {
        "id": "2XmPdOpWIrgE"
      },
      "source": [
        "PRACTICE PROBLEM 2: Cell Culture Passage\n",
        "Calculate dilution factors for cell culture."
      ]
    },
    {
      "cell_type": "code",
      "execution_count": null,
      "metadata": {
        "id": "wxKy_mCXIxzz"
      },
      "outputs": [],
      "source": [
        "# Given information\n",
        "current_density = 2000000  # cells/mL\n",
        "target_density = 500000   # cells/mL\n",
        "culture_volume = 10       # mL"
      ]
    },
    {
      "cell_type": "code",
      "execution_count": null,
      "metadata": {
        "id": "5Q1Kn06gI02o"
      },
      "outputs": [],
      "source": [
        "# TODO: Calculate dilution factor and volumes needed\n",
        "dilution_factor = current_density / target_density\n",
        "volume_needed = culture_volume / dilution_factor\n",
        "media_to_add = culture_volume - volume_needed"
      ]
    },
    {
      "cell_type": "code",
      "execution_count": null,
      "metadata": {
        "id": "ezGXqiSYI3jd"
      },
      "outputs": [],
      "source": [
        "print(\"=== CELL PASSAGE CALCULATION ===\")\n",
        "print(f\"Current density: {current_density:,} cells/mL\")\n",
        "print(f\"Target density: {target_density:,} cells/mL\")\n",
        "print(f\"Dilution factor: 1:{dilution_factor:.1f}\")\n",
        "print(f\"Take {volume_needed:.2f} mL of culture\")\n",
        "print(f\"Add {media_to_add:.2f} mL of fresh media\")"
      ]
    },
    {
      "cell_type": "markdown",
      "metadata": {
        "id": "fjbRjJoCJS5N"
      },
      "source": [
        "🏠 HOMEWORK:\n",
        "1. Create a notebook with information about your research project\n",
        "2. Practice calculating molarity and dilutions\n",
        "3. Try working with different DNA sequences\n",
        "4. Experiment with different print formatting options"
      ]
    },
    {
      "cell_type": "markdown",
      "metadata": {
        "id": "cTVyad5bI9PY"
      },
      "source": [
        "# ==============================================================\n",
        "# SECTION 11: SUMMARY AND NEXT STEPS\n",
        "# ================================================================\n",
        "\n",
        "🎉 CONGRATULATIONS! You've completed Chapter 1!\n",
        "\n",
        "You've learned:\n",
        "✅ How to use Google Colab\n",
        "✅ Basic Python syntax\n",
        "✅ Variables and data types\n",
        "✅ Basic operations\n",
        "✅ Print statements and formatting\n",
        "✅ Common mistakes to avoid\n",
        "\n",
        "🔬 BIOLOGICAL APPLICATIONS COVERED:\n",
        "- DNA sequence analysis\n",
        "- Experimental data calculations\n",
        "- Lab calculations (concentrations, dilutions)\n",
        "- Data formatting for research"
      ]
    }
  ],
  "metadata": {
    "colab": {
      "authorship_tag": "ABX9TyMWdQw3iYqwi//R7b4ovm3G",
      "include_colab_link": true,
      "provenance": []
    },
    "kernelspec": {
      "display_name": "python-for-lifescience (3.11.10)",
      "language": "python",
      "name": "python3"
    },
    "language_info": {
      "codemirror_mode": {
        "name": "ipython",
        "version": 3
      },
      "file_extension": ".py",
      "mimetype": "text/x-python",
      "name": "python",
      "nbconvert_exporter": "python",
      "pygments_lexer": "ipython3",
      "version": "3.11.10"
    }
  },
  "nbformat": 4,
  "nbformat_minor": 0
}
