{
  "cells": [
    {
      "cell_type": "markdown",
      "metadata": {
        "colab_type": "text",
        "id": "view-in-github"
      },
      "source": [
        "<a href=\"https://colab.research.google.com/github/Ash100/Python_for_Lifescience/blob/main/Chapter_1_Foundation.ipynb\" target=\"_parent\"><img src=\"https://colab.research.google.com/assets/colab-badge.svg\" alt=\"Colab에서 열기\"/></a>"
      ]
    },
    {
      "cell_type": "markdown",
      "metadata": {
        "id": "71Hu14a9KPKy"
      },
      "source": [
        "# 생명 과학을 위한 파이썬 학습 \n",
        "\n",
        "이 강좌는 **Ashfaq Ahmad 박사님**께서 설계하고 강의하십니다. 강의 전반에 걸쳐 생명 과학 또는 생명 과학 분야의 예시들을 사용할 것입니다."
      ]
    },
    {
      "cell_type": "markdown",
      "metadata": {
        "id": "uabyogLRNvaB"
      },
      "source": [
        "## 📅 강좌 개요\n",
        "\n",
        "---\n",
        "\n",
        "## 🏗️ 기초 (1-2주차)\n",
        "\n",
        "### 📘 1장: 파이썬과 Colab 시작하기\n",
        "- Google Colab 인터페이스 소개\n",
        "- 기본 파이썬 문법 및 데이터 타입\n",
        "- 변수, 문자열 및 기본 연산\n",
        "- 출력문과 주석\n",
        "\n",
        "### 📘 2장: 제어 구조\n",
        "- 조건문 (`if`/`else`)\n",
        "- 반복문 (`for` 및 `while`)\n",
        "- 기본 함수 및 범위\n",
        "\n",
        "---\n",
        "\n",
        "## 🧬 데이터 처리 (3-4주차)\n",
        "\n",
        "### 📘 3장: 생물학을 위한 데이터 구조\n",
        "- 리스트와 튜플 (서열, 실험 데이터 저장)\n",
        "- 딕셔너리 (유전자 주석, 종 데이터)\n",
        "- 세트 (고유 식별자, 샘플 모음)\n",
        "\n",
        "### 📘 4장: 파일 작업\n",
        "- 텍스트 파일 읽고 쓰기\n",
        "- CSV 파일 처리 (실험 데이터)\n",
        "- 생물학 데이터셋을 위한 기본 파일 작업\n",
        "\n",
        "---\n",
        "\n",
        "## 📊 과학 컴퓨팅 (5-7주차)\n",
        "\n",
        "### 📘 5장: 수치 데이터를 위한 NumPy\n",
        "- 배열을 이용한 실험 측정값 저장\n",
        "- 데이터셋에 대한 수학적 연산\n",
        "- 통계 계산 (평균, 중앙값, 표준편차)\n",
        "\n",
        "### 📘 6장: 데이터 분석을 위한 Pandas\n",
        "- 구조화된 생물학 데이터를 위한 데이터프레임\n",
        "- 데이터 정제 및 조작\n",
        "- 실험 결과 필터링 및 그룹화\n",
        "- 결측 데이터 처리\n",
        "\n",
        "### 📘 7장: 데이터 시각화\n",
        "- 과학적 플롯을 위한 Matplotlib 기초\n",
        "- 출판 품질의 그림 생성\n",
        "- 생물학 데이터를 위한 특수 플롯 (히스토그램, 산점도, 박스 플롯)\n",
        "\n",
        "---\n",
        "\n",
        "## 🔬 생물학적 응용 (8-10주차)\n",
        "\n",
        "### 📘 8장: 서열 분석\n",
        "- DNA/RNA 서열을 위한 문자열 조작\n",
        "- 기본 서열 연산 (역상보, 전사)\n",
        "- FASTA 파일 읽기\n",
        "- 간단한 서열 통계\n",
        "\n",
        "### 📘 9장: 생물학을 위한 통계 분석\n",
        "- 가설 검정 기초\n",
        "- t-검정 및 카이제곱 검정\n",
        "- 상관 관계 분석\n",
        "- `scipy.stats` 소개\n",
        "\n",
        "### 📘 10장: 실용적인 프로젝트\n",
        "- 유전자 발현 데이터 분석\n",
        "- 집단 유전학 계산\n",
        "- 생태 데이터 분석\n",
        "- 재현 가능한 연구 워크플로우 생성\n",
        "\n",
        "---\n",
        "\n",
        "## 🚀 고급 주제 *(선택 – 11-12주차)*\n",
        "\n",
        "### 📘 11장: 생물정보학 라이브러리\n",
        "- Biopython 소개\n",
        "- 생물학 데이터베이스 작업\n",
        "- 계통 발생 분석 기초\n",
        "\n",
        "### 📘 12장: 모범 사례\n",
        "- 코드 구성 및 문서화\n",
        "- 오류 처리\n",
        "- 재현 가능한 연구 관행\n",
        "- 코드 및 결과 공유\n",
        "\n",
        "---\n",
        "\n",
        "## 🧠 핵심 교수 전략\n",
        "\n",
        "1. 각 장을 생물학적 맥락으로 시작하십시오 – 프로그래밍 개념이 해당 분야에 왜 중요한지 설명하십시오.\n",
        "2. 전체에 걸쳐 생물학적 데이터셋을 사용하십시오 – 유전자 서열, 실험 측정값, 종 데이터.\n",
        "3. 각 개념 뒤에 실습 예제를 포함하십시오.\n",
        "4. 재현성을 강조하십시오 – 코드가 분석 과정을 어떻게 문서화하는지 보여주십시오.\n",
        "5. 복잡성을 점진적으로 구축하십시오 – 간단한 예제로 시작하여 실제 연구 시나리오로 나아가십시오.\n",
        "\n",
        "---\n",
        "\n",
        "✅ 이 과정은 기본적인 프로그래밍 개념에서 실용적인 생물학적 응용으로 나아가므로, 학생들이 배운 것을 연구 및 교과 과정에 즉시 적용할 수 있도록 보장합니다.\n"
      ]
    },
    {
      "cell_type": "markdown",
      "metadata": {
        "id": "B0MgaQZ-fw5F"
      },
      "source": [
        "# **1장:** 파이썬과 Colab 시작하기\n",
        "# 생명과학을 위한 파이썬\n",
        "\n",
        "\n",
        "첫 파이썬 프로그래밍 수업에 오신 것을 환영합니다!\n",
        "\n",
        "이 노트북은 생명과학 학생들을 위해 특별히 설계되었습니다.\n",
        "생물학 관련 예제(DNA 서열부터 실험 데이터 분석까지)를 사용하여 프로그래밍 개념을 배우게 될 것입니다.\n",
        "\n",
        "이 장을 마치면 다음을 할 수 있게 될 것입니다:\n",
        "- Google Colab 탐색\n",
        "- 기본 파이썬 코드 작성\n",
        "- 다양한 데이터 타입으로 작업\n",
        "- 변수와 기본 연산 이해\n",
        "- 출력문을 효과적으로 사용\n"
      ]
    },
    {
      "cell_type": "markdown",
      "metadata": {
        "id": "EO1ZddF5gFQW"
      },
      "source": [
        "# ========================================================================\n",
        "# 섹션 1: GOOGLE COLAB 소개\n",
        "# =======================================================================\n",
        "\n",
        "\n",
        "🔬 **GOOGLE COLAB이란 무엇입니까?**\n",
        "\n",
        "Google Colab은 브라우저에서 파이썬 코드를 작성하고 실행할 수 있는 무료 온라인 플랫폼으로, 설치가 필요 없습니다! 다음과 같은 작업에 적합합니다:\n",
        "- 데이터 분석\n",
        "- 그래프 및 시각화 생성\n",
        "- 연구 코드 공유\n",
        "- 동료와의 협업\n",
        "\n",
        "🧬 **생물학에 왜 파이썬을 사용합니까?**\n",
        "- DNA 서열 분석\n",
        "- 실험 데이터 처리\n",
        "- 출판 품질의 그래프 생성\n",
        "- 반복적인 계산 자동화\n",
        "- 재현 가능한 연구 공유\n"
      ]
    },
    {
      "cell_type": "markdown",
      "metadata": {
        "id": "UQD22QvLghLl"
      },
      "source": [
        "# =============================================================\n",
        "# 섹션 2: 첫 파이썬 코드\n",
        "# ==============================================================\n",
        "\n",
        "# 전통적인 첫 프로그램으로 시작하겠습니다 - 하지만 생물학적인 변형을 가미했습니다!"
      ]
    },
    {
      "cell_type": "code",
      "execution_count": 3,
      "metadata": {
        "id": "MZ5URZ9Cgo8c"
      },
      "outputs": [
        {
          "name": "stdout",
          "output_type": "stream",
          "text": [
            "Welcome to Python for Biology!\n"
          ]
        }
      ],
      "source": [
        "print(\"Welcome to Python for Biology!\")"
      ]
    },
    {
      "cell_type": "markdown",
      "metadata": {
        "id": "Gyusj-G5hki8"
      },
      "source": [
        "# =================================================================\n",
        "# 섹션 3: 주석 - 코드 문서화\n",
        "# ==================================================================\n",
        "\n",
        "\n",
        "주석은 파이썬이 무시하는 텍스트로, 사람이 읽기 위한 것입니다.\n",
        "연구에서 좋은 주석은 다음에 필수적입니다:\n",
        "- 분석 내용 설명\n",
        "- 공동 작업자가 코드를 이해하도록 돕기\n",
        "- 몇 달 후에 수행한 작업 기억\n"
      ]
    },
    {
      "cell_type": "code",
      "execution_count": 4,
      "metadata": {
        "id": "BS7785qbh0pj"
      },
      "outputs": [
        {
          "name": "stdout",
          "output_type": "stream",
          "text": [
            "This code will run\n"
          ]
        }
      ],
      "source": [
        "print(\"This code will run\")  # Comment at the end of a line"
      ]
    },
    {
      "cell_type": "markdown",
      "metadata": {
        "id": "dZzi5e7hh-Zy"
      },
      "source": [
        "# 이것은 한 줄 주석입니다\n",
        "print(\"This code will run\")  # Comment at the end of a line\n",
        "\n",
        "이것은 여러 줄 주석(독스트링)입니다.\n",
        "코드에 대한 긴 설명에 사용하십시오.\n",
        "실험 방법을 설명하는 데 완벽합니다!"
      ]
    },
    {
      "cell_type": "code",
      "execution_count": 5,
      "metadata": {
        "id": "lMtLObvpiM4Q"
      },
      "outputs": [],
      "source": [
        "organism = \"E. coli\""
      ]
    },
    {
      "cell_type": "code",
      "execution_count": 6,
      "metadata": {
        "id": "PSu7C4jaiMnS"
      },
      "outputs": [],
      "source": [
        "temperature = 37"
      ]
    },
    {
      "cell_type": "code",
      "execution_count": 7,
      "metadata": {
        "id": "tod1i9RAiY0i"
      },
      "outputs": [
        {
          "name": "stdout",
          "output_type": "stream",
          "text": [
            "Growing E. coli at 37°C\n"
          ]
        }
      ],
      "source": [
        "print(f\"Growing {organism} at {temperature}°C\")"
      ]
    },
    {
      "cell_type": "code",
      "execution_count": 8,
      "metadata": {
        "id": "v6BOcDr7i2B7"
      },
      "outputs": [],
      "source": [
        "Boy = \"David\"\n",
        "Age = 25\n",
        "Country = \"USA\""
      ]
    },
    {
      "cell_type": "code",
      "execution_count": 9,
      "metadata": {
        "id": "sHUFmJbqjOuF"
      },
      "outputs": [
        {
          "name": "stdout",
          "output_type": "stream",
          "text": [
            "David is of 25 years old living in USA \n"
          ]
        }
      ],
      "source": [
        "print(f\"{Boy} is of {Age} years old living in {Country} \")"
      ]
    },
    {
      "cell_type": "markdown",
      "metadata": {
        "id": "6o5YgxnpjxB4"
      },
      "source": [
        "# ===============================================================\n",
        "# 섹션 4: 변수 - 데이터 저장\n",
        "# =================================================================\n",
        "\n",
        "변수는 데이터 값을 저장하기 위한 컨테이너입니다.\n",
        "실험실의 라벨이 붙은 시험관이라고 생각하십시오!\n",
        "\n",
        "🧪 변수 명명 규칙:\n",
        "- 문자나 밑줄로 시작해야 합니다\n",
        "- 문자, 숫자, 밑줄을 포함할 수 있습니다\n",
        "- 대소문자를 구분합니다 (DNA ≠ dna)\n",
        "- 설명적인 이름을 사용하십시오\n"
      ]
    },
    {
      "cell_type": "markdown",
      "metadata": {
        "id": "svEx0_Ac14JH"
      },
      "source": [
        "## 🧮 파이썬의 변수\n",
        "\n",
        "### ✅ 변수란 무엇입니까?\n",
        "\n",
        "A **변수**는 나중에 코드에서 사용할 수 있도록 메모리에 **값**을 저장하는 **이름**입니다.\n",
        "\n",
        "데이터를 담는 라벨이 붙은 컨테이너처럼 생각하십시오.\n",
        "\n",
        "---"
      ]
    },
    {
      "cell_type": "code",
      "execution_count": 10,
      "metadata": {
        "id": "Cgkxz54SkWYx"
      },
      "outputs": [],
      "source": [
        "# Examples of good variable names for biology\n",
        "gene_name = \"BRCA1\"\n",
        "patient_age = 45\n",
        "dna_concentration = 250.5\n",
        "is_mutation_present = True"
      ]
    },
    {
      "cell_type": "code",
      "execution_count": null,
      "metadata": {
        "id": "3f9O0ZPpkZCZ"
      },
      "outputs": [
        {
          "ename": "SyntaxError",
          "evalue": "invalid decimal literal (1583297447.py, line 3)",
          "output_type": "error",
          "traceback": [
            "  \u001b[36mCell\u001b[39m\u001b[36m \u001b[39m\u001b[32mIn[11]\u001b[39m\u001b[32m, line 3\u001b[39m\n\u001b[31m    \u001b[39m\u001b[31m2gene = \"BRCA1\"  # Starts with number (ERROR!)\u001b[39m\n    ^\n\u001b[31mSyntaxError\u001b[39m\u001b[31m:\u001b[39m invalid decimal literal\n"
          ]
        }
      ],
      "source": [
        "# Examples of poor variable names\n",
        "x = \"BRCA1\"  # Not descriptive\n",
        "2gene = \"BRCA1\"  # Starts with number (ERROR!)"
      ]
    },
    {
      "cell_type": "code",
      "execution_count": 12,
      "metadata": {},
      "outputs": [
        {
          "ename": "SyntaxError",
          "evalue": "cannot assign to expression here. Maybe you meant '==' instead of '='? (1271305974.py, line 1)",
          "output_type": "error",
          "traceback": [
            "  \u001b[36mCell\u001b[39m\u001b[36m \u001b[39m\u001b[32mIn[12]\u001b[39m\u001b[32m, line 1\u001b[39m\n\u001b[31m    \u001b[39m\u001b[31mgene-name = \"BRCA1\"  # Contains hyphen (ERROR!)\u001b[39m\n    ^\n\u001b[31mSyntaxError\u001b[39m\u001b[31m:\u001b[39m cannot assign to expression here. Maybe you meant '==' instead of '='?\n"
          ]
        }
      ],
      "source": [
        "\n",
        "gene-name = \"BRCA1\"  # Contains hyphen (ERROR!)"
      ]
    },
    {
      "cell_type": "code",
      "execution_count": 15,
      "metadata": {
        "id": "yJfM_ktBkfDA"
      },
      "outputs": [
        {
          "name": "stdout",
          "output_type": "stream",
          "text": [
            "Gene: BRCA1\n",
            "Patient age: 45\n",
            "DNA concentration: 250.5 ng/μL\n",
            "Mutation present: True\n"
          ]
        }
      ],
      "source": [
        "# Print variables to see their values\n",
        "print(\"Gene:\", gene_name)\n",
        "print(\"Patient age:\", patient_age)\n",
        "print(\"DNA concentration:\", dna_concentration, \"ng/μL\")\n",
        "print(\"Mutation present:\", is_mutation_present)"
      ]
    },
    {
      "cell_type": "code",
      "execution_count": 16,
      "metadata": {
        "id": "ERBNPLUIktwg"
      },
      "outputs": [
        {
          "name": "stdout",
          "output_type": "stream",
          "text": [
            "Gene: BRCA1\n"
          ]
        }
      ],
      "source": [
        "print(\"Gene:\", gene_name)"
      ]
    },
    {
      "cell_type": "code",
      "execution_count": 17,
      "metadata": {
        "id": "ooP0JoJ6lNrd"
      },
      "outputs": [
        {
          "name": "stdout",
          "output_type": "stream",
          "text": [
            "Patient age: 45\n"
          ]
        }
      ],
      "source": [
        "print(\"Patient age:\", patient_age)"
      ]
    },
    {
      "cell_type": "code",
      "execution_count": 18,
      "metadata": {
        "id": "SPRQ5dvIlR7M"
      },
      "outputs": [
        {
          "name": "stdout",
          "output_type": "stream",
          "text": [
            "DNA concentration: 250.5 ng/μL\n"
          ]
        }
      ],
      "source": [
        "print(\"DNA concentration:\", dna_concentration, \"ng/μL\")"
      ]
    },
    {
      "cell_type": "code",
      "execution_count": 19,
      "metadata": {
        "id": "2MZadiG4lWbK"
      },
      "outputs": [
        {
          "name": "stdout",
          "output_type": "stream",
          "text": [
            "Mutation present: True\n"
          ]
        }
      ],
      "source": [
        "print(\"Mutation present:\", is_mutation_present)"
      ]
    },
    {
      "cell_type": "markdown",
      "metadata": {
        "id": "1YTijHdglurb"
      },
      "source": [
        "### **연습문제:** 자신만의 생물학적 데이터에 대한 변수 만들기\n",
        "\n",
        "### 예시: species_name, sample_size, experiment_date"
      ]
    },
    {
      "cell_type": "markdown",
      "metadata": {
        "id": "lm0VeNEguwH7"
      },
      "source": [
        "# ===============================================================\n",
        "# 섹션 5: 데이터 타입 - 다양한 종류의 정보\n",
        "# ================================================================\n",
        "\n",
        "\n",
        "파이썬에는 몇 가지 기본 데이터 타입이 있습니다. 생물학적 예시와 함께 살펴보겠습니다:\n"
      ]
    },
    {
      "cell_type": "markdown",
      "metadata": {
        "id": "cON5WuqQ2QSE"
      },
      "source": [
        "## 🧬 파이썬의 데이터 타입\n",
        "\n",
        "파이썬에는 변수가 보유하는 데이터의 종류를 설명하는 여러 **내장 데이터 타입**이 있습니다.\n",
        "\n",
        "데이터 타입을 이해하는 것은 정확하고 효율적인 코드를 작성하는 데 필수적입니다.\n",
        "\n",
        "---\n",
        "\n",
        "### ✅ 일반적인 데이터 타입\n",
        "\n",
        "| 타입       | 예시         | 설명                          |\n",
        "|------------|------------------|--------------------------------------|\n",
        "| `int`      | `5`              | 정수 (온전한 수)               |\n",
        "| `float`    | `3.14`           | 십진수                       |\n",
        "| `str`      | `\"ATGC\"`         | 문자열 (텍스트 또는 서열)            |\n",
        "| `bool`     | `True`, `False`  | 불리언 (논리값)             |\n",
        "| `list`     | `[1, 2, 3]`      | 순서가 있고 변경 가능한 컬렉션          |\n",
        "| `tuple`    | `(1, 2)`         | 순서가 있고 **변경 불가능한** 컬렉션    |\n",
        "| `dict`     | `{\"gene\": \"BRCA1\"}` | 키-값 쌍                   |\n",
        "| `set`      | `{1, 2, 3}`      | 순서가 없고 **고유한** 값         |\n",
        "| `NoneType` | `None`           | 값이 없거나 \"비어 있음\"을 나타냅니다       |\n",
        "\n",
        "---\n",
        "\n",
        "### 🔬 생물학에서의 예시\n",
        "\n",
        "```python\n",
        "gene = \"TP53\"                # str\n",
        "length = 393                 # int\n",
        "gc_content = 0.55            # float\n",
        "is_protein_coding = True     # bool\n",
        "bases = [\"A\", \"T\", \"G\", \"C\"] # list"
      ]
    },
    {
      "cell_type": "code",
      "execution_count": 20,
      "metadata": {
        "id": "rlryNV-7wZ9q"
      },
      "outputs": [],
      "source": [
        "# 1. STRINGS (text) - for names, sequences, descriptions\n",
        "species = \"Homo sapiens\"\n",
        "dna_sequence = \"ATCGTAGCTA\"\n",
        "experiment_notes = \"Sample collected from healthy tissue\""
      ]
    },
    {
      "cell_type": "code",
      "execution_count": 21,
      "metadata": {
        "id": "7-1VVWwdw0Jq"
      },
      "outputs": [
        {
          "name": "stdout",
          "output_type": "stream",
          "text": [
            "Species: Homo sapiens\n"
          ]
        }
      ],
      "source": [
        "print(\"Species:\", species)"
      ]
    },
    {
      "cell_type": "code",
      "execution_count": 22,
      "metadata": {
        "id": "EzA3CWN78M4X"
      },
      "outputs": [],
      "source": [
        "dna_sequence = \"ATCGTAGCTA\""
      ]
    },
    {
      "cell_type": "code",
      "execution_count": 23,
      "metadata": {
        "id": "nc7jo33x8PLM"
      },
      "outputs": [],
      "source": [
        "experiment_notes = \"Sample collected from healthy tissue\""
      ]
    },
    {
      "cell_type": "code",
      "execution_count": 24,
      "metadata": {
        "id": "0HpC_6kK8Ubh"
      },
      "outputs": [],
      "source": [
        "# 2. INTEGERS (whole numbers) - for counts, ages, generations\n",
        "chromosome_count = 46\n",
        "patient_count = 120\n",
        "generation_number = 5"
      ]
    },
    {
      "cell_type": "code",
      "execution_count": 25,
      "metadata": {
        "id": "GoFAWo5d8X6q"
      },
      "outputs": [
        {
          "name": "stdout",
          "output_type": "stream",
          "text": [
            "Chromosomes: 46\n"
          ]
        }
      ],
      "source": [
        "print(\"Chromosomes:\", chromosome_count)"
      ]
    },
    {
      "cell_type": "code",
      "execution_count": 26,
      "metadata": {
        "id": "F5AdT55a8dgI"
      },
      "outputs": [
        {
          "name": "stdout",
          "output_type": "stream",
          "text": [
            "Patients in study: 120\n"
          ]
        }
      ],
      "source": [
        "print(\"Patients in study:\", patient_count)"
      ]
    },
    {
      "cell_type": "code",
      "execution_count": 27,
      "metadata": {
        "id": "EJ41Y6Gv8gGZ"
      },
      "outputs": [
        {
          "name": "stdout",
          "output_type": "stream",
          "text": [
            "Generation: 5\n"
          ]
        }
      ],
      "source": [
        "print(\"Generation:\", generation_number)"
      ]
    },
    {
      "cell_type": "code",
      "execution_count": 28,
      "metadata": {
        "id": "PHi-M5RP8jto"
      },
      "outputs": [],
      "source": [
        "# 3. FLOATS (decimal numbers) - for measurements, concentrations\n",
        "body_temperature = 37.2\n",
        "ph_level = 7.4\n",
        "protein_concentration = 15.8"
      ]
    },
    {
      "cell_type": "code",
      "execution_count": 29,
      "metadata": {
        "id": "hwBwnnPV8jeB"
      },
      "outputs": [
        {
          "name": "stdout",
          "output_type": "stream",
          "text": [
            "Temperature: 37.2 °C\n",
            "pH level: 7.4\n",
            "Protein concentration: 15.8 mg/mL\n"
          ]
        }
      ],
      "source": [
        "print(\"Temperature:\", body_temperature, \"°C\")\n",
        "print(\"pH level:\", ph_level)\n",
        "print(\"Protein concentration:\", protein_concentration, \"mg/mL\")"
      ]
    },
    {
      "cell_type": "code",
      "execution_count": 30,
      "metadata": {
        "id": "JQ9sEH9j8uhn"
      },
      "outputs": [],
      "source": [
        "# 4. BOOLEANS (True/False) - for yes/no questions\n",
        "is_healthy = True\n",
        "mutation_detected = False\n",
        "treatment_effective = True"
      ]
    },
    {
      "cell_type": "code",
      "execution_count": 31,
      "metadata": {
        "id": "1azT9vgS8ucE"
      },
      "outputs": [
        {
          "name": "stdout",
          "output_type": "stream",
          "text": [
            "Patient healthy: True\n",
            "Mutation detected: False\n",
            "Treatment effective: True\n"
          ]
        }
      ],
      "source": [
        "print(\"Patient healthy:\", is_healthy)\n",
        "print(\"Mutation detected:\", mutation_detected)\n",
        "print(\"Treatment effective:\", treatment_effective)"
      ]
    },
    {
      "cell_type": "code",
      "execution_count": 32,
      "metadata": {
        "id": "GTOx96TV897x"
      },
      "outputs": [
        {
          "name": "stdout",
          "output_type": "stream",
          "text": [
            "\n",
            "Data types:\n",
            "Type of species: <class 'str'>\n",
            "Type of chromosome_count: <class 'int'>\n",
            "Type of body_temperature: <class 'float'>\n",
            "Type of is_healthy: <class 'bool'>\n"
          ]
        }
      ],
      "source": [
        "# Check the type of a variable\n",
        "print(\"\\nData types:\")\n",
        "print(\"Type of species:\", type(species))\n",
        "print(\"Type of chromosome_count:\", type(chromosome_count))\n",
        "print(\"Type of body_temperature:\", type(body_temperature))\n",
        "print(\"Type of is_healthy:\", type(is_healthy))"
      ]
    },
    {
      "cell_type": "markdown",
      "metadata": {
        "id": "m3MEFcog9Mpo"
      },
      "source": [
        "# ================================================================\n",
        "# 섹션 6: 기본 연산\n",
        "# =================================================================\n",
        "\n",
        "생물학적 데이터로 몇 가지 기본 연산을 수행해 보겠습니다"
      ]
    },
    {
      "cell_type": "code",
      "execution_count": 33,
      "metadata": {
        "id": "9V0NVaPJ9W4a"
      },
      "outputs": [],
      "source": [
        "# ARITHMETIC OPERATIONS\n",
        "sample_1_cells = 1000000\n",
        "sample_2_cells = 750000\n",
        "total_cells = sample_1_cells + sample_2_cells"
      ]
    },
    {
      "cell_type": "code",
      "execution_count": 34,
      "metadata": {
        "id": "cPjOW4LL9fzI"
      },
      "outputs": [
        {
          "name": "stdout",
          "output_type": "stream",
          "text": [
            "Sample 1 cells: 1000000\n",
            "Sample 2 cells: 750000\n",
            "Total cells: 1750000\n"
          ]
        }
      ],
      "source": [
        "print(\"Sample 1 cells:\", sample_1_cells)\n",
        "print(\"Sample 2 cells:\", sample_2_cells)\n",
        "print(\"Total cells:\", total_cells)"
      ]
    },
    {
      "cell_type": "code",
      "execution_count": 35,
      "metadata": {
        "id": "iy7KlS0O99Dj"
      },
      "outputs": [],
      "source": [
        "# More arithmetic operations\n",
        "initial_bacteria = 100\n",
        "growth_rate = 2\n",
        "time_hours = 3"
      ]
    },
    {
      "cell_type": "code",
      "execution_count": 36,
      "metadata": {
        "colab": {
          "base_uri": "https://localhost:8080/"
        },
        "id": "Rhe-LG-U-F2c",
        "outputId": "66984be3-e8d0-4ef6-e72d-18ef91eaeeb8"
      },
      "outputs": [
        {
          "name": "stdout",
          "output_type": "stream",
          "text": [
            "After 3 hours: 800 bacteria\n"
          ]
        }
      ],
      "source": [
        "# Bacterial growth calculation\n",
        "final_bacteria = initial_bacteria * (growth_rate ** time_hours)\n",
        "print(f\"After {time_hours} hours: {final_bacteria} bacteria\")"
      ]
    },
    {
      "cell_type": "code",
      "execution_count": 37,
      "metadata": {
        "id": "J-pTmhhy-eE4"
      },
      "outputs": [
        {
          "name": "stdout",
          "output_type": "stream",
          "text": [
            "Full gene identifier: ENSG00000139618_BRCA2\n"
          ]
        }
      ],
      "source": [
        "# STRING OPERATIONS\n",
        "gene_id = \"ENSG00000139618\"\n",
        "gene_symbol = \"BRCA2\"\n",
        "full_identifier = gene_id + \"_\" + gene_symbol\n",
        "\n",
        "print(\"Full gene identifier:\", full_identifier)"
      ]
    },
    {
      "cell_type": "code",
      "execution_count": 38,
      "metadata": {
        "id": "SzhvEF7F-tiY"
      },
      "outputs": [
        {
          "name": "stdout",
          "output_type": "stream",
          "text": [
            "Repeated start codon: ATGATGATG\n"
          ]
        }
      ],
      "source": [
        "# STRING REPETITION (useful for creating sequences)\n",
        "codon = \"ATG\"\n",
        "start_sequence = codon * 3\n",
        "print(\"Repeated start codon:\", start_sequence)"
      ]
    },
    {
      "cell_type": "markdown",
      "metadata": {
        "id": "tiq0mYI9_Bbs"
      },
      "source": [
        "# ===============================================================\n",
        "# 섹션 7: 출력문 - 결과 표시\n",
        "# ===============================================================\n",
        "print() 함수는 결과를 표시하는 주요 도구입니다.\n",
        "생물학적 데이터에 대한 출력 형식을 지정하는 다양한 방법을 살펴보겠습니다.\n"
      ]
    },
    {
      "cell_type": "code",
      "execution_count": 39,
      "metadata": {
        "id": "EsbF4Lf2_pNx"
      },
      "outputs": [
        {
          "name": "stdout",
          "output_type": "stream",
          "text": [
            "Drosophila melanogaster\n"
          ]
        }
      ],
      "source": [
        "# Basic printing\n",
        "organism = \"Drosophila melanogaster\"\n",
        "print(organism)"
      ]
    },
    {
      "cell_type": "code",
      "execution_count": 40,
      "metadata": {
        "colab": {
          "base_uri": "https://localhost:8080/"
        },
        "id": "zPVaSr-V_vKz",
        "outputId": "aaf1876d-36c9-409a-8e59-02e0c25de679"
      },
      "outputs": [
        {
          "name": "stdout",
          "output_type": "stream",
          "text": [
            "Gene: white Location: X\n"
          ]
        }
      ],
      "source": [
        "# Printing multiple items\n",
        "gene = \"white\"\n",
        "chromosome = \"X\"\n",
        "print(\"Gene:\", gene, \"Location:\", chromosome)"
      ]
    },
    {
      "cell_type": "code",
      "execution_count": 41,
      "metadata": {
        "id": "91RwwoOXA5FA"
      },
      "outputs": [
        {
          "name": "stdout",
          "output_type": "stream",
          "text": [
            "Culture conditions: 25.5°C, 65% humidity\n"
          ]
        }
      ],
      "source": [
        "# Using f-strings (formatted strings) - RECOMMENDED for biology\n",
        "temperature = 25.5\n",
        "humidity = 65\n",
        "print(f\"Culture conditions: {temperature}°C, {humidity}% humidity\")"
      ]
    },
    {
      "cell_type": "code",
      "execution_count": 42,
      "metadata": {
        "id": "E-Cln0QBA8kF"
      },
      "outputs": [
        {
          "name": "stdout",
          "output_type": "stream",
          "text": [
            "Antibiotic concentration: 0.05 mg/mL\n"
          ]
        }
      ],
      "source": [
        "# Including units and proper formatting\n",
        "concentration = 0.05\n",
        "print(f\"Antibiotic concentration: {concentration} mg/mL\")"
      ]
    },
    {
      "cell_type": "code",
      "execution_count": 43,
      "metadata": {
        "id": "X7GuAPYJBANr"
      },
      "outputs": [
        {
          "name": "stdout",
          "output_type": "stream",
          "text": [
            "π rounded to 2 decimals: 3.14\n"
          ]
        }
      ],
      "source": [
        "# Formatting numbers\n",
        "pi = 3.14159265359\n",
        "print(f\"π rounded to 2 decimals: {pi:.2f}\")"
      ]
    },
    {
      "cell_type": "code",
      "execution_count": 44,
      "metadata": {
        "id": "oYs0q0mfBCrS"
      },
      "outputs": [
        {
          "name": "stdout",
          "output_type": "stream",
          "text": [
            "Sample S001: 250000 cells, 95.0% viable\n"
          ]
        }
      ],
      "source": [
        "# Multiple variables in one f-string\n",
        "sample_id = \"S001\"\n",
        "cell_count = 250000\n",
        "viability = 0.95\n",
        "print(f\"Sample {sample_id}: {cell_count} cells, {viability:.1%} viable\")"
      ]
    },
    {
      "cell_type": "markdown",
      "metadata": {
        "id": "AOabYgfeBeP4"
      },
      "source": [
        "**:.1%는 무엇을 의미합니까?**\n",
        "이것은 파이썬에게 다음을 지시합니다:\n",
        "\n",
        "숫자를 백분율로 형식화\n",
        "\n",
        "소수점 이하 1자리까지"
      ]
    },
    {
      "cell_type": "markdown",
      "metadata": {
        "id": "H1iM9NV6BvyK"
      },
      "source": []
    },
    {
      "cell_type": "markdown",
      "metadata": {
        "id": "iFHPOVLSB2Ew"
      },
      "source": [
        "# ============================================================\n",
        "# 섹션 8: 대화형 연습문제\n",
        "# ============================================================\n",
        "\n",
        "\n",
        "연습문제 1: 실험실 프로필 만들기\n",
        "자신에 대한 정보를 변수로 만들고 멋지게 출력하십시오."
      ]
    },
    {
      "cell_type": "code",
      "execution_count": 45,
      "metadata": {
        "id": "SYx1qZnrCBTF"
      },
      "outputs": [],
      "source": [
        "# TODO: Fill in your information\n",
        "your_name = \"Your Name Here\"\n",
        "research_area = \"Your Research Area\"\n",
        "favorite_organism = \"Your Favorite Organism\"\n",
        "years_experience = 0\n"
      ]
    },
    {
      "cell_type": "code",
      "execution_count": 46,
      "metadata": {
        "id": "oLgJYpbaCF-8"
      },
      "outputs": [
        {
          "name": "stdout",
          "output_type": "stream",
          "text": [
            "=== LAB MEMBER PROFILE ===\n",
            "Name: Your Name Here\n",
            "Research Area: Your Research Area\n",
            "Favorite Organism: Your Favorite Organism\n",
            "Years of Experience: 0\n"
          ]
        }
      ],
      "source": [
        "print(\"=== LAB MEMBER PROFILE ===\")\n",
        "print(f\"Name: {your_name}\")\n",
        "print(f\"Research Area: {research_area}\")\n",
        "print(f\"Favorite Organism: {favorite_organism}\")\n",
        "print(f\"Years of Experience: {years_experience}\")"
      ]
    },
    {
      "cell_type": "markdown",
      "metadata": {
        "id": "6aYEDGXKCNyT"
      },
      "source": [
        "연습문제 2: DNA 서열 분석\n",
        "DNA 서열로 작업하고 기본 정보를 추출하십시오."
      ]
    },
    {
      "cell_type": "code",
      "execution_count": 47,
      "metadata": {
        "id": "pr6JII1nCk8B"
      },
      "outputs": [],
      "source": [
        "# Given DNA sequence\n",
        "dna_seq = \"ATGCGATCGTAGCTAGCATGC\"\n",
        "\n",
        "# TODO: Calculate and print the following:\n",
        "sequence_length = len(dna_seq)"
      ]
    },
    {
      "cell_type": "markdown",
      "metadata": {
        "id": "Lv79IuwFC3HY"
      },
      "source": [
        "파이썬에서 len()은 객체의 항목 수를 반환하는 내장 함수입니다."
      ]
    },
    {
      "cell_type": "code",
      "execution_count": 48,
      "metadata": {
        "id": "1Nd0lcvjEPK5"
      },
      "outputs": [
        {
          "name": "stdout",
          "output_type": "stream",
          "text": [
            "DNA sequence: ATGCGATCGTAGCTAGCATGC\n",
            "Length: 21 base pairs\n"
          ]
        }
      ],
      "source": [
        "print(f\"DNA sequence: {dna_seq}\")\n",
        "print(f\"Length: {sequence_length} base pairs\")"
      ]
    },
    {
      "cell_type": "code",
      "execution_count": 49,
      "metadata": {
        "id": "9HuYDBPLEWc3"
      },
      "outputs": [],
      "source": [
        "# Count specific nucleotides (we'll learn better ways later!)\n",
        "a_count = dna_seq.count('A')\n",
        "t_count = dna_seq.count('T')\n",
        "g_count = dna_seq.count('G')\n",
        "c_count = dna_seq.count('C')"
      ]
    },
    {
      "cell_type": "markdown",
      "metadata": {
        "id": "RvGhaOEDEmFx"
      },
      "source": [
        "파이썬에서 .count()는 특정 요소나 하위 문자열이 몇 번 나타나는지 세는 데 사용되는 문자열(또는 리스트/튜플) 메서드입니다."
      ]
    },
    {
      "cell_type": "code",
      "execution_count": 50,
      "metadata": {
        "id": "ptcradScEp-I"
      },
      "outputs": [
        {
          "name": "stdout",
          "output_type": "stream",
          "text": [
            "A: 5, T: 5, G: 6, C: 5\n"
          ]
        }
      ],
      "source": [
        "print(f\"A: {a_count}, T: {t_count}, G: {g_count}, C: {c_count}\")"
      ]
    },
    {
      "cell_type": "code",
      "execution_count": 51,
      "metadata": {
        "id": "XJWGwVzNEyfq"
      },
      "outputs": [],
      "source": [
        "# Calculate GC content (important for DNA analysis!)\n",
        "gc_content = (g_count + c_count) / sequence_length"
      ]
    },
    {
      "cell_type": "code",
      "execution_count": 52,
      "metadata": {
        "colab": {
          "base_uri": "https://localhost:8080/"
        },
        "id": "qMDeqjxyE0pM",
        "outputId": "af866f1e-7e94-491b-d5c6-b34b38f60404"
      },
      "outputs": [
        {
          "name": "stdout",
          "output_type": "stream",
          "text": [
            "GC content: 52.38%\n"
          ]
        }
      ],
      "source": [
        "print(f\"GC content: {gc_content:.2%}\")"
      ]
    },
    {
      "cell_type": "markdown",
      "metadata": {
        "id": "sp_XgqxyFQ6i"
      },
      "source": [
        "연습문제 3: 실험 데이터\n",
        "일반적인 실험실 측정값으로 연습하십시오."
      ]
    },
    {
      "cell_type": "code",
      "execution_count": 53,
      "metadata": {
        "id": "CryUcGu2FcBg"
      },
      "outputs": [],
      "source": [
        "# Experimental data\n",
        "experiment_name = \"Protein Expression Analysis\"\n",
        "control_reading = 0.125\n",
        "treatment_reading = 0.847\n",
        "background = 0.05"
      ]
    },
    {
      "cell_type": "code",
      "execution_count": 54,
      "metadata": {
        "id": "h33083oWFiR4"
      },
      "outputs": [],
      "source": [
        "# TODO: Calculate fold change\n",
        "corrected_control = control_reading - background\n",
        "corrected_treatment = treatment_reading - background\n",
        "fold_change = corrected_treatment / corrected_control"
      ]
    },
    {
      "cell_type": "code",
      "execution_count": 55,
      "metadata": {
        "id": "bwPeWtQFFXec"
      },
      "outputs": [
        {
          "name": "stdout",
          "output_type": "stream",
          "text": [
            "Experiment: Protein Expression Analysis\n",
            "Control (corrected): 0.075\n",
            "Treatment (corrected): 0.797\n",
            "Fold change: 10.63x\n"
          ]
        }
      ],
      "source": [
        "print(f\"Experiment: {experiment_name}\")\n",
        "print(f\"Control (corrected): {corrected_control:.3f}\")\n",
        "print(f\"Treatment (corrected): {corrected_treatment:.3f}\")\n",
        "print(f\"Fold change: {fold_change:.2f}x\")"
      ]
    },
    {
      "cell_type": "markdown",
      "metadata": {
        "id": "08vC105OFykS"
      },
      "source": [
        "# ================================================================\n",
        "# 섹션 9: 일반적인 실수 및 디버깅\n",
        "# =================================================================\n",
        "\n",
        "\n",
        "🚨 피해야 할 일반적인 실수:\n",
        "\n",
        "1. 문자열 주위에 따옴표를 잊는 것\n",
        "2. 예약어를 변수 이름으로 사용하는 것\n",
        "3. 대소문자 구분 문제\n",
        "4. 데이터 타입 혼용\n"
      ]
    },
    {
      "cell_type": "code",
      "execution_count": 56,
      "metadata": {
        "id": "gF2kyfjHF7U7"
      },
      "outputs": [
        {
          "ename": "NameError",
          "evalue": "name 'BRCA1' is not defined",
          "output_type": "error",
          "traceback": [
            "\u001b[31m---------------------------------------------------------------------------\u001b[39m",
            "\u001b[31mNameError\u001b[39m                                 Traceback (most recent call last)",
            "\u001b[36mCell\u001b[39m\u001b[36m \u001b[39m\u001b[32mIn[56]\u001b[39m\u001b[32m, line 2\u001b[39m\n\u001b[32m      1\u001b[39m \u001b[38;5;66;03m# MISTAKE 1: Forgetting quotes (uncomment to see error)\u001b[39;00m\n\u001b[32m----> \u001b[39m\u001b[32m2\u001b[39m gene = \u001b[43mBRCA1\u001b[49m\n",
            "\u001b[31mNameError\u001b[39m: name 'BRCA1' is not defined"
          ]
        }
      ],
      "source": [
        "# MISTAKE 1: Forgetting quotes (uncomment to see error)\n",
        "gene = BRCA1"
      ]
    },
    {
      "cell_type": "code",
      "execution_count": 57,
      "metadata": {
        "id": "4x-hhveaGRrB"
      },
      "outputs": [
        {
          "ename": "SyntaxError",
          "evalue": "invalid syntax (1300826208.py, line 2)",
          "output_type": "error",
          "traceback": [
            "  \u001b[36mCell\u001b[39m\u001b[36m \u001b[39m\u001b[32mIn[57]\u001b[39m\u001b[32m, line 2\u001b[39m\n\u001b[31m    \u001b[39m\u001b[31mclass = \"Mammalia\"  # ERROR! 'class' is reserved\u001b[39m\n          ^\n\u001b[31mSyntaxError\u001b[39m\u001b[31m:\u001b[39m invalid syntax\n"
          ]
        }
      ],
      "source": [
        "# MISTAKE 2: Using reserved words\n",
        "class = \"Mammalia\"  # ERROR! 'class' is reserved\n",
        "#organism_class = \"Mammalia\"  # CORRECT"
      ]
    },
    {
      "cell_type": "code",
      "execution_count": 58,
      "metadata": {
        "id": "aQnFuzfhGlfm"
      },
      "outputs": [
        {
          "name": "stdout",
          "output_type": "stream",
          "text": [
            "These are different variables: BRCA1 vs brca1\n"
          ]
        }
      ],
      "source": [
        "# MISTAKE 3: Case sensitivity\n",
        "Gene = \"BRCA1\"\n",
        "gene = \"brca1\"\n",
        "print(f\"These are different variables: {Gene} vs {gene}\")"
      ]
    },
    {
      "cell_type": "code",
      "execution_count": 59,
      "metadata": {
        "id": "r5MxBc-uGxKj"
      },
      "outputs": [
        {
          "name": "stdout",
          "output_type": "stream",
          "text": [
            "Next year's age: 26\n"
          ]
        }
      ],
      "source": [
        "# MISTAKE 4: Mixing data types incorrectly\n",
        "age = \"25\"  # This is a string, not a number\n",
        "# age_next_year = age + 1  # ERROR! Can't add number to string\n",
        "age_next_year = int(age) + 1  # CORRECT: convert to integer first\n",
        "print(f\"Next year's age: {age_next_year}\")"
      ]
    },
    {
      "cell_type": "markdown",
      "metadata": {
        "id": "2CavkpEiHwEL"
      },
      "source": [
        "# =================================================================\n",
        "# 섹션 10: 연습 문제\n",
        "# ===================================================================\n",
        "\n",
        "\n",
        "🧬 연습 문제 1: 배양 배지 준비\n",
        "특정 농도의 배양 배지 500mL를 준비해야 합니다."
      ]
    },
    {
      "cell_type": "code",
      "execution_count": 60,
      "metadata": {
        "id": "JZ9Tj_V2IBhj"
      },
      "outputs": [],
      "source": [
        "# Given information\n",
        "total_volume = 500  # mL\n",
        "glucose_concentration = 2.0  # g/L\n",
        "nacl_concentration = 0.5  # g/L"
      ]
    },
    {
      "cell_type": "markdown",
      "metadata": {
        "id": "W8eTj3RMIE98"
      },
      "source": [
        "TODO: 각 구성 요소가 얼마나 필요한지 계산하십시오\n",
        "\n",
        "힌트: L를 mL로 변환한 다음 필요한 그램을 계산하십시오"
      ]
    },
    {
      "cell_type": "code",
      "execution_count": 61,
      "metadata": {
        "id": "UKS2EDoVIRy5"
      },
      "outputs": [],
      "source": [
        "glucose_needed = (glucose_concentration * total_volume) / 1000\n",
        "nacl_needed = (nacl_concentration * total_volume) / 1000"
      ]
    },
    {
      "cell_type": "code",
      "execution_count": 62,
      "metadata": {
        "id": "N9eI66AaIUPA"
      },
      "outputs": [
        {
          "name": "stdout",
          "output_type": "stream",
          "text": [
            "=== CULTURE MEDIA RECIPE ===\n",
            "For 500 mL of media:\n",
            "Glucose: 1.0 g\n",
            "NaCl: 0.25 g\n"
          ]
        }
      ],
      "source": [
        "print(\"=== CULTURE MEDIA RECIPE ===\")\n",
        "print(f\"For {total_volume} mL of media:\")\n",
        "print(f\"Glucose: {glucose_needed} g\")\n",
        "print(f\"NaCl: {nacl_needed} g\")"
      ]
    },
    {
      "cell_type": "markdown",
      "metadata": {
        "id": "2XmPdOpWIrgE"
      },
      "source": [
        "연습 문제 2: 세포 배양 계대\n",
        "세포 배양을 위한 희석 계수를 계산하십시오."
      ]
    },
    {
      "cell_type": "code",
      "execution_count": 63,
      "metadata": {
        "id": "wxKy_mCXIxzz"
      },
      "outputs": [],
      "source": [
        "# Given information\n",
        "current_density = 2000000  # cells/mL\n",
        "target_density = 500000   # cells/mL\n",
        "culture_volume = 10       # mL"
      ]
    },
    {
      "cell_type": "code",
      "execution_count": 64,
      "metadata": {
        "id": "5Q1Kn06gI02o"
      },
      "outputs": [],
      "source": [
        "# TODO: Calculate dilution factor and volumes needed\n",
        "dilution_factor = current_density / target_density\n",
        "volume_needed = culture_volume / dilution_factor\n",
        "media_to_add = culture_volume - volume_needed"
      ]
    },
    {
      "cell_type": "code",
      "execution_count": 65,
      "metadata": {
        "id": "ezGXqiSYI3jd"
      },
      "outputs": [
        {
          "name": "stdout",
          "output_type": "stream",
          "text": [
            "=== CELL PASSAGE CALCULATION ===\n",
            "Current density: 2,000,000 cells/mL\n",
            "Target density: 500,000 cells/mL\n",
            "Dilution factor: 1:4.0\n",
            "Take 2.50 mL of culture\n",
            "Add 7.50 mL of fresh media\n"
          ]
        }
      ],
      "source": [
        "print(\"=== CELL PASSAGE CALCULATION ===\")\n",
        "print(f\"Current density: {current_density:,} cells/mL\")\n",
        "print(f\"Target density: {target_density:,} cells/mL\")\n",
        "print(f\"Dilution factor: 1:{dilution_factor:.1f}\")\n",
        "print(f\"Take {volume_needed:.2f} mL of culture\")\n",
        "print(f\"Add {media_to_add:.2f} mL of fresh media\")"
      ]
    },
    {
      "cell_type": "markdown",
      "metadata": {
        "id": "fjbRjJoCJS5N"
      },
      "source": [
        "🏠 숙제:\n",
        "1. 연구 프로젝트에 대한 정보가 담긴 노트북을 만드십시오\n",
        "2. 몰 농도 및 희석 계산을 연습하십시오\n",
        "3. 다양한 DNA 서열로 작업해 보십시오\n",
        "4. 다양한 출력 형식 옵션을 실험해 보십시오\n"
      ]
    },
    {
      "cell_type": "markdown",
      "metadata": {
        "id": "cTVyad5bI9PY"
      },
      "source": [
        "# ==============================================================\n",
        "# 섹션 11: 요약 및 다음 단계\n",
        "# ================================================================\n",
        "\n",
        "🎉 축하합니다! 1장을 완료했습니다!\n",
        "\n",
        "학습한 내용:\n",
        "✅ Google Colab 사용법\n",
        "✅ 기본 파이썬 문법\n",
        "✅ 변수 및 데이터 타입\n",
        "✅ 기본 연산\n",
        "✅ 출력문 및 형식화\n",
        "✅ 피해야 할 일반적인 실수\n",
        "\n",
        "🔬 다룬 생물학적 응용:\n",
        "- DNA 서열 분석\n",
        "- 실험 데이터 계산\n",
        "- 실험실 계산 (농도, 희석)\n",
        "- 연구를 위한 데이터 형식화\n"
      ]
    }
  ],
  "metadata": {
    "colab": {
      "authorship_tag": "ABX9TyMWdQw3iYqwi//R7b4ovm3G",
      "include_colab_link": true,
      "provenance": []
    },
    "kernelspec": {
      "display_name": "python-for-lifescience (3.11.10)",
      "language": "python",
      "name": "python3"
    },
    "language_info": {
      "codemirror_mode": {
        "name": "ipython",
        "version": 3
      },
      "file_extension": ".py",
      "mimetype": "text/x-python",
      "name": "python",
      "nbconvert_exporter": "python",
      "pygments_lexer": "ipython3",
      "version": "3.11.10"
    }
  },
  "nbformat": 4,
  "nbformat_minor": 0
}
