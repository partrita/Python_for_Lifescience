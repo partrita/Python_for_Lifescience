{
  "nbformat": 4,
  "nbformat_minor": 0,
  "metadata": {
    "colab": {
      "provenance": [],
      "authorship_tag": "ABX9TyMOLuia+fC9ocLz0XVQJrNW",
      "include_colab_link": true
    },
    "kernelspec": {
      "name": "python3",
      "display_name": "Python 3"
    },
    "language_info": {
      "name": "python"
    }
  },
  "cells": [
    {
      "cell_type": "markdown",
      "metadata": {
        "id": "view-in-github",
        "colab_type": "text"
      },
      "source": [
        "<a href=\"https://colab.research.google.com/github/Ash100/Python_for_Lifescience/blob/main/Chapter_7%3AData_Visualization.ipynb\" target=\"_parent\"><img src=\"https://colab.research.google.com/assets/colab-badge.svg\" alt=\"Colab에서 열기\"/></a>"
      ]
    },
    {
      "cell_type": "markdown",
      "source": [
        "#**생명 과학을 위한 파이썬 배우기**\n",
        "\n",
        "이 과정은 **Ashfaq Ahmad 박사**가 설계하고 가르칩니다. 강의 중에 저는 생명 과학 또는 생명 과학의 모든 예제를 사용할 것입니다."
      ],
      "metadata": {
        "id": "oAfTLWyu7oBB"
      }
    },
    {
      "cell_type": "markdown",
      "source": [
        "## 📅 강좌 개요\n",
        "\n",
        "---\n",
        "\n",
        "## 🏗️ 기초 (1-2주차)\n",
        "\n",
        "### 📘 1장: 파이썬과 Colab 시작하기 [강의 보기](https://youtu.be/BKe2CmiG_TU)\n",
        "- Google Colab 인터페이스 소개\n",
        "- 기본 파이썬 문법 및 데이터 타입\n",
        "- 변수, 문자열 및 기본 연산\n",
        "- 출력문과 주석\n",
        "\n",
        "### 📘 2장: 제어 구조 [강의 보기](https://youtu.be/uPHeqVb4Mo0)\n",
        "- 조건문 (`if`/`else`)\n",
        "- 반복문 (`for` 및 `while`)\n",
        "- 기본 함수 및 범위\n",
        "\n",
        "---\n",
        "\n",
        "## 🧬 데이터 처리 (3-4주차)\n",
        "\n",
        "### 📘 3장: 생물학을 위한 데이터 구조 [강의 보기](https://youtu.be/x1IJwSYhNZg)\n",
        "- 리스트와 튜플 (서열, 실험 데이터 저장)\n",
        "- 딕셔너리 (유전자 주석, 종 데이터)\n",
        "- 세트 (고유 식별자, 샘플 모음)\n",
        "\n",
        "### 📘 4장: 파일 작업 [강의 보기](https://youtu.be/D27MyLpSdks)\n",
        "- 텍스트 파일 읽고 쓰기\n",
        "- CSV 파일 처리 (실험 데이터)\n",
        "- 생물학 데이터셋을 위한 기본 파일 작업\n",
        "\n",
        "---\n",
        "\n",
        "## 📊 과학 컴퓨팅 (5-7주차)\n",
        "\n",
        "### 📘 5장: 수치 데이터를 위한 NumPy [강의 보기](https://youtu.be/DPaZN3NQtWw)\n",
        "- 배열을 이용한 실험 측정값 저장\n",
        "- 데이터셋에 대한 수학적 연산\n",
        "- 통계 계산 (평균, 중앙값, 표준편차)\n",
        "\n",
        "### 📘 6장: 데이터 분석을 위한 Pandas [강의 보기](https://youtu.be/MPE6qibUyTE)\n",
        "- 구조화된 생물학 데이터를 위한 데이터프레임\n",
        "- 데이터 정제 및 조작\n",
        "- 실험 결과 필터링 및 그룹화\n",
        "- 결측 데이터 처리\n",
        "\n",
        "### 📘 7장: 데이터 시각화\n",
        "- 과학적 플롯을 위한 Matplotlib 기초\n",
        "- 출판 품질의 그림 생성\n",
        "- 생물학 데이터를 위한 특수 플롯 (히스토그램, 산점도, 박스 플롯)\n",
        "\n",
        "---\n",
        "\n",
        "## 🔬 생물학적 응용 (8-10주차)\n",
        "\n",
        "### 📘 8장: 서열 분석\n",
        "- DNA/RNA 서열을 위한 문자열 조작\n",
        "- 기본 서열 연산 (역상보, 전사)\n",
        "- FASTA 파일 읽기\n",
        "- 간단한 서열 통계\n",
        "\n",
        "### 📘 9장: 생물학을 위한 통계 분석\n",
        "- 가설 검정 기초\n",
        "- t-검정 및 카이제곱 검정\n",
        "- 상관 관계 분석\n",
        "- `scipy.stats` 소개\n",
        "\n",
        "### 📘 10장: 실용적인 프로젝트\n",
        "- 유전자 발현 데이터 분석\n",
        "- 집단 유전학 계산\n",
        "- 생태 데이터 분석\n",
        "- 재현 가능한 연구 워크플로우 생성\n",
        "\n",
        "---\n",
        "\n",
        "## 🚀 고급 주제 *(선택 – 11-12주차)*\n",
        "\n",
        "### 📘 11장: 생물정보학 라이브러리\n",
        "- Biopython 소개\n",
        "- 생물학 데이터베이스 작업\n",
        "- 계통 발생 분석 기초\n",
        "\n",
        "### 📘 12장: 모범 사례\n",
        "- 코드 구성 및 문서화\n",
        "- 오류 처리\n",
        "- 재현 가능한 연구 관행\n",
        "- 코드 및 결과 공유\n",
        "\n",
        "---\n",
        "\n",
        "✅ 우리는 기본적인 프로그래밍 개념에서 실용적인 생물학적 응용으로 이동하여 학생들이 배운 것을 연구 및 과정에 즉시 적용할 수 있도록 할 것입니다.\n"
      ],
      "metadata": {
        "id": "o7mbuWlm7gWI"
      }
    },
    {
      "cell_type": "markdown",
      "source": [
        "## 🧬 7장: Matplotlib을 이용한 생물학 데이터 시각화\n",
        "\n",
        "생물 정보학 도구 키트에서 가장 강력한 도구 중 하나인 **데이터 시각화**에 오신 것을 환영합니다. 생물학에서 데이터 시각화는 단순히 예쁜 그림을 만드는 것이 아니라 패턴을 발견하고, 가설을 검증하고, 발견을 전달하는 것입니다.\n",
        "\n",
        "이 장에서는 **Matplotlib**를 사용하여 데이터 뒤에 숨겨진 이야기를 보여주는 명확하고 출판 가능한 그림을 만드는 방법을 배웁니다. 다음을 살펴보겠습니다:\n",
        "\n",
        "- 시계열 실험을 위한 라인 플롯\n",
        "- 유전자 발현 분포를 위한 히스토그램\n",
        "- 바이오마커 상관 관계를 위한 산점도\n",
        "- 실험 그룹 비교를 위한 박스 플롯\n",
        "\n",
        "생물학적 데이터에 생명을 불어넣어 봅시다!\n",
        "\n",
        "---\n",
        "\n",
        "### 🧪 1. 생물학에서 시각화가 중요한 이유\n",
        "\n",
        "생물학적 데이터는 종종 잡음이 많고 복잡하며 다차원적입니다. 시각화는 다음에 도움이 됩니다:\n",
        "\n",
        "- 이상치 및 변칙 탐지\n",
        "- 실험 조건 비교\n",
        "- 공동 작업자 및 저널에 연구 결과 전달\n",
        "- 비전문가가 데이터에 접근할 수 있도록 만들기\n",
        "\n",
        "유전자 발현, 단백질 농도 또는 미생물 성장을 분석하든 좋은 플롯은 통찰력을 명확하게 보여줄 수 있습니다.\n",
        "\n",
        "---\n",
        "\n",
        "### 🔧 2. Matplotlib 시작하기\n",
        "\n",
        "먼저 라이브러리를 가져오고 플로팅 환경을 설정합니다.\n"
      ],
      "metadata": {
        "id": "_laEawbo8gvv"
      }
    },
    {
      "cell_type": "code",
      "source": [
        "import matplotlib.pyplot as plt\n",
        "import numpy as np\n",
        "import pandas as pd\n",
        "\n",
        "# Optional: Set a clean style\n",
        "plt.style.use('seaborn-v0_8-whitegrid')"
      ],
      "metadata": {
        "id": "9ffUpoNg-BdH"
      },
      "execution_count": 1,
      "outputs": []
    },
    {
      "cell_type": "markdown",
      "source": [
        "### 합성 생물학적 데이터셋 생성"
      ],
      "metadata": {
        "id": "E1bOmVpo-6F2"
      }
    },
    {
      "cell_type": "code",
      "source": [
        "np.random.seed(42)\n",
        "\n",
        "genes = [f'Gene_{i}' for i in range(1, 101)]\n",
        "control = np.random.normal(loc=50, scale=10, size=100)\n",
        "treatment_A = control + np.random.normal(loc=5, scale=5, size=100)\n",
        "treatment_B = control + np.random.normal(loc=-5, scale=5, size=100)\n",
        "\n",
        "df = pd.DataFrame({\n",
        "    'Gene': genes,\n",
        "    'Control': control,\n",
        "    'Treatment_A': treatment_A,\n",
        "    'Treatment_B': treatment_B\n",
        "})\n",
        "\n",
        "df.head()"
      ],
      "metadata": {
        "id": "rq_MgQ2U--vP"
      },
      "execution_count": null,
      "outputs": []
    },
    {
      "cell_type": "markdown",
      "source": [
        "**설명:**<br> 100개 유전자에 대한 발현 수준을 시뮬레이션하고 있습니다:\n",
        "\n",
        "**Control:** 기준 발현\n",
        "\n",
        "**Treatment_A:** 약간 증가된 발현\n",
        "\n",
        "**Treatment_B:** 약간 감소된 발현 이는 유전자가 다른 실험 조건에 어떻게 반응하는지를 모방합니다."
      ],
      "metadata": {
        "id": "tmovM21Z_ntf"
      }
    },
    {
      "cell_type": "markdown",
      "source": [
        "**`np.random.seed(42)`**<br>\n",
        "이것은 노트북을 실행할 때마다 동일한 난수를 얻도록 난수 시드를 설정합니다. 재현성을 보장합니다.<br>**`genes = [f'Gene_{i}' for i in range(1, 101)]\n",
        "`**<br>Gene_1, Gene_2, ..., Gene_100과 같이 100개의 유전자 이름 목록을 만들고 있습니다.<br> **`control = np.random.normal(loc=50, scale=10, size=100)\n",
        "`**<br>대조군 조건에서 100개 유전자의 발현 수준을 시뮬레이션합니다.\n",
        "\n",
        "**loc=50**은 평균 발현이 50임을 의미합니다.\n",
        "\n",
        "**scale=10**은 약간의 변동(표준 편차 10)이 있음을 의미합니다.<br>\n",
        "**`treatment_A = control + np.random.normal(loc=5, scale=5, size=100)\n",
        "`**<br> 대조군 값에 약간의 증가를 추가하여 처리 A를 시뮬레이션합니다.\n",
        "\n",
        "증가량은 약간의 노이즈와 함께 5단위 주위에 무작위로 분포됩니다.<br>**`treatment_B = control + np.random.normal(loc=-5, scale=5, size=100)\n",
        "`**<br> 처리 B는 대조군에 비해 발현 감소를 시뮬레이션합니다.\n",
        "\n",
        "감소량은 -5단위 주위에 무작위로 분포됩니다.<br>\n",
        "**`df = pd.DataFrame({\n",
        "    'Gene': genes,\n",
        "    'Control': control,\n",
        "    'Treatment_A': treatment_A,\n",
        "    'Treatment_B': treatment_B\n",
        "})`**<br> 모든 데이터를 유전자 이름과 각 조건 하의 발현 수준에 대한 열이 있는 단일 테이블(데이터프레임)으로 결합합니다.\n",
        "\n"
      ],
      "metadata": {
        "id": "p6egFprPAdWR"
      }
    },
    {
      "cell_type": "markdown",
      "source": [
        "### 단일 유전자에 대한 라인 플롯"
      ],
      "metadata": {
        "id": "uL0oEmBjDgcZ"
      }
    },
    {
      "cell_type": "code",
      "source": [
        "gene_index = 10  # You can change this number to explore other genes\n",
        "gene_data = df.iloc[gene_index, 1:]\n",
        "\n",
        "plt.plot(gene_data.index, gene_data.values, marker='o')\n",
        "plt.title(f'Expression of {df.iloc[gene_index, 0]}')\n",
        "plt.ylabel('Expression Level')\n",
        "plt.show()\n"
      ],
      "metadata": {
        "id": "4GxMgJpkC9c4"
      },
      "execution_count": null,
      "outputs": []
    },
    {
      "cell_type": "markdown",
      "source": [
        "위 그림은 한 유전자의 발현이 세 가지 조건에 따라 어떻게 변하는지 보여줍니다. 학생들은 gene_index를 변경하여 다른 유전자를 탐색할 수 있습니다."
      ],
      "metadata": {
        "id": "PeY4u9J8Du9n"
      }
    },
    {
      "cell_type": "markdown",
      "source": [
        "### 모든 유전자에 대한 상자 그림 살펴보기"
      ],
      "metadata": {
        "id": "ng30EBODD_d-"
      }
    },
    {
      "cell_type": "code",
      "source": [
        "plt.boxplot([df['Control'], df['Treatment_A'], df['Treatment_B']],\n",
        "            labels=['Control', 'Treatment A', 'Treatment B'])\n",
        "plt.title('Gene Expression Across Conditions')\n",
        "plt.ylabel('Expression Level')\n",
        "plt.show()\n"
      ],
      "metadata": {
        "id": "3TS6_yj_EDj1"
      },
      "execution_count": null,
      "outputs": []
    },
    {
      "cell_type": "markdown",
      "source": [
        "위의 상자 그림은 각 조건에서 모든 유전자의 발현 수준 분포를 요약합니다. 변동성과 중앙값을 비교하는 데 도움이 됩니다."
      ],
      "metadata": {
        "id": "6C7ztBMKJNRh"
      }
    },
    {
      "cell_type": "markdown",
      "source": [
        "### 이제 한 가지 조건에 대한 히스토그램을 시도해 보겠습니다."
      ],
      "metadata": {
        "id": "gddzV-3hJW8I"
      }
    },
    {
      "cell_type": "code",
      "source": [
        "plt.hist(df['Treatment_A'], bins=20, color='lightgreen', edgecolor='black')\n",
        "plt.title('Distribution of Expression in Treatment A')\n",
        "plt.xlabel('Expression Level')\n",
        "plt.ylabel('Frequency')\n",
        "plt.show()\n"
      ],
      "metadata": {
        "id": "j6TK2TqiJb4f"
      },
      "execution_count": null,
      "outputs": []
    },
    {
      "cell_type": "markdown",
      "source": [
        "**`bins=20`**은 데이터를 간격으로 나눕니다. <br>위의 히스토그램은 다양한 발현 수준이 얼마나 자주 발생하는지 보여줍니다. 이는 처리 A에서 유전자 반응의 전반적인 패턴을 이해하는 데 도움이 됩니다."
      ],
      "metadata": {
        "id": "NnnxSueYJzLG"
      }
    },
    {
      "cell_type": "markdown",
      "source": [
        "### 두 조건을 비교하는 산점도"
      ],
      "metadata": {
        "id": "kcjhTftsJ1tG"
      }
    },
    {
      "cell_type": "code",
      "source": [
        "plt.scatter(df['Control'], df['Treatment_A'], alpha=0.6)\n",
        "plt.xlabel('Control')\n",
        "plt.ylabel('Treatment A')\n",
        "plt.title('Expression Comparison: Control vs Treatment A')\n",
        "plt.show()\n"
      ],
      "metadata": {
        "id": "q69z4DZzJ7zd"
      },
      "execution_count": null,
      "outputs": []
    },
    {
      "cell_type": "markdown",
      "source": [
        "각 점은 하나의 유전자를 나타냅니다. 점이 대각선을 따라 있으면 유전자의 발현이 크게 변하지 않았음을 의미합니다. 대각선에서 멀리 떨어진 점은 강한 변화를 보여줍니다."
      ],
      "metadata": {
        "id": "N5rEBVlJKNHO"
      }
    },
    {
      "cell_type": "markdown",
      "source": [
        "### 📊 플롯 유형 및 생물학적 사용 사례 요약\n",
        "\n",
        "| 🖼️ **플롯 유형** | 🔬 **생물학에서의 사용 사례** |\n",
        "|--------------------|-----------------------------------------------------|\n",
        "| 📈 라인 플롯 | 시계열 데이터 (예: 성장 곡선, 동역학) |\n",
        "| 📊 히스토그램 | 값의 분포 (예: 유전자 발현, 개수) |\n",
        "| 🔬 산점도 | 변수 간의 상관 관계 (예: 바이오마커, 유전자 쌍) |\n",
        "| 📦 박스 플롯 | 그룹 간 비교 (예: 처리, 샘플 유형) |"
      ],
      "metadata": {
        "id": "OQ-NpIXFMcYK"
      }
    },
    {
      "cell_type": "markdown",
      "source": [
        "### **축하합니다** <br> 이제 시각화와 Matplot에 익숙해졌습니다. 다른 데이터셋에서 연습하는 것을 제안합니다."
      ],
      "metadata": {
        "id": "NBbnTBDHK2XP"
      }
    }
  ]
}
