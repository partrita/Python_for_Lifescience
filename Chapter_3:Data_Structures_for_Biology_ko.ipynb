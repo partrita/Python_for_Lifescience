{
  "nbformat": 4,
  "nbformat_minor": 0,
  "metadata": {
    "colab": {
      "provenance": [],
      "authorship_tag": "ABX9TyMIjDdozEi/RypKdqINz+vZ",
      "include_colab_link": true
    },
    "kernelspec": {
      "name": "python3",
      "display_name": "Python 3"
    },
    "language_info": {
      "name": "python"
    }
  },
  "cells": [
    {
      "cell_type": "markdown",
      "metadata": {
        "id": "view-in-github",
        "colab_type": "text"
      },
      "source": [
        "<a href=\"https://colab.research.google.com/github/Ash100/Python_for_Lifescience/blob/main/Chapter_3%3AData_Structures_for_Biology.ipynb\" target=\"_parent\"><img src=\"https://colab.research.google.com/assets/colab-badge.svg\" alt=\"Colab에서 열기\"/></a>"
      ]
    },
    {
      "cell_type": "markdown",
      "source": [
        "#**생물학적 데이터 분석을 위한 파이썬 학습**\n",
        "# **3장:** 생물학을 위한 데이터 구조\n",
        "\n",
        "이 강좌는 **Ashfaq Ahmad 박사님**께서 설계하고 강의하십니다. 강의 전반에 걸쳐 생명 과학 또는 생명 과학 분야의 예시들을 사용할 것입니다."
      ],
      "metadata": {
        "id": "4jtCrs4bgPir"
      }
    },
    {
      "cell_type": "markdown",
      "source": [
        "## 📅 강좌 개요\n",
        "\n",
        "---\n",
        "\n",
        "## 🏗️ 기초 (1-2주차)\n",
        "\n",
        "### 📘 1장: 파이썬과 Colab 시작하기\n",
        "- Google Colab 인터페이스 소개\n",
        "- 기본 파이썬 문법 및 데이터 타입\n",
        "- 변수, 문자열 및 기본 연산\n",
        "- 출력문과 주석\n",
        "\n",
        "### 📘 2장: 제어 구조\n",
        "- 조건문 (`if`/`else`)\n",
        "- 반복문 (`for` 및 `while`)\n",
        "- 기본 함수 및 범위\n",
        "\n",
        "---\n",
        "\n",
        "## 🧬 데이터 처리 (3-4주차)\n",
        "\n",
        "### 📘 3장: 생물학을 위한 데이터 구조\n",
        "- 리스트와 튜플 (서열, 실험 데이터 저장)\n",
        "- 딕셔너리 (유전자 주석, 종 데이터)\n",
        "- 세트 (고유 식별자, 샘플 모음)\n",
        "\n",
        "### 📘 4장: 파일 작업\n",
        "- 텍스트 파일 읽고 쓰기\n",
        "- CSV 파일 처리 (실험 데이터)\n",
        "- 생물학 데이터셋을 위한 기본 파일 작업\n",
        "\n",
        "---\n",
        "\n",
        "## 📊 과학 컴퓨팅 (5-7주차)\n",
        "\n",
        "### 📘 5장: 수치 데이터를 위한 NumPy\n",
        "- 배열을 이용한 실험 측정값 저장\n",
        "- 데이터셋에 대한 수학적 연산\n",
        "- 통계 계산 (평균, 중앙값, 표준편차)\n",
        "\n",
        "### 📘 6장: 데이터 분석을 위한 Pandas\n",
        "- 구조화된 생물학 데이터를 위한 데이터프레임\n",
        "- 데이터 정제 및 조작\n",
        "- 실험 결과 필터링 및 그룹화\n",
        "- 결측 데이터 처리\n",
        "\n",
        "### 📘 7장: 데이터 시각화\n",
        "- 과학적 플롯을 위한 Matplotlib 기초\n",
        "- 출판 품질의 그림 생성\n",
        "- 생물학 데이터를 위한 특수 플롯 (히스토그램, 산점도, 박스 플롯)\n",
        "\n",
        "---\n",
        "\n",
        "## 🔬 생물학적 응용 (8-10주차)\n",
        "\n",
        "### 📘 8장: 서열 분석\n",
        "- DNA/RNA 서열을 위한 문자열 조작\n",
        "- 기본 서열 연산 (역상보, 전사)\n",
        "- FASTA 파일 읽기\n",
        "- 간단한 서열 통계\n",
        "\n",
        "### 📘 9장: 생물학을 위한 통계 분석\n",
        "- 가설 검정 기초\n",
        "- t-검정 및 카이제곱 검정\n",
        "- 상관 관계 분석\n",
        "- `scipy.stats` 소개\n",
        "\n",
        "### 📘 10장: 실용적인 프로젝트\n",
        "- 유전자 발현 데이터 분석\n",
        "- 집단 유전학 계산\n",
        "- 생태 데이터 분석\n",
        "- 재현 가능한 연구 워크플로우 생성\n",
        "\n",
        "---\n",
        "\n",
        "## 🚀 고급 주제 *(선택 – 11-12주차)*\n",
        "\n",
        "### 📘 11장: 생물정보학 라이브러리\n",
        "- Biopython 소개\n",
        "- 생물학 데이터베이스 작업\n",
        "- 계통 발생 분석 기초\n",
        "\n",
        "### 📘 12장: 모범 사례\n",
        "- 코드 구성 및 문서화\n",
        "- 오류 처리\n",
        "- 재현 가능한 연구 관행\n",
        "- 코드 및 결과 공유\n",
        "\n",
        "---\n",
        "\n",
        "## 🧠 핵심 교수 전략\n",
        "\n",
        "1. 각 장을 생물학적 맥락으로 시작하십시오 – 프로그래밍 개념이 해당 분야에 왜 중요한지 설명하십시오.\n",
        "2. 전체에 걸쳐 생물학적 데이터셋을 사용하십시오 – 유전자 서열, 실험 측정값, 종 데이터.\n",
        "3. 각 개념 뒤에 실습 예제를 포함하십시오.\n",
        "4. 재현성을 강조하십시오 – 코드가 분석 과정을 어떻게 문서화하는지 보여주십시오.\n",
        "5. 복잡성을 점진적으로 구축하십시오 – 간단한 예제로 시작하여 실제 연구 시나리오로 나아가십시오.\n",
        "\n",
        "---\n",
        "\n",
        "✅ 이 과정은 기본적인 프로그래밍 개념에서 실용적인 생물학적 응용으로 나아가므로, 학생들이 배운 것을 연구 및 교과 과정에 즉시 적용할 수 있도록 보장합니다.\n"
      ],
      "metadata": {
        "id": "u1FI5JrPgZ7P"
      }
    },
    {
      "cell_type": "markdown",
      "source": [
        "## 학습 목표\n",
        "이 장이 끝나면 학생들은 다음을 할 수 있게 될 것입니다:\n",
        "\n",
        "1. 리스트와 튜플을 사용하여 생물학적 서열 및 실험 데이터 저장\n",
        "2. 유전자 주석 및 종 정보에 딕셔너리 적용\n",
        "3. 고유 식별자 및 샘플 모음 관리에 세트 활용\n",
        "4. 다양한 생물학적 문제에 적합한 데이터 구조 선택"
      ],
      "metadata": {
        "id": "1YnFa9ttgkKW"
      }
    },
    {
      "cell_type": "markdown",
      "source": [
        "##**섹션 1:** 리스트와 튜플 - 서열 및 실험 데이터 저장\n",
        "### **파이썬 리스트 소개**\n",
        "\n",
        "리스트는 파이썬에서 가장 다재다능하고 일반적으로 사용되는 데이터 구조 중 하나입니다. 순서가 있고 변경 가능한(mutable) 항목들의 모음입니다. 즉, 리스트가 생성된 후 항목을 추가, 제거 또는 수정할 수 있으며 항목의 순서는 유지됩니다. 리스트는 동일한 리스트 내에 다른 데이터 유형의 항목을 포함할 수 있습니다.\n",
        "\n",
        "### 리스트를 사용하는 이유\n",
        "\n",
        "* **순서 있음:** 리스트의 항목은 정의된 순서를 가지며, 명시적으로 리스트를 수정하지 않는 한 그 순서는 변경되지 않습니다.\n",
        "* **변경 가능(Mutable):** 생성된 후 리스트를 수정할 수 있습니다(요소 추가, 제거 또는 변경).\n",
        "* **중복 허용:** 리스트는 동일한 값을 가진 여러 항목을 포함할 수 있습니다.\n",
        "* **이기종:** 단일 리스트는 다른 데이터 유형의 항목을 담을 수 있습니다(예: 정수, 문자열, 부동 소수점, 다른 리스트까지).\n",
        "\n",
        "### 리스트 만들기\n",
        "\n",
        "리스트는 모든 항목(요소)을 대괄호 `[]` 안에 넣고 쉼표로 구분하여 만듭니다.<br>\n",
        "\n"
      ],
      "metadata": {
        "id": "v93-p5OCqXBH"
      }
    },
    {
      "cell_type": "code",
      "source": [
        "# An empty list\n",
        "my_empty_list = []\n",
        "print(my_empty_list) # Output: []\n",
        "\n",
        "# A list of integers\n",
        "numbers = [1, 2, 3, 4, 5]\n",
        "print(numbers) # Output: [1, 2, 3, 4, 5]\n",
        "\n",
        "# A list of strings\n",
        "fruits = [\"apple\", \"banana\", \"cherry\"]\n",
        "print(fruits) # Output: ['apple', 'banana', 'cherry']\n",
        "\n",
        "# A mixed-type list\n",
        "mixed_list = [1, \"hello\", 3.14, True]\n",
        "print(mixed_list) # Output: [1, 'hello', 3.14, True]\n",
        "\n",
        "# A nested list (a list containing another list)\n",
        "nested_list = [1, 2, [3, 4], 5]\n",
        "print(nested_list) # Output: [1, 2, [3, 4], 5]"
      ],
      "metadata": {
        "id": "-SRktDVZx_O5"
      },
      "execution_count": null,
      "outputs": []
    },
    {
      "cell_type": "code",
      "execution_count": null,
      "metadata": {
        "id": "IMq4FzUsgMsj"
      },
      "outputs": [],
      "source": [
        "# Basic list creation and operations\n",
        "dna_sequence = ['A', 'T', 'G', 'C', 'A', 'T', 'G']\n",
        "print(f\"DNA sequence: {dna_sequence}\")\n",
        "print(f\"Length: {len(dna_sequence)}\")\n",
        "print(f\"First nucleotide: {dna_sequence[0]}\")\n",
        "print(f\"Last nucleotide: {dna_sequence[-1]}\")"
      ]
    },
    {
      "cell_type": "markdown",
      "source": [
        "**1.2 리스트의 생물학적 응용**\n",
        "\n",
        "예제 1: DNA 서열 분석"
      ],
      "metadata": {
        "id": "NReRylNdq0Ku"
      }
    },
    {
      "cell_type": "code",
      "source": [
        "# Storing a DNA sequence as a list\n",
        "gene_sequence = ['A', 'T', 'G', 'C', 'C', 'G', 'T', 'A', 'A', 'T']\n",
        "\n",
        "# Count nucleotides\n",
        "nucleotide_counts = {\n",
        "    'A': gene_sequence.count('A'),\n",
        "    'T': gene_sequence.count('T'),\n",
        "    'G': gene_sequence.count('G'),\n",
        "    'C': gene_sequence.count('C')\n",
        "}\n",
        "\n",
        "print(\"Nucleotide composition:\")\n",
        "for nucleotide, count in nucleotide_counts.items():\n",
        "    percentage = (count / len(gene_sequence)) * 100\n",
        "    print(f\"{nucleotide}: {count} ({percentage:.1f}%)\")"
      ],
      "metadata": {
        "id": "G0MeBrHkq38X"
      },
      "execution_count": null,
      "outputs": []
    },
    {
      "cell_type": "markdown",
      "source": [
        "**예제 2: 실험 데이터 저장**"
      ],
      "metadata": {
        "id": "W7247obHrMmQ"
      }
    },
    {
      "cell_type": "code",
      "source": [
        "# pH measurements over time\n",
        "ph_measurements = [7.2, 7.1, 6.9, 6.8, 6.7, 6.9, 7.0, 7.1]\n",
        "time_points = [0, 1, 2, 3, 4, 5, 6, 7]  # hours\n",
        "\n",
        "print(\"pH over time:\")\n",
        "for i, (time, ph) in enumerate(zip(time_points, ph_measurements)):\n",
        "    print(f\"Hour {time}: pH = {ph}\")\n",
        "\n",
        "# Calculate average pH\n",
        "average_ph = sum(ph_measurements) / len(ph_measurements)\n",
        "print(f\"\\nAverage pH: {average_ph:.2f}\")"
      ],
      "metadata": {
        "id": "y24ZgiRxrNoP"
      },
      "execution_count": null,
      "outputs": []
    },
    {
      "cell_type": "markdown",
      "source": [
        "**예제 3: 단백질 분자량**"
      ],
      "metadata": {
        "id": "YzvhQsUJrVH-"
      }
    },
    {
      "cell_type": "code",
      "source": [
        "# List of protein molecular weights (in kDa)\n",
        "protein_weights = [45.2, 67.8, 23.1, 89.5, 34.7, 56.3, 78.9]\n",
        "\n",
        "# Sort proteins by molecular weight\n",
        "sorted_weights = sorted(protein_weights)\n",
        "print(f\"Proteins sorted by molecular weight: {sorted_weights}\")\n",
        "\n",
        "# Find proteins within a specific range\n",
        "target_range = (40, 70)  # kDa\n",
        "proteins_in_range = [w for w in protein_weights if target_range[0] <= w <= target_range[1]]\n",
        "print(f\"Proteins between {target_range[0]}-{target_range[1]} kDa: {proteins_in_range}\")"
      ],
      "metadata": {
        "id": "fsxhn2IerV6e"
      },
      "execution_count": null,
      "outputs": []
    },
    {
      "cell_type": "markdown",
      "source": [
        "**1.3 튜플 소개**\n",
        "\n",
        "튜플은 파이썬의 또 다른 기본적인 데이터 구조로, 어떤 면에서는 리스트와 유사하지만 결정적인 차이점이 있습니다: **튜플은 불변(immutable)입니다**. 즉, 튜플이 생성되면 그 요소를 변경(추가, 제거 또는 수정)할 수 없습니다.\n",
        "\n",
        "튜플은 순서가 있는 항목 모음이며, 다른 데이터 유형의 항목을 포함할 수 있습니다.\n",
        "\n",
        "## 튜플을 사용하는 이유\n",
        "\n",
        "* **순서 있음:** 튜플의 항목은 정의된 순서를 가지며, 변경되지 않습니다.\n",
        "* **불변(변경 불가):** 이것이 핵심 특징입니다. 일단 생성되면 튜플의 내용은 변경할 수 없습니다. 이로 인해 좌표, 구성 설정 또는 변경되어서는 안 되는 데이터베이스 레코드와 같이 수정해서는 안 되는 데이터에 적합합니다.\n",
        "* **중복 허용:** 튜플은 동일한 값을 가진 여러 항목을 포함할 수 있습니다.\n",
        "* **이기종:** 단일 튜플은 다른 데이터 유형의 항목을 담을 수 있습니다.\n",
        "* **더 빠름:** 불변성으로 인해 특정 작업에서 리스트보다 튜플을 처리하는 것이 약간 더 빠를 수 있습니다.\n",
        "* **딕셔너리 키로 사용:** 불변이기 때문에 튜플은 딕셔너리에서 키로 사용할 수 있지만 리스트는 사용할 수 없습니다.\n",
        "\n",
        "## 튜플 만들기\n",
        "\n",
        "튜플은 모든 항목(요소)을 괄호 `()` 안에 넣고 쉼표로 구분하여 만듭니다.<br>"
      ],
      "metadata": {
        "id": "wmUOb3nXuGE4"
      }
    },
    {
      "cell_type": "code",
      "source": [
        "# An empty tuple\n",
        "my_empty_tuple = ()\n",
        "print(my_empty_tuple) # Output: ()\n",
        "\n",
        "# A tuple of integers\n",
        "numbers_tuple = (1, 2, 3, 4, 5)\n",
        "print(numbers_tuple) # Output: (1, 2, 3, 4, 5)\n",
        "\n",
        "# A tuple of strings\n",
        "colors = (\"red\", \"green\", \"blue\")\n",
        "print(colors) # Output: ('red', 'green', 'blue')\n",
        "\n",
        "# A mixed-type tuple\n",
        "mixed_tuple = (1, \"hello\", 3.14, False)\n",
        "print(mixed_tuple) # Output: (1, 'hello', 3.14, False)\n",
        "\n",
        "# A tuple with a single item (requires a trailing comma!)\n",
        "single_item_tuple = (\"single\",)\n",
        "print(single_item_tuple) # Output: ('single',)\n",
        "print(type(single_item_tuple)) # Output: <class 'tuple'>\n",
        "\n",
        "# Without the comma, it's just a string in parentheses\n",
        "not_a_tuple = (\"single\")\n",
        "print(type(not_a_tuple)) # Output: <class 'str'>"
      ],
      "metadata": {
        "id": "ujNW3_CK0M4n"
      },
      "execution_count": null,
      "outputs": []
    },
    {
      "cell_type": "code",
      "source": [
        "# Basic tuple creation\n",
        "codon = ('A', 'T', 'G')\n",
        "print(f\"Codon: {codon}\")\n",
        "print(f\"Cannot modify tuple - it's immutable!\")\n",
        "\n",
        "# Tuples are great for coordinates\n",
        "chromosome_position = (12, 1504829)  # (chromosome, position)\n",
        "print(f\"Gene located at chromosome {chromosome_position[0]}, position {chromosome_position[1]}\")"
      ],
      "metadata": {
        "id": "4FSfU6pIuH_e"
      },
      "execution_count": null,
      "outputs": []
    },
    {
      "cell_type": "markdown",
      "source": [
        "**1.4 튜플의 생물학적 응용**\n",
        "\n",
        "**예제 1: 유전적 좌표**"
      ],
      "metadata": {
        "id": "WQYHeKN_uOoJ"
      }
    },
    {
      "cell_type": "code",
      "source": [
        "# Store gene locations as tuples (chromosome, start, end, strand)\n",
        "gene_locations = [\n",
        "    ('chr1', 1000, 2000, '+'),\n",
        "    ('chr2', 5000, 6500, '-'),\n",
        "    ('chr3', 3000, 4200, '+'),\n",
        "    ('chr1', 7000, 8000, '-')\n",
        "]\n",
        "\n",
        "print(\"Gene locations:\")\n",
        "for i, (chrom, start, end, strand) in enumerate(gene_locations, 1):\n",
        "    length = end - start\n",
        "    print(f\"Gene {i}: {chrom}:{start}-{end} ({strand}) - Length: {length} bp\")"
      ],
      "metadata": {
        "id": "F3CeymuLuQBQ"
      },
      "execution_count": null,
      "outputs": []
    },
    {
      "cell_type": "markdown",
      "source": [
        "**예제 2: 아미노산 속성**"
      ],
      "metadata": {
        "id": "is2xONlJuVqH"
      }
    },
    {
      "cell_type": "code",
      "source": [
        "# Store amino acid properties as tuples (name, abbreviation, molecular_weight, hydrophobicity)\n",
        "amino_acids = [\n",
        "    ('Alanine', 'Ala', 'A', 89.1, 1.8),\n",
        "    ('Glycine', 'Gly', 'G', 75.1, -0.4),\n",
        "    ('Valine', 'Val', 'V', 117.1, 4.2),\n",
        "    ('Leucine', 'Leu', 'L', 131.2, 3.8)\n",
        "]\n",
        "\n",
        "print(\"Amino Acid Properties:\")\n",
        "print(\"Name\\t\\tAbbr\\tCode\\tMW\\tHydrophobicity\")\n",
        "print(\"-\" * 50)\n",
        "for name, abbr, code, mw, hydro in amino_acids:\n",
        "    print(f\"{name:<10}\\t{abbr}\\t{code}\\t{mw}\\t{hydro}\")"
      ],
      "metadata": {
        "id": "JMJ0tr8_uW0I"
      },
      "execution_count": null,
      "outputs": []
    },
    {
      "cell_type": "markdown",
      "source": [
        "**1.5 연습 문제: 서열 분석**"
      ],
      "metadata": {
        "id": "FbgiCmb1uZGP"
      }
    },
    {
      "cell_type": "code",
      "source": [
        "# Exercise: Analyze a DNA sequence\n",
        "def analyze_dna_sequence(sequence):\n",
        "    \"\"\"\n",
        "    Analyze a DNA sequence and return statistics\n",
        "    \"\"\"\n",
        "    # Convert to list for easier manipulation\n",
        "    seq_list = list(sequence.upper())\n",
        "\n",
        "    # Count nucleotides\n",
        "    counts = {'A': 0, 'T': 0, 'G': 0, 'C': 0}\n",
        "    for nucleotide in seq_list:\n",
        "        if nucleotide in counts:\n",
        "            counts[nucleotide] += 1\n",
        "\n",
        "    # Calculate GC content\n",
        "    gc_content = (counts['G'] + counts['C']) / len(seq_list) * 100\n",
        "\n",
        "    # Find complement\n",
        "    complement_map = {'A': 'T', 'T': 'A', 'G': 'C', 'C': 'G'}\n",
        "    complement = [complement_map[n] for n in seq_list]\n",
        "\n",
        "    return {\n",
        "        'length': len(seq_list),\n",
        "        'composition': counts,\n",
        "        'gc_content': gc_content,\n",
        "        'complement': ''.join(complement)\n",
        "    }\n",
        "\n",
        "# Test the function\n",
        "test_sequence = \"ATGCGATCGATCG\"\n",
        "results = analyze_dna_sequence(test_sequence)\n",
        "\n",
        "print(f\"Sequence: {test_sequence}\")\n",
        "print(f\"Length: {results['length']}\")\n",
        "print(f\"Composition: {results['composition']}\")\n",
        "print(f\"GC Content: {results['gc_content']:.1f}%\")\n",
        "print(f\"Complement: {results['complement']}\")"
      ],
      "metadata": {
        "id": "LI0qXUOpucYW"
      },
      "execution_count": null,
      "outputs": []
    },
    {
      "cell_type": "markdown",
      "source": [
        "##**섹션 2:** 딕셔너리 - 유전자 주석 및 종 데이터\n",
        "\n",
        "**2.1 딕셔너리 소개**\n",
        "\n",
        "# 파이썬 딕셔너리 소개\n",
        "\n",
        "딕셔너리는 파이썬에서 **키-값 쌍**으로 데이터 값을 저장하는 데 사용되는 강력하고 매우 유연한 데이터 구조입니다. 각 키-값 쌍은 키를 해당 값에 매핑합니다. 딕셔너리를 \"단어\"(키)가 \"정의\"(값)와 연관된 실제 사전으로 생각하십시오.\n",
        "\n",
        "## 딕셔너리의 주요 특징\n",
        "\n",
        "* **키-값 쌍:** 딕셔너리는 데이터를 `key: value` 쌍으로 저장합니다.\n",
        "* **변경 가능(Mutable):** 딕셔너리가 생성된 후 새 항목을 추가하거나 기존 항목을 수정하거나 항목을 제거할 수 있습니다.\n",
        "* **키는 고유해야 함:** 딕셔너리 내의 각 키는 고유해야 합니다. 기존 키로 새 항목을 추가하려고 하면 해당 키와 연관된 이전 값이 덮어쓰여집니다.\n",
        "* **키는 불변이어야 함:** 딕셔너리 키는 불변 유형이어야 합니다(예: 문자열, 숫자, 튜플). 리스트나 다른 딕셔너리와 같은 변경 가능한 유형은 키로 사용할 수 없습니다.\n",
        "* **값은 무엇이든 될 수 있음:** 값은 모든 데이터 유형(문자열, 숫자, 리스트, 다른 딕셔너리 등)이 될 수 있으며 중복될 수 있습니다.\n",
        "\n",
        "## 딕셔너리를 사용하는 이유\n",
        "\n",
        "딕셔너리는 특정 이름이나 고유 식별자(키)로 식별할 수 있는 데이터가 있을 때 이상적입니다. 특정 키와 관련된 데이터를 매우 효율적으로 검색하는 방법을 제공합니다.\n",
        "\n",
        "* 사용자 프로필 저장(사용자 이름: 사용자 데이터)\n",
        "* 레코드 표현(제품 ID: 제품 세부 정보)\n",
        "* 구성 설정(설정 이름: 값)\n",
        "* 항목 빈도 계산(항목: 개수)\n",
        "\n",
        "## 딕셔너리 만들기\n",
        "\n",
        "딕셔너리는 쉼표로 구분된 `key: value` 쌍 목록을 중괄호 `{}` 안에 넣어 만듭니다.<br>"
      ],
      "metadata": {
        "id": "TgtMmXmdufOH"
      }
    },
    {
      "cell_type": "code",
      "source": [
        "# An empty dictionary\n",
        "my_empty_dict = {}\n",
        "print(my_empty_dict) # Output: {}\n",
        "\n",
        "# A dictionary with string keys and integer values\n",
        "student_scores = {\"Alice\": 95, \"Bob\": 88, \"Charlie\": 76}\n",
        "print(student_scores) # Output: {'Alice': 95, 'Bob': 88, 'Charlie': 76}\n",
        "\n",
        "# A dictionary with mixed key/value types\n",
        "person_info = {\n",
        "    \"name\": \"Jane Doe\",\n",
        "    \"age\": 30,\n",
        "    \"is_student\": False,\n",
        "    \"courses\": [\"Math\", \"Physics\"]\n",
        "}\n",
        "print(person_info)\n",
        "# Output: {'name': 'Jane Doe', 'age': 30, 'is_student': False, 'courses': ['Math', 'Physics']}\n",
        "\n",
        "# Using the dict() constructor\n",
        "another_dict = dict(brand=\"Ford\", model=\"Mustang\", year=1964)\n",
        "print(another_dict) # Output: {'brand': 'Ford', 'model': 'Mustang', 'year': 1964}"
      ],
      "metadata": {
        "id": "jUhH5tHr5-qw"
      },
      "execution_count": null,
      "outputs": []
    },
    {
      "cell_type": "code",
      "source": [
        "# Basic dictionary creation\n",
        "genetic_code = {\n",
        "    'UUU': 'Phe', 'UUC': 'Phe', 'UUA': 'Leu', 'UUG': 'Leu',\n",
        "    'UCU': 'Ser', 'UCC': 'Ser', 'UCA': 'Ser', 'UCG': 'Ser',\n",
        "    'UAU': 'Tyr', 'UAC': 'Tyr', 'UAA': 'Stop', 'UAG': 'Stop'\n",
        "}\n",
        "\n",
        "print(\"Genetic Code Examples:\")\n",
        "for codon, amino_acid in genetic_code.items():\n",
        "    print(f\"{codon} -> {amino_acid}\")"
      ],
      "metadata": {
        "id": "31RYzd--uzPf"
      },
      "execution_count": null,
      "outputs": []
    },
    {
      "cell_type": "markdown",
      "source": [
        "_`items()`_는 genetic_code라는 딕셔너리에서 모든 키-값 쌍을 검색합니다."
      ],
      "metadata": {
        "id": "36hYLeeP6hhu"
      }
    },
    {
      "cell_type": "markdown",
      "source": [
        "**2.2 유전자 주석 딕셔너리**\n",
        "\n",
        "**예제 1: 유전자 정보 데이터베이스**"
      ],
      "metadata": {
        "id": "0gkWcSJmu3bA"
      }
    },
    {
      "cell_type": "code",
      "source": [
        "# Store comprehensive gene information\n",
        "gene_database = {\n",
        "    'BRCA1': {\n",
        "        'full_name': 'Breast Cancer 1',\n",
        "        'chromosome': 17,\n",
        "        'start': 41196312,\n",
        "        'end': 41277500,\n",
        "        'strand': '-',\n",
        "        'function': 'DNA repair',\n",
        "        'associated_diseases': ['Breast cancer', 'Ovarian cancer'],\n",
        "        'protein_length': 1863\n",
        "    },\n",
        "    'TP53': {\n",
        "        'full_name': 'Tumor Protein 53',\n",
        "        'chromosome': 17,\n",
        "        'start': 7565097,\n",
        "        'end': 7590856,\n",
        "        'strand': '-',\n",
        "        'function': 'Tumor suppressor',\n",
        "        'associated_diseases': ['Various cancers'],\n",
        "        'protein_length': 393\n",
        "    },\n",
        "    'CFTR': {\n",
        "        'full_name': 'Cystic Fibrosis Transmembrane Conductance Regulator',\n",
        "        'chromosome': 7,\n",
        "        'start': 117120016,\n",
        "        'end': 117308718,\n",
        "        'strand': '+',\n",
        "        'function': 'Ion channel',\n",
        "        'associated_diseases': ['Cystic fibrosis'],\n",
        "        'protein_length': 1480\n",
        "    }\n",
        "}\n",
        "\n",
        "# Access gene information\n",
        "def display_gene_info(gene_name):\n",
        "    if gene_name in gene_database:\n",
        "        info = gene_database[gene_name]\n",
        "        print(f\"Gene: {gene_name}\")\n",
        "        print(f\"Full Name: {info['full_name']}\")\n",
        "        print(f\"Location: chr{info['chromosome']}:{info['start']}-{info['end']} ({info['strand']})\")\n",
        "        print(f\"Function: {info['function']}\")\n",
        "        print(f\"Associated Diseases: {', '.join(info['associated_diseases'])}\")\n",
        "        print(f\"Protein Length: {info['protein_length']} amino acids\")\n",
        "    else:\n",
        "        print(f\"Gene {gene_name} not found in database\")\n",
        "\n",
        "# Display information for specific genes\n",
        "for gene in ['BRCA1', 'TP53']:\n",
        "    display_gene_info(gene)\n",
        "    print(\"-\" * 50)"
      ],
      "metadata": {
        "id": "52dVsXS0u5kP"
      },
      "execution_count": null,
      "outputs": []
    },
    {
      "cell_type": "markdown",
      "source": [
        "**예제 2: 발현 데이터**"
      ],
      "metadata": {
        "id": "GO4XbIBbu8qB"
      }
    },
    {
      "cell_type": "code",
      "source": [
        "# Store gene expression data across different conditions\n",
        "expression_data = {\n",
        "    'control': {\n",
        "        'GAPDH': 1000,\n",
        "        'ACTB': 800,\n",
        "        'TP53': 50,\n",
        "        'BRCA1': 25\n",
        "    },\n",
        "    'treatment_A': {\n",
        "        'GAPDH': 1050,\n",
        "        'ACTB': 820,\n",
        "        'TP53': 150,\n",
        "        'BRCA1': 75\n",
        "    },\n",
        "    'treatment_B': {\n",
        "        'GAPDH': 980,\n",
        "        'ACTB': 790,\n",
        "        'TP53': 200,\n",
        "        'BRCA1': 100\n",
        "    }\n",
        "}\n",
        "\n",
        "# Calculate fold changes\n",
        "def calculate_fold_change(treatment, control_condition='control'):\n",
        "    fold_changes = {}\n",
        "    control_data = expression_data[control_condition]\n",
        "    treatment_data = expression_data[treatment]\n",
        "\n",
        "    for gene in control_data:\n",
        "        if gene in treatment_data:\n",
        "            fold_change = treatment_data[gene] / control_data[gene]\n",
        "            fold_changes[gene] = fold_change\n",
        "\n",
        "    return fold_changes\n",
        "\n",
        "# Calculate and display fold changes\n",
        "for treatment in ['treatment_A', 'treatment_B']:\n",
        "    fold_changes = calculate_fold_change(treatment)\n",
        "    print(f\"Fold changes for {treatment}:\")\n",
        "    for gene, fc in fold_changes.items():\n",
        "        direction = \"up\" if fc > 1 else \"down\"\n",
        "        print(f\"  {gene}: {fc:.2f}x ({direction}-regulated)\")\n",
        "    print()"
      ],
      "metadata": {
        "id": "8-Y_4U0ZvBSI"
      },
      "execution_count": null,
      "outputs": []
    },
    {
      "cell_type": "markdown",
      "source": [
        "**2.3 종 데이터 관리**\n",
        "\n",
        "**예제 1: 분류학적 정보**"
      ],
      "metadata": {
        "id": "tJCmTLfFvERJ"
      }
    },
    {
      "cell_type": "code",
      "source": [
        "# Store species taxonomic information\n",
        "species_database = {\n",
        "    'homo_sapiens': {\n",
        "        'common_name': 'Human',\n",
        "        'kingdom': 'Animalia',\n",
        "        'phylum': 'Chordata',\n",
        "        'class': 'Mammalia',\n",
        "        'order': 'Primates',\n",
        "        'family': 'Hominidae',\n",
        "        'genus': 'Homo',\n",
        "        'species': 'sapiens',\n",
        "        'genome_size': 3.2e9  # base pairs\n",
        "    },\n",
        "    'mus_musculus': {\n",
        "        'common_name': 'House Mouse',\n",
        "        'kingdom': 'Animalia',\n",
        "        'phylum': 'Chordata',\n",
        "        'class': 'Mammalia',\n",
        "        'order': 'Rodentia',\n",
        "        'family': 'Muridae',\n",
        "        'genus': 'Mus',\n",
        "        'species': 'musculus',\n",
        "        'genome_size': 2.7e9\n",
        "    },\n",
        "    'escherichia_coli': {\n",
        "        'common_name': 'E. coli',\n",
        "        'kingdom': 'Bacteria',\n",
        "        'phylum': 'Proteobacteria',\n",
        "        'class': 'Gammaproteobacteria',\n",
        "        'order': 'Enterobacteriales',\n",
        "        'family': 'Enterobacteriaceae',\n",
        "        'genus': 'Escherichia',\n",
        "        'species': 'coli',\n",
        "        'genome_size': 4.6e6\n",
        "    }\n",
        "}\n",
        "\n",
        "# Function to display taxonomic hierarchy\n",
        "def display_taxonomy(species_key):\n",
        "    if species_key in species_database:\n",
        "        species = species_database[species_key]\n",
        "        print(f\"Taxonomic Classification of {species['common_name']}:\")\n",
        "        hierarchy = ['kingdom', 'phylum', 'class', 'order', 'family', 'genus', 'species']\n",
        "        for level in hierarchy:\n",
        "            print(f\"  {level.capitalize()}: {species[level]}\")\n",
        "        print(f\"  Genome Size: {species['genome_size']:,.0f} bp\")\n",
        "    else:\n",
        "        print(f\"Species {species_key} not found\")\n",
        "\n",
        "# Display taxonomy for different species\n",
        "for species in species_database.keys():\n",
        "    display_taxonomy(species)\n",
        "    print(\"-\" * 40)"
      ],
      "metadata": {
        "id": "hgK0_YcVvHrf"
      },
      "execution_count": null,
      "outputs": []
    },
    {
      "cell_type": "markdown",
      "source": [
        "**예제 2: 표현형 데이터**"
      ],
      "metadata": {
        "id": "dy3tDXh-vJ8m"
      }
    },
    {
      "cell_type": "code",
      "source": [
        "# Store phenotype data for different organisms\n",
        "phenotype_data = {\n",
        "    'wild_type': {\n",
        "        'growth_rate': 1.0,\n",
        "        'viability': 100,\n",
        "        'fertility': 'normal',\n",
        "        'pigmentation': 'normal'\n",
        "    },\n",
        "    'mutant_A': {\n",
        "        'growth_rate': 0.7,\n",
        "        'viability': 85,\n",
        "        'fertility': 'reduced',\n",
        "        'pigmentation': 'albino'\n",
        "    },\n",
        "    'mutant_B': {\n",
        "        'growth_rate': 1.2,\n",
        "        'viability': 95,\n",
        "        'fertility': 'normal',\n",
        "        'pigmentation': 'dark'\n",
        "    }\n",
        "}\n",
        "\n",
        "# Compare phenotypes\n",
        "def compare_phenotypes(reference='wild_type'):\n",
        "    ref_data = phenotype_data[reference]\n",
        "    print(f\"Phenotype comparison (reference: {reference}):\")\n",
        "    print(f\"{'Strain':<12} {'Growth Rate':<12} {'Viability':<10} {'Fertility':<10} {'Pigmentation'}\")\n",
        "    print(\"-\" * 60)\n",
        "\n",
        "    for strain, data in phenotype_data.items():\n",
        "        print(f\"{strain:<12} {data['growth_rate']:<12} {data['viability']:<10} {data['fertility']:<10} {data['pigmentation']}\")\n",
        "\n",
        "compare_phenotypes()"
      ],
      "metadata": {
        "id": "xMi2tBejvNc3"
      },
      "execution_count": null,
      "outputs": []
    },
    {
      "cell_type": "markdown",
      "source": [
        "**2.4 연습 문제: 서열 번역**"
      ],
      "metadata": {
        "id": "-LoUV7cGvSUA"
      }
    },
    {
      "cell_type": "code",
      "source": [
        "# Exercise: Create a complete translation system\n",
        "def create_genetic_code():\n",
        "    \"\"\"Create the complete genetic code dictionary\"\"\"\n",
        "    genetic_code = {\n",
        "        'UUU': 'F', 'UUC': 'F', 'UUA': 'L', 'UUG': 'L',\n",
        "        'UCU': 'S', 'UCC': 'S', 'UCA': 'S', 'UCG': 'S',\n",
        "        'UAU': 'Y', 'UAC': 'Y', 'UAA': '*', 'UAG': '*',\n",
        "        'UGU': 'C', 'UGC': 'C', 'UGA': '*', 'UGG': 'W',\n",
        "        'CUU': 'L', 'CUC': 'L', 'CUA': 'L', 'CUG': 'L',\n",
        "        'CCU': 'P', 'CCC': 'P', 'CCA': 'P', 'CCG': 'P',\n",
        "        'CAU': 'H', 'CAC': 'H', 'CAA': 'Q', 'CAG': 'Q',\n",
        "        'CGU': 'R', 'CGC': 'R', 'CGA': 'R', 'CGG': 'R',\n",
        "        'AUU': 'I', 'AUC': 'I', 'AUA': 'I', 'AUG': 'M',\n",
        "        'ACU': 'T', 'ACC': 'T', 'ACA': 'T', 'ACG': 'T',\n",
        "        'AAU': 'N', 'AAC': 'N', 'AAA': 'K', 'AAG': 'K',\n",
        "        'AGU': 'S', 'AGC': 'S', 'AGA': 'R', 'AGG': 'R',\n",
        "        'GUU': 'V', 'GUC': 'V', 'GUA': 'V', 'GUG': 'V',\n",
        "        'GCU': 'A', 'GCC': 'A', 'GCA': 'A', 'GCG': 'A',\n",
        "        'GAU': 'D', 'GAC': 'D', 'GAA': 'E', 'GAG': 'E',\n",
        "        'GGU': 'G', 'GGC': 'G', 'GGA': 'G', 'GGG': 'G'\n",
        "    }\n",
        "    return genetic_code\n",
        "\n",
        "def translate_sequence(dna_sequence):\n",
        "    \"\"\"Translate DNA sequence to protein\"\"\"\n",
        "    # Convert DNA to RNA\n",
        "    rna_sequence = dna_sequence.replace('T', 'U')\n",
        "\n",
        "    # Get genetic code\n",
        "    genetic_code = create_genetic_code()\n",
        "\n",
        "    # Translate RNA to protein\n",
        "    protein = []\n",
        "    for i in range(0, len(rna_sequence), 3):\n",
        "        codon = rna_sequence[i:i+3]\n",
        "        if len(codon) == 3:\n",
        "            amino_acid = genetic_code.get(codon, 'X')  # X for unknown\n",
        "            protein.append(amino_acid)\n",
        "            if amino_acid == '*':  # Stop codon\n",
        "                break\n",
        "\n",
        "    return ''.join(protein)\n",
        "\n",
        "# Test translation\n",
        "test_dna = \"ATGAAACGCATTAGCGGTGCTAAATTAG\"\n",
        "protein = translate_sequence(test_dna)\n",
        "print(f\"DNA: {test_dna}\")\n",
        "print(f\"Protein: {protein}\")"
      ],
      "metadata": {
        "id": "XEHUnL3qvVR3"
      },
      "execution_count": null,
      "outputs": []
    },
    {
      "cell_type": "markdown",
      "source": [
        "##**섹션 3:** 세트 - 고유 식별자 및 샘플 컬렉션\n",
        "\n",
        "**3.1 세트 소개**\n",
        "\n",
        "\n",
        "세트는 **고유한** 항목의 순서 없는 컬렉션입니다. 변경 가능하므로 생성 후 항목을 추가하거나 제거할 수 있지만 리스트 및 튜플과 달리 세트는 인덱싱되지 않으며 중복 멤버를 허용하지 않습니다. 세트는 주로 합집합, 교집합, 차집합과 같은 수학적 집합 연산을 수행하고 멤버십을 효율적으로 확인하거나 시퀀스에서 중복을 제거하는 데 사용됩니다.\n",
        "\n",
        "## 세트의 주요 특징\n",
        "\n",
        "* **순서 없음:** 세트의 항목은 정의된 순서가 없습니다. 인덱스로 항목을 참조하거나 슬라이스할 수 없습니다.\n",
        "* **고유 요소:** 세트는 중복 항목을 포함할 수 없습니다. 이미 존재하는 요소를 추가하려고 하면 추가되지 않습니다.\n",
        "* **변경 가능:** 세트가 생성된 후 새 항목을 추가하거나 기존 항목을 제거할 수 있습니다.\n",
        "* **인덱싱 불가:** 인덱스를 참조하여 항목에 액세스할 수 없습니다.\n",
        "* **이기종:** 단일 세트는 다른 데이터 유형의 항목(예: 정수, 문자열, 부동 소수점, 튜플)을 담을 수 있습니다. 그러나 세트 내의 요소는 **불변**이어야 합니다(예: 숫자, 문자열 또는 튜플). 세트 안에 변경 가능한 유형(예: 리스트 또는 딕셔너리)을 넣을 수 없습니다.\n",
        "\n",
        "## 세트를 사용하는 이유\n",
        "\n",
        "세트는 다음과 같은 경우에 이상적입니다:\n",
        "\n",
        "* 고유한 항목 모음을 저장해야 하는 경우.\n",
        "* 빠른 멤버십 테스트(컬렉션에 항목이 있는지 확인)를 수행하려는 경우.\n",
        "* 수학적 집합 연산(합집합, 교집합 등)을 수행해야 하는 경우.\n",
        "* 리스트나 다른 컬렉션에서 중복 요소를 효율적으로 제거하려는 경우.\n",
        "\n",
        "## 세트 만들기\n",
        "\n",
        "세트는 모든 항목(요소)을 중괄호 `{}` 안에 넣고 쉼표로 구분하여 만듭니다. 그러나 빈 세트를 원하면 `{}`가 빈 딕셔너리를 만들기 때문에 `set()` 생성자를 사용해야 합니다.<br>\n",
        "\n"
      ],
      "metadata": {
        "id": "QuvClTXTvZWH"
      }
    },
    {
      "cell_type": "code",
      "source": [
        "# An empty set\n",
        "my_empty_set = set()\n",
        "print(my_empty_set) # Output: set()\n",
        "print(type(my_empty_set)) # Output: <class 'set'>\n",
        "\n",
        "# A set of integers (duplicates are automatically removed)\n",
        "numbers_set = {1, 2, 3, 2, 4, 1}\n",
        "print(numbers_set) # Output: {1, 2, 3, 4} (order might vary)\n",
        "\n",
        "# A set of strings\n",
        "fruits_set = {\"apple\", \"banana\", \"cherry\"}\n",
        "print(fruits_set) # Output: {'cherry', 'apple', 'banana'} (order might vary)\n",
        "\n",
        "# A mixed-type set (elements must be immutable)\n",
        "mixed_set = {1, \"hello\", 3.14, (1, 2)} # Tuple is immutable, so it's allowed\n",
        "print(mixed_set) # Output: {1, 3.14, (1, 2), 'hello'} (order might vary)\n",
        "\n",
        "# Creating a set from a list (useful for removing duplicates)\n",
        "my_list_with_duplicates = [1, 2, 2, 3, 4, 4, 5]\n",
        "unique_numbers = set(my_list_with_duplicates)\n",
        "print(unique_numbers) # Output: {1, 2, 3, 4, 5}"
      ],
      "metadata": {
        "id": "IyCACRaT9TG4"
      },
      "execution_count": null,
      "outputs": []
    },
    {
      "cell_type": "code",
      "source": [
        "# Basic set creation and operations\n",
        "genes_study1 = {'BRCA1', 'TP53', 'EGFR', 'MYC'}\n",
        "genes_study2 = {'TP53', 'EGFR', 'KRAS', 'PIK3CA'}\n",
        "\n",
        "print(f\"Study 1 genes: {genes_study1}\")\n",
        "print(f\"Study 2 genes: {genes_study2}\")\n",
        "\n",
        "# Set operations\n",
        "intersection = genes_study1 & genes_study2\n",
        "union = genes_study1 | genes_study2\n",
        "difference = genes_study1 - genes_study2\n",
        "\n",
        "print(f\"Common genes: {intersection}\")\n",
        "print(f\"All genes: {union}\")\n",
        "print(f\"Unique to study 1: {difference}\")"
      ],
      "metadata": {
        "id": "kVN2MG0hvgqm"
      },
      "execution_count": null,
      "outputs": []
    },
    {
      "cell_type": "markdown",
      "source": [
        "**3.2 고유 식별자 관리**\n",
        "\n",
        "**예제 1: 샘플 ID 관리**"
      ],
      "metadata": {
        "id": "A9l4g7RuvkhX"
      }
    },
    {
      "cell_type": "code",
      "source": [
        "# Manage unique sample identifiers\n",
        "def create_sample_database():\n",
        "    \"\"\"Create a sample database with unique identifiers\"\"\"\n",
        "    samples = {\n",
        "        'patient_samples': {\n",
        "            'P001_T',  # Patient 1, Tumor\n",
        "            'P001_N',  # Patient 1, Normal\n",
        "            'P002_T',\n",
        "            'P002_N',\n",
        "            'P003_T',\n",
        "            'P003_N'\n",
        "        },\n",
        "        'control_samples': {\n",
        "            'C001_H',  # Control 1, Healthy\n",
        "            'C002_H',\n",
        "            'C003_H',\n",
        "            'C004_H'\n",
        "        },\n",
        "        'processed_samples': {\n",
        "            'P001_T',\n",
        "            'P002_T',\n",
        "            'C001_H',\n",
        "            'C002_H'\n",
        "        }\n",
        "    }\n",
        "    return samples\n",
        "\n",
        "# Analyze sample collections\n",
        "sample_db = create_sample_database()\n",
        "\n",
        "# Find samples that need processing\n",
        "all_samples = sample_db['patient_samples'] | sample_db['control_samples']\n",
        "processed = sample_db['processed_samples']\n",
        "pending = all_samples - processed\n",
        "\n",
        "print(f\"Total samples: {len(all_samples)}\")\n",
        "print(f\"Processed samples: {len(processed)}\")\n",
        "print(f\"Pending samples: {len(pending)}\")\n",
        "print(f\"Samples to process: {pending}\")\n",
        "\n",
        "# Quality control - check for duplicates\n",
        "all_samples_list = list(sample_db['patient_samples']) + list(sample_db['control_samples'])\n",
        "duplicates = len(all_samples_list) - len(set(all_samples_list))\n",
        "print(f\"Duplicate samples detected: {duplicates}\")"
      ],
      "metadata": {
        "id": "0iPlNhupvnMW"
      },
      "execution_count": null,
      "outputs": []
    },
    {
      "cell_type": "markdown",
      "source": [
        "**예제 2: 유전자 집합 분석**"
      ],
      "metadata": {
        "id": "zkb89BzivqJH"
      }
    },
    {
      "cell_type": "code",
      "source": [
        "# Pathway analysis using sets\n",
        "pathways = {\n",
        "    'DNA_repair': {\n",
        "        'BRCA1', 'BRCA2', 'TP53', 'ATM', 'CHEK2', 'RAD51'\n",
        "    },\n",
        "    'cell_cycle': {\n",
        "        'TP53', 'RB1', 'CDK4', 'CCND1', 'CDKN2A', 'E2F1'\n",
        "    },\n",
        "    'apoptosis': {\n",
        "        'TP53', 'BAX', 'BCL2', 'CASP3', 'CASP9', 'APAF1'\n",
        "    },\n",
        "    'oncogenes': {\n",
        "        'MYC', 'KRAS', 'EGFR', 'HER2', 'PIK3CA', 'AKT1'\n",
        "    }\n",
        "}\n",
        "\n",
        "# Find gene overlaps between pathways\n",
        "def analyze_pathway_overlap(pathway1, pathway2):\n",
        "    \"\"\"Analyze overlap between two pathways\"\"\"\n",
        "    genes1 = pathways[pathway1]\n",
        "    genes2 = pathways[pathway2]\n",
        "\n",
        "    overlap = genes1 & genes2\n",
        "    unique1 = genes1 - genes2\n",
        "    unique2 = genes2 - genes1\n",
        "\n",
        "    return {\n",
        "        'overlap': overlap,\n",
        "        'unique_to_pathway1': unique1,\n",
        "        'unique_to_pathway2': unique2,\n",
        "        'overlap_percentage': len(overlap) / len(genes1 | genes2) * 100\n",
        "    }\n",
        "\n",
        "# Analyze overlaps\n",
        "result = analyze_pathway_overlap('DNA_repair', 'cell_cycle')\n",
        "print(\"DNA Repair vs Cell Cycle Pathways:\")\n",
        "print(f\"Overlapping genes: {result['overlap']}\")\n",
        "print(f\"Unique to DNA repair: {result['unique_to_pathway1']}\")\n",
        "print(f\"Unique to cell cycle: {result['unique_to_pathway2']}\")\n",
        "print(f\"Overlap percentage: {result['overlap_percentage']:.1f}%\")"
      ],
      "metadata": {
        "id": "4s-9oO1Dvq5H"
      },
      "execution_count": null,
      "outputs": []
    },
    {
      "cell_type": "markdown",
      "source": [
        "**3.3 샘플 수집 관리**\n",
        "\n",
        "**예제 1: 임상 샘플 추적**"
      ],
      "metadata": {
        "id": "OA-SbIWbvunw"
      }
    },
    {
      "cell_type": "code",
      "source": [
        "# Track samples across different studies\n",
        "class SampleTracker:\n",
        "    def __init__(self):\n",
        "        self.studies = {}\n",
        "\n",
        "    def add_study(self, study_name, samples):\n",
        "        \"\"\"Add a new study with its samples\"\"\"\n",
        "        self.studies[study_name] = set(samples)\n",
        "\n",
        "    def get_unique_samples(self):\n",
        "        \"\"\"Get all unique samples across studies\"\"\"\n",
        "        all_samples = set()\n",
        "        for samples in self.studies.values():\n",
        "            all_samples.update(samples)\n",
        "        return all_samples\n",
        "\n",
        "    def find_shared_samples(self, study1, study2):\n",
        "        \"\"\"Find samples shared between two studies\"\"\"\n",
        "        if study1 in self.studies and study2 in self.studies:\n",
        "            return self.studies[study1] & self.studies[study2]\n",
        "        return set()\n",
        "\n",
        "    def get_study_exclusive_samples(self, study_name):\n",
        "        \"\"\"Get samples exclusive to a specific study\"\"\"\n",
        "        if study_name not in self.studies:\n",
        "            return set()\n",
        "\n",
        "        other_samples = set()\n",
        "        for name, samples in self.studies.items():\n",
        "            if name != study_name:\n",
        "                other_samples.update(samples)\n",
        "\n",
        "        return self.studies[study_name] - other_samples\n",
        "\n",
        "# Example usage\n",
        "tracker = SampleTracker()\n",
        "\n",
        "# Add studies\n",
        "tracker.add_study('breast_cancer', ['BC001', 'BC002', 'BC003', 'BC004', 'BC005'])\n",
        "tracker.add_study('lung_cancer', ['LC001', 'LC002', 'LC003', 'BC002', 'BC003'])  # Some overlap\n",
        "tracker.add_study('healthy_controls', ['HC001', 'HC002', 'HC003', 'HC004'])\n",
        "\n",
        "# Analysis\n",
        "print(\"Sample Analysis:\")\n",
        "print(f\"Total unique samples: {len(tracker.get_unique_samples())}\")\n",
        "print(f\"Shared between breast and lung cancer: {tracker.find_shared_samples('breast_cancer', 'lung_cancer')}\")\n",
        "print(f\"Exclusive to breast cancer: {tracker.get_study_exclusive_samples('breast_cancer')}\")"
      ],
      "metadata": {
        "id": "Tz7VYIY3vwBP"
      },
      "execution_count": null,
      "outputs": []
    },
    {
      "cell_type": "markdown",
      "source": [
        "**예제 2: 오염 탐지**"
      ],
      "metadata": {
        "id": "jEQ6ViA6v0y-"
      }
    },
    {
      "cell_type": "code",
      "source": [
        "# Detect potential contamination in sample collections\n",
        "def detect_contamination(sample_batches):\n",
        "    \"\"\"Detect potential contamination by finding unexpected sample overlaps\"\"\"\n",
        "    contamination_report = {}\n",
        "\n",
        "    batch_names = list(sample_batches.keys())\n",
        "\n",
        "    for i, batch1 in enumerate(batch_names):\n",
        "        for batch2 in batch_names[i+1:]:\n",
        "            overlap = sample_batches[batch1] & sample_batches[batch2]\n",
        "            if overlap:\n",
        "                contamination_report[f\"{batch1}_vs_{batch2}\"] = overlap\n",
        "\n",
        "    return contamination_report\n",
        "\n",
        "# Example sample batches (should be independent)\n",
        "sample_batches = {\n",
        "    'batch_A': {'A001', 'A002', 'A003', 'A004'},\n",
        "    'batch_B': {'B001', 'B002', 'B003', 'B004'},\n",
        "    'batch_C': {'C001', 'C002', 'A002', 'C004'},  # Contaminated with A002\n",
        "    'batch_D': {'D001', 'D002', 'D003', 'B003'}   # Contaminated with B003\n",
        "}\n",
        "\n",
        "contamination = detect_contamination(sample_batches)\n",
        "print(\"Contamination Detection Report:\")\n",
        "if contamination:\n",
        "    for comparison, overlapping_samples in contamination.items():\n",
        "        print(f\"  {comparison}: {overlapping_samples}\")\n",
        "else:\n",
        "    print(\"  No contamination detected\")"
      ],
      "metadata": {
        "id": "tFYuAk8Ov3IH"
      },
      "execution_count": null,
      "outputs": []
    },
    {
      "cell_type": "markdown",
      "source": [
        "**3.4 연습 문제: 종합 분석**"
      ],
      "metadata": {
        "id": "m1k41EPZv6z_"
      }
    },
    {
      "cell_type": "code",
      "source": [
        "# Exercise: Comprehensive biological data analysis using all data structures\n",
        "def comprehensive_analysis():\n",
        "    \"\"\"Comprehensive analysis combining lists, dictionaries, and sets\"\"\"\n",
        "\n",
        "    # Sample data\n",
        "    experimental_data = {\n",
        "        'genes': ['BRCA1', 'TP53', 'EGFR', 'MYC', 'KRAS'],\n",
        "        'expression_levels': [2.5, 3.2, 1.8, 4.1, 2.9],\n",
        "        'sample_ids': ['S001', 'S002', 'S003', 'S004', 'S005'],\n",
        "        'significant_genes': {'BRCA1', 'TP53', 'MYC'},\n",
        "        'pathways': {\n",
        "            'cancer': {'BRCA1', 'TP53', 'EGFR', 'MYC'},\n",
        "            'growth': {'EGFR', 'MYC', 'KRAS'}\n",
        "        }\n",
        "    }\n",
        "\n",
        "    # Analysis 1: Gene expression summary (using lists and dictionaries)\n",
        "    gene_expression = dict(zip(experimental_data['genes'], experimental_data['expression_levels']))\n",
        "    print(\"Gene Expression Analysis:\")\n",
        "    sorted_genes = sorted(gene_expression.items(), key=lambda x: x[1], reverse=True)\n",
        "    for gene, expression in sorted_genes:\n",
        "        status = \"significant\" if gene in experimental_data['significant_genes'] else \"not significant\"\n",
        "        print(f\"  {gene}: {expression:.1f} ({status})\")\n",
        "\n",
        "    # Analysis 2: Pathway enrichment (using sets)\n",
        "    print(\"\\nPathway Enrichment Analysis:\")\n",
        "    significant_genes = experimental_data['significant_genes']\n",
        "    for pathway, pathway_genes in experimental_data['pathways'].items():\n",
        "        enriched_genes = significant_genes & pathway_genes\n",
        "        enrichment_score = len(enriched_genes) / len(pathway_genes) * 100\n",
        "        print(f\"  {pathway}: {enriched_genes} ({enrichment_score:.1f}% enriched)\")\n",
        "\n",
        "    # Analysis 3: Sample validation (using sets)\n",
        "    print(f\"\\nSample Validation:\")\n",
        "    unique_samples = set(experimental_data['sample_ids'])\n",
        "    print(f\"  Total samples: {len(experimental_data['sample_ids'])}\")\n",
        "    print(f\"  Unique samples: {len(unique_samples)}\")\n",
        "    print(f\"  Duplicates detected: {len(experimental_data['sample_ids']) - len(unique_samples)}\")\n",
        "\n",
        "    return {\n",
        "        'gene_expression': gene_expression,\n",
        "        'significant_genes': significant_genes,\n",
        "        'pathways': experimental_data['pathways']\n",
        "    }\n",
        "\n",
        "# Run comprehensive analysis\n",
        "results = comprehensive_analysis()"
      ],
      "metadata": {
        "id": "McMtSYM3v8z4"
      },
      "execution_count": null,
      "outputs": []
    },
    {
      "cell_type": "markdown",
      "source": [
        "**요약 및 주요 내용**<br>\n",
        "각 데이터 구조를 언제 사용해야 하는가:\n",
        "\n",
        "**리스트:**\n",
        "\n",
        "DNA/RNA 서열\n",
        "시계열 실험 데이터<br>\n",
        "변경될 수 있는 순서 있는 컬렉션\n",
        "\n",
        "**튜플:**\n",
        "\n",
        "유전체 좌표<br>\n",
        "불변의 생물학적 속성<br>\n",
        "고정된 실험 조건<br>\n",
        "\n",
        "**딕셔너리:**\n",
        "\n",
        "유전자 주석<br>\n",
        "종 정보<br>\n",
        "키-값 매핑<br>\n",
        "\n",
        "**세트:**\n",
        "\n",
        "고유 식별자<br>\n",
        "샘플 컬렉션<br>\n",
        "경로 분석<br>\n",
        "중복 제거<br>"
      ],
      "metadata": {
        "id": "9pmo61wawI2n"
      }
    }
  ]
}
