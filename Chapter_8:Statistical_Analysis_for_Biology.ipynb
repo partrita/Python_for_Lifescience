{
  "nbformat": 4,
  "nbformat_minor": 0,
  "metadata": {
    "colab": {
      "provenance": [],
      "authorship_tag": "ABX9TyNbb+BuI5R0WJgbCe05KtwK",
      "include_colab_link": true
    },
    "kernelspec": {
      "name": "python3",
      "display_name": "Python 3"
    },
    "language_info": {
      "name": "python"
    }
  },
  "cells": [
    {
      "cell_type": "markdown",
      "metadata": {
        "id": "view-in-github",
        "colab_type": "text"
      },
      "source": [
        "<a href=\"https://colab.research.google.com/github/Ash100/Python_for_Lifescience/blob/main/Chapter_8_Statistical_Analysis_for_Biology.ipynb\" target=\"_parent\"><img src=\"https://colab.research.google.com/assets/colab-badge.svg\" alt=\"Open In Colab\"/></a>"
      ]
    },
    {
      "cell_type": "markdown",
      "source": [
        "#**Learn Python for Biological Science**\n",
        "\n",
        "This course is designed and taught by **Dr. Ashfaq Ahmad**. During teaching I will use all the examples from the Biological Sciences or Life Sciences."
      ],
      "metadata": {
        "id": "r0jN4KmjCmvZ"
      }
    },
    {
      "cell_type": "markdown",
      "source": [
        "## 📅 Course Outline\n",
        "\n",
        "---\n",
        "\n",
        "## 🏗️ Foundation (Weeks 1–2)\n",
        "\n",
        "### 📘 Chapter 1: Getting Started with Python and Colab [Watch Lecture](https://youtu.be/BKe2CmiG_TU)\n",
        "- Introduction to Google Colab interface\n",
        "- Basic Python syntax and data types\n",
        "- Variables, strings, and basic operations\n",
        "- Print statements and comments\n",
        "\n",
        "### 📘 Chapter 2: Control Structures [Watch Lecture](https://youtu.be/uPHeqVb4Mo0)\n",
        "- Conditional statements (`if`/`else`)\n",
        "- Loops (`for` and `while`)\n",
        "- Basic functions and scope\n",
        "\n",
        "---\n",
        "\n",
        "## 🧬 Data Handling (Weeks 3–4)\n",
        "\n",
        "### 📘 Chapter 3: Data Structures for Biology [Watch Lecture](https://youtu.be/x1IJwSYhNZg)\n",
        "- Lists and tuples (storing sequences, experimental data)\n",
        "- Dictionaries (gene annotations, species data)\n",
        "- Sets (unique identifiers, sample collections)\n",
        "\n",
        "### 📘 Chapter 4: Working with Files [Watch Lecture](https://youtu.be/D27MyLpSdks)\n",
        "- Reading and writing text files\n",
        "- Handling CSV files (experimental data)\n",
        "- Basic file operations for biological datasets\n",
        "\n",
        "---\n",
        "\n",
        "## 📊 Scientific Computing (Weeks 5–7)\n",
        "\n",
        "### 📘 Chapter 5: NumPy for Numerical Data [Watch Lecture](https://youtu.be/DPaZN3NQtWw)\n",
        "- Arrays for storing experimental measurements\n",
        "- Mathematical operations on datasets\n",
        "- Statistical calculations (mean, median, standard deviation)\n",
        "\n",
        "### 📘 Chapter 6: Pandas for Data Analysis [Watch Lecture](https://youtu.be/MPE6qibUyTE)\n",
        "- DataFrames for structured biological data\n",
        "- Data cleaning and manipulation\n",
        "- Filtering and grouping experimental results\n",
        "- Handling missing data\n",
        "\n",
        "### 📘 Chapter 7: Data Visualization [Watch Lecture](https://youtu.be/gWhXywbMyfM)\n",
        "- Matplotlib basics for scientific plots\n",
        "- Creating publication-quality figures\n",
        "- Specialized plots for biological data (histograms, scatter plots, box plots)\n",
        "\n",
        "---\n",
        "\n",
        "## 🔬 Biological Applications (Weeks 8–10)\n",
        "\n",
        "### 📘 Chapter 8: Statistical Analysis for Biology\n",
        "- Hypothesis testing basics\n",
        "- t-tests and chi-square tests\n",
        "- Correlation analysis\n",
        "- Introduction to `scipy.stats`\n",
        "\n",
        "### 📘 Chapter 9: Practical Projects\n",
        "- Analyzing gene expression data\n",
        "- Population genetics calculations\n",
        "- Ecological data analysis\n",
        "- Creating reproducible research workflows\n",
        "\n",
        "---\n",
        "\n",
        "## 🚀 Advanced Topics *(Optional – Weeks 11–12)*\n",
        "\n",
        "### 📘 Chapter 10: Bioinformatics Libraries\n",
        "- Introduction to Biopython\n",
        "- Working with biological databases\n",
        "- Phylogenetic analysis basics\n",
        "\n",
        "### 📘 Chapter 11: Best Practices\n",
        "- Code organization and documentation\n",
        "- Error handling\n",
        "- Reproducible research practices\n",
        "- Sharing code and results\n",
        "\n",
        "---\n",
        "\n",
        "✅ We will move from basic programming concepts to practical biological applications, ensuring students can immediately apply what they learn to their research and coursework.\n"
      ],
      "metadata": {
        "id": "8y9kSSkWCoW-"
      }
    },
    {
      "cell_type": "markdown",
      "source": [
        "###**Topics Covered**\n",
        "\n",
        "Hypothesis Testing Basics<br>\n",
        "t-tests and Chi-square Tests<br>\n",
        "Correlation Analysis<br>\n",
        "Introduction to scipy.stats"
      ],
      "metadata": {
        "id": "swdcsJ8PC6y2"
      }
    },
    {
      "cell_type": "markdown",
      "source": [
        "# 🧪 Hypothesis Testing in Biological Research\n",
        "\n",
        "# Hypothesis Testing\n",
        "\n",
        "Hypothesis testing is a **statistical method** used to make decisions about a population based on a sample of data.  \n",
        "The process always begins with two competing hypotheses: **the null hypothesis** and **the alternative hypothesis**.\n",
        "\n",
        "---\n",
        "\n",
        "## Null Hypothesis (H₀)\n",
        "\n",
        "- The **null hypothesis (H₀)** represents the **status quo** or a statement of **no effect, no difference, or no relationship**.  \n",
        "- It's the hypothesis that a researcher attempts to disprove.  \n",
        "- Think of it as the **\"innocent until proven guilty\"** statement in a statistical trial.\n",
        "\n",
        "**Example:**\n",
        "\n",
        "> H₀: The fertilizer has **no effect** on plant height.\n",
        "\n",
        "- This is the starting assumption that your experiment is designed to challenge.\n",
        "\n",
        "---\n",
        "\n",
        "## Alternative Hypothesis (H₁ or Hₐ)\n",
        "\n",
        "- The **alternative hypothesis (H₁ or Hₐ)** is the statement that the researcher **wants to prove**.  \n",
        "- It **contradicts H₀** and suggests there **is an effect, a difference, or a relationship**.\n",
        "\n",
        "**Example:**\n",
        "\n",
        "> H₁: The fertilizer **does affect** plant height.\n",
        "\n",
        "- This is the \"guilty verdict\" you're seeking to prove.\n",
        "\n",
        "---\n",
        "\n",
        "## The Role of Evidence and Decision Making ⚖️\n",
        "\n",
        "1. Formulate **H₀** and **H₁**.  \n",
        "2. Collect data and calculate a **test statistic**.  \n",
        "3. Use this statistic to determine the **p-value**.  \n",
        "4. Compare the p-value with the **significance level (α)** to make a decision.\n",
        "\n",
        "---\n",
        "\n",
        "## p-value\n",
        "\n",
        "- The **p-value** is the probability of observing a result as extreme as (or more extreme than) the one you actually got, **assuming H₀ is true**.  \n",
        "\n",
        "**Interpretation:**\n",
        "- **Small p-value (≤ α):** Strong evidence against H₀ → reject H₀.  \n",
        "- **Large p-value (> α):** Results are not surprising under H₀ → fail to reject H₀.  \n",
        "\n",
        "---\n",
        "\n",
        "## Significance Level (α)\n",
        "\n",
        "- The **significance level (α)** is your **predetermined threshold** for making a decision.  \n",
        "- It represents the **maximum p-value** you are willing to accept to call a result **statistically significant**.  \n",
        "\n",
        "- Common choice: **α = 0.05**  \n",
        "  - This means you accept a **5% chance of making a Type I error** (rejecting a true H₀).\n",
        "\n",
        "---\n",
        "\n",
        "## Decision Rule ✅❌\n",
        "\n",
        "- **If p-value ≤ α:** Reject H₀ → results are **statistically significant**.  \n",
        "- **If p-value > α:** Fail to reject H₀ → not enough evidence to support H₁.  \n",
        "\n",
        "---\n",
        "\n",
        "### Why This Matters\n",
        "\n",
        "This structured process ensures that conclusions drawn from data are:\n",
        "- **Objective**\n",
        "- **Evidence-based**\n",
        "- Not driven by **mere speculation**\n",
        "\n",
        "\n"
      ],
      "metadata": {
        "id": "izZeK0XqDOZT"
      }
    },
    {
      "cell_type": "code",
      "source": [
        "import numpy as np\n",
        "import pandas as pd\n",
        "import matplotlib.pyplot as plt\n",
        "import seaborn as sns\n",
        "from scipy import stats"
      ],
      "metadata": {
        "id": "xQCH3ASHHWvF"
      },
      "execution_count": 9,
      "outputs": []
    },
    {
      "cell_type": "code",
      "execution_count": 3,
      "metadata": {
        "id": "Jljr8v4GClLu"
      },
      "outputs": [],
      "source": [
        "np.random.seed(42)  # for reproducibility\n",
        "\n",
        "# Simulate untreated sample: 30 measurements from a normal distribution\n",
        "untreated = np.random.normal(loc=10, scale=2, size=30)\n",
        "\n",
        "# Simulate treated sample: same size, but shifted mean to reflect treatment effect\n",
        "treated = np.random.normal(loc=13, scale=2, size=30)"
      ]
    },
    {
      "cell_type": "markdown",
      "source": [
        "**loc=10** means the untreated group has a mean of 10 (e.g. baseline gene expression)<br>\n",
        "**loc=13** means the treated group has a higher mean, simulating an effect (e.g. upregulation)<br>\n",
        "**scale=2** adds biological variability<br>\n",
        "**size=30** simulates 30 replicates per group"
      ],
      "metadata": {
        "id": "GaMezyWPHqXV"
      }
    },
    {
      "cell_type": "markdown",
      "source": [
        "**Now we are going to visualize the data**"
      ],
      "metadata": {
        "id": "nmZXoaLIH9OU"
      }
    },
    {
      "cell_type": "code",
      "source": [
        "sns.set(style=\"whitegrid\")\n",
        "\n",
        "plt.figure(figsize=(8, 5))\n",
        "sns.histplot(untreated, color=\"skyblue\", label=\"Untreated\", kde=True)\n",
        "sns.histplot(treated, color=\"salmon\", label=\"Treated\", kde=True)\n",
        "plt.title(\"Simulated Biological Measurements\")\n",
        "plt.xlabel(\"Measurement Value\")\n",
        "plt.ylabel(\"Frequency\")\n",
        "plt.legend()\n",
        "plt.show()"
      ],
      "metadata": {
        "id": "p5U1a68gH7Xz"
      },
      "execution_count": null,
      "outputs": []
    },
    {
      "cell_type": "markdown",
      "source": [
        "**kde=True** adds a smooth curve to show the density"
      ],
      "metadata": {
        "id": "D0axB6EwIUQu"
      }
    },
    {
      "cell_type": "markdown",
      "source": [
        "### Statistical Summary of the data"
      ],
      "metadata": {
        "id": "5mj4sEzaI0PV"
      }
    },
    {
      "cell_type": "code",
      "source": [
        "print(\"Untreated Mean:\", np.mean(untreated))\n",
        "print(\"Untreated Std Dev:\", np.std(untreated))\n",
        "print(\"Treated Mean:\", np.mean(treated))\n",
        "print(\"Treated Std Dev:\", np.std(treated))"
      ],
      "metadata": {
        "id": "uWJPFAiiIxBk"
      },
      "execution_count": null,
      "outputs": []
    },
    {
      "cell_type": "markdown",
      "source": [
        "### Hypothesis Testing (t-test)"
      ],
      "metadata": {
        "id": "4ap_oifjI__8"
      }
    },
    {
      "cell_type": "code",
      "source": [
        "t_stat, p_value = stats.ttest_ind(treated, untreated)\n",
        "\n",
        "print(\"T-statistic:\", t_stat)\n",
        "print(\"P-value:\", p_value)"
      ],
      "metadata": {
        "id": "-QvefpjcJE2s"
      },
      "execution_count": null,
      "outputs": []
    },
    {
      "cell_type": "markdown",
      "source": [
        "**Explanation:**<br>A low p-value (< 0.05) suggests a statistically significant difference"
      ],
      "metadata": {
        "id": "xXFhX8CcJQuU"
      }
    },
    {
      "cell_type": "markdown",
      "source": [
        "###**Reference Sheet**\n",
        "#### Interpreting the p-value\n",
        "\n",
        "In hypothesis testing, we compare the **p-value** to a predefined **significance level (α)**, commonly set at **0.05**.  \n",
        "\n",
        "| **p-value**     | **Interpretation**              |\n",
        "|------------------|---------------------------------|\n",
        "| > 0.05           | Not statistically significant   |\n",
        "| ≤ 0.05           | Statistically significant       |\n",
        "| ≤ 0.01           | Strongly significant            |\n",
        "| ≤ 0.001          | Very strongly significant       |\n",
        "| ≤ 0.000001       | Extremely significant           |\n",
        "\n",
        "---\n",
        "\n",
        "✅ Use this table as a quick reference when interpreting results of hypothesis tests."
      ],
      "metadata": {
        "id": "XFT4kD42KOq1"
      }
    },
    {
      "cell_type": "markdown",
      "source": [
        "**1.23 × 10⁻⁸ = 0.0000000123**"
      ],
      "metadata": {
        "id": "Mz_ugePnKiWU"
      }
    },
    {
      "cell_type": "markdown",
      "source": [
        "##**Chi-Square Test? (χ²)**\n",
        "\n",
        "The **chi-square (χ²) test** is a **statistical hypothesis test** used to examine the relationship between two **categorical variables**.  \n",
        "\n",
        "- It works by comparing:  \n",
        "  - **Observed frequencies** → the data you actually collect  \n",
        "  - **Expected frequencies** → what you would expect to see if there were *no relationship* between the variables  \n",
        "\n",
        "👉 The goal is to determine whether any difference between observed and expected results is due to a **real relationship** or simply due to **chance**.  \n",
        "\n",
        "---\n",
        "\n",
        "## Types of Chi-Square Tests\n",
        "\n",
        "1. **Test of Independence**  \n",
        "   - Checks whether two categorical variables are significantly associated.  \n",
        "   - **Example:** Is there an association between a person’s **hair color** and **eye color**?\n",
        "\n",
        "2. **Goodness-of-Fit Test**  \n",
        "   - Checks whether the observed frequency distribution for a single categorical variable differs from a theoretical or expected distribution.  \n",
        "   - **Example:** Does the ratio of **heads to tails** in coin flips match the expected **50/50 distribution**?\n",
        "\n",
        "---\n",
        "\n",
        "## How is it Different from a t-test? 🧐\n",
        "\n",
        "| **Feature**         | **Chi-Square Test**                                | **t-test**                                        |\n",
        "|----------------------|----------------------------------------------------|--------------------------------------------------|\n",
        "| **Variable Type**    | Categorical (e.g., gender, species, presence/absence) | Continuous/Quantitative (e.g., height, weight)   |\n",
        "| **Primary Use**      | To assess relationships or compare observed vs. expected frequencies | To compare the means of two groups               |\n",
        "| **Underlying Data**  | Frequency counts in categories                     | Numerical values with a defined scale             |\n",
        "\n",
        "🔑 **Rule of thumb:**  \n",
        "- **t-test** → for *“how much”* questions (e.g., \"Is the average height of Group A different from Group B?\").  \n",
        "- **Chi-square test** → for *“how many / how often”* questions (e.g., \"Is the number of people choosing Option A different from Option B?\").  \n",
        "\n",
        "---\n",
        "\n",
        "## Applications of Chi-Square Test in Biological Data 🧬🌱🩺\n",
        "\n",
        "1. **Genetics**  \n",
        "   - Test whether observed **phenotypic ratios** match expected Mendelian ratios.  \n",
        "   - Example: Does a heterozygous cross yield the expected **3:1 dominant:recessive** ratio?\n",
        "\n",
        "2. **Ecology**  \n",
        "   - Test associations between species in a habitat.  \n",
        "   - Example: Are two plant species **co-occurring** in quadrats significantly more often than expected by chance?\n",
        "\n",
        "3. **Medical Research**  \n",
        "   - Analyze relationships between categorical variables such as **disease presence** and **risk factors**.  \n",
        "   - Example: Is there an association between **smoking status** and **lung disease**?\n",
        "\n",
        "---\n"
      ],
      "metadata": {
        "id": "rssl-wTFMczP"
      }
    },
    {
      "cell_type": "code",
      "source": [
        "# Simulate observed counts (e.g. genotype frequencies)\n",
        "observed = [20, 30, 50]  # AA, Aa, aa\n",
        "expected = [25, 25, 50]  # Hardy-Weinberg equilibrium\n",
        "\n",
        "chi2_stat, chi2_p = stats.chisquare(f_obs=observed, f_exp=expected)\n",
        "\n",
        "print(\"Chi-square statistic:\", chi2_stat)\n",
        "print(\"P-value:\", chi2_p)"
      ],
      "metadata": {
        "id": "L4PBT3YaNJmF"
      },
      "execution_count": null,
      "outputs": []
    },
    {
      "cell_type": "markdown",
      "source": [
        "**-**We're testing whether the observed genotype frequencies (AA, Aa, aa) match the expected frequencies under Hardy-Weinberg equilibrium.<br>\n",
        "**-**The chi-square test compares observed vs expected counts to see if the difference is statistically significant.<br>\n",
        "**Interpretation:**<br> The p-value is greater than 0.05, that means the observed frequency is not statistically significant, and may occur by chance. In statistical terms, it also means that the **the test does not rejects the null hypothesis**."
      ],
      "metadata": {
        "id": "bQXYBLcbNOpt"
      }
    },
    {
      "cell_type": "markdown",
      "source": [
        "Correlation Analysis"
      ],
      "metadata": {
        "id": "twqf7J_QOEYO"
      }
    },
    {
      "cell_type": "code",
      "source": [
        "# Simulate gene expression and protein abundance\n",
        "gene_expr = np.random.normal(50, 10, 50)\n",
        "protein_abund = gene_expr * 0.8 + np.random.normal(0, 5, 50)\n",
        "\n",
        "# Calculate Pearson correlation\n",
        "corr_coef, corr_p = stats.pearsonr(gene_expr, protein_abund)\n",
        "\n",
        "print(\"Correlation coefficient:\", corr_coef)\n",
        "print(\"P-value:\", corr_p)"
      ],
      "metadata": {
        "id": "ZjjJUMBPOHY7"
      },
      "execution_count": null,
      "outputs": []
    },
    {
      "cell_type": "markdown",
      "source": [
        "We're testing whether gene expression levels are linearly related to protein abundance.\n",
        "\n",
        "The Pearson correlation coefficient (corr_coef) ranges from:<br>\n",
        "**+1:** perfect positive correlation<br>\n",
        "**0:** no correlation<br>\n",
        "**–1:** perfect negative correlation<br>\n",
        "A significant p-value means the correlation is unlikely due to chance.<br>\n",
        "This is useful in systems biology to explore gene-protein relationships, co-expression networks, or biomarker discovery."
      ],
      "metadata": {
        "id": "wOMSnymkOTy8"
      }
    },
    {
      "cell_type": "markdown",
      "source": [
        "### Interpretation\n",
        "- **Correlation coefficient (r):** 0.7912  \n",
        "- **P-value:** 8.06 × 10⁻¹²  \n",
        "\n",
        "---\n",
        "\n",
        "## 🔍 What Does This Mean?\n",
        "\n",
        "### ✅ Strength of Relationship\n",
        "- The correlation coefficient **r = 0.7912** indicates a **strong positive linear relationship**.  \n",
        "- As one variable increases, the other tends to **increase as well**.\n",
        "\n",
        "### ✅ Statistical Significance\n",
        "- The **p-value = 8.06 × 10⁻¹²** is extremely small — far below the common threshold of **0.05**.  \n",
        "- This means the observed correlation is **highly unlikely to be due to random chance**.\n",
        "\n",
        "---\n",
        "\n",
        "## 🧬 Biological Interpretation\n",
        "There is a **strong and statistically significant association** between the two variables.  \n",
        "Depending on the dataset, this could represent:\n",
        "\n",
        "- A **gene expression level** correlating with **phenotype severity**  \n",
        "- A **metabolite concentration** tracking with **disease progression**  \n",
        "- An **environmental exposure** linked to a **biological response**  \n",
        "\n",
        "---"
      ],
      "metadata": {
        "id": "T0Yf4GH7QMy8"
      }
    },
    {
      "cell_type": "code",
      "source": [
        "sns.scatterplot(x=gene_expr, y=protein_abund)\n",
        "plt.title(\"Gene Expression vs Protein Abundance\")\n",
        "plt.xlabel(\"Gene Expression\")\n",
        "plt.ylabel(\"Protein Abundance\")\n",
        "plt.show()\n"
      ],
      "metadata": {
        "id": "eBg6_0JlOlsV"
      },
      "execution_count": null,
      "outputs": []
    },
    {
      "cell_type": "markdown",
      "source": [
        "###**Summary Table of Tests**\n",
        "\n",
        "| **Test Type**   | **Use Case**                          | **Function**              |\n",
        "|------------------|---------------------------------------|----------------------------|\n",
        "| **t-test**       | Compare means of two groups           | `stats.ttest_ind()`        |\n",
        "| **Chi-square**   | Compare observed vs expected freq.    | `stats.chisquare()`        |\n",
        "| **Correlation**  | Measure linear relationship           | `stats.pearsonr()`         |\n",
        "\n",
        "---\n",
        "\n",
        "📌 These functions are available in **`scipy.stats`** and are commonly used in hypothesis testing."
      ],
      "metadata": {
        "id": "FUmz6DLeLXEV"
      }
    }
  ]
}