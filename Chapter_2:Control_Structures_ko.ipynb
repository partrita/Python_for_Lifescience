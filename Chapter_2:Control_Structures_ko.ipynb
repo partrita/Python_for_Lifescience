{
  "nbformat": 4,
  "nbformat_minor": 0,
  "metadata": {
    "colab": {
      "provenance": [],
      "authorship_tag": "ABX9TyPcTCG1u1jTqWpUbYGDZqNa",
      "include_colab_link": true
    },
    "kernelspec": {
      "name": "python3",
      "display_name": "Python 3"
    },
    "language_info": {
      "name": "python"
    }
  },
  "cells": [
    {
      "cell_type": "markdown",
      "metadata": {
        "id": "view-in-github",
        "colab_type": "text"
      },
      "source": [
        "<a href=\"https://colab.research.google.com/github/Ash100/Python_for_Lifescience/blob/main/Chapter_2%3AControl_Structures.ipynb\" target=\"_parent\"><img src=\"https://colab.research.google.com/assets/colab-badge.svg\" alt=\"Colab에서 열기\"/></a>"
      ]
    },
    {
      "cell_type": "markdown",
      "source": [
        "#**생물학적 데이터 분석을 위한 파이썬 학습**\n",
        "# **2장:** 제어 구조\n",
        "\n",
        "이 강좌는 **Ashfaq Ahmad 박사님**께서 설계하고 강의하십니다. 강의 전반에 걸쳐 생명 과학 또는 생명 과학 분야의 예시들을 사용할 것입니다."
      ],
      "metadata": {
        "id": "71Hu14a9KPKy"
      }
    },
    {
      "cell_type": "markdown",
      "source": [
        "## 📅 강좌 개요\n",
        "\n",
        "---\n",
        "\n",
        "## 🏗️ 기초 (1-2주차)\n",
        "\n",
        "### 📘 1장: 파이썬과 Colab 시작하기\n",
        "- Google Colab 인터페이스 소개\n",
        "- 기본 파이썬 문법 및 데이터 타입\n",
        "- 변수, 문자열 및 기본 연산\n",
        "- 출력문과 주석\n",
        "\n",
        "### 📘 2장: 제어 구조\n",
        "- 조건문 (`if`/`else`)\n",
        "- 반복문 (`for` 및 `while`)\n",
        "- 기본 함수 및 범위\n",
        "\n",
        "---\n",
        "\n",
        "## 🧬 데이터 처리 (3-4주차)\n",
        "\n",
        "### 📘 3장: 생물학을 위한 데이터 구조\n",
        "- 리스트와 튜플 (서열, 실험 데이터 저장)\n",
        "- 딕셔너리 (유전자 주석, 종 데이터)\n",
        "- 세트 (고유 식별자, 샘플 모음)\n",
        "\n",
        "### 📘 4장: 파일 작업\n",
        "- 텍스트 파일 읽고 쓰기\n",
        "- CSV 파일 처리 (실험 데이터)\n",
        "- 생물학 데이터셋을 위한 기본 파일 작업\n",
        "\n",
        "---\n",
        "\n",
        "## 📊 과학 컴퓨팅 (5-7주차)\n",
        "\n",
        "### 📘 5장: 수치 데이터를 위한 NumPy\n",
        "- 배열을 이용한 실험 측정값 저장\n",
        "- 데이터셋에 대한 수학적 연산\n",
        "- 통계 계산 (평균, 중앙값, 표준편차)\n",
        "\n",
        "### 📘 6장: 데이터 분석을 위한 Pandas\n",
        "- 구조화된 생물학 데이터를 위한 데이터프레임\n",
        "- 데이터 정제 및 조작\n",
        "- 실험 결과 필터링 및 그룹화\n",
        "- 결측 데이터 처리\n",
        "\n",
        "### 📘 7장: 데이터 시각화\n",
        "- 과학적 플롯을 위한 Matplotlib 기초\n",
        "- 출판 품질의 그림 생성\n",
        "- 생물학 데이터를 위한 특수 플롯 (히스토그램, 산점도, 박스 플롯)\n",
        "\n",
        "---\n",
        "\n",
        "## 🔬 생물학적 응용 (8-10주차)\n",
        "\n",
        "### 📘 8장: 서열 분석\n",
        "- DNA/RNA 서열을 위한 문자열 조작\n",
        "- 기본 서열 연산 (역상보, 전사)\n",
        "- FASTA 파일 읽기\n",
        "- 간단한 서열 통계\n",
        "\n",
        "### 📘 9장: 생물학을 위한 통계 분석\n",
        "- 가설 검정 기초\n",
        "- t-검정 및 카이제곱 검정\n",
        "- 상관 관계 분석\n",
        "- `scipy.stats` 소개\n",
        "\n",
        "### 📘 10장: 실용적인 프로젝트\n",
        "- 유전자 발현 데이터 분석\n",
        "- 집단 유전학 계산\n",
        "- 생태 데이터 분석\n",
        "- 재현 가능한 연구 워크플로우 생성\n",
        "\n",
        "---\n",
        "\n",
        "## 🚀 고급 주제 *(선택 – 11-12주차)*\n",
        "\n",
        "### 📘 11장: 생물정보학 라이브러리\n",
        "- Biopython 소개\n",
        "- 생물학 데이터베이스 작업\n",
        "- 계통 발생 분석 기초\n",
        "\n",
        "### 📘 12장: 모범 사례\n",
        "- 코드 구성 및 문서화\n",
        "- 오류 처리\n",
        "- 재현 가능한 연구 관행\n",
        "- 코드 및 결과 공유\n",
        "\n",
        "---\n",
        "\n",
        "## 🧠 핵심 교수 전략\n",
        "\n",
        "1. 각 장을 생물학적 맥락으로 시작하십시오 – 프로그래밍 개념이 해당 분야에 왜 중요한지 설명하십시오.\n",
        "2. 전체에 걸쳐 생물학적 데이터셋을 사용하십시오 – 유전자 서열, 실험 측정값, 종 데이터.\n",
        "3. 각 개념 뒤에 실습 예제를 포함하십시오.\n",
        "4. 재현성을 강조하십시오 – 코드가 분석 과정을 어떻게 문서화하는지 보여주십시오.\n",
        "5. 복잡성을 점진적으로 구축하십시오 – 간단한 예제로 시작하여 실제 연구 시나리오로 나아가십시오.\n",
        "\n",
        "---\n",
        "\n",
        "✅ 이 과정은 기본적인 프로그래밍 개념에서 실용적인 생물학적 응용으로 나아가므로, 학생들이 배운 것을 연구 및 교과 과정에 즉시 적용할 수 있도록 보장합니다.\n"
      ],
      "metadata": {
        "id": "c2ipT3FlNL-E"
      }
    },
    {
      "cell_type": "markdown",
      "source": [
        "# **2장:** 제어 구조\n",
        "\n",
        "\n",
        "🧬 2장: 제어 구조에 오신 것을 환영합니다!\n",
        "\n",
        "이 장에서는 파이썬 프로그램이 결정을 내리고\n",
        "동작을 반복하도록 만드는 방법을 배웁니다. 이는 생물학적 데이터 분석에 필수적인 기술입니다!\n",
        "\n",
        "이 장을 마치면 다음을 할 수 있게 될 것입니다:\n",
        "- 조건문(if/else)을 사용하여 생물학적 데이터를 분석합니다.\n",
        "- 여러 샘플이나 서열을 처리하기 위해 반복문을 만듭니다.\n",
        "- 코드를 구성하고 재사용하기 위해 함수를 작성합니다.\n",
        "- 이러한 개념을 실제 생물학적 문제에 적용합니다.\n",
        "\n",
        "🔬 생물학에서 제어 구조가 중요한 이유:\n",
        "- 특성에 따라 유기체를 분류합니다.\n",
        "- 여러 실험 샘플을 분석합니다.\n",
        "- 대규모 데이터셋을 효율적으로 처리합니다.\n",
        "- 재사용 가능한 분석 도구를 만듭니다.\n",
        "- 반복적인 실험실 계산을 자동화합니다."
      ],
      "metadata": {
        "id": "TMHVDopQRtGL"
      }
    },
    {
      "cell_type": "markdown",
      "source": [
        "# ===============================================================\n",
        "# 섹션 1: 조건문 - 결정 내리기\n",
        "# ================================================================\n",
        "\n",
        "\n",
        "조건문을 사용하면 프로그램이 데이터를 기반으로 결정을 내릴 수 있습니다.\n",
        "생물학적 분류 및 데이터 분석에 완벽합니다!\n",
        "\n",
        "🧬 생물학적 응용:\n",
        "- 특성별로 유기체 분류하기\n",
        "- 실험 결과의 유의성 판단하기\n",
        "- 측정값이 정상 범위 내에 있는지 확인하기\n",
        "- 서열에서 돌연변이 식별하기"
      ],
      "metadata": {
        "id": "Vwuna43RR62s"
      }
    },
    {
      "cell_type": "markdown",
      "source": [
        "## 🧠 파이썬 제어 흐름: `if`, `elif`, `else`\n",
        "\n",
        "파이썬에서 `if`, `elif`, `else`는 조건에 따라 프로그램의 흐름을 제어하는 데 사용되는 **조건문**입니다.\n",
        "\n",
        "---\n",
        "\n",
        "### ✅ 각각의 의미\n",
        "\n",
        "| 키워드 | 설명 |\n",
        "|---------|-------------|\n",
        "| `if`    | **조건이 `True`이면** 블록을 실행합니다. |\n",
        "| `elif`  | \"Else if\" — **이전 조건들이 `False`이고** 이 조건이 `True`이면 실행됩니다. |\n",
        "| `else`  | **위의 어떤 조건도 `True`가 아니면** 블록을 실행합니다. |"
      ],
      "metadata": {
        "id": "lp91x3z5yW8i"
      }
    },
    {
      "cell_type": "markdown",
      "source": [
        "\n",
        "## 1.1 기본 `IF` 문"
      ],
      "metadata": {
        "id": "hZ7yzC1PSUG0"
      }
    },
    {
      "cell_type": "code",
      "source": [
        "# Example 1: Temperature classification for bacterial growth\n",
        "temperature = 35\n",
        "\n",
        "if temperature >= 35:\n",
        "    print(\"Optimal temperature for mesophilic bacteria\")"
      ],
      "metadata": {
        "id": "ZaSNDGRqSd8f"
      },
      "execution_count": null,
      "outputs": []
    },
    {
      "cell_type": "markdown",
      "source": [
        "온도 값을 35 미만으로 변경하여 그 의미를 이해하십시오."
      ],
      "metadata": {
        "id": "0DbEBr0wSnSs"
      }
    },
    {
      "cell_type": "code",
      "source": [
        "# Example 2: pH classification\n",
        "ph_level = 9.2\n",
        "\n",
        "if ph_level == 7.0:\n",
        "    print(\"Neutral pH\")\n",
        "if ph_level > 7.0:\n",
        "    print(\"Basic/alkaline pH\")\n",
        "if ph_level < 7.0:\n",
        "    print(\"Acidic pH\")"
      ],
      "metadata": {
        "id": "aLMwEV_aSyOQ"
      },
      "execution_count": null,
      "outputs": []
    },
    {
      "cell_type": "code",
      "source": [
        "# Example 3: Checking experimental conditions\n",
        "cell_viability = 0.85\n",
        "\n",
        "if cell_viability >= 0.8:\n",
        "    print(\"✅ Good cell viability for experiments\")"
      ],
      "metadata": {
        "id": "0AwM2pqaTNwI"
      },
      "execution_count": null,
      "outputs": []
    },
    {
      "cell_type": "markdown",
      "source": [
        "## 1.2 IF-ELSE 문"
      ],
      "metadata": {
        "id": "9d0FwNCGTUAh"
      }
    },
    {
      "cell_type": "code",
      "source": [
        "print(\"\\n=== IF-ELSE STATEMENTS ===\")"
      ],
      "metadata": {
        "id": "uoCq-aeDTdsy"
      },
      "execution_count": null,
      "outputs": []
    },
    {
      "cell_type": "code",
      "source": [
        "# Example 1: Binary classification\n",
        "glucose_level = 90  # mg/dL\n",
        "\n",
        "if glucose_level > 100:\n",
        "    print(\"High glucose level - diabetes risk\")\n",
        "else:\n",
        "    print(\"Normal glucose level\")"
      ],
      "metadata": {
        "id": "Fd1KRpN6Tigr"
      },
      "execution_count": null,
      "outputs": []
    },
    {
      "cell_type": "code",
      "source": [
        "# Example 2: Mutation detection\n",
        "wild_type_sequence = \"ATCGATCG\"\n",
        "sample_sequence = \"ATTGATCG\"\n",
        "\n",
        "if sample_sequence == wild_type_sequence:\n",
        "    print(\"No mutation detected\")\n",
        "else:\n",
        "    print(\"Mutation detected!\")"
      ],
      "metadata": {
        "id": "vc27WMglTjTp"
      },
      "execution_count": null,
      "outputs": []
    },
    {
      "cell_type": "code",
      "source": [
        "# Example 3: Treatment effectiveness\n",
        "symptom_score_before = 8\n",
        "symptom_score_after = 3\n",
        "\n",
        "if symptom_score_after < symptom_score_before:\n",
        "    print(\"Treatment was effective\")\n",
        "else:\n",
        "    print(\"Treatment was not effective\")"
      ],
      "metadata": {
        "id": "42lQkQkVTjI_"
      },
      "execution_count": null,
      "outputs": []
    },
    {
      "cell_type": "markdown",
      "source": [
        "## 1.3 ELIF 문 (다중 조건)"
      ],
      "metadata": {
        "id": "scs1C7tJT_2o"
      }
    },
    {
      "cell_type": "code",
      "source": [
        "print(\"\\n=== ELIF STATEMENTS ===\")"
      ],
      "metadata": {
        "id": "N_NI-Qw-Ti-L"
      },
      "execution_count": null,
      "outputs": []
    },
    {
      "cell_type": "code",
      "source": [
        "# Example 1: Temperature classification for organisms\n",
        "environment_temp = 50\n",
        "\n",
        "if environment_temp < 0:\n",
        "    print(\"Psychrophilic conditions (cold-loving organisms)\")\n",
        "elif environment_temp < 20:\n",
        "    print(\"Mesophilic conditions (moderate temperature)\")\n",
        "elif environment_temp < 45:\n",
        "    print(\"Thermophilic conditions (heat-loving organisms)\")\n",
        "else:\n",
        "    print(\"Hyperthermophilic conditions (extreme heat)\")"
      ],
      "metadata": {
        "id": "IIaNILgQUJhh",
        "outputId": "cc4b64be-4442-463c-9ecb-0aab49158924",
        "colab": {
          "base_uri": "https://localhost:8080/"
        }
      },
      "execution_count": 12,
      "outputs": [
        {
          "output_type": "stream",
          "name": "stdout",
          "text": [
            "Hyperthermophilic conditions (extreme heat)\n"
          ]
        }
      ]
    },
    {
      "cell_type": "code",
      "source": [
        "# Example 2: BMI classification\n",
        "weight_kg = 70\n",
        "height_m = 1.75\n",
        "bmi = weight_kg / (height_m ** 2)\n",
        "\n",
        "if bmi < 18.5:\n",
        "    category = \"Underweight\"\n",
        "elif bmi < 25:\n",
        "    category = \"Normal weight\"\n",
        "elif bmi < 30:\n",
        "    category = \"Overweight\"\n",
        "else:\n",
        "    category = \"Obese\"\n",
        "\n",
        "print(f\"BMI: {bmi:.1f} - Category: {category}\")"
      ],
      "metadata": {
        "id": "hrxkQI4EUMYG"
      },
      "execution_count": null,
      "outputs": []
    },
    {
      "cell_type": "code",
      "source": [
        "# Example 3: Enzyme activity classification\n",
        "enzyme_activity = 0.75  # units/mL\n",
        "\n",
        "if enzyme_activity < 0.1:\n",
        "    print(\"Low enzyme activity\")\n",
        "elif enzyme_activity < 0.5:\n",
        "    print(\"Moderate enzyme activity\")\n",
        "elif enzyme_activity < 1.0:\n",
        "    print(\"High enzyme activity\")\n",
        "else:\n",
        "    print(\"Very high enzyme activity\")"
      ],
      "metadata": {
        "id": "w7b4bmjmUJK6"
      },
      "execution_count": null,
      "outputs": []
    },
    {
      "cell_type": "markdown",
      "source": [
        "## 1.4 비교 연산자"
      ],
      "metadata": {
        "id": "PuQgItT6UluK"
      }
    },
    {
      "cell_type": "markdown",
      "source": [
        "## 🔍 파이썬 비교 연산자\n",
        "\n",
        "비교 연산자는 **두 값을 비교**하는 데 사용됩니다. 결과로 **불리언 값**인 `True` 또는 `False`를 반환합니다.\n",
        "\n",
        "---\n",
        "\n",
        "### ✅ 비교 연산자 목록\n",
        "\n",
        "| 연산자 | 의미 | 예시 | 결과 |\n",
        "|----------|--------------------------|-----------------------|-------------|\n",
        "| `==` | 같음 | `5 == 5` | `True` |\n",
        "| `!=` | 같지 않음 | `5 != 3` | `True` |\n",
        "| `>` | 보다 큼 | `7 > 4` | `True` |\n",
        "| `<` | 보다 작음 | `2 < 9` | `True` |\n",
        "| `>=` | 크거나 같음 | `5 >= 5` | `True` |\n",
        "| `<=` | 작거나 같음 | `3 <= 4` | `True` |\n",
        "\n",
        "---"
      ],
      "metadata": {
        "id": "UbuiMOzIzKO0"
      }
    },
    {
      "cell_type": "code",
      "source": [
        "# All comparison operators with biological examples\n",
        "sample_size = 30\n",
        "control_size = 25\n",
        "\n",
        "print(f\"Sample size: {sample_size}, Control size: {control_size}\")\n",
        "print(f\"Equal (==): {sample_size == control_size}\")\n",
        "print(f\"Not equal (!=): {sample_size != control_size}\")\n",
        "print(f\"Greater than (>): {sample_size > control_size}\")\n",
        "print(f\"Less than (<): {sample_size < control_size}\")\n",
        "print(f\"Greater or equal (>=): {sample_size >= control_size}\")\n",
        "print(f\"Less or equal (<=): {sample_size <= control_size}\")"
      ],
      "metadata": {
        "id": "3KZxSRhTUszQ",
        "outputId": "6941a0d3-d965-4447-d2c0-d26e31e7bfef",
        "colab": {
          "base_uri": "https://localhost:8080/"
        }
      },
      "execution_count": 13,
      "outputs": [
        {
          "output_type": "stream",
          "name": "stdout",
          "text": [
            "Sample size: 30, Control size: 25\n",
            "Equal (==): False\n",
            "Not equal (!=): True\n",
            "Greater than (>): True\n",
            "Less than (<): False\n",
            "Greater or equal (>=): True\n",
            "Less or equal (<=): False\n"
          ]
        }
      ]
    },
    {
      "cell_type": "markdown",
      "source": [
        "## 1.5 논리 연산자"
      ],
      "metadata": {
        "id": "xBvKkwzoU3zB"
      }
    },
    {
      "cell_type": "markdown",
      "source": [
        "## 🔗 파이썬 논리 연산자\n",
        "\n",
        "논리 연산자는 **여러 조건을 결합**하는 데 사용됩니다. **표현식 간의 논리**에 따라 `True` 또는 `False`를 반환합니다.\n",
        "\n",
        "---\n",
        "\n",
        "### ✅ 논리 연산자 목록\n",
        "\n",
        "| 연산자 | 의미 | 예시 | 결과 |\n",
        "|----------|------------------|-----------------------------------|--------------|\n",
        "| `and` | **두** 조건이 모두 참이면 참 | `5 > 2 and 3 < 4` | `True` |\n",
        "| `or` | **적어도 하나**의 조건이 참이면 참 | `5 < 2 or 3 < 4` | `True` |\n",
        "| `not` | 결과를 반전시킴 (참은 거짓으로, 거짓은 참으로) | `not 5 > 2` | `False` |\n",
        "\n",
        "---"
      ],
      "metadata": {
        "id": "IRJkbo3tzYcu"
      }
    },
    {
      "cell_type": "code",
      "source": [
        "# AND operator - all conditions must be true\n",
        "temperature = 37\n",
        "ph = 7.4\n",
        "oxygen_level = 0.2\n",
        "\n",
        "if temperature >= 35 and ph >= 7.0 and oxygen_level >= 0.15:\n",
        "    print(\"✅ Optimal conditions for cell culture\")\n",
        "else:\n",
        "    print(\"❌ Suboptimal conditions\")\n",
        "\n",
        "# OR operator - at least one condition must be true\n",
        "has_fever = True\n",
        "has_cough = False\n",
        "has_headache = True\n",
        "\n",
        "if has_fever or has_cough or has_headache:\n",
        "    print(\"Patient shows symptoms - further evaluation needed\")\n",
        "else:\n",
        "    print(\"No symptoms detected\")\n",
        "\n",
        "# NOT operator - reverses the condition\n",
        "is_control_group = False\n",
        "\n",
        "if not is_control_group:\n",
        "    print(\"This is a treatment group\")\n",
        "else:\n",
        "    print(\"This is a control group\")"
      ],
      "metadata": {
        "id": "YsL9ylC4VD1p"
      },
      "execution_count": null,
      "outputs": []
    },
    {
      "cell_type": "code",
      "source": [],
      "metadata": {
        "id": "Qt1fBAQXXaFH"
      },
      "execution_count": null,
      "outputs": []
    },
    {
      "cell_type": "markdown",
      "source": [
        "# ===============================================================\n",
        "# 섹션 2: 반복문 - 동작 반복하기\n",
        "# ================================================================\n",
        "\n",
        "반복문을 사용하면 코드를 여러 번 반복할 수 있습니다. 이는 여러 샘플, 서열 또는\n",
        "실험 반복과 같은 생물학적 데이터를 처리하는 데 필수적입니다.\n",
        "\n",
        "🧬 생물학적 응용:\n",
        "- 여러 DNA 서열 처리하기\n",
        "- 여러 환자의 데이터 분석하기\n",
        "- 실험 반복에 대한 계산 수행하기\n",
        "- 여러 샘플에 대한 보고서 생성하기"
      ],
      "metadata": {
        "id": "8syWsTwAVgzi"
      }
    },
    {
      "cell_type": "markdown",
      "source": [
        "## 🔁 파이썬의 루프 – 동작 반복\n",
        "\n",
        "루프는 파이썬에서 **코드 블록을 여러 번 반복**하는 데 사용됩니다. 이는 서열, 파일 또는 데이터 모음을 처리할 때 유용합니다.\n",
        "\n",
        "---\n",
        "\n",
        "### ✅ 두 가지 주요 루프 유형\n",
        "\n",
        "| 루프 유형   | 설명                         |\n",
        "|-------------|-------------------------------------|\n",
        "| `for` 루프  | **고정된 횟수** 또는 서열에 대해 반복합니다. |\n",
        "| `while` 루프| **조건이 참인 동안** 반복합니다. |\n",
        "\n",
        "---\n",
        "\n",
        "## 🔂 `for` 루프\n",
        "\n",
        "다음을 반복하는 데 사용됩니다:\n",
        "- 리스트\n",
        "- 문자열\n",
        "- 범위\n",
        "- 기타 반복 가능한 객체\n"
      ],
      "metadata": {
        "id": "-EUeTM4Lzo-c"
      }
    },
    {
      "cell_type": "markdown",
      "source": [
        "## 2.1 FOR 루프 - 서열 반복"
      ],
      "metadata": {
        "id": "g1UZDkMVfzEF"
      }
    },
    {
      "cell_type": "code",
      "source": [
        "print(\"=== FOR LOOPS ===\")"
      ],
      "metadata": {
        "colab": {
          "base_uri": "https://localhost:8080/"
        },
        "id": "qtaP_zEbf37y",
        "outputId": "84933d71-901e-46bc-b247-8cd21dc82b50"
      },
      "execution_count": null,
      "outputs": [
        {
          "output_type": "stream",
          "name": "stdout",
          "text": [
            "=== FOR LOOPS ===\n"
          ]
        }
      ]
    },
    {
      "cell_type": "code",
      "source": [
        "# Example 1: Processing multiple samples\n",
        "sample_ids = [\"S001\", \"S002\", \"S003\", \"S004\", \"S005\"]\n",
        "\n",
        "print(\"Processing samples:\")\n",
        "for sample in sample_ids:\n",
        "    print(f\"Analyzing sample {sample}\")"
      ],
      "metadata": {
        "id": "cY3VaikFgFYB"
      },
      "execution_count": null,
      "outputs": []
    },
    {
      "cell_type": "code",
      "source": [
        "# Example 2: DNA sequence analysis\n",
        "dna_sequence = \"ATCGATCGTAG\"\n",
        "\n",
        "print(f\"\\nAnalyzing sequence: {dna_sequence}\")\n",
        "for i, nucleotide in enumerate(dna_sequence):\n",
        "    print(f\"Position {i}: {nucleotide}\")"
      ],
      "metadata": {
        "id": "UfRGh0-BgOsD"
      },
      "execution_count": null,
      "outputs": []
    },
    {
      "cell_type": "code",
      "source": [
        "# Example 3: Processing experimental data\n",
        "cell_counts = [150000, 175000, 162000, 158000, 169000]\n",
        "\n",
        "print(\"\\nCell count analysis:\")\n",
        "total_cells = 0\n",
        "for count in cell_counts:\n",
        "    total_cells += count\n",
        "    print(f\"Sample: {count:,} cells\")\n",
        "\n",
        "average_count = total_cells / len(cell_counts)\n",
        "print(f\"Average cell count: {average_count:,.0f} cells\")"
      ],
      "metadata": {
        "id": "Fh9BuWiZgnLq"
      },
      "execution_count": null,
      "outputs": []
    },
    {
      "cell_type": "markdown",
      "source": [
        "**\\n은 무엇을 합니까?**\n",
        "파이썬에게 다음을 지시합니다:\n",
        "\n",
        "\"여기서 새 줄을 시작하십시오.\"\n",
        "\n",
        "print(\"Line 1\\nLine 2\\nLine 3\")\n",
        "\n",
        "Line 1\n",
        "\n",
        "Line 2\n",
        "\n",
        "Line 3\n"
      ],
      "metadata": {
        "id": "Q_JM-c7rguyr"
      }
    },
    {
      "cell_type": "markdown",
      "source": [
        "# 2.2 RANGE 함수"
      ],
      "metadata": {
        "id": "kA5GSqIEhZfy"
      }
    },
    {
      "cell_type": "markdown",
      "source": [
        "## 🔢 파이썬 `range()` 함수 – 숫자 시퀀스 생성\n",
        "\n",
        "`range()` 함수는 **숫자 시퀀스**를 생성하는 데 사용됩니다. 일반적으로 루프(특히 `for` 루프)에서 사용됩니다.\n",
        "\n",
        "---\n",
        "\n",
        "### ✅ `range()`의 구문\n",
        "\n",
        "```python\n",
        "range(start, stop, step)\n",
        "```"
      ],
      "metadata": {
        "id": "b-0Uz2Llz8ey"
      }
    },
    {
      "cell_type": "code",
      "source": [
        "# Example 1: Simple range\n",
        "print(\"Days 1-5 of experiment:\")\n",
        "for day in range(1, 6):\n",
        "    print(f\"Day {day}: Record observations\")"
      ],
      "metadata": {
        "id": "zxYLBC5Ml_lW"
      },
      "execution_count": null,
      "outputs": []
    },
    {
      "cell_type": "code",
      "source": [
        "# Example 2: Range with step\n",
        "print(\"\\nEvery 2 hours monitoring:\")\n",
        "for hour in range(0, 25, 2):\n",
        "    print(f\"Hour {hour}: Check temperature and pH\")"
      ],
      "metadata": {
        "id": "uvUoyvDchflX"
      },
      "execution_count": null,
      "outputs": []
    },
    {
      "cell_type": "code",
      "source": [
        "# Example 3: Processing numbered samples\n",
        "print(\"\\nProcessing 10 samples:\")\n",
        "for sample_num in range(1, 11):\n",
        "    print(f\"Sample {sample_num:02d}: Ready for analysis\")"
      ],
      "metadata": {
        "id": "0C3mbC3gmNl9"
      },
      "execution_count": null,
      "outputs": []
    },
    {
      "cell_type": "markdown",
      "source": [
        "# 2.3 WHILE 루프"
      ],
      "metadata": {
        "id": "LmDf3u1MmdUK"
      }
    },
    {
      "cell_type": "markdown",
      "source": [
        "## 🔁 파이썬 `while` 루프 – 조건부 동작 반복\n",
        "\n",
        "`while` 루프는 **조건이 `True`인 동안** 코드 블록을 반복합니다.\n",
        "\n",
        "---"
      ],
      "metadata": {
        "id": "twvO-DaI0J9b"
      }
    },
    {
      "cell_type": "code",
      "source": [
        "# Example 1: Bacterial growth simulation\n",
        "bacteria_count = 100\n",
        "generation = 0\n",
        "\n",
        "print(\"Bacterial growth simulation:\")\n",
        "while bacteria_count < 10000:\n",
        "    generation += 1\n",
        "    bacteria_count *= 2\n",
        "    print(f\"Generation {generation}: {bacteria_count:,} bacteria\")\n",
        "\n",
        "print(f\"Reached {bacteria_count:,} bacteria in {generation} generations\")"
      ],
      "metadata": {
        "id": "y_-Fna2umk6c"
      },
      "execution_count": null,
      "outputs": []
    },
    {
      "cell_type": "code",
      "source": [
        "# Example 2: Drug concentration decay\n",
        "drug_concentration = 100  # mg/L\n",
        "half_life_hours = 2\n",
        "time_hours = 0\n",
        "\n",
        "print(\"\\nDrug concentration over time:\")\n",
        "while drug_concentration > 10:\n",
        "    print(f\"Hour {time_hours}: {drug_concentration:.1f} mg/L\")\n",
        "    time_hours += half_life_hours\n",
        "    drug_concentration /= 2\n",
        "\n",
        "print(f\"Drug concentration dropped below 10 mg/L at hour {time_hours}\")"
      ],
      "metadata": {
        "id": "Sgt22dQLmtKN"
      },
      "execution_count": null,
      "outputs": []
    },
    {
      "cell_type": "markdown",
      "source": [
        "## 2.4 반복 제어: BREAK와 CONTINUE"
      ],
      "metadata": {
        "id": "Hp8PKPfMnBB0"
      }
    },
    {
      "cell_type": "markdown",
      "source": [
        "## 🔄 루프 제어: 파이썬의 `break`와 `continue`\n",
        "\n",
        "루프 제어문은 `for` 또는 `while` 루프의 **정상적인 흐름을 변경**할 수 있게 해줍니다.\n",
        "\n",
        "---\n",
        "\n",
        "### ✅ `break` – 즉시 루프 종료\n",
        "\n",
        "- 특정 조건이 충족될 때 루프를 완전히 **중지**하려면 **`break`를 사용**하십시오.\n",
        "\n",
        "### 🔍 예: DNA 서열에서 첫 'T'에서 중지"
      ],
      "metadata": {
        "id": "duT4W1CD0VYL"
      }
    },
    {
      "cell_type": "code",
      "source": [
        "# Example 1: Finding first occurrence with break\n",
        "dna_sequence = \"ATCGATCATGGTAG\"\n",
        "start_codon = \"ATG\"\n",
        "\n",
        "print(f\"Searching for start codon {start_codon} in {dna_sequence}\")\n",
        "for i in range(len(dna_sequence) - 2):\n",
        "    codon = dna_sequence[i:i+3]\n",
        "    if codon == start_codon:\n",
        "        print(f\"Found start codon at position {i}\")\n",
        "        break\n",
        "else:\n",
        "    print(\"Start codon not found\")"
      ],
      "metadata": {
        "id": "SOYOfcamnOZC",
        "outputId": "fc6ccc12-c95e-4873-dafc-982f545beb8b",
        "colab": {
          "base_uri": "https://localhost:8080/"
        }
      },
      "execution_count": 20,
      "outputs": [
        {
          "output_type": "stream",
          "name": "stdout",
          "text": [
            "Searching for start codon ATG in ATCGATCATGGTAG\n",
            "Found start codon at position 7\n"
          ]
        }
      ]
    },
    {
      "cell_type": "code",
      "source": [
        "# Example 2: Skipping invalid data with continue\n",
        "experimental_data = [25.5, -999, 30.2, 28.1, -999, 32.4]  # -999 = missing data\n",
        "\n",
        "print(\"\\nProcessing experimental data (skipping missing values):\")\n",
        "valid_data = []\n",
        "for value in experimental_data:\n",
        "    if value == -999:\n",
        "        continue  # Skip missing data\n",
        "    valid_data.append(value)\n",
        "    print(f\"Valid measurement: {value}\")\n",
        "\n",
        "print(f\"Processed {len(valid_data)} valid measurements\")"
      ],
      "metadata": {
        "id": "Y4z8pDgQn2eq"
      },
      "execution_count": null,
      "outputs": []
    },
    {
      "cell_type": "markdown",
      "source": [
        "# ==============================================================\n",
        "# 섹션 3: 함수 - 코드 구성하기\n",
        "# ================================================================\n",
        "\n",
        "\n",
        "함수를 사용하면 코드를 재사용 가능한 블록으로 그룹화할 수 있습니다. 마치 자신만의\n",
        "생물학적 분석 도구를 만드는 것과 같습니다!\n",
        "\n",
        "🧬 생물학적 응용:\n",
        "- 재사용 가능한 분석 함수 만들기\n",
        "- 여러 실험에 걸쳐 계산 표준화하기\n",
        "- 생물학적 도구 라이브러리 구축하기\n",
        "- 코드를 더 읽기 쉽고 유지보수하기 쉽게 만들기"
      ],
      "metadata": {
        "id": "rp6pbpTHn_xl"
      }
    },
    {
      "cell_type": "markdown",
      "source": [
        "## 🧩 함수 – 파이썬에서 코드 구성하기\n",
        "\n",
        "함수를 사용하면 **재사용 가능한 코드를 블록으로 그룹화**할 수 있습니다. 이는 프로그램을 **정리되고, 읽기 쉽고, 모듈화**되도록 유지하는 데 도움이 됩니다.\n",
        "\n",
        "---\n",
        "\n",
        "### ✅ 함수를 사용하는 이유\n",
        "\n",
        "- 코드 반복 피하기\n",
        "- 가독성 향상\n",
        "- 코드 디버깅 및 테스트 용이\n",
        "- 여러 프로젝트에서 재사용 가능\n",
        "\n",
        "---"
      ],
      "metadata": {
        "id": "CsrKmYBo0j7s"
      }
    },
    {
      "cell_type": "markdown",
      "source": [
        "## 3.1 기본 함수 정의"
      ],
      "metadata": {
        "id": "qE0PrtyZoYKo"
      }
    },
    {
      "cell_type": "markdown",
      "source": [
        "## 🧩 파이썬 키워드: `def`\n",
        "\n",
        "### ✅ `def`란 무엇입니까?\n",
        "\n",
        "키워드 `def`는 파이썬에서 특정 작업을 수행하는 재사용 가능한 코드 블록인 **함수를 정의**하는 데 사용됩니다.\n",
        "\n",
        "---\n",
        "\n",
        "### 🧠 기본 구조\n",
        "\n",
        "```python\n",
        "def function_name():\n",
        "    # 실행할 코드 블록\n",
        "    # (함수 내부에 들여쓰기)\n",
        "```"
      ],
      "metadata": {
        "id": "MvtplQDO0z_L"
      }
    },
    {
      "cell_type": "code",
      "source": [
        "def calculate_bmi(weight_kg, height_m):\n",
        "    \"\"\"Calculate Body Mass Index from weight and height.\"\"\"\n",
        "    bmi = weight_kg / (height_m ** 2)\n",
        "    return bmi\n",
        "\n",
        "# Using the function\n",
        "patient_weight = 90\n",
        "patient_height = 1.75\n",
        "patient_bmi = calculate_bmi(patient_weight, patient_height)\n",
        "print(f\"Patient BMI: {patient_bmi:.1f}\")"
      ],
      "metadata": {
        "id": "965XrzRLoceV"
      },
      "execution_count": null,
      "outputs": []
    },
    {
      "cell_type": "markdown",
      "source": [
        "## 3.2 생물학적 응용 함수"
      ],
      "metadata": {
        "id": "FddfeI4rohfb"
      }
    },
    {
      "cell_type": "code",
      "source": [
        "def gc_content(dna_sequence):\n",
        "    \"\"\"Calculate GC content of a DNA sequence.\"\"\"\n",
        "    sequence = dna_sequence.upper()\n",
        "    g_count = sequence.count('G')\n",
        "    c_count = sequence.count('C')\n",
        "    total_length = len(sequence)\n",
        "\n",
        "    if total_length == 0:\n",
        "        return 0\n",
        "\n",
        "    gc_percentage = (g_count + c_count) / total_length * 100\n",
        "    return gc_percentage"
      ],
      "metadata": {
        "id": "T6cI1zeooy-F"
      },
      "execution_count": null,
      "outputs": []
    },
    {
      "cell_type": "code",
      "source": [
        "# Test the function\n",
        "test_sequence = \"ATCGATCGTAG\"\n",
        "gc_percent = gc_content(test_sequence)\n",
        "print(f\"GC content of {test_sequence}: {gc_percent:.1f}%\")\n",
        "\n",
        "def reverse_complement(dna_sequence):\n",
        "    \"\"\"Generate reverse complement of a DNA sequence.\"\"\"\n",
        "    complement_map = {'A': 'T', 'T': 'A', 'G': 'C', 'C': 'G'}\n",
        "    complement = \"\"\n",
        "\n",
        "    for nucleotide in dna_sequence.upper():\n",
        "        complement += complement_map[nucleotide]\n",
        "\n",
        "    return complement[::-1]  # Reverse the string"
      ],
      "metadata": {
        "id": "6IlqFcSTo1w-"
      },
      "execution_count": null,
      "outputs": []
    },
    {
      "cell_type": "code",
      "source": [
        "# Test the function\n",
        "original = \"ATCGATCG\"\n",
        "rev_comp = reverse_complement(original)\n",
        "print(f\"Original: {original}\")\n",
        "print(f\"Reverse complement: {rev_comp}\")\n",
        "\n",
        "def calculate_molarity(moles, volume_liters):\n",
        "    \"\"\"Calculate molarity from moles and volume.\"\"\"\n",
        "    if volume_liters <= 0:\n",
        "        return \"Volume must be positive\"\n",
        "\n",
        "    molarity = moles / volume_liters\n",
        "    return molarity"
      ],
      "metadata": {
        "id": "DMES14Bno5v5"
      },
      "execution_count": null,
      "outputs": []
    },
    {
      "cell_type": "code",
      "source": [
        "# Test the function\n",
        "glucose_moles = 0.1\n",
        "solution_volume = 0.5\n",
        "glucose_molarity = calculate_molarity(glucose_moles, solution_volume)\n",
        "print(f\"Glucose molarity: {glucose_molarity:.2f} M\")"
      ],
      "metadata": {
        "id": "GsdxM8bJpByz"
      },
      "execution_count": null,
      "outputs": []
    },
    {
      "cell_type": "markdown",
      "source": [
        "## 3.3 기본 매개변수가 있는 함수"
      ],
      "metadata": {
        "id": "vFTRQ-NApN2m"
      }
    },
    {
      "cell_type": "code",
      "source": [
        "def bacterial_growth(initial_count, growth_rate=2, time_hours=1):\n",
        "    \"\"\"Calculate bacterial growth with default parameters.\"\"\"\n",
        "    final_count = initial_count * (growth_rate ** time_hours)\n",
        "    return final_count\n",
        "\n",
        "# Using function with different parameter combinations\n",
        "print(\"\\nBacterial growth calculations:\")\n",
        "print(f\"Default parameters: {bacterial_growth(1000):,} bacteria\")\n",
        "print(f\"Custom growth rate: {bacterial_growth(1000, 1.5):,} bacteria\")\n",
        "print(f\"Custom time: {bacterial_growth(1000, time_hours=3):,} bacteria\")\n",
        "print(f\"All custom: {bacterial_growth(1000, 1.8, 2):,} bacteria\")"
      ],
      "metadata": {
        "id": "JXQX14mApU_d"
      },
      "execution_count": null,
      "outputs": []
    },
    {
      "cell_type": "markdown",
      "source": [
        "## 3.4 여러 값을 반환하는 함수"
      ],
      "metadata": {
        "id": "MfT-NgzOphIk"
      }
    },
    {
      "cell_type": "code",
      "source": [
        "def sequence_analysis(dna_sequence):\n",
        "    \"\"\"Analyze DNA sequence and return multiple statistics.\"\"\"\n",
        "    sequence = dna_sequence.upper()\n",
        "    length = len(sequence)\n",
        "\n",
        "    # Count nucleotides\n",
        "    a_count = sequence.count('A')\n",
        "    t_count = sequence.count('T')\n",
        "    g_count = sequence.count('G')\n",
        "    c_count = sequence.count('C')\n",
        "\n",
        "    # Calculate GC content\n",
        "    gc_content = (g_count + c_count) / length * 100\n",
        "\n",
        "    return length, a_count, t_count, g_count, c_count, gc_content\n",
        "\n",
        "# Using the function\n",
        "test_seq = \"ATCGATCGTAGCTAGC\"\n",
        "length, a, t, g, c, gc = sequence_analysis(test_seq)\n",
        "\n",
        "print(f\"\\nSequence analysis for: {test_seq}\")\n",
        "print(f\"Length: {length} bp\")\n",
        "print(f\"A: {a}, T: {t}, G: {g}, C: {c}\")\n",
        "print(f\"GC content: {gc:.1f}%\")"
      ],
      "metadata": {
        "id": "EMeJd_Otpgyk"
      },
      "execution_count": null,
      "outputs": []
    },
    {
      "cell_type": "markdown",
      "source": [
        "`upper()` 함수는 소문자를 대문자로 변환합니다."
      ],
      "metadata": {
        "id": "AJOJC7F6pzHU"
      }
    },
    {
      "cell_type": "markdown",
      "source": [
        "# =============================================================\n",
        "# 섹션 4: 중첩 구조 및 복잡한 예제\n",
        "# ================================================================"
      ],
      "metadata": {
        "id": "qouIpJmFqQyj"
      }
    },
    {
      "cell_type": "markdown",
      "source": [
        "## 4.1 여러 샘플을 위한 중첩 루프"
      ],
      "metadata": {
        "id": "Murmy2ioqW4o"
      }
    },
    {
      "cell_type": "code",
      "source": [
        "# Processing multiple patients with multiple measurements\n",
        "patients = [\"P001\", \"P002\", \"P003\"]\n",
        "measurements = [\"temperature\", \"blood_pressure\", \"heart_rate\"]\n",
        "\n",
        "print(\"Patient measurements:\")\n",
        "for patient in patients:\n",
        "    print(f\"\\nPatient {patient}:\")\n",
        "    for measurement in measurements:\n",
        "        print(f\"  Recording {measurement}\")"
      ],
      "metadata": {
        "id": "0LNoURXcqher"
      },
      "execution_count": null,
      "outputs": []
    },
    {
      "cell_type": "markdown",
      "source": [
        "## 4.2 조건문과 루프가 있는 함수"
      ],
      "metadata": {
        "id": "U9I_h2lZqp7C"
      }
    },
    {
      "cell_type": "code",
      "source": [
        "def gc_content(seq):\n",
        "    \"\"\"Calculate GC content percentage of a DNA sequence.\"\"\"\n",
        "    gc_count = seq.count('G') + seq.count('C')\n",
        "    return (gc_count / len(seq)) * 100 if len(seq) > 0 else 0\n",
        "\n",
        "def classify_sequences(sequences):\n",
        "    \"\"\"Classify multiple DNA sequences by length and GC content.\"\"\"\n",
        "    results = []\n",
        "\n",
        "    for i, seq in enumerate(sequences):\n",
        "        length = len(seq)\n",
        "        gc = gc_content(seq)\n",
        "\n",
        "        # Classify by length\n",
        "        if length < 10:\n",
        "            size_class = \"Short\"\n",
        "        elif length < 50:\n",
        "            size_class = \"Medium\"\n",
        "        else:\n",
        "            size_class = \"Long\"\n",
        "\n",
        "        # Classify by GC content\n",
        "        if gc < 40:\n",
        "            gc_class = \"Low GC\"\n",
        "        elif gc < 60:\n",
        "            gc_class = \"Medium GC\"\n",
        "        else:\n",
        "            gc_class = \"High GC\"\n",
        "\n",
        "        results.append({\n",
        "            'sequence': seq,\n",
        "            'length': length,\n",
        "            'gc_content': gc,\n",
        "            'size_class': size_class,\n",
        "            'gc_class': gc_class\n",
        "        })\n",
        "\n",
        "    return results\n",
        "\n",
        "# Test with multiple sequences\n",
        "test_sequences = [\n",
        "    \"ATCGATCG\",\n",
        "    \"GCGCGCGCGCGCGCGC\",\n",
        "    \"ATATATATATATATAT\",\n",
        "    \"ATCGATCGATCGATCGATCGATCGATCGATCGATCGATCGATCGATCG\"\n",
        "]\n",
        "\n",
        "sequence_results = classify_sequences(test_sequences)\n",
        "\n",
        "print(\"\\nSequence classification results:\")\n",
        "for i, result in enumerate(sequence_results):\n",
        "    print(f\"Sequence {i+1}: {result['size_class']}, {result['gc_class']}\")\n",
        "    print(f\"  Length: {result['length']} bp, GC: {result['gc_content']:.1f}%\")"
      ],
      "metadata": {
        "id": "njWfAqZ_qu9h"
      },
      "execution_count": null,
      "outputs": []
    },
    {
      "cell_type": "markdown",
      "source": [
        "파이썬에서 `enumerate()`는 리스트(또는 모든 반복 가능한 객체)를 반복하면서 각 항목의 인덱스를 동시에 추적할 수 있게 해주는 내장 함수입니다."
      ],
      "metadata": {
        "id": "-eUVa5tYrCun"
      }
    },
    {
      "cell_type": "markdown",
      "source": [
        "# ============================================================\n",
        "# 섹션 5: 실습 문제\n",
        "# ============================================================="
      ],
      "metadata": {
        "id": "6Mm34gZbrRHC"
      }
    },
    {
      "cell_type": "markdown",
      "source": [
        "**연습 문제 1:** 혈액 검사 분석\n",
        "혈액 검사 결과를 분석하고 분류하는 함수를 만드십시오."
      ],
      "metadata": {
        "id": "6RekEoC8rZR8"
      }
    },
    {
      "cell_type": "code",
      "source": [
        "def analyze_blood_test(glucose, cholesterol, hemoglobin):\n",
        "    \"\"\"Analyze blood test results and return classifications.\"\"\"\n",
        "    results = {}\n",
        "\n",
        "    # Glucose classification (mg/dL)\n",
        "    if glucose < 70:\n",
        "        results['glucose'] = 'Low'\n",
        "    elif glucose <= 100:\n",
        "        results['glucose'] = 'Normal'\n",
        "    elif glucose <= 125:\n",
        "        results['glucose'] = 'Pre-diabetic'\n",
        "    else:\n",
        "        results['glucose'] = 'Diabetic'\n",
        "\n",
        "    # Cholesterol classification (mg/dL)\n",
        "    if cholesterol < 200:\n",
        "        results['cholesterol'] = 'Desirable'\n",
        "    elif cholesterol <= 239:\n",
        "        results['cholesterol'] = 'Borderline high'\n",
        "    else:\n",
        "        results['cholesterol'] = 'High'\n",
        "\n",
        "    # Hemoglobin classification (g/dL)\n",
        "    if hemoglobin < 12:\n",
        "        results['hemoglobin'] = 'Low (anemic)'\n",
        "    elif hemoglobin <= 16:\n",
        "        results['hemoglobin'] = 'Normal'\n",
        "    else:\n",
        "        results['hemoglobin'] = 'High'\n",
        "\n",
        "    return results\n",
        "\n",
        "# Test the function\n",
        "patient_data = [\n",
        "    (95, 180, 14.2),\n",
        "    (140, 220, 11.5),\n",
        "    (75, 160, 15.0)\n",
        "]\n",
        "\n",
        "print(\"Blood test analysis:\")\n",
        "for i, (glucose, cholesterol, hemoglobin) in enumerate(patient_data):\n",
        "    results = analyze_blood_test(glucose, cholesterol, hemoglobin)\n",
        "    print(f\"\\nPatient {i+1}:\")\n",
        "    print(f\"  Glucose: {glucose} mg/dL - {results['glucose']}\")\n",
        "    print(f\"  Cholesterol: {cholesterol} mg/dL - {results['cholesterol']}\")\n",
        "    print(f\"  Hemoglobin: {hemoglobin} g/dL - {results['hemoglobin']}\")"
      ],
      "metadata": {
        "id": "gywJtBKmro_G"
      },
      "execution_count": null,
      "outputs": []
    },
    {
      "cell_type": "markdown",
      "source": [
        "**연습 문제 2:** 항생제 감수성 검사\n",
        "항생제 감수성 검사 결과를 시뮬레이션합니다."
      ],
      "metadata": {
        "id": "b5u3CRjxrvZD"
      }
    },
    {
      "cell_type": "code",
      "source": [
        "def antibiotic_susceptibility(zone_diameter, antibiotic):\n",
        "    \"\"\"Determine antibiotic susceptibility based on zone diameter.\"\"\"\n",
        "    # Simplified breakpoints (in mm)\n",
        "    breakpoints = {\n",
        "        'penicillin': {'resistant': 28, 'intermediate': 29},\n",
        "        'ampicillin': {'resistant': 16, 'intermediate': 17},\n",
        "        'tetracycline': {'resistant': 18, 'intermediate': 19}\n",
        "    }\n",
        "\n",
        "    if antibiotic not in breakpoints:\n",
        "        return 'Unknown antibiotic'\n",
        "\n",
        "    resistant_cutoff = breakpoints[antibiotic]['resistant']\n",
        "    intermediate_cutoff = breakpoints[antibiotic]['intermediate']\n",
        "\n",
        "    if zone_diameter <= resistant_cutoff:\n",
        "        return 'Resistant'\n",
        "    elif zone_diameter <= intermediate_cutoff:\n",
        "        return 'Intermediate'\n",
        "    else:\n",
        "        return 'Susceptible'\n",
        "\n",
        "# Test antibiotic susceptibility\n",
        "antibiotics_tested = [\n",
        "    ('penicillin', 25),\n",
        "    ('ampicillin', 18),\n",
        "    ('tetracycline', 22)\n",
        "]\n",
        "\n",
        "print(\"\\nAntibiotic susceptibility testing:\")\n",
        "for antibiotic, diameter in antibiotics_tested:\n",
        "    result = antibiotic_susceptibility(diameter, antibiotic)\n",
        "    print(f\"{antibiotic.capitalize()}: {diameter}mm zone - {result}\")"
      ],
      "metadata": {
        "id": "WwXtw2pQr4pU"
      },
      "execution_count": null,
      "outputs": []
    },
    {
      "cell_type": "markdown",
      "source": [
        "**연습 문제 3:** DNA 돌연변이 스캐너\n",
        "서열을 비교하여 돌연변이를 찾는 함수를 만드십시오."
      ],
      "metadata": {
        "id": "pVZhX8Q2r_Ib"
      }
    },
    {
      "cell_type": "code",
      "source": [
        "def find_mutations(reference, sample):\n",
        "    \"\"\"Find mutations between reference and sample sequences.\"\"\"\n",
        "    mutations = []\n",
        "\n",
        "    if len(reference) != len(sample):\n",
        "        return \"Sequences must be the same length\"\n",
        "\n",
        "    for i in range(len(reference)):\n",
        "        if reference[i] != sample[i]:\n",
        "            mutations.append({\n",
        "                'position': i + 1,\n",
        "                'reference': reference[i],\n",
        "                'sample': sample[i]\n",
        "            })\n",
        "\n",
        "    return mutations\n",
        "\n",
        "# Test mutation detection\n",
        "reference_seq = \"ATCGATCGATCG\"\n",
        "sample_sequences = [\n",
        "    \"ATCGATCGATCG\",  # No mutations\n",
        "    \"ATCGATCGATCC\",  # One mutation\n",
        "    \"ATCGATCAATCC\"   # Two mutations\n",
        "]\n",
        "\n",
        "print(\"\\nMutation analysis:\")\n",
        "for i, sample in enumerate(sample_sequences):\n",
        "    mutations = find_mutations(reference_seq, sample)\n",
        "    print(f\"\\nSample {i+1}: {sample}\")\n",
        "    if isinstance(mutations, str):\n",
        "        print(f\"Error: {mutations}\")\n",
        "    elif len(mutations) == 0:\n",
        "        print(\"No mutations detected\")\n",
        "    else:\n",
        "        print(f\"Found {len(mutations)} mutation(s):\")\n",
        "        for mut in mutations:\n",
        "            print(f\"  Position {mut['position']}: {mut['reference']} → {mut['sample']}\")"
      ],
      "metadata": {
        "id": "wqdu4djNsGmb"
      },
      "execution_count": null,
      "outputs": []
    },
    {
      "cell_type": "markdown",
      "source": [
        "# ==============================================================\n",
        "# 섹션 6: 숙제\n",
        "# ===============================================================\n",
        "\n",
        "🏠 숙제 1: 효소 활성 분석\n",
        "다음을 수행하는 함수를 작성하십시오:\n",
        "1. 효소 활성 측정값 목록을 가져옵니다.\n",
        "2. 평균, 최소, 최대 활성을 계산합니다.\n",
        "3. 각 측정값을 낮음, 정상 또는 높음으로 분류합니다.\n",
        "4. 요약 보고서를 반환합니다.\n",
        "\n",
        "🏠 숙제 2: 집단 유전학\n",
        "다음을 수행하는 함수를 만드십시오:\n",
        "1. 집단의 대립 유전자 빈도를 가져옵니다.\n",
        "2. 하디-바인베르크 평형 빈도를 계산합니다.\n",
        "3. 관찰된 빈도와 예상 빈도를 비교합니다.\n",
        "4. 집단이 평형 상태에 있는지 확인합니다.\n",
        "\n",
        "🏠 숙제 3: 약물 복용량 계산기\n",
        "다음을 수행하는 함수를 구축하십시오:\n",
        "1. 환자 체중과 약물 농도를 가져옵니다.\n",
        "2. 체중에 따라 적절한 복용량을 계산합니다.\n",
        "3. 연령/상태에 따른 금기 사항을 확인합니다.\n",
        "4. 경고와 함께 복용량 권장 사항을 반환합니다.\n",
        "\n",
        "🏠 숙제 4: 계통 발생 거리\n",
        "다음을 수행하는 함수를 작성하십시오:\n",
        "1. 두 DNA 서열을 비교합니다.\n",
        "2. 차이점 수를 셉니다.\n",
        "3. 백분율 유사성을 계산합니다.\n",
        "4. 진화적 관계(가까움, 멂, 매우 멂)를 분류합니다."
      ],
      "metadata": {
        "id": "U_OC6plrwdvf"
      }
    },
    {
      "cell_type": "markdown",
      "source": [
        "🎉 축하합니다! 2장을 완료했습니다!\n",
        "\n",
        "학습한 내용:\n",
        "✅ 조건문 (if/elif/else)\n",
        "✅ 비교 및 논리 연산자\n",
        "✅ For 루프 및 while 루프\n",
        "✅ 루프 제어 (break/continue)\n",
        "✅ 매개변수 및 반환 값이 있는 함수\n",
        "✅ 복잡한 생물학적 응용\n",
        "\n",
        "🔬 마스터한 생물학적 응용:\n",
        "- 서열 분석 및 분류\n",
        "- 혈액 검사 해석\n",
        "- 항생제 감수성 검사\n",
        "- 돌연변이 탐지\n",
        "- 세균 성장 모델링\n",
        "- 약물 농도 계산\n",
        "\n",
        "💡 주요 프로그래밍 개념:\n",
        "- 조건문을 이용한 의사 결정\n",
        "- 루프를 이용한 반복\n",
        "- 함수를 이용한 코드 구성\n",
        "- 매개변수 전달 및 반환 값\n",
        "- 기본적인 오류 처리"
      ],
      "metadata": {
        "id": "k4E-NUQDwtVV"
      }
    }
  ]
}
